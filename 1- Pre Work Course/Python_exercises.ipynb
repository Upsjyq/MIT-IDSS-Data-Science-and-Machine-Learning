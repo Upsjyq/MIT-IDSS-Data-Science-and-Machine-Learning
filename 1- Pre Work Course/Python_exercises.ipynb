{
 "cells": [
  {
   "cell_type": "markdown",
   "metadata": {},
   "source": [
    "# PRACTICE EXERCISES:\n",
    "\n",
    "<a href = '#sec1'> 1.Introduction to Variables </a>\n",
    "\n",
    "<a href = '#sec2'> 2. Collection of Variables </a>\n",
    "\n",
    "<a href = '#sec3'> 3. Data Types </a>\n",
    "\n",
    "<a href = '#sec4'> 4. Conditional Statement </a>\n",
    "\n",
    "<a href = '#sec5'> 5. Loop Statement </a>\n",
    "\n",
    "<a href = '#sec6'> 6. Functions </a>"
   ]
  },
  {
   "cell_type": "markdown",
   "metadata": {},
   "source": [
    "<a id = 'sec1'></a>\n",
    "\n",
    "## 1. Introduction to Variables"
   ]
  },
  {
   "cell_type": "markdown",
   "metadata": {},
   "source": [
    "### 1.1) What will be the type of the *add* variable?\n",
    "a = 10\n",
    "\n",
    "b = 5.1\n",
    "\n",
    "add = a + b"
   ]
  },
  {
   "cell_type": "markdown",
   "metadata": {},
   "source": [
    "*float*"
   ]
  },
  {
   "cell_type": "code",
   "execution_count": 1,
   "metadata": {
    "ExecuteTime": {
     "end_time": "2021-05-20T14:48:25.469356Z",
     "start_time": "2021-05-20T14:48:25.449778Z"
    }
   },
   "outputs": [
    {
     "data": {
      "text/plain": [
       "float"
      ]
     },
     "execution_count": 1,
     "metadata": {},
     "output_type": "execute_result"
    }
   ],
   "source": [
    "a=10\n",
    "b=5.1\n",
    "add = a+b\n",
    "type(add)"
   ]
  },
  {
   "cell_type": "markdown",
   "metadata": {},
   "source": [
    "### 1.2) Is 5 = (3+2)?"
   ]
  },
  {
   "cell_type": "markdown",
   "metadata": {},
   "source": [
    "*True*"
   ]
  },
  {
   "cell_type": "code",
   "execution_count": 2,
   "metadata": {
    "ExecuteTime": {
     "end_time": "2021-05-20T14:48:25.478475Z",
     "start_time": "2021-05-20T14:48:25.470486Z"
    }
   },
   "outputs": [
    {
     "data": {
      "text/plain": [
       "True"
      ]
     },
     "execution_count": 2,
     "metadata": {},
     "output_type": "execute_result"
    }
   ],
   "source": [
    "5 == (3+2)"
   ]
  },
  {
   "cell_type": "markdown",
   "metadata": {},
   "source": [
    "### 1.3) Add 33 in variable *a* and print the result\n",
    "\n",
    "a = 3"
   ]
  },
  {
   "cell_type": "code",
   "execution_count": 3,
   "metadata": {
    "ExecuteTime": {
     "end_time": "2021-05-20T14:48:25.498751Z",
     "start_time": "2021-05-20T14:48:25.486530Z"
    }
   },
   "outputs": [
    {
     "data": {
      "text/plain": [
       "43"
      ]
     },
     "execution_count": 3,
     "metadata": {},
     "output_type": "execute_result"
    }
   ],
   "source": [
    "a += 33\n",
    "a"
   ]
  },
  {
   "cell_type": "markdown",
   "metadata": {},
   "source": [
    "### 1.4) Convert integer variable *a* to float and check its type\n",
    "\n",
    "a = 3"
   ]
  },
  {
   "cell_type": "code",
   "execution_count": 5,
   "metadata": {
    "ExecuteTime": {
     "end_time": "2021-05-20T14:48:25.508158Z",
     "start_time": "2021-05-20T14:48:25.500721Z"
    }
   },
   "outputs": [
    {
     "data": {
      "text/plain": [
       "float"
      ]
     },
     "execution_count": 5,
     "metadata": {},
     "output_type": "execute_result"
    }
   ],
   "source": [
    "a = float(a)\n",
    "type(a)"
   ]
  },
  {
   "cell_type": "markdown",
   "metadata": {},
   "source": [
    "<a id = 'sec2'></a>\n",
    "## 2. Collection of Variables"
   ]
  },
  {
   "cell_type": "markdown",
   "metadata": {},
   "source": [
    "### 2.1) Create a list of repeated element (element 2,48 times)"
   ]
  },
  {
   "cell_type": "code",
   "execution_count": 14,
   "metadata": {
    "ExecuteTime": {
     "end_time": "2021-05-20T14:48:25.559404Z",
     "start_time": "2021-05-20T14:48:25.538624Z"
    }
   },
   "outputs": [
    {
     "name": "stdout",
     "output_type": "stream",
     "text": [
      "[2, 2, 2, 2, 2, 2, 2, 2, 2, 2, 2, 2, 2, 2, 2, 2, 2, 2, 2, 2, 2, 2, 2, 2, 2, 2, 2, 2, 2, 2, 2, 2, 2, 2, 2, 2, 2, 2, 2, 2, 2, 2, 2, 2, 2, 2, 2, 2]\n"
     ]
    }
   ],
   "source": [
    "list = [2] * 48\n",
    "print(list)"
   ]
  },
  {
   "cell_type": "markdown",
   "metadata": {},
   "source": [
    "### 2.2)  Replace the second element of the list with \"strawberries\"\n",
    "list = [\"apple\",\"orange\",\"grapes\",\"watermelon\"]"
   ]
  },
  {
   "cell_type": "markdown",
   "metadata": {},
   "source": [
    "Python's indexing starts from 0 hence the second element will be indexed as 1. \n",
    "\n",
    "Here, we are assigning the value 'strawberry' to the second element of the variable 'list' which contains a pre-defined list."
   ]
  },
  {
   "cell_type": "code",
   "execution_count": 15,
   "metadata": {},
   "outputs": [
    {
     "data": {
      "text/plain": [
       "['apple', 'strawberries', 'grapes', 'watermelon']"
      ]
     },
     "execution_count": 15,
     "metadata": {},
     "output_type": "execute_result"
    }
   ],
   "source": [
    "list = [\"apple\",\"orange\",\"grapes\",\"watermelon\"]\n",
    "list[1] = 'strawberries'\n",
    "list"
   ]
  },
  {
   "cell_type": "markdown",
   "metadata": {},
   "source": [
    "### 2.3) Check length of list\n",
    "\n",
    "List1 =[\"a\",\"b\",\"c\",\"d\",\"e\"]"
   ]
  },
  {
   "cell_type": "code",
   "execution_count": 16,
   "metadata": {
    "ExecuteTime": {
     "end_time": "2021-05-20T14:48:25.628548Z",
     "start_time": "2021-05-20T14:48:25.619539Z"
    }
   },
   "outputs": [
    {
     "data": {
      "text/plain": [
       "5"
      ]
     },
     "execution_count": 16,
     "metadata": {},
     "output_type": "execute_result"
    }
   ],
   "source": [
    "List1 =[\"a\",\"b\",\"c\",\"d\",\"e\"]\n",
    "len(List1)"
   ]
  },
  {
   "cell_type": "markdown",
   "metadata": {},
   "source": [
    "### 2.4) Create a dictionary with the following information:\n",
    "\n",
    "brand = Audi\n",
    "\n",
    "Model = Q2\n",
    "\n",
    "Year = 1980"
   ]
  },
  {
   "cell_type": "code",
   "execution_count": 18,
   "metadata": {
    "ExecuteTime": {
     "end_time": "2021-05-20T14:48:25.638636Z",
     "start_time": "2021-05-20T14:48:25.630590Z"
    }
   },
   "outputs": [
    {
     "data": {
      "text/plain": [
       "{'brand': 'Audi', 'Model': 'Q2', 'Year': 1980}"
      ]
     },
     "execution_count": 18,
     "metadata": {},
     "output_type": "execute_result"
    }
   ],
   "source": [
    "car = {'brand':'Audi', 'Model':'Q2', 'Year':1980}\n",
    "car"
   ]
  },
  {
   "cell_type": "markdown",
   "metadata": {},
   "source": [
    "### 2.5) Create a set of following elements\n",
    "\n",
    "1.0, \"Hello\", 55 , (6,7,8)"
   ]
  },
  {
   "cell_type": "code",
   "execution_count": 20,
   "metadata": {
    "ExecuteTime": {
     "end_time": "2021-05-20T14:48:25.658787Z",
     "start_time": "2021-05-20T14:48:25.650828Z"
    }
   },
   "outputs": [
    {
     "data": {
      "text/plain": [
       "{(6, 7, 8), 1.0, 55, 'hello'}"
      ]
     },
     "execution_count": 20,
     "metadata": {},
     "output_type": "execute_result"
    }
   ],
   "source": [
    "a = (1.0, 'hello', 55, (6, 7, 8))\n",
    "set(a)"
   ]
  },
  {
   "cell_type": "markdown",
   "metadata": {},
   "source": [
    "<a id = 'sec3'></a>\n",
    "\n",
    "## 3. Data Types and String Manipulation"
   ]
  },
  {
   "cell_type": "markdown",
   "metadata": {},
   "source": [
    "### 3.1) Printing your name My_Name = \"My name is Jupyter!\" Also, check if My_Name is all Caps or not. Use isupper() to check returns True if all the letters are Capitals, False if atleast one letter in in lower case. \n",
    "\n",
    "HINT: My_Name.isupper()"
   ]
  },
  {
   "cell_type": "code",
   "execution_count": 21,
   "metadata": {
    "ExecuteTime": {
     "end_time": "2021-05-20T14:48:25.698733Z",
     "start_time": "2021-05-20T14:48:25.690738Z"
    }
   },
   "outputs": [
    {
     "name": "stdout",
     "output_type": "stream",
     "text": [
      "My name is Jupyter!\n"
     ]
    },
    {
     "data": {
      "text/plain": [
       "False"
      ]
     },
     "execution_count": 21,
     "metadata": {},
     "output_type": "execute_result"
    }
   ],
   "source": [
    "My_Name = 'My name is Jupyter!'\n",
    "print(My_Name)\n",
    "My_Name.isupper()"
   ]
  },
  {
   "cell_type": "markdown",
   "metadata": {},
   "source": [
    "### 3.2)  Convert My_Name to all caps. Hint: My_Name.upper()."
   ]
  },
  {
   "cell_type": "code",
   "execution_count": 23,
   "metadata": {
    "ExecuteTime": {
     "end_time": "2021-05-20T14:48:25.717918Z",
     "start_time": "2021-05-20T14:48:25.709391Z"
    }
   },
   "outputs": [
    {
     "data": {
      "text/plain": [
       "'MY NAME IS JUPYTER!'"
      ]
     },
     "execution_count": 23,
     "metadata": {},
     "output_type": "execute_result"
    }
   ],
   "source": [
    "My_Name = My_Name.upper()\n",
    "My_Name"
   ]
  },
  {
   "cell_type": "markdown",
   "metadata": {},
   "source": [
    "### 3.3) if int1 = \"500\", what is the Datatype of int1"
   ]
  },
  {
   "cell_type": "markdown",
   "metadata": {},
   "source": [
    "*string*"
   ]
  },
  {
   "cell_type": "code",
   "execution_count": 24,
   "metadata": {
    "ExecuteTime": {
     "end_time": "2021-05-20T14:48:25.738721Z",
     "start_time": "2021-05-20T14:48:25.720391Z"
    }
   },
   "outputs": [
    {
     "data": {
      "text/plain": [
       "str"
      ]
     },
     "execution_count": 24,
     "metadata": {},
     "output_type": "execute_result"
    }
   ],
   "source": [
    "int1='500'\n",
    "type(int1)"
   ]
  },
  {
   "cell_type": "markdown",
   "metadata": {},
   "source": [
    "<a id = 'sec4'></a>\n",
    "\n",
    "## 4. Practice Exercise on Conditional Statement"
   ]
  },
  {
   "cell_type": "markdown",
   "metadata": {},
   "source": [
    "### 4.1) if x = 20 and y = 30. Write a python code to check if x is less than y."
   ]
  },
  {
   "cell_type": "code",
   "execution_count": 27,
   "metadata": {
    "ExecuteTime": {
     "end_time": "2021-05-20T14:48:25.789559Z",
     "start_time": "2021-05-20T14:48:25.780049Z"
    }
   },
   "outputs": [
    {
     "name": "stdout",
     "output_type": "stream",
     "text": [
      "x is less than y\n"
     ]
    }
   ],
   "source": [
    "x = 20\n",
    "y = 30\n",
    "\n",
    "if  x < y:\n",
    "    print('x is less than y')\n",
    "else:\n",
    "    print('x is not less than y')"
   ]
  },
  {
   "cell_type": "markdown",
   "metadata": {},
   "source": [
    "### 4.2) Check if *a* is equal to 10, If yes, print \"Hello\", else print \"Good Bye\"\n",
    "a = 56"
   ]
  },
  {
   "cell_type": "code",
   "execution_count": 28,
   "metadata": {
    "ExecuteTime": {
     "end_time": "2021-05-20T14:48:25.818796Z",
     "start_time": "2021-05-20T14:48:25.798761Z"
    }
   },
   "outputs": [
    {
     "name": "stdout",
     "output_type": "stream",
     "text": [
      "Hello\n"
     ]
    }
   ],
   "source": [
    "a = 56\n",
    "if a==56:\n",
    "    print('Hello')\n",
    "else:\n",
    "    print('Good Bye')"
   ]
  },
  {
   "cell_type": "markdown",
   "metadata": {},
   "source": [
    "### 4.3) Check whether a number is even or odd\n",
    "a = 2020"
   ]
  },
  {
   "cell_type": "code",
   "execution_count": 29,
   "metadata": {
    "ExecuteTime": {
     "end_time": "2021-05-20T14:48:25.836915Z",
     "start_time": "2021-05-20T14:48:25.820893Z"
    }
   },
   "outputs": [
    {
     "name": "stdout",
     "output_type": "stream",
     "text": [
      "Not odd\n"
     ]
    }
   ],
   "source": [
    "a = 2020\n",
    "\n",
    "if a%2 == 0:\n",
    "    print('Not odd')\n",
    "else:\n",
    "    print('odd')"
   ]
  },
  {
   "cell_type": "markdown",
   "metadata": {},
   "source": [
    "### 4.4) Check if the word \"Data\" is present in the sentence \"I am a Data Scientist\". If found, print \"It is present\" else print FALSE."
   ]
  },
  {
   "cell_type": "code",
   "execution_count": 30,
   "metadata": {
    "ExecuteTime": {
     "end_time": "2021-05-20T14:48:25.868457Z",
     "start_time": "2021-05-20T14:48:25.860437Z"
    }
   },
   "outputs": [
    {
     "name": "stdout",
     "output_type": "stream",
     "text": [
      "it is present\n"
     ]
    }
   ],
   "source": [
    "if 'Data' in 'I am a Data Scientist':\n",
    "    print('it is present')\n",
    "else:\n",
    "    print('false')"
   ]
  },
  {
   "cell_type": "markdown",
   "metadata": {},
   "source": [
    "### 4.5) Write python code to check if a number is positive or negative."
   ]
  },
  {
   "cell_type": "code",
   "execution_count": 31,
   "metadata": {
    "ExecuteTime": {
     "end_time": "2021-05-20T14:48:25.888736Z",
     "start_time": "2021-05-20T14:48:25.880718Z"
    }
   },
   "outputs": [
    {
     "name": "stdout",
     "output_type": "stream",
     "text": [
      "negative\n"
     ]
    }
   ],
   "source": [
    "x = -10\n",
    "if x < 0:\n",
    "    print('negative')\n",
    "else:\n",
    "    print('positive')"
   ]
  },
  {
   "cell_type": "markdown",
   "metadata": {},
   "source": [
    "<a id = 'sec5'></a>\n",
    "\n",
    "## 5. Practice Exercise on Loops"
   ]
  },
  {
   "cell_type": "markdown",
   "metadata": {},
   "source": [
    "### 5.1) Print Data Science 5 times using for loop"
   ]
  },
  {
   "cell_type": "code",
   "execution_count": 32,
   "metadata": {
    "ExecuteTime": {
     "end_time": "2021-05-20T14:48:25.928325Z",
     "start_time": "2021-05-20T14:48:25.910937Z"
    }
   },
   "outputs": [
    {
     "name": "stdout",
     "output_type": "stream",
     "text": [
      "Data Science Data Science Data Science Data Science Data Science "
     ]
    }
   ],
   "source": [
    "for i in range(5):\n",
    "    print('Data Science', end=' ')"
   ]
  },
  {
   "cell_type": "markdown",
   "metadata": {},
   "source": [
    "Note: Remember to keep the index as one more than what is required. In the above code the indexing is done from 0 to 5 which are 6 places but Python has printed it 5 times."
   ]
  },
  {
   "cell_type": "markdown",
   "metadata": {},
   "source": [
    "### 5.2) Print all the even numbers from 1 to 20 (both inclusive) using for loop."
   ]
  },
  {
   "cell_type": "code",
   "execution_count": 35,
   "metadata": {
    "ExecuteTime": {
     "end_time": "2021-05-20T14:48:25.968679Z",
     "start_time": "2021-05-20T14:48:25.950257Z"
    }
   },
   "outputs": [
    {
     "name": "stdout",
     "output_type": "stream",
     "text": [
      "2\n",
      "4\n",
      "6\n",
      "8\n",
      "10\n",
      "12\n",
      "14\n",
      "16\n",
      "18\n",
      "20\n"
     ]
    }
   ],
   "source": [
    "for i in range(1,21):\n",
    "    if i%2 == 0:\n",
    "        print(i)"
   ]
  },
  {
   "cell_type": "markdown",
   "metadata": {},
   "source": [
    "<a id = 'sec6'></a>\n",
    "\n",
    "## 6. Function"
   ]
  },
  {
   "cell_type": "markdown",
   "metadata": {},
   "source": [
    "### 6.1) Define the python function to check whether the number 33 is even or odd"
   ]
  },
  {
   "cell_type": "code",
   "execution_count": 37,
   "metadata": {},
   "outputs": [
    {
     "name": "stdout",
     "output_type": "stream",
     "text": [
      "odd\n"
     ]
    }
   ],
   "source": [
    "def evenorodd(x):\n",
    "    if x%2 == 0:\n",
    "        print('even')\n",
    "    else:\n",
    "        print('odd')\n",
    "        \n",
    "evenorodd(33)"
   ]
  },
  {
   "cell_type": "markdown",
   "metadata": {},
   "source": [
    "### 6.2)Write the python program to get the unique values from the given list"
   ]
  },
  {
   "cell_type": "code",
   "execution_count": 38,
   "metadata": {},
   "outputs": [
    {
     "data": {
      "text/plain": [
       "{1, 2, 3, 4, 5}"
      ]
     },
     "execution_count": 38,
     "metadata": {},
     "output_type": "execute_result"
    }
   ],
   "source": [
    "def unique(x):\n",
    "    return set(x)\n",
    "\n",
    "list = [1, 2, 2, 3, 3, 3, 4, 4, 4, 4, 5, 5, 5, 5, 5]\n",
    "unique(list)"
   ]
  },
  {
   "cell_type": "markdown",
   "metadata": {},
   "source": [
    "### 6.3) Define the python function which adds two global numeric variables (1204 and 344536) Without Argument."
   ]
  },
  {
   "cell_type": "code",
   "execution_count": 39,
   "metadata": {},
   "outputs": [
    {
     "data": {
      "text/plain": [
       "345740"
      ]
     },
     "execution_count": 39,
     "metadata": {},
     "output_type": "execute_result"
    }
   ],
   "source": [
    "def add():\n",
    "    return var1 + var2\n",
    "\n",
    "var1=1204\n",
    "var2=344536\n",
    "\n",
    "add()"
   ]
  },
  {
   "cell_type": "markdown",
   "metadata": {},
   "source": [
    "## Keep Learning!"
   ]
  }
 ],
 "metadata": {
  "kernelspec": {
   "display_name": "Python 3",
   "language": "python",
   "name": "python3"
  },
  "language_info": {
   "codemirror_mode": {
    "name": "ipython",
    "version": 3
   },
   "file_extension": ".py",
   "mimetype": "text/x-python",
   "name": "python",
   "nbconvert_exporter": "python",
   "pygments_lexer": "ipython3",
   "version": "3.8.5"
  },
  "toc": {
   "base_numbering": 1,
   "nav_menu": {},
   "number_sections": true,
   "sideBar": true,
   "skip_h1_title": false,
   "title_cell": "Table of Contents",
   "title_sidebar": "Contents",
   "toc_cell": false,
   "toc_position": {},
   "toc_section_display": true,
   "toc_window_display": false
  }
 },
 "nbformat": 4,
 "nbformat_minor": 4
}
