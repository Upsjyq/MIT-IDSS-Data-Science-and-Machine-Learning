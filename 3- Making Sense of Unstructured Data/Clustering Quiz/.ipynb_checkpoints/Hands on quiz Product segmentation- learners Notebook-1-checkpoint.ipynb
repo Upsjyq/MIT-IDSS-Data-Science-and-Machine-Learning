{
 "cells": [
  {
   "cell_type": "markdown",
   "metadata": {},
   "source": [
    "## Context\n",
    "\n",
    "When you think of sneakers for a trip, the importance of good footwear cannot be discarded, and the obvious brands that come to mind are Adidas and Nike. Adidas vs Nike is a constant debate as the two giants in the apparel market, with a large market cap and market share, battle it out to come on top. As a newly hired Data Scientist in a market research company, you have been given the task of extracting insights from the data of men's and women's shoes, and grouping products together to identify similarities and differences between the product range of these renowned brands.\n",
    "\n",
    "\n",
    "\n",
    "## Objective\n",
    "\n",
    "To perform clustering on the products based on various factors\n",
    "\n",
    "\n",
    "## Data Description\n",
    "\n",
    "The dataset consists of 3268 products from Nike and Adidas with features of information including their ratings, discount, sales price, listed price, product name, and the number of reviews.\n",
    "\n",
    "- Product Name: Name of the product\n",
    "- Product ID: ID of the product\n",
    "- Listing Price: Listed price of the product\n",
    "- Sale Price: Sale price of the product\n",
    "- Discount: Percentage of discount on the product\n",
    "- Brand: Brand of the product\n",
    "- Rating: Rating of the product\n",
    "- Reviews: Number of reviews for the product"
   ]
  },
  {
   "cell_type": "code",
   "execution_count": 1,
   "metadata": {},
   "outputs": [],
   "source": [
    "# Libraries to help with reading and manipulating data\n",
    "import numpy as np\n",
    "import pandas as pd\n",
    "\n",
    "# Libraries to help with data visualization\n",
    "import matplotlib.pyplot as plt\n",
    "import seaborn as sns\n",
    "\n",
    "# to scale the data using z-score\n",
    "from sklearn.preprocessing import StandardScaler\n",
    "\n",
    "# to perform k-means clustering and compute silhouette scores\n",
    "from sklearn.cluster import KMeans\n",
    "from sklearn.metrics import silhouette_score"
   ]
  },
  {
   "cell_type": "code",
   "execution_count": 2,
   "metadata": {},
   "outputs": [],
   "source": [
    "data = pd.read_csv(\"data_add_nik.csv\")"
   ]
  },
  {
   "cell_type": "code",
   "execution_count": 3,
   "metadata": {},
   "outputs": [
    {
     "data": {
      "text/html": [
       "<div>\n",
       "<style scoped>\n",
       "    .dataframe tbody tr th:only-of-type {\n",
       "        vertical-align: middle;\n",
       "    }\n",
       "\n",
       "    .dataframe tbody tr th {\n",
       "        vertical-align: top;\n",
       "    }\n",
       "\n",
       "    .dataframe thead th {\n",
       "        text-align: right;\n",
       "    }\n",
       "</style>\n",
       "<table border=\"1\" class=\"dataframe\">\n",
       "  <thead>\n",
       "    <tr style=\"text-align: right;\">\n",
       "      <th></th>\n",
       "      <th>Product Name</th>\n",
       "      <th>Product ID</th>\n",
       "      <th>Listing Price</th>\n",
       "      <th>Sale Price</th>\n",
       "      <th>Discount</th>\n",
       "      <th>Brand</th>\n",
       "      <th>Rating</th>\n",
       "      <th>Reviews</th>\n",
       "    </tr>\n",
       "  </thead>\n",
       "  <tbody>\n",
       "    <tr>\n",
       "      <th>0</th>\n",
       "      <td>Women's adidas Originals NMD_Racer Primeknit S...</td>\n",
       "      <td>AH2430</td>\n",
       "      <td>14999</td>\n",
       "      <td>7499</td>\n",
       "      <td>50</td>\n",
       "      <td>Adidas Adidas ORIGINALS</td>\n",
       "      <td>4.8</td>\n",
       "      <td>41</td>\n",
       "    </tr>\n",
       "    <tr>\n",
       "      <th>1</th>\n",
       "      <td>Women's adidas Originals Sleek Shoes</td>\n",
       "      <td>G27341</td>\n",
       "      <td>7599</td>\n",
       "      <td>3799</td>\n",
       "      <td>50</td>\n",
       "      <td>Adidas ORIGINALS</td>\n",
       "      <td>3.3</td>\n",
       "      <td>24</td>\n",
       "    </tr>\n",
       "    <tr>\n",
       "      <th>2</th>\n",
       "      <td>Women's adidas Swim Puka Slippers</td>\n",
       "      <td>CM0081</td>\n",
       "      <td>999</td>\n",
       "      <td>599</td>\n",
       "      <td>40</td>\n",
       "      <td>Adidas CORE / NEO</td>\n",
       "      <td>2.6</td>\n",
       "      <td>37</td>\n",
       "    </tr>\n",
       "    <tr>\n",
       "      <th>3</th>\n",
       "      <td>Women's adidas Sport Inspired Questar Ride Shoes</td>\n",
       "      <td>B44832</td>\n",
       "      <td>6999</td>\n",
       "      <td>3499</td>\n",
       "      <td>50</td>\n",
       "      <td>Adidas CORE / NEO</td>\n",
       "      <td>4.1</td>\n",
       "      <td>35</td>\n",
       "    </tr>\n",
       "    <tr>\n",
       "      <th>4</th>\n",
       "      <td>Women's adidas Originals Taekwondo Shoes</td>\n",
       "      <td>D98205</td>\n",
       "      <td>7999</td>\n",
       "      <td>3999</td>\n",
       "      <td>50</td>\n",
       "      <td>Adidas ORIGINALS</td>\n",
       "      <td>3.5</td>\n",
       "      <td>72</td>\n",
       "    </tr>\n",
       "  </tbody>\n",
       "</table>\n",
       "</div>"
      ],
      "text/plain": [
       "                                        Product Name Product ID  \\\n",
       "0  Women's adidas Originals NMD_Racer Primeknit S...     AH2430   \n",
       "1               Women's adidas Originals Sleek Shoes     G27341   \n",
       "2                  Women's adidas Swim Puka Slippers     CM0081   \n",
       "3   Women's adidas Sport Inspired Questar Ride Shoes     B44832   \n",
       "4           Women's adidas Originals Taekwondo Shoes     D98205   \n",
       "\n",
       "   Listing Price  Sale Price  Discount                    Brand  Rating  \\\n",
       "0          14999        7499        50  Adidas Adidas ORIGINALS     4.8   \n",
       "1           7599        3799        50         Adidas ORIGINALS     3.3   \n",
       "2            999         599        40        Adidas CORE / NEO     2.6   \n",
       "3           6999        3499        50        Adidas CORE / NEO     4.1   \n",
       "4           7999        3999        50         Adidas ORIGINALS     3.5   \n",
       "\n",
       "   Reviews  \n",
       "0       41  \n",
       "1       24  \n",
       "2       37  \n",
       "3       35  \n",
       "4       72  "
      ]
     },
     "execution_count": 3,
     "metadata": {},
     "output_type": "execute_result"
    }
   ],
   "source": [
    "data.head()"
   ]
  },
  {
   "cell_type": "code",
   "execution_count": 4,
   "metadata": {},
   "outputs": [
    {
     "name": "stdout",
     "output_type": "stream",
     "text": [
      "<class 'pandas.core.frame.DataFrame'>\n",
      "RangeIndex: 3268 entries, 0 to 3267\n",
      "Data columns (total 8 columns):\n",
      " #   Column         Non-Null Count  Dtype  \n",
      "---  ------         --------------  -----  \n",
      " 0   Product Name   3268 non-null   object \n",
      " 1   Product ID     3268 non-null   object \n",
      " 2   Listing Price  3268 non-null   int64  \n",
      " 3   Sale Price     3268 non-null   int64  \n",
      " 4   Discount       3268 non-null   int64  \n",
      " 5   Brand          3268 non-null   object \n",
      " 6   Rating         3268 non-null   float64\n",
      " 7   Reviews        3268 non-null   int64  \n",
      "dtypes: float64(1), int64(4), object(3)\n",
      "memory usage: 204.4+ KB\n"
     ]
    }
   ],
   "source": [
    "data.info()"
   ]
  },
  {
   "cell_type": "code",
   "execution_count": 5,
   "metadata": {},
   "outputs": [
    {
     "data": {
      "text/plain": [
       "Product Name     1531\n",
       "Product ID       3179\n",
       "Listing Price      78\n",
       "Sale Price        227\n",
       "Discount            6\n",
       "Brand               5\n",
       "Rating             32\n",
       "Reviews           102\n",
       "dtype: int64"
      ]
     },
     "execution_count": 5,
     "metadata": {},
     "output_type": "execute_result"
    }
   ],
   "source": [
    "data.nunique()"
   ]
  },
  {
   "cell_type": "code",
   "execution_count": 6,
   "metadata": {},
   "outputs": [
    {
     "data": {
      "text/html": [
       "<div>\n",
       "<style scoped>\n",
       "    .dataframe tbody tr th:only-of-type {\n",
       "        vertical-align: middle;\n",
       "    }\n",
       "\n",
       "    .dataframe tbody tr th {\n",
       "        vertical-align: top;\n",
       "    }\n",
       "\n",
       "    .dataframe thead th {\n",
       "        text-align: right;\n",
       "    }\n",
       "</style>\n",
       "<table border=\"1\" class=\"dataframe\">\n",
       "  <thead>\n",
       "    <tr style=\"text-align: right;\">\n",
       "      <th></th>\n",
       "      <th>count</th>\n",
       "      <th>mean</th>\n",
       "      <th>std</th>\n",
       "      <th>min</th>\n",
       "      <th>25%</th>\n",
       "      <th>50%</th>\n",
       "      <th>75%</th>\n",
       "      <th>max</th>\n",
       "    </tr>\n",
       "  </thead>\n",
       "  <tbody>\n",
       "    <tr>\n",
       "      <th>Listing Price</th>\n",
       "      <td>3268.0</td>\n",
       "      <td>6868.020196</td>\n",
       "      <td>4724.659386</td>\n",
       "      <td>0.0</td>\n",
       "      <td>4299.0</td>\n",
       "      <td>5999.0</td>\n",
       "      <td>8999.0</td>\n",
       "      <td>29999.0</td>\n",
       "    </tr>\n",
       "    <tr>\n",
       "      <th>Sale Price</th>\n",
       "      <td>3268.0</td>\n",
       "      <td>6134.265606</td>\n",
       "      <td>4293.247581</td>\n",
       "      <td>449.0</td>\n",
       "      <td>2999.0</td>\n",
       "      <td>4799.0</td>\n",
       "      <td>7995.0</td>\n",
       "      <td>36500.0</td>\n",
       "    </tr>\n",
       "    <tr>\n",
       "      <th>Discount</th>\n",
       "      <td>3268.0</td>\n",
       "      <td>26.875765</td>\n",
       "      <td>22.633487</td>\n",
       "      <td>0.0</td>\n",
       "      <td>0.0</td>\n",
       "      <td>40.0</td>\n",
       "      <td>50.0</td>\n",
       "      <td>60.0</td>\n",
       "    </tr>\n",
       "    <tr>\n",
       "      <th>Rating</th>\n",
       "      <td>3268.0</td>\n",
       "      <td>3.242105</td>\n",
       "      <td>1.428856</td>\n",
       "      <td>0.0</td>\n",
       "      <td>2.6</td>\n",
       "      <td>3.5</td>\n",
       "      <td>4.4</td>\n",
       "      <td>5.0</td>\n",
       "    </tr>\n",
       "    <tr>\n",
       "      <th>Reviews</th>\n",
       "      <td>3268.0</td>\n",
       "      <td>40.551714</td>\n",
       "      <td>31.543491</td>\n",
       "      <td>0.0</td>\n",
       "      <td>10.0</td>\n",
       "      <td>37.0</td>\n",
       "      <td>68.0</td>\n",
       "      <td>223.0</td>\n",
       "    </tr>\n",
       "  </tbody>\n",
       "</table>\n",
       "</div>"
      ],
      "text/plain": [
       "                count         mean          std    min     25%     50%  \\\n",
       "Listing Price  3268.0  6868.020196  4724.659386    0.0  4299.0  5999.0   \n",
       "Sale Price     3268.0  6134.265606  4293.247581  449.0  2999.0  4799.0   \n",
       "Discount       3268.0    26.875765    22.633487    0.0     0.0    40.0   \n",
       "Rating         3268.0     3.242105     1.428856    0.0     2.6     3.5   \n",
       "Reviews        3268.0    40.551714    31.543491    0.0    10.0    37.0   \n",
       "\n",
       "                  75%      max  \n",
       "Listing Price  8999.0  29999.0  \n",
       "Sale Price     7995.0  36500.0  \n",
       "Discount         50.0     60.0  \n",
       "Rating            4.4      5.0  \n",
       "Reviews          68.0    223.0  "
      ]
     },
     "execution_count": 6,
     "metadata": {},
     "output_type": "execute_result"
    }
   ],
   "source": [
    "data.describe().T"
   ]
  },
  {
   "cell_type": "markdown",
   "metadata": {},
   "source": [
    "- Sales price seem to be right skewed as the Max, is quite large as compared to the mean which signifies the presence of the higher end products. \n",
    "- Discount seem to be left skewed and signifies variety of discounts are provided on variety of products from no discount to max of 60% discount. \n",
    "- Rating also seem to be left skewed and with average rating of 3.5 and maximum of 5. \n",
    "- Minimum of Listing Price is 0 which is not possible and we have to replace that. "
   ]
  },
  {
   "cell_type": "markdown",
   "metadata": {},
   "source": [
    "#### Let's check the rows where listing price is 0."
   ]
  },
  {
   "cell_type": "code",
   "execution_count": 7,
   "metadata": {},
   "outputs": [
    {
     "data": {
      "text/html": [
       "<div>\n",
       "<style scoped>\n",
       "    .dataframe tbody tr th:only-of-type {\n",
       "        vertical-align: middle;\n",
       "    }\n",
       "\n",
       "    .dataframe tbody tr th {\n",
       "        vertical-align: top;\n",
       "    }\n",
       "\n",
       "    .dataframe thead th {\n",
       "        text-align: right;\n",
       "    }\n",
       "</style>\n",
       "<table border=\"1\" class=\"dataframe\">\n",
       "  <thead>\n",
       "    <tr style=\"text-align: right;\">\n",
       "      <th></th>\n",
       "      <th>Product Name</th>\n",
       "      <th>Product ID</th>\n",
       "      <th>Listing Price</th>\n",
       "      <th>Sale Price</th>\n",
       "      <th>Discount</th>\n",
       "      <th>Brand</th>\n",
       "      <th>Rating</th>\n",
       "      <th>Reviews</th>\n",
       "    </tr>\n",
       "  </thead>\n",
       "  <tbody>\n",
       "    <tr>\n",
       "      <th>2625</th>\n",
       "      <td>Nike Air Force 1 '07 Essential</td>\n",
       "      <td>CJ1646-600</td>\n",
       "      <td>0</td>\n",
       "      <td>7495</td>\n",
       "      <td>0</td>\n",
       "      <td>Nike</td>\n",
       "      <td>0.0</td>\n",
       "      <td>0</td>\n",
       "    </tr>\n",
       "    <tr>\n",
       "      <th>2626</th>\n",
       "      <td>Nike Air Force 1 '07</td>\n",
       "      <td>CT4328-101</td>\n",
       "      <td>0</td>\n",
       "      <td>7495</td>\n",
       "      <td>0</td>\n",
       "      <td>Nike</td>\n",
       "      <td>0.0</td>\n",
       "      <td>0</td>\n",
       "    </tr>\n",
       "    <tr>\n",
       "      <th>2627</th>\n",
       "      <td>Nike Air Force 1 Sage Low LX</td>\n",
       "      <td>CI3482-200</td>\n",
       "      <td>0</td>\n",
       "      <td>9995</td>\n",
       "      <td>0</td>\n",
       "      <td>Nike</td>\n",
       "      <td>0.0</td>\n",
       "      <td>0</td>\n",
       "    </tr>\n",
       "    <tr>\n",
       "      <th>2628</th>\n",
       "      <td>Nike Air Max Dia SE</td>\n",
       "      <td>CD0479-200</td>\n",
       "      <td>0</td>\n",
       "      <td>9995</td>\n",
       "      <td>0</td>\n",
       "      <td>Nike</td>\n",
       "      <td>0.0</td>\n",
       "      <td>0</td>\n",
       "    </tr>\n",
       "    <tr>\n",
       "      <th>2629</th>\n",
       "      <td>Nike Air Max Verona</td>\n",
       "      <td>CZ6156-101</td>\n",
       "      <td>0</td>\n",
       "      <td>9995</td>\n",
       "      <td>0</td>\n",
       "      <td>Nike</td>\n",
       "      <td>0.0</td>\n",
       "      <td>0</td>\n",
       "    </tr>\n",
       "    <tr>\n",
       "      <th>...</th>\n",
       "      <td>...</td>\n",
       "      <td>...</td>\n",
       "      <td>...</td>\n",
       "      <td>...</td>\n",
       "      <td>...</td>\n",
       "      <td>...</td>\n",
       "      <td>...</td>\n",
       "      <td>...</td>\n",
       "    </tr>\n",
       "    <tr>\n",
       "      <th>3257</th>\n",
       "      <td>Air Jordan 5 Retro</td>\n",
       "      <td>CD2722-001</td>\n",
       "      <td>0</td>\n",
       "      <td>15995</td>\n",
       "      <td>0</td>\n",
       "      <td>Nike</td>\n",
       "      <td>3.3</td>\n",
       "      <td>3</td>\n",
       "    </tr>\n",
       "    <tr>\n",
       "      <th>3258</th>\n",
       "      <td>Nike ZoomX Vaporfly NEXT%</td>\n",
       "      <td>AO4568-600</td>\n",
       "      <td>0</td>\n",
       "      <td>19995</td>\n",
       "      <td>0</td>\n",
       "      <td>Nike</td>\n",
       "      <td>4.7</td>\n",
       "      <td>45</td>\n",
       "    </tr>\n",
       "    <tr>\n",
       "      <th>3260</th>\n",
       "      <td>Nike Tiempo Legend 8 Academy TF</td>\n",
       "      <td>AT6100-606</td>\n",
       "      <td>0</td>\n",
       "      <td>6495</td>\n",
       "      <td>0</td>\n",
       "      <td>Nike</td>\n",
       "      <td>0.0</td>\n",
       "      <td>0</td>\n",
       "    </tr>\n",
       "    <tr>\n",
       "      <th>3262</th>\n",
       "      <td>Nike React Metcon AMP</td>\n",
       "      <td>CT9155-063</td>\n",
       "      <td>0</td>\n",
       "      <td>13995</td>\n",
       "      <td>0</td>\n",
       "      <td>Nike</td>\n",
       "      <td>3.0</td>\n",
       "      <td>1</td>\n",
       "    </tr>\n",
       "    <tr>\n",
       "      <th>3266</th>\n",
       "      <td>Nike Air Max 98</td>\n",
       "      <td>AH6799-300</td>\n",
       "      <td>0</td>\n",
       "      <td>16995</td>\n",
       "      <td>0</td>\n",
       "      <td>Nike</td>\n",
       "      <td>4.0</td>\n",
       "      <td>4</td>\n",
       "    </tr>\n",
       "  </tbody>\n",
       "</table>\n",
       "<p>426 rows × 8 columns</p>\n",
       "</div>"
      ],
      "text/plain": [
       "                         Product Name  Product ID  Listing Price  Sale Price  \\\n",
       "2625   Nike Air Force 1 '07 Essential  CJ1646-600              0        7495   \n",
       "2626             Nike Air Force 1 '07  CT4328-101              0        7495   \n",
       "2627     Nike Air Force 1 Sage Low LX  CI3482-200              0        9995   \n",
       "2628              Nike Air Max Dia SE  CD0479-200              0        9995   \n",
       "2629              Nike Air Max Verona  CZ6156-101              0        9995   \n",
       "...                               ...         ...            ...         ...   \n",
       "3257               Air Jordan 5 Retro  CD2722-001              0       15995   \n",
       "3258        Nike ZoomX Vaporfly NEXT%  AO4568-600              0       19995   \n",
       "3260  Nike Tiempo Legend 8 Academy TF  AT6100-606              0        6495   \n",
       "3262            Nike React Metcon AMP  CT9155-063              0       13995   \n",
       "3266                  Nike Air Max 98  AH6799-300              0       16995   \n",
       "\n",
       "      Discount Brand  Rating  Reviews  \n",
       "2625         0  Nike     0.0        0  \n",
       "2626         0  Nike     0.0        0  \n",
       "2627         0  Nike     0.0        0  \n",
       "2628         0  Nike     0.0        0  \n",
       "2629         0  Nike     0.0        0  \n",
       "...        ...   ...     ...      ...  \n",
       "3257         0  Nike     3.3        3  \n",
       "3258         0  Nike     4.7       45  \n",
       "3260         0  Nike     0.0        0  \n",
       "3262         0  Nike     3.0        1  \n",
       "3266         0  Nike     4.0        4  \n",
       "\n",
       "[426 rows x 8 columns]"
      ]
     },
     "execution_count": 7,
     "metadata": {},
     "output_type": "execute_result"
    }
   ],
   "source": [
    "data[(data['Listing Price'] == 0)]"
   ]
  },
  {
   "cell_type": "markdown",
   "metadata": {},
   "source": [
    "- **If listing price is 0, the discount also seem to be 0.** Hence we can try replacing listing price of these rows with the sales price. "
   ]
  },
  {
   "cell_type": "code",
   "execution_count": 10,
   "metadata": {},
   "outputs": [],
   "source": [
    "#Exploring where the listing price is 0. \n",
    "data.loc[(data['Listing Price'] == 0), [\"Listing Price\"]] = data.loc[\n",
    "    (data['Listing Price'] == 0), [\"Sale Price\"]\n",
    "].values"
   ]
  },
  {
   "cell_type": "markdown",
   "metadata": {},
   "source": [
    "### Question 1: Analyze the histogram of Sales price. "
   ]
  },
  {
   "cell_type": "code",
   "execution_count": 11,
   "metadata": {},
   "outputs": [
    {
     "data": {
      "image/png": "[encoded data removed]",
      "text/plain": [
       "<Figure size 936x936 with 6 Axes>"
      ]
     },
     "metadata": {
      "needs_background": "light"
     },
     "output_type": "display_data"
    }
   ],
   "source": [
    "data.hist(figsize=(13,13))\n",
    "plt.show()"
   ]
  },
  {
   "cell_type": "code",
   "execution_count": 9,
   "metadata": {},
   "outputs": [
    {
     "data": {
      "text/plain": [
       "Adidas CORE / NEO           1111\n",
       "Adidas ORIGINALS             907\n",
       "Nike                         643\n",
       "Adidas SPORT PERFORMANCE     606\n",
       "Adidas Adidas ORIGINALS        1\n",
       "Name: Brand, dtype: int64"
      ]
     },
     "execution_count": 9,
     "metadata": {},
     "output_type": "execute_result"
    }
   ],
   "source": [
    "data.Brand.value_counts()"
   ]
  },
  {
   "cell_type": "markdown",
   "metadata": {},
   "source": [
    "- **There is a outlier Adidas Adidas ORIGINALS**, this can be replaced by Adidas ORIGINALS"
   ]
  },
  {
   "cell_type": "code",
   "execution_count": 10,
   "metadata": {},
   "outputs": [],
   "source": [
    "data.Brand=data.Brand.replace({'Adidas Adidas ORIGINALS':'Adidas ORIGINALS'})"
   ]
  },
  {
   "cell_type": "markdown",
   "metadata": {},
   "source": [
    "### Prepare data for Clustering"
   ]
  },
  {
   "cell_type": "code",
   "execution_count": 29,
   "metadata": {},
   "outputs": [
    {
     "data": {
      "text/html": [
       "<div>\n",
       "<style scoped>\n",
       "    .dataframe tbody tr th:only-of-type {\n",
       "        vertical-align: middle;\n",
       "    }\n",
       "\n",
       "    .dataframe tbody tr th {\n",
       "        vertical-align: top;\n",
       "    }\n",
       "\n",
       "    .dataframe thead th {\n",
       "        text-align: right;\n",
       "    }\n",
       "</style>\n",
       "<table border=\"1\" class=\"dataframe\">\n",
       "  <thead>\n",
       "    <tr style=\"text-align: right;\">\n",
       "      <th></th>\n",
       "      <th>Listing Price</th>\n",
       "      <th>Sale Price</th>\n",
       "      <th>Discount</th>\n",
       "      <th>Rating</th>\n",
       "    </tr>\n",
       "  </thead>\n",
       "  <tbody>\n",
       "    <tr>\n",
       "      <th>0</th>\n",
       "      <td>1.509415</td>\n",
       "      <td>0.317928</td>\n",
       "      <td>1.021839</td>\n",
       "      <td>1.090476</td>\n",
       "    </tr>\n",
       "    <tr>\n",
       "      <th>1</th>\n",
       "      <td>-0.165605</td>\n",
       "      <td>-0.544022</td>\n",
       "      <td>1.021839</td>\n",
       "      <td>0.040524</td>\n",
       "    </tr>\n",
       "    <tr>\n",
       "      <th>2</th>\n",
       "      <td>-1.659542</td>\n",
       "      <td>-1.289493</td>\n",
       "      <td>0.579948</td>\n",
       "      <td>-0.449453</td>\n",
       "    </tr>\n",
       "    <tr>\n",
       "      <th>3</th>\n",
       "      <td>-0.301417</td>\n",
       "      <td>-0.613910</td>\n",
       "      <td>1.021839</td>\n",
       "      <td>0.600498</td>\n",
       "    </tr>\n",
       "    <tr>\n",
       "      <th>4</th>\n",
       "      <td>-0.075063</td>\n",
       "      <td>-0.497431</td>\n",
       "      <td>1.021839</td>\n",
       "      <td>0.180518</td>\n",
       "    </tr>\n",
       "  </tbody>\n",
       "</table>\n",
       "</div>"
      ],
      "text/plain": [
       "   Listing Price  Sale Price  Discount    Rating\n",
       "0       1.509415    0.317928  1.021839  1.090476\n",
       "1      -0.165605   -0.544022  1.021839  0.040524\n",
       "2      -1.659542   -1.289493  0.579948 -0.449453\n",
       "3      -0.301417   -0.613910  1.021839  0.600498\n",
       "4      -0.075063   -0.497431  1.021839  0.180518"
      ]
     },
     "execution_count": 29,
     "metadata": {},
     "output_type": "execute_result"
    }
   ],
   "source": [
    "# Drop the column Product name, product id, brand and reviews. \n",
    "#remove ___________ and write the column names \n",
    "\n",
    "data_new = data.drop(columns=[_________________])\n",
    "\n",
    "#scaling the rest of the data\n",
    "#remove ___________ and define standard scaler\n",
    "\n",
    "scaler=_________________\n",
    "\n",
    "#remove ___________ and fit_transform on data_new\n",
    "data_scaled=pd.DataFrame(scaler._____________, columns=data_new.columns)\n",
    "\n",
    "data_scaled.head()"
   ]
  },
  {
   "cell_type": "code",
   "execution_count": 30,
   "metadata": {},
   "outputs": [],
   "source": [
    "data_scaled_copy = data_scaled.copy(deep=True)"
   ]
  },
  {
   "cell_type": "markdown",
   "metadata": {},
   "source": [
    "### Question 2: Fitting the K-Means Clustering and plotting Elbow plot"
   ]
  },
  {
   "cell_type": "code",
   "execution_count": 31,
   "metadata": {},
   "outputs": [
    {
     "data": {
      "image/png": "[encoded data removed]",
      "text/plain": [
       "<Figure size 432x288 with 1 Axes>"
      ]
     },
     "metadata": {
      "needs_background": "light"
     },
     "output_type": "display_data"
    }
   ],
   "source": [
    "#Empty dictionary to store the SSE for each value of k\n",
    "WCSS = {} \n",
    "\n",
    "# iterate for a range of Ks and fit the scaled data to the algorithm. Use inertia attribute from the clustering object and \n",
    "# store the inertia value for that k \n",
    "\n",
    "#remove ___________ and write the complete the code \n",
    "for k in range(1, 10):\n",
    "    kmeans = _____________________\n",
    "    WCSS[k] = kmeans.____________\n",
    "\n",
    "#Elbow plot\n",
    "plt.figure()\n",
    "plt.plot(list(WCSS.keys()), list(WCSS.values()), 'bx-')\n",
    "plt.xlabel(\"Number of cluster\")\n",
    "plt.ylabel(\"WCSS\")\n",
    "plt.show()"
   ]
  },
  {
   "cell_type": "markdown",
   "metadata": {},
   "source": [
    "- It is hard to tell from this graph what will be the optimal value of K. Let's use silhouette score to visualize this"
   ]
  },
  {
   "cell_type": "markdown",
   "metadata": {},
   "source": [
    "### Question 3: Checking the Silhouette Score and choosing optimal value for K"
   ]
  },
  {
   "cell_type": "code",
   "execution_count": 32,
   "metadata": {},
   "outputs": [
    {
     "data": {
      "image/png": "[encoded data removed]",
      "text/plain": [
       "<Figure size 432x288 with 1 Axes>"
      ]
     },
     "metadata": {
      "needs_background": "light"
     },
     "output_type": "display_data"
    }
   ],
   "source": [
    "#Empty dictionary to store the Silhouette score for each value of k\n",
    "sc = {} \n",
    "\n",
    "# iterate for a range of Ks and fit the scaled data to the algorithm. Store the Silhouette score for that k \n",
    "\n",
    "\n",
    "#remove ___________ and write the complete the code \n",
    "for k in range(2, 10):\n",
    "    kmeans = _______________\n",
    "    labels = __________________\n",
    "    sc[k] = ________________\n",
    "\n",
    "#Elbow plot\n",
    "plt.figure()\n",
    "plt.plot(list(sc.keys()), list(sc.values()), 'bx-')\n",
    "plt.xlabel(\"Number of cluster\")\n",
    "plt.ylabel(\"Silhouette Score\")\n",
    "plt.show()"
   ]
  },
  {
   "cell_type": "code",
   "execution_count": 22,
   "metadata": {},
   "outputs": [],
   "source": [
    "kmeans = KMeans(n_clusters=4, random_state=1)\n",
    "kmeans.fit(data_scaled)\n",
    "\n",
    "#Adding predicted labels to the original data and scaled data \n",
    "data_scaled_copy['KMeans_Labels'] = kmeans.predict(data_scaled)\n",
    "data['KMeans_Labels'] = kmeans.predict(data_scaled)"
   ]
  },
  {
   "cell_type": "code",
   "execution_count": 23,
   "metadata": {},
   "outputs": [
    {
     "data": {
      "text/plain": [
       "0    1797\n",
       "3     746\n",
       "1     402\n",
       "2     323\n",
       "Name: KMeans_Labels, dtype: int64"
      ]
     },
     "execution_count": 23,
     "metadata": {},
     "output_type": "execute_result"
    }
   ],
   "source": [
    "data['KMeans_Labels'].value_counts()"
   ]
  },
  {
   "cell_type": "markdown",
   "metadata": {},
   "source": [
    "### Question 4 and 5 : Cluster profiling"
   ]
  },
  {
   "cell_type": "code",
   "execution_count": 24,
   "metadata": {},
   "outputs": [
    {
     "data": {
      "text/html": [
       "<div>\n",
       "<style scoped>\n",
       "    .dataframe tbody tr th:only-of-type {\n",
       "        vertical-align: middle;\n",
       "    }\n",
       "\n",
       "    .dataframe tbody tr th {\n",
       "        vertical-align: top;\n",
       "    }\n",
       "\n",
       "    .dataframe thead th {\n",
       "        text-align: right;\n",
       "    }\n",
       "</style>\n",
       "<table border=\"1\" class=\"dataframe\">\n",
       "  <thead>\n",
       "    <tr style=\"text-align: right;\">\n",
       "      <th></th>\n",
       "      <th>group_0 Mean</th>\n",
       "      <th>group_1 Mean</th>\n",
       "      <th>group_2 Mean</th>\n",
       "      <th>group_3 Mean</th>\n",
       "      <th>group_0 Median</th>\n",
       "      <th>group_1 Median</th>\n",
       "      <th>group_2 Median</th>\n",
       "      <th>group_3 Median</th>\n",
       "    </tr>\n",
       "  </thead>\n",
       "  <tbody>\n",
       "    <tr>\n",
       "      <th>Listing Price</th>\n",
       "      <td>6813.468559</td>\n",
       "      <td>16553.141791</td>\n",
       "      <td>9511.123839</td>\n",
       "      <td>7043.171582</td>\n",
       "      <td>5999.0</td>\n",
       "      <td>15995.0</td>\n",
       "      <td>8495.0</td>\n",
       "      <td>7495.0</td>\n",
       "    </tr>\n",
       "    <tr>\n",
       "      <th>Sale Price</th>\n",
       "      <td>3696.501391</td>\n",
       "      <td>14377.800995</td>\n",
       "      <td>8246.876161</td>\n",
       "      <td>6649.530831</td>\n",
       "      <td>3499.0</td>\n",
       "      <td>12999.0</td>\n",
       "      <td>7995.0</td>\n",
       "      <td>6599.0</td>\n",
       "    </tr>\n",
       "    <tr>\n",
       "      <th>Discount</th>\n",
       "      <td>45.414580</td>\n",
       "      <td>8.930348</td>\n",
       "      <td>6.532508</td>\n",
       "      <td>0.697051</td>\n",
       "      <td>50.0</td>\n",
       "      <td>0.0</td>\n",
       "      <td>0.0</td>\n",
       "      <td>0.0</td>\n",
       "    </tr>\n",
       "    <tr>\n",
       "      <th>Rating</th>\n",
       "      <td>3.389649</td>\n",
       "      <td>3.840796</td>\n",
       "      <td>0.215480</td>\n",
       "      <td>3.874531</td>\n",
       "      <td>3.5</td>\n",
       "      <td>4.1</td>\n",
       "      <td>0.0</td>\n",
       "      <td>4.0</td>\n",
       "    </tr>\n",
       "    <tr>\n",
       "      <th>Reviews</th>\n",
       "      <td>48.963272</td>\n",
       "      <td>30.805970</td>\n",
       "      <td>15.588235</td>\n",
       "      <td>36.349866</td>\n",
       "      <td>49.0</td>\n",
       "      <td>20.0</td>\n",
       "      <td>0.0</td>\n",
       "      <td>28.0</td>\n",
       "    </tr>\n",
       "  </tbody>\n",
       "</table>\n",
       "</div>"
      ],
      "text/plain": [
       "               group_0 Mean  group_1 Mean  group_2 Mean  group_3 Mean  \\\n",
       "Listing Price   6813.468559  16553.141791   9511.123839   7043.171582   \n",
       "Sale Price      3696.501391  14377.800995   8246.876161   6649.530831   \n",
       "Discount          45.414580      8.930348      6.532508      0.697051   \n",
       "Rating             3.389649      3.840796      0.215480      3.874531   \n",
       "Reviews           48.963272     30.805970     15.588235     36.349866   \n",
       "\n",
       "               group_0 Median  group_1 Median  group_2 Median  group_3 Median  \n",
       "Listing Price          5999.0         15995.0          8495.0          7495.0  \n",
       "Sale Price             3499.0         12999.0          7995.0          6599.0  \n",
       "Discount                 50.0             0.0             0.0             0.0  \n",
       "Rating                    3.5             4.1             0.0             4.0  \n",
       "Reviews                  49.0            20.0             0.0            28.0  "
      ]
     },
     "execution_count": 24,
     "metadata": {},
     "output_type": "execute_result"
    }
   ],
   "source": [
    "#Calculating mean and median of the original data for each label\n",
    "mean = data.groupby('KMeans_Labels').mean()\n",
    "median = data.groupby('KMeans_Labels').median()\n",
    "df_kmeans = pd.concat([mean, median], axis=0)\n",
    "df_kmeans.index = ['group_0 Mean', 'group_1 Mean', 'group_2 Mean','group_3 Mean', 'group_0 Median', 'group_1 Median', 'group_2 Median','group_3 Median']\n",
    "df_kmeans.T"
   ]
  },
  {
   "cell_type": "markdown",
   "metadata": {},
   "source": [
    "### Note: You can also apply other clustering algorithms and can compare different clusters. You can refer to the practice or MLS Notebooks of the code of other algorithms. \n",
    "\n",
    "### Happy Learning!"
   ]
  }
 ],
 "metadata": {
  "kernelspec": {
   "display_name": "Python 3",
   "language": "python",
   "name": "python3"
  },
  "language_info": {
   "codemirror_mode": {
    "name": "ipython",
    "version": 3
   },
   "file_extension": ".py",
   "mimetype": "text/x-python",
   "name": "python",
   "nbconvert_exporter": "python",
   "pygments_lexer": "ipython3",
   "version": "3.8.5"
  }
 },
 "nbformat": 4,
 "nbformat_minor": 5
}
