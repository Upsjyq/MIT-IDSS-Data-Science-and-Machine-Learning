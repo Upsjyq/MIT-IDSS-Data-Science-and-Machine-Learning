{
 "cells": [
  {
   "cell_type": "markdown",
   "metadata": {},
   "source": [
    "# GENDER WAGE GAP\n",
    "Here we ask and answer the following question:\n",
    "\n",
    "**What is the difference in predicted wages between men and women with the same job-relevant characteristics?**\n",
    "\n",
    "Our data comes from the March Supplement of the U.S. Current Population Survey, year 2012. We focus on the single (never married) workers with education levels equal to high-school, some college, or college graduates. The sample size is about 4,000.\n",
    "\n",
    "Our outcome variable Y is hourly wage, and our X ’s are various characteristics of workers such as gender, experience, education, and geographical indicators.\n",
    "\n",
    "The dataset contains the following variables:\n",
    "1. wage   : weekly wage\n",
    "2. female : female dummy\n",
    "3. cg     : college Graduate Dummy\n",
    "4. sc     : some college dummy\n",
    "5. hsg    : High School graduate dummy\n",
    "6. mw     : mid-west dummy\n",
    "7. so     : south dummy\n",
    "8. we     : west dummy\n",
    "9. ne     : northeast dummy\n",
    "10. exp1   : experience(year)\n",
    "11. exp2   : experience squared (taken as experience squared/100)\n",
    "12. exp3   : experience cubed (taken as experience cubed/1000)"
   ]
  },
  {
   "cell_type": "code",
   "execution_count": 1,
   "metadata": {},
   "outputs": [],
   "source": [
    "#importing necessary libraries\n",
    "\n",
    "import numpy as np\n",
    "import pandas as pd\n",
    "import matplotlib.pyplot as plt\n",
    "import seaborn as sns\n",
    "#to ignore warnings\n",
    "import warnings\n",
    "warnings.filterwarnings('ignore')"
   ]
  },
  {
   "cell_type": "code",
   "execution_count": 2,
   "metadata": {},
   "outputs": [],
   "source": [
    "# Load data\n",
    "df = pd.read_csv('predicting_wages.csv')"
   ]
  },
  {
   "cell_type": "code",
   "execution_count": 3,
   "metadata": {},
   "outputs": [
    {
     "data": {
      "text/html": [
       "<div>\n",
       "<style scoped>\n",
       "    .dataframe tbody tr th:only-of-type {\n",
       "        vertical-align: middle;\n",
       "    }\n",
       "\n",
       "    .dataframe tbody tr th {\n",
       "        vertical-align: top;\n",
       "    }\n",
       "\n",
       "    .dataframe thead th {\n",
       "        text-align: right;\n",
       "    }\n",
       "</style>\n",
       "<table border=\"1\" class=\"dataframe\">\n",
       "  <thead>\n",
       "    <tr style=\"text-align: right;\">\n",
       "      <th></th>\n",
       "      <th>female</th>\n",
       "      <th>cg</th>\n",
       "      <th>sc</th>\n",
       "      <th>hsg</th>\n",
       "      <th>mw</th>\n",
       "      <th>so</th>\n",
       "      <th>we</th>\n",
       "      <th>ne</th>\n",
       "      <th>exp1</th>\n",
       "      <th>exp2</th>\n",
       "      <th>exp3</th>\n",
       "      <th>wage</th>\n",
       "    </tr>\n",
       "  </thead>\n",
       "  <tbody>\n",
       "    <tr>\n",
       "      <th>0</th>\n",
       "      <td>0</td>\n",
       "      <td>0</td>\n",
       "      <td>0</td>\n",
       "      <td>1</td>\n",
       "      <td>0</td>\n",
       "      <td>0</td>\n",
       "      <td>0</td>\n",
       "      <td>1</td>\n",
       "      <td>33.0</td>\n",
       "      <td>10.89</td>\n",
       "      <td>35.937</td>\n",
       "      <td>11.659091</td>\n",
       "    </tr>\n",
       "    <tr>\n",
       "      <th>1</th>\n",
       "      <td>0</td>\n",
       "      <td>1</td>\n",
       "      <td>0</td>\n",
       "      <td>0</td>\n",
       "      <td>0</td>\n",
       "      <td>0</td>\n",
       "      <td>0</td>\n",
       "      <td>1</td>\n",
       "      <td>27.0</td>\n",
       "      <td>7.29</td>\n",
       "      <td>19.683</td>\n",
       "      <td>12.825000</td>\n",
       "    </tr>\n",
       "    <tr>\n",
       "      <th>2</th>\n",
       "      <td>0</td>\n",
       "      <td>0</td>\n",
       "      <td>1</td>\n",
       "      <td>0</td>\n",
       "      <td>0</td>\n",
       "      <td>0</td>\n",
       "      <td>0</td>\n",
       "      <td>1</td>\n",
       "      <td>13.0</td>\n",
       "      <td>1.69</td>\n",
       "      <td>2.197</td>\n",
       "      <td>5.777027</td>\n",
       "    </tr>\n",
       "    <tr>\n",
       "      <th>3</th>\n",
       "      <td>0</td>\n",
       "      <td>1</td>\n",
       "      <td>0</td>\n",
       "      <td>0</td>\n",
       "      <td>0</td>\n",
       "      <td>0</td>\n",
       "      <td>0</td>\n",
       "      <td>1</td>\n",
       "      <td>2.0</td>\n",
       "      <td>0.04</td>\n",
       "      <td>0.008</td>\n",
       "      <td>12.468750</td>\n",
       "    </tr>\n",
       "    <tr>\n",
       "      <th>4</th>\n",
       "      <td>1</td>\n",
       "      <td>1</td>\n",
       "      <td>0</td>\n",
       "      <td>0</td>\n",
       "      <td>0</td>\n",
       "      <td>0</td>\n",
       "      <td>0</td>\n",
       "      <td>1</td>\n",
       "      <td>15.0</td>\n",
       "      <td>2.25</td>\n",
       "      <td>3.375</td>\n",
       "      <td>18.525000</td>\n",
       "    </tr>\n",
       "  </tbody>\n",
       "</table>\n",
       "</div>"
      ],
      "text/plain": [
       "   female  cg  sc  hsg  mw  so  we  ne  exp1   exp2    exp3       wage\n",
       "0       0   0   0    1   0   0   0   1  33.0  10.89  35.937  11.659091\n",
       "1       0   1   0    0   0   0   0   1  27.0   7.29  19.683  12.825000\n",
       "2       0   0   1    0   0   0   0   1  13.0   1.69   2.197   5.777027\n",
       "3       0   1   0    0   0   0   0   1   2.0   0.04   0.008  12.468750\n",
       "4       1   1   0    0   0   0   0   1  15.0   2.25   3.375  18.525000"
      ]
     },
     "execution_count": 3,
     "metadata": {},
     "output_type": "execute_result"
    }
   ],
   "source": [
    "# See variables in the dataset\n",
    "df.head()"
   ]
  },
  {
   "cell_type": "markdown",
   "metadata": {},
   "source": [
    "### Checking the info of the dataset"
   ]
  },
  {
   "cell_type": "code",
   "execution_count": 4,
   "metadata": {},
   "outputs": [
    {
     "name": "stdout",
     "output_type": "stream",
     "text": [
      "<class 'pandas.core.frame.DataFrame'>\n",
      "RangeIndex: 3835 entries, 0 to 3834\n",
      "Data columns (total 12 columns):\n",
      " #   Column  Non-Null Count  Dtype  \n",
      "---  ------  --------------  -----  \n",
      " 0   female  3835 non-null   int64  \n",
      " 1   cg      3835 non-null   int64  \n",
      " 2   sc      3835 non-null   int64  \n",
      " 3   hsg     3835 non-null   int64  \n",
      " 4   mw      3835 non-null   int64  \n",
      " 5   so      3835 non-null   int64  \n",
      " 6   we      3835 non-null   int64  \n",
      " 7   ne      3835 non-null   int64  \n",
      " 8   exp1    3835 non-null   float64\n",
      " 9   exp2    3835 non-null   float64\n",
      " 10  exp3    3835 non-null   float64\n",
      " 11  wage    3835 non-null   float64\n",
      "dtypes: float64(4), int64(8)\n",
      "memory usage: 359.7 KB\n"
     ]
    }
   ],
   "source": [
    "# Checking info of the dataset\n",
    "df.info()"
   ]
  },
  {
   "cell_type": "markdown",
   "metadata": {},
   "source": [
    "- The dataset has 3835 observations and 12 different variables.\n",
    "- There is no missing value in the dataset. \n",
    "- The type of all the dummy variables( cg, sc, hsg... etc) is int, but the are binary variables 0 and 1. "
   ]
  },
  {
   "cell_type": "markdown",
   "metadata": {},
   "source": [
    "### Checking the summary statistics of the dataset"
   ]
  },
  {
   "cell_type": "code",
   "execution_count": 5,
   "metadata": {},
   "outputs": [
    {
     "data": {
      "text/html": [
       "<div>\n",
       "<style scoped>\n",
       "    .dataframe tbody tr th:only-of-type {\n",
       "        vertical-align: middle;\n",
       "    }\n",
       "\n",
       "    .dataframe tbody tr th {\n",
       "        vertical-align: top;\n",
       "    }\n",
       "\n",
       "    .dataframe thead th {\n",
       "        text-align: right;\n",
       "    }\n",
       "</style>\n",
       "<table border=\"1\" class=\"dataframe\">\n",
       "  <thead>\n",
       "    <tr style=\"text-align: right;\">\n",
       "      <th></th>\n",
       "      <th>count</th>\n",
       "      <th>mean</th>\n",
       "      <th>std</th>\n",
       "      <th>min</th>\n",
       "      <th>25%</th>\n",
       "      <th>50%</th>\n",
       "      <th>75%</th>\n",
       "      <th>max</th>\n",
       "    </tr>\n",
       "  </thead>\n",
       "  <tbody>\n",
       "    <tr>\n",
       "      <th>female</th>\n",
       "      <td>3835.0</td>\n",
       "      <td>0.417992</td>\n",
       "      <td>0.493293</td>\n",
       "      <td>0.000000</td>\n",
       "      <td>0.00000</td>\n",
       "      <td>0.000000</td>\n",
       "      <td>1.000000</td>\n",
       "      <td>1.000000</td>\n",
       "    </tr>\n",
       "    <tr>\n",
       "      <th>cg</th>\n",
       "      <td>3835.0</td>\n",
       "      <td>0.376271</td>\n",
       "      <td>0.484513</td>\n",
       "      <td>0.000000</td>\n",
       "      <td>0.00000</td>\n",
       "      <td>0.000000</td>\n",
       "      <td>1.000000</td>\n",
       "      <td>1.000000</td>\n",
       "    </tr>\n",
       "    <tr>\n",
       "      <th>sc</th>\n",
       "      <td>3835.0</td>\n",
       "      <td>0.323859</td>\n",
       "      <td>0.468008</td>\n",
       "      <td>0.000000</td>\n",
       "      <td>0.00000</td>\n",
       "      <td>0.000000</td>\n",
       "      <td>1.000000</td>\n",
       "      <td>1.000000</td>\n",
       "    </tr>\n",
       "    <tr>\n",
       "      <th>hsg</th>\n",
       "      <td>3835.0</td>\n",
       "      <td>0.299870</td>\n",
       "      <td>0.458260</td>\n",
       "      <td>0.000000</td>\n",
       "      <td>0.00000</td>\n",
       "      <td>0.000000</td>\n",
       "      <td>1.000000</td>\n",
       "      <td>1.000000</td>\n",
       "    </tr>\n",
       "    <tr>\n",
       "      <th>mw</th>\n",
       "      <td>3835.0</td>\n",
       "      <td>0.287614</td>\n",
       "      <td>0.452709</td>\n",
       "      <td>0.000000</td>\n",
       "      <td>0.00000</td>\n",
       "      <td>0.000000</td>\n",
       "      <td>1.000000</td>\n",
       "      <td>1.000000</td>\n",
       "    </tr>\n",
       "    <tr>\n",
       "      <th>so</th>\n",
       "      <td>3835.0</td>\n",
       "      <td>0.243546</td>\n",
       "      <td>0.429278</td>\n",
       "      <td>0.000000</td>\n",
       "      <td>0.00000</td>\n",
       "      <td>0.000000</td>\n",
       "      <td>0.000000</td>\n",
       "      <td>1.000000</td>\n",
       "    </tr>\n",
       "    <tr>\n",
       "      <th>we</th>\n",
       "      <td>3835.0</td>\n",
       "      <td>0.211734</td>\n",
       "      <td>0.408591</td>\n",
       "      <td>0.000000</td>\n",
       "      <td>0.00000</td>\n",
       "      <td>0.000000</td>\n",
       "      <td>0.000000</td>\n",
       "      <td>1.000000</td>\n",
       "    </tr>\n",
       "    <tr>\n",
       "      <th>ne</th>\n",
       "      <td>3835.0</td>\n",
       "      <td>0.257106</td>\n",
       "      <td>0.437095</td>\n",
       "      <td>0.000000</td>\n",
       "      <td>0.00000</td>\n",
       "      <td>0.000000</td>\n",
       "      <td>1.000000</td>\n",
       "      <td>1.000000</td>\n",
       "    </tr>\n",
       "    <tr>\n",
       "      <th>exp1</th>\n",
       "      <td>3835.0</td>\n",
       "      <td>13.353194</td>\n",
       "      <td>8.639348</td>\n",
       "      <td>2.000000</td>\n",
       "      <td>6.00000</td>\n",
       "      <td>11.000000</td>\n",
       "      <td>19.500000</td>\n",
       "      <td>35.000000</td>\n",
       "    </tr>\n",
       "    <tr>\n",
       "      <th>exp2</th>\n",
       "      <td>3835.0</td>\n",
       "      <td>2.529267</td>\n",
       "      <td>2.910554</td>\n",
       "      <td>0.040000</td>\n",
       "      <td>0.36000</td>\n",
       "      <td>1.210000</td>\n",
       "      <td>3.802500</td>\n",
       "      <td>12.250000</td>\n",
       "    </tr>\n",
       "    <tr>\n",
       "      <th>exp3</th>\n",
       "      <td>3835.0</td>\n",
       "      <td>5.812103</td>\n",
       "      <td>9.033207</td>\n",
       "      <td>0.008000</td>\n",
       "      <td>0.21600</td>\n",
       "      <td>1.331000</td>\n",
       "      <td>7.414875</td>\n",
       "      <td>42.875000</td>\n",
       "    </tr>\n",
       "    <tr>\n",
       "      <th>wage</th>\n",
       "      <td>3835.0</td>\n",
       "      <td>15.533356</td>\n",
       "      <td>13.518165</td>\n",
       "      <td>0.004275</td>\n",
       "      <td>9.61875</td>\n",
       "      <td>13.028571</td>\n",
       "      <td>17.812500</td>\n",
       "      <td>348.333017</td>\n",
       "    </tr>\n",
       "  </tbody>\n",
       "</table>\n",
       "</div>"
      ],
      "text/plain": [
       "         count       mean        std       min      25%        50%        75%  \\\n",
       "female  3835.0   0.417992   0.493293  0.000000  0.00000   0.000000   1.000000   \n",
       "cg      3835.0   0.376271   0.484513  0.000000  0.00000   0.000000   1.000000   \n",
       "sc      3835.0   0.323859   0.468008  0.000000  0.00000   0.000000   1.000000   \n",
       "hsg     3835.0   0.299870   0.458260  0.000000  0.00000   0.000000   1.000000   \n",
       "mw      3835.0   0.287614   0.452709  0.000000  0.00000   0.000000   1.000000   \n",
       "so      3835.0   0.243546   0.429278  0.000000  0.00000   0.000000   0.000000   \n",
       "we      3835.0   0.211734   0.408591  0.000000  0.00000   0.000000   0.000000   \n",
       "ne      3835.0   0.257106   0.437095  0.000000  0.00000   0.000000   1.000000   \n",
       "exp1    3835.0  13.353194   8.639348  2.000000  6.00000  11.000000  19.500000   \n",
       "exp2    3835.0   2.529267   2.910554  0.040000  0.36000   1.210000   3.802500   \n",
       "exp3    3835.0   5.812103   9.033207  0.008000  0.21600   1.331000   7.414875   \n",
       "wage    3835.0  15.533356  13.518165  0.004275  9.61875  13.028571  17.812500   \n",
       "\n",
       "               max  \n",
       "female    1.000000  \n",
       "cg        1.000000  \n",
       "sc        1.000000  \n",
       "hsg       1.000000  \n",
       "mw        1.000000  \n",
       "so        1.000000  \n",
       "we        1.000000  \n",
       "ne        1.000000  \n",
       "exp1     35.000000  \n",
       "exp2     12.250000  \n",
       "exp3     42.875000  \n",
       "wage    348.333017  "
      ]
     },
     "execution_count": 5,
     "metadata": {},
     "output_type": "execute_result"
    }
   ],
   "source": [
    "# Printing the summary statistics for the dataset\n",
    "df.describe().T"
   ]
  },
  {
   "cell_type": "markdown",
   "metadata": {},
   "source": [
    "- The average wage is about 15 dollars per hour while the maximum wage is 348, which is very high.\n",
    "- 42% of workers are women\n",
    "- Average experience is 13 years, while min and max 2 too 35 years, which shows the data is diverse and is taken from different experience groups. \n",
    "- 38% of the people in the data are college graduates. \n",
    "- 32% have gone to some college, and 30% hold only high school diploma.\n",
    "- You can also see geographical distribution of workers across major geographical regions of the states, and seem to be nearly same between 22-28%, which again shows maybe data is collect from different regions in a uniform manner. "
   ]
  },
  {
   "cell_type": "code",
   "execution_count": 6,
   "metadata": {},
   "outputs": [
    {
     "data": {
      "image/png": "[encoded data removed]",
      "text/plain": [
       "<Figure size 1440x720 with 1 Axes>"
      ]
     },
     "metadata": {
      "needs_background": "light"
     },
     "output_type": "display_data"
    }
   ],
   "source": [
    "df[['exp1','exp2','exp3','wage']].boxplot(figsize=(20,10))\n",
    "plt.show()"
   ]
  },
  {
   "cell_type": "markdown",
   "metadata": {},
   "source": [
    "- There are outliers in the wage, which make sense also, as some people have high wages as compared to others. "
   ]
  },
  {
   "cell_type": "markdown",
   "metadata": {},
   "source": [
    "#### As this objective of this case study to analyze the gender wage gap, let's look at the statistics of all columns for female and male. "
   ]
  },
  {
   "cell_type": "code",
   "execution_count": 7,
   "metadata": {},
   "outputs": [
    {
     "data": {
      "text/plain": [
       "female     1.000000\n",
       "cg         0.406114\n",
       "sc         0.354336\n",
       "hsg        0.239551\n",
       "mw         0.291329\n",
       "so         0.255147\n",
       "we         0.198378\n",
       "ne         0.255147\n",
       "exp1      13.037118\n",
       "exp2       2.449453\n",
       "exp3       5.599297\n",
       "wage      14.720058\n",
       "dtype: float64"
      ]
     },
     "execution_count": 7,
     "metadata": {},
     "output_type": "execute_result"
    }
   ],
   "source": [
    "# Mean value of all females\n",
    "df[df['female'] == 1].mean()"
   ]
  },
  {
   "cell_type": "code",
   "execution_count": 8,
   "metadata": {},
   "outputs": [
    {
     "data": {
      "text/plain": [
       "female     0.000000\n",
       "cg         0.354839\n",
       "sc         0.301971\n",
       "hsg        0.343190\n",
       "mw         0.284946\n",
       "so         0.235215\n",
       "we         0.221326\n",
       "ne         0.258513\n",
       "exp1      13.580197\n",
       "exp2       2.586588\n",
       "exp3       5.964938\n",
       "wage      16.117458\n",
       "dtype: float64"
      ]
     },
     "execution_count": 8,
     "metadata": {},
     "output_type": "execute_result"
    }
   ],
   "source": [
    "# Mean value of all males\n",
    "df[df['female'] == 0].mean()"
   ]
  },
  {
   "cell_type": "markdown",
   "metadata": {},
   "source": [
    "- We first take a look at the following descriptive statistics for the subsamples of single men and single women, with educational attainment equal to high-school, some college, or college.\n",
    "- The mean hourly wage is 16 dollars for men and about 15 dollars for women, so the difference is 1, without controlling for job-relevant characteristics.\n",
    "- If we take a look at some of these characteristics, we see that on average men have more experience, but women are more likely to have college degrees or some college education. \n",
    "- Geographical distribution or men and women is similar."
   ]
  },
  {
   "cell_type": "markdown",
   "metadata": {},
   "source": [
    "### Basic Model"
   ]
  },
  {
   "cell_type": "code",
   "execution_count": 9,
   "metadata": {
    "scrolled": false
   },
   "outputs": [
    {
     "name": "stdout",
     "output_type": "stream",
     "text": [
      "                            OLS Regression Results                            \n",
      "==============================================================================\n",
      "Dep. Variable:                   wage   R-squared:                       0.095\n",
      "Model:                            OLS   Adj. R-squared:                  0.093\n",
      "Method:                 Least Squares   F-statistic:                     44.87\n",
      "Date:                Thu, 09 Dec 2021   Prob (F-statistic):           3.17e-77\n",
      "Time:                        09:00:29   Log-Likelihood:                -15235.\n",
      "No. Observations:                3835   AIC:                         3.049e+04\n",
      "Df Residuals:                    3825   BIC:                         3.055e+04\n",
      "Df Model:                           9                                         \n",
      "Covariance Type:            nonrobust                                         \n",
      "==============================================================================\n",
      "                 coef    std err          t      P>|t|      [0.025      0.975]\n",
      "------------------------------------------------------------------------------\n",
      "const          4.9154      1.299      3.784      0.000       2.368       7.462\n",
      "female        -1.8264      0.425     -4.302      0.000      -2.659      -0.994\n",
      "sc             2.4865      0.534      4.654      0.000       1.439       3.534\n",
      "cg             9.8708      0.562     17.567      0.000       8.769      10.972\n",
      "mw            -1.2142      0.566     -2.146      0.032      -2.323      -0.105\n",
      "so             0.4046      0.588      0.688      0.491      -0.748       1.558\n",
      "we            -0.2508      0.611     -0.410      0.682      -1.449       0.947\n",
      "exp1           1.0965      0.269      4.077      0.000       0.569       1.624\n",
      "exp2          -4.0134      1.785     -2.248      0.025      -7.514      -0.513\n",
      "exp3           0.4603      0.344      1.340      0.180      -0.213       1.134\n",
      "==============================================================================\n",
      "Omnibus:                     6626.018   Durbin-Watson:                   1.958\n",
      "Prob(Omnibus):                  0.000   Jarque-Bera (JB):          8721375.159\n",
      "Skew:                          11.808   Prob(JB):                         0.00\n",
      "Kurtosis:                     235.426   Cond. No.                         198.\n",
      "==============================================================================\n",
      "\n",
      "Notes:\n",
      "[1] Standard Errors assume that the covariance matrix of the errors is correctly specified.\n"
     ]
    }
   ],
   "source": [
    "####################  Linear and Quadratic specifications ##############################\n",
    "\n",
    "# Wage linear regression\n",
    "import statsmodels.api as sm\n",
    "Y = df['wage'] # target variable\n",
    "X = df[['female' , 'sc', 'cg', 'mw' , 'so' , 'we' , 'exp1' , 'exp2' , 'exp3']] #regressors\n",
    "X = sm.add_constant(X) # adding constant for intercept\n",
    "model = sm.OLS(Y, X)\n",
    "results = model.fit() # train the model\n",
    "print(results.summary()) # summary of the model"
   ]
  },
  {
   "cell_type": "markdown",
   "metadata": {},
   "source": [
    "- Model performance is very poor as the r squared is very low. \n",
    "- We can see that cg graduate have high coefficient which signifies that graduated people are getting high wages.\n",
    "- On the other hand exp2 has a negative coefficient which means with exp2 the wages are less. \n",
    "- Coefficient of the female indicator is negative, signifies that females are getting lower wages. "
   ]
  },
  {
   "cell_type": "markdown",
   "metadata": {},
   "source": [
    "### Flexible Model"
   ]
  },
  {
   "cell_type": "code",
   "execution_count": 10,
   "metadata": {
    "scrolled": false
   },
   "outputs": [
    {
     "name": "stdout",
     "output_type": "stream",
     "text": [
      "(3835, 8)\n",
      "(3835, 36)\n",
      "                            OLS Regression Results                            \n",
      "==============================================================================\n",
      "Dep. Variable:                   wage   R-squared:                       0.104\n",
      "Model:                            OLS   Adj. R-squared:                  0.096\n",
      "Method:                 Least Squares   F-statistic:                     13.79\n",
      "Date:                Thu, 09 Dec 2021   Prob (F-statistic):           5.53e-69\n",
      "Time:                        09:00:29   Log-Likelihood:                -15217.\n",
      "No. Observations:                3835   AIC:                         3.050e+04\n",
      "Df Residuals:                    3802   BIC:                         3.071e+04\n",
      "Df Model:                          32                                         \n",
      "Covariance Type:            nonrobust                                         \n",
      "==============================================================================\n",
      "                 coef    std err          t      P>|t|      [0.025      0.975]\n",
      "------------------------------------------------------------------------------\n",
      "const         16.5524      7.175      2.307      0.021       2.486      30.619\n",
      "sc            -2.3865      5.415     -0.441      0.659     -13.003       8.230\n",
      "cg             2.2405      5.908      0.379      0.705      -9.342      13.823\n",
      "mw            -5.5194      3.375     -1.635      0.102     -12.137       1.098\n",
      "so            -2.9144      3.482     -0.837      0.403      -9.742       3.913\n",
      "we            -0.8054      3.646     -0.221      0.825      -7.953       6.342\n",
      "exp1          -1.3215      2.073     -0.638      0.524      -5.386       2.743\n",
      "exp2          12.5218     24.780      0.505      0.613     -36.062      61.106\n",
      "exp3          -0.0484      0.151     -0.321      0.748      -0.344       0.247\n",
      "sc cg      -6.911e-14   1.64e-13     -0.421      0.673   -3.91e-13    2.52e-13\n",
      "sc mw         -0.7226      1.445     -0.500      0.617      -3.555       2.110\n",
      "sc so         -0.6513      1.534     -0.424      0.671      -3.659       2.357\n",
      "sc we         -0.1047      1.592     -0.066      0.948      -3.227       3.018\n",
      "sc exp1        0.8391      1.097      0.765      0.444      -1.311       2.989\n",
      "sc exp2       -4.0608      6.512     -0.624      0.533     -16.827       8.706\n",
      "sc exp3        0.6330      1.158      0.547      0.585      -1.637       2.904\n",
      "cg mw         -0.7609      1.536     -0.496      0.620      -3.772       2.250\n",
      "cg so          1.7041      1.569      1.086      0.278      -1.373       4.781\n",
      "cg we         -1.4948      1.637     -0.913      0.361      -4.704       1.715\n",
      "cg exp1        0.7859      1.245      0.631      0.528      -1.654       3.226\n",
      "cg exp2       -0.0490      7.761     -0.006      0.995     -15.265      15.167\n",
      "cg exp3       -0.5950      1.462     -0.407      0.684      -3.462       2.272\n",
      "mw so       7.228e-16   7.75e-15      0.093      0.926   -1.45e-14    1.59e-14\n",
      "mw we        1.89e-15   1.27e-14      0.149      0.882    -2.3e-14    2.68e-14\n",
      "mw exp1        1.1076      0.724      1.530      0.126      -0.312       2.527\n",
      "mw exp2       -6.0527      4.790     -1.264      0.206     -15.444       3.339\n",
      "mw exp3        0.9063      0.919      0.987      0.324      -0.895       2.707\n",
      "so we       -6.17e-15   1.51e-14     -0.410      0.682   -3.57e-14    2.33e-14\n",
      "so exp1        0.3947      0.748      0.528      0.598      -1.072       1.861\n",
      "so exp2       -0.8914      4.973     -0.179      0.858     -10.641       8.858\n",
      "so exp3       -0.0352      0.960     -0.037      0.971      -1.917       1.847\n",
      "we exp1        0.4719      0.790      0.597      0.550      -1.077       2.021\n",
      "we exp2       -3.9188      5.300     -0.739      0.460     -14.309       6.472\n",
      "we exp3        0.8050      1.034      0.778      0.436      -1.223       2.833\n",
      "exp1 exp2     -0.4839      1.505     -0.321      0.748      -3.435       2.467\n",
      "exp1 exp3      0.0872      0.451      0.193      0.847      -0.797       0.972\n",
      "exp2 exp3     -0.0580      0.503     -0.115      0.908      -1.044       0.928\n",
      "female        -1.8800      0.425     -4.426      0.000      -2.713      -1.047\n",
      "==============================================================================\n",
      "Omnibus:                     6588.420   Durbin-Watson:                   1.959\n",
      "Prob(Omnibus):                  0.000   Jarque-Bera (JB):          8473264.499\n",
      "Skew:                          11.669   Prob(JB):                         0.00\n",
      "Kurtosis:                     232.090   Cond. No.                     1.14e+16\n",
      "==============================================================================\n",
      "\n",
      "Notes:\n",
      "[1] Standard Errors assume that the covariance matrix of the errors is correctly specified.\n",
      "[2] The smallest eigenvalue is 3.61e-24. This might indicate that there are\n",
      "strong multicollinearity problems or that the design matrix is singular.\n"
     ]
    }
   ],
   "source": [
    "# import PolynomialFeatures library to create polynomial features\n",
    "from sklearn.preprocessing import PolynomialFeatures \n",
    "\n",
    "# create an object of PolynomialFeatures with only the interaction terms\n",
    "poly = PolynomialFeatures(interaction_only=True,include_bias = False) \n",
    "\n",
    "#Dropping constant and female as we dont want to create interaction features for them\n",
    "X.drop(['const','female'],axis = 1,inplace = True)\n",
    "print(X.shape)\n",
    "\n",
    "# transform the data to add the polynomial features too\n",
    "X_poly = poly.fit_transform(X) \n",
    "\n",
    "# convert to dataframe\n",
    "X_poly = pd.DataFrame(X_poly,columns= poly.get_feature_names(X.columns)) \n",
    "\n",
    "print(X_poly.shape)\n",
    "X_poly['female'] = df['female']\n",
    "X['female'] = df['female']\n",
    "X_poly = sm.add_constant(X_poly)\n",
    "\n",
    "#defining the model\n",
    "model = sm.OLS(Y, X_poly) # Linear regression/OLS object\n",
    "\n",
    "#fitting the model\n",
    "results = model.fit() # train the model\n",
    "\n",
    "# summary of the model\n",
    "print(results.summary()) "
   ]
  },
  {
   "cell_type": "markdown",
   "metadata": {},
   "source": [
    "- R2 have improved very slightly. \n",
    "- Coefficient of cg*exp is quite high, represents Experience variable times the indicator of having a college degree will have a high wage,or people with good education and good experience are paid good.\n",
    "- coefficient of cg*mw is negative, implies College graduate from mid west are not getting paid good, which is not a good sign as for the people living in mid west as from the basic model we know that the college graduates are getting paid good.\n",
    "- Coefficient of cg * sc, so * we,mw * we,mw * so, is almost 0 and doesn't not make any contribution to the model. "
   ]
  },
  {
   "cell_type": "markdown",
   "metadata": {},
   "source": [
    "We estimate the linear regression model:\n",
    "\n",
    "Y = $β_1D$ + $β^r_2W$ + ε.\n",
    "\n",
    "1. D is the indicator of being a female (1 if female and 0 otherwise). W ’s arecontrols.\n",
    "2. Basic model: W ’s consist of education and regional indicators, experience, experience squared, and experience cubed.\n",
    "3. Flexible model: W ’s consist of controls in the basic model plus all of their two-way interactions."
   ]
  },
  {
   "cell_type": "markdown",
   "metadata": {},
   "source": [
    "|| Estimate | Standard Error | Confidence Interval|\n",
    "| --- | --- | --- | --- |\n",
    "| basic reg | -1.8264 | 0.425 | [-2.659  -0.994] |\n",
    "| flexi reg | -1.8800 | 0.425 | [-2.713  -1.047] |\n",
    "\n",
    "- In the above table we see the estimated regression coefficient, its standard error, and the 95% confidence interval, for both the basic and flexible regression model.\n",
    "\n",
    "- The results for basic and flexible regression models are in a very close agreement:\n",
    "\n",
    "- The estimated gender gap in hourly wage is about −2 dollars. This means that women get paid 2 dollars less per hour on average than men, controlling for experience, education, and geographical region.\n",
    "\n",
    "- The 95% confidence interval ranges from −2.7 to −1 dollars and -2 is lying within the region of the confidence interval therefore We conclude that the difference in the hourly wage for men and women, who have the same recorded characteristics, is both statistically and economically significant."
   ]
  },
  {
   "cell_type": "markdown",
   "metadata": {},
   "source": [
    "### Illustration of Partialling Out: (Linear Specification - Basic Model) "
   ]
  },
  {
   "cell_type": "markdown",
   "metadata": {},
   "source": [
    "**“Partialling-out” is an important tool that provides a conceptual understanding of the regression coefficient β1.  \n",
    "The Steps for partialling out are:**\n",
    "1. We predict Y using W only and find its residuals. i.e. removing the dependence of W on Y. \n",
    "2. We predict D using W and find its residuals, i.e. removing the dependence of W on D. \n",
    "3. Then we model residuals from step 1 and step 2, and this will give us how Y is dependent on D only. "
   ]
  },
  {
   "cell_type": "markdown",
   "metadata": {},
   "source": [
    "#### Step 1: We predict Y using W only and find its residuals. i.e. removing the dependence of W on Y."
   ]
  },
  {
   "cell_type": "code",
   "execution_count": 11,
   "metadata": {},
   "outputs": [
    {
     "data": {
      "text/plain": [
       "0       -1.686401\n",
       "1      -10.550023\n",
       "2       -9.298414\n",
       "3       -3.466715\n",
       "4       -4.451256\n",
       "          ...    \n",
       "3830     1.148402\n",
       "3831    -0.049341\n",
       "3832     2.728471\n",
       "3833    -5.471606\n",
       "3834    30.261356\n",
       "Length: 3835, dtype: float64"
      ]
     },
     "execution_count": 11,
     "metadata": {},
     "output_type": "execute_result"
    }
   ],
   "source": [
    "# target variable\n",
    "Y = df['wage'] \n",
    "\n",
    "#regressors W\n",
    "W = df[['sc', 'cg', 'mw' , 'so' , 'we' , 'exp1' , 'exp2' , 'exp3']] \n",
    "W = sm.add_constant(W)\n",
    "\n",
    "# Linear regression/OLS object\n",
    "model = sm.OLS(Y, W) \n",
    "\n",
    "# train the model\n",
    "results = model.fit() \n",
    "\n",
    "# get the residuals\n",
    "t_Y = results.resid \n",
    "t_Y"
   ]
  },
  {
   "cell_type": "markdown",
   "metadata": {},
   "source": [
    "#### Step 2: We predict D using W and find its residuals, i.e. removing the dependence of W on D."
   ]
  },
  {
   "cell_type": "code",
   "execution_count": 12,
   "metadata": {},
   "outputs": [
    {
     "data": {
      "text/plain": [
       "0      -0.323196\n",
       "1      -0.448263\n",
       "2      -0.443029\n",
       "3      -0.485547\n",
       "4       0.572763\n",
       "          ...   \n",
       "3830    0.555462\n",
       "3831   -0.294333\n",
       "3832    0.577249\n",
       "3833    0.575515\n",
       "3834   -0.419835\n",
       "Length: 3835, dtype: float64"
      ]
     },
     "execution_count": 12,
     "metadata": {},
     "output_type": "execute_result"
    }
   ],
   "source": [
    "# target regressor D, i.e. female in our predicitng wage example\n",
    "D = df['female'] \n",
    "\n",
    "#regressors W\n",
    "W = df[['sc', 'cg', 'mw' , 'so' , 'we' , 'exp1' , 'exp2' , 'exp3']] #regressors\n",
    "W = sm.add_constant(W)\n",
    "\n",
    "# Linear regression/OLS object\n",
    "model = sm.OLS(D, W) \n",
    "\n",
    "# train the model\n",
    "results = model.fit() \n",
    "\n",
    "# get the residuals\n",
    "t_D = results.resid\n",
    "t_D"
   ]
  },
  {
   "cell_type": "markdown",
   "metadata": {},
   "source": [
    "#### Step 3: Then we model residuals from step 1 and step 2, and this will give us how Y is dependent on D only."
   ]
  },
  {
   "cell_type": "code",
   "execution_count": 13,
   "metadata": {},
   "outputs": [
    {
     "name": "stdout",
     "output_type": "stream",
     "text": [
      "                            OLS Regression Results                            \n",
      "==============================================================================\n",
      "Dep. Variable:                      y   R-squared:                       0.005\n",
      "Model:                            OLS   Adj. R-squared:                  0.005\n",
      "Method:                 Least Squares   F-statistic:                     18.55\n",
      "Date:                Thu, 09 Dec 2021   Prob (F-statistic):           1.70e-05\n",
      "Time:                        09:00:29   Log-Likelihood:                -15235.\n",
      "No. Observations:                3835   AIC:                         3.047e+04\n",
      "Df Residuals:                    3833   BIC:                         3.049e+04\n",
      "Df Model:                           1                                         \n",
      "Covariance Type:            nonrobust                                         \n",
      "==============================================================================\n",
      "                 coef    std err          t      P>|t|      [0.025      0.975]\n",
      "------------------------------------------------------------------------------\n",
      "const      -1.144e-14      0.208  -5.51e-14      1.000      -0.407       0.407\n",
      "0             -1.8264      0.424     -4.307      0.000      -2.658      -0.995\n",
      "==============================================================================\n",
      "Omnibus:                     6626.018   Durbin-Watson:                   1.958\n",
      "Prob(Omnibus):                  0.000   Jarque-Bera (JB):          8721375.159\n",
      "Skew:                          11.808   Prob(JB):                         0.00\n",
      "Kurtosis:                     235.426   Cond. No.                         2.04\n",
      "==============================================================================\n",
      "\n",
      "Notes:\n",
      "[1] Standard Errors assume that the covariance matrix of the errors is correctly specified.\n"
     ]
    }
   ],
   "source": [
    "# Run OLS coefficient get coefficients and 95% confidence intervals\n",
    "\n",
    "# target variable\n",
    "Y = t_Y \n",
    "\n",
    "X = t_D\n",
    "X = sm.add_constant(X)\n",
    "\n",
    "# Linear regression/OLS object\n",
    "model = sm.OLS(Y, X) \n",
    "\n",
    "# train the model\n",
    "results = model.fit() \n",
    "\n",
    "# print the summary of the trained model\n",
    "print(results.summary()) "
   ]
  },
  {
   "cell_type": "markdown",
   "metadata": {},
   "source": [
    "### Illustration of Partialling Out: (Quadratic Specification - Flexible model)"
   ]
  },
  {
   "cell_type": "code",
   "execution_count": 14,
   "metadata": {},
   "outputs": [
    {
     "data": {
      "text/plain": [
       "0       -2.269388\n",
       "1      -11.721164\n",
       "2       -8.577609\n",
       "3       -4.626069\n",
       "4       -4.974672\n",
       "          ...    \n",
       "3830     1.726182\n",
       "3831     0.775800\n",
       "3832     3.639956\n",
       "3833    -4.183105\n",
       "3834    31.101298\n",
       "Length: 3835, dtype: float64"
      ]
     },
     "execution_count": 14,
     "metadata": {},
     "output_type": "execute_result"
    }
   ],
   "source": [
    "# target variable\n",
    "Y = df['wage'] \n",
    "\n",
    "#regressors W\n",
    "W = df[['sc', 'cg', 'mw' , 'so' , 'we' , 'exp1' , 'exp2' , 'exp3']] \n",
    "\n",
    "# create an object of PolynomialFeatures with only the interaction terms\n",
    "poly = PolynomialFeatures(interaction_only=True,include_bias = False)\n",
    "\n",
    "# transform the data to add the polynomial features too\n",
    "X_poly = poly.fit_transform(W)\n",
    "X_poly = sm.add_constant(X_poly)\n",
    "\n",
    "#defining the model\n",
    "model = sm.OLS(Y, X_poly) # Linear regression/OLS object\n",
    "\n",
    " # train the model\n",
    "results = model.fit()\n",
    "\n",
    "# get the residuals\n",
    "t_Y = results.resid\n",
    "t_Y"
   ]
  },
  {
   "cell_type": "code",
   "execution_count": 15,
   "metadata": {},
   "outputs": [
    {
     "data": {
      "text/plain": [
       "0      -0.255420\n",
       "1      -0.443778\n",
       "2      -0.408862\n",
       "3      -0.576250\n",
       "4       0.576618\n",
       "          ...   \n",
       "3830    0.539392\n",
       "3831   -0.267692\n",
       "3832    0.551484\n",
       "3833    0.588884\n",
       "3834   -0.405553\n",
       "Length: 3835, dtype: float64"
      ]
     },
     "execution_count": 15,
     "metadata": {},
     "output_type": "execute_result"
    }
   ],
   "source": [
    "# target regressor\n",
    "D = df['female'] \n",
    "\n",
    "#Regressors w\n",
    "W = df[['sc', 'cg', 'mw' , 'so' , 'we' , 'exp1' , 'exp2' , 'exp3']] \n",
    "\n",
    "# create an object of PolynomialFeatures with only the interaction terms\n",
    "poly = PolynomialFeatures(interaction_only=True,include_bias = False)\n",
    "X_poly = poly.fit_transform(W)\n",
    "X_poly = sm.add_constant(X_poly)\n",
    "\n",
    "\n",
    "#defining the model\n",
    "model = sm.OLS(D, X_poly)\n",
    "\n",
    "# train the model\n",
    "results = model.fit() \n",
    "\n",
    "# get the residuals\n",
    "t_D = results.resid\n",
    "t_D"
   ]
  },
  {
   "cell_type": "code",
   "execution_count": 16,
   "metadata": {},
   "outputs": [
    {
     "name": "stdout",
     "output_type": "stream",
     "text": [
      "                            OLS Regression Results                            \n",
      "==============================================================================\n",
      "Dep. Variable:                      y   R-squared:                       0.005\n",
      "Model:                            OLS   Adj. R-squared:                  0.005\n",
      "Method:                 Least Squares   F-statistic:                     19.75\n",
      "Date:                Thu, 09 Dec 2021   Prob (F-statistic):           9.07e-06\n",
      "Time:                        09:00:29   Log-Likelihood:                -15217.\n",
      "No. Observations:                3835   AIC:                         3.044e+04\n",
      "Df Residuals:                    3833   BIC:                         3.045e+04\n",
      "Df Model:                           1                                         \n",
      "Covariance Type:            nonrobust                                         \n",
      "==============================================================================\n",
      "                 coef    std err          t      P>|t|      [0.025      0.975]\n",
      "------------------------------------------------------------------------------\n",
      "const       1.526e-13      0.207   7.38e-13      1.000      -0.405       0.405\n",
      "0             -1.8800      0.423     -4.444      0.000      -2.709      -1.051\n",
      "==============================================================================\n",
      "Omnibus:                     6588.420   Durbin-Watson:                   1.959\n",
      "Prob(Omnibus):                  0.000   Jarque-Bera (JB):          8473264.499\n",
      "Skew:                          11.669   Prob(JB):                         0.00\n",
      "Kurtosis:                     232.090   Cond. No.                         2.05\n",
      "==============================================================================\n",
      "\n",
      "Notes:\n",
      "[1] Standard Errors assume that the covariance matrix of the errors is correctly specified.\n"
     ]
    }
   ],
   "source": [
    "# Run OLS coefficient get coefficients and 95% confidence intervals\n",
    "Y = t_Y # target variable\n",
    "X = t_D\n",
    "X = sm.add_constant(X)\n",
    "model = sm.OLS(Y, X)\n",
    "results = model.fit() # train the model\n",
    "print(results.summary())"
   ]
  },
  {
   "cell_type": "markdown",
   "metadata": {},
   "source": [
    "|| Estimate | Standard Error |\n",
    "| --- | --- | --- |\n",
    "| basic reg | -1.8264 | 0.425 |\n",
    "| flexi reg | -1.8800 | 0.425 |\n",
    "| basic reg with partialling out| -1.8264 | 0.424 |\n",
    "| flexi reg with partialling out| -1.8800 | 0.423 |"
   ]
  },
  {
   "cell_type": "markdown",
   "metadata": {},
   "source": [
    "### Conclusion\n",
    "- We have applied the ideas we discussed so far to learn about the gender wage gap.\n",
    "- The gender wage gap may partly reflect genuine discrimination against women in the labor market.\n",
    "- It may also partly reflect the so-called selection effect, namely that women are more likely to end up in occupations that pay somewhat less (for example, school teachers)."
   ]
  }
 ],
 "metadata": {
  "kernelspec": {
   "display_name": "Python 3",
   "language": "python",
   "name": "python3"
  },
  "language_info": {
   "codemirror_mode": {
    "name": "ipython",
    "version": 3
   },
   "file_extension": ".py",
   "mimetype": "text/x-python",
   "name": "python",
   "nbconvert_exporter": "python",
   "pygments_lexer": "ipython3",
   "version": "3.8.5"
  }
 },
 "nbformat": 4,
 "nbformat_minor": 4
}
