{
 "cells": [
  {
   "cell_type": "markdown",
   "metadata": {},
   "source": [
    "# GENDER WAGE GAP\n",
    "Here we ask and answer the following question:\n",
    "\n",
    "**What is the difference in predicted wages between men and women with the same job-relevant characteristics?**\n",
    "\n",
    "Our data comes from the March Supplement of the U.S. Current Population Survey, year 2012. We focus on the single (never married) workers with education levels equal to high-school, some college, or college graduates. The sample size is about 4,000.\n",
    "\n",
    "Our outcome variable Y is hourly wage, and our X ’s are various characteristics of workers such as gender, experience, education, and geographical indicators.\n",
    "\n",
    "The dataset contains the following variables:\n",
    "1. wage   : weekly wage\n",
    "2. female : female dummy\n",
    "3. cg     : college Graduate Dummy\n",
    "4. sc     : some college dummy\n",
    "5. hsg    : High School graduate dummy\n",
    "6. mw     : mid-west dummy\n",
    "7. so     : south dummy\n",
    "8. we     : west dummy\n",
    "9. ne     : northeast dummy\n",
    "10. exp1   : experience(year)\n",
    "11. exp2   : experience squared (taken as experience squared/100)\n",
    "12. exp3   : experience cubed (taken as experience cubed/1000)"
   ]
  },
  {
   "cell_type": "code",
   "execution_count": 1,
   "metadata": {},
   "outputs": [],
   "source": [
    "# importing libraries\n",
    "import numpy as np\n",
    "import pandas as pd\n",
    "import matplotlib.pyplot as plt\n",
    "import statsmodels.api as sm\n",
    "\n",
    "%matplotlib inline"
   ]
  },
  {
   "cell_type": "code",
   "execution_count": 2,
   "metadata": {},
   "outputs": [
    {
     "data": {
      "text/html": [
       "<div>\n",
       "<style scoped>\n",
       "    .dataframe tbody tr th:only-of-type {\n",
       "        vertical-align: middle;\n",
       "    }\n",
       "\n",
       "    .dataframe tbody tr th {\n",
       "        vertical-align: top;\n",
       "    }\n",
       "\n",
       "    .dataframe thead th {\n",
       "        text-align: right;\n",
       "    }\n",
       "</style>\n",
       "<table border=\"1\" class=\"dataframe\">\n",
       "  <thead>\n",
       "    <tr style=\"text-align: right;\">\n",
       "      <th></th>\n",
       "      <th>female</th>\n",
       "      <th>cg</th>\n",
       "      <th>sc</th>\n",
       "      <th>hsg</th>\n",
       "      <th>mw</th>\n",
       "      <th>so</th>\n",
       "      <th>we</th>\n",
       "      <th>ne</th>\n",
       "      <th>exp1</th>\n",
       "      <th>exp2</th>\n",
       "      <th>exp3</th>\n",
       "      <th>wage</th>\n",
       "    </tr>\n",
       "  </thead>\n",
       "  <tbody>\n",
       "    <tr>\n",
       "      <th>0</th>\n",
       "      <td>0</td>\n",
       "      <td>0</td>\n",
       "      <td>0</td>\n",
       "      <td>1</td>\n",
       "      <td>0</td>\n",
       "      <td>0</td>\n",
       "      <td>0</td>\n",
       "      <td>1</td>\n",
       "      <td>33.0</td>\n",
       "      <td>10.89</td>\n",
       "      <td>35.937</td>\n",
       "      <td>11.659091</td>\n",
       "    </tr>\n",
       "    <tr>\n",
       "      <th>1</th>\n",
       "      <td>0</td>\n",
       "      <td>1</td>\n",
       "      <td>0</td>\n",
       "      <td>0</td>\n",
       "      <td>0</td>\n",
       "      <td>0</td>\n",
       "      <td>0</td>\n",
       "      <td>1</td>\n",
       "      <td>27.0</td>\n",
       "      <td>7.29</td>\n",
       "      <td>19.683</td>\n",
       "      <td>12.825000</td>\n",
       "    </tr>\n",
       "    <tr>\n",
       "      <th>2</th>\n",
       "      <td>0</td>\n",
       "      <td>0</td>\n",
       "      <td>1</td>\n",
       "      <td>0</td>\n",
       "      <td>0</td>\n",
       "      <td>0</td>\n",
       "      <td>0</td>\n",
       "      <td>1</td>\n",
       "      <td>13.0</td>\n",
       "      <td>1.69</td>\n",
       "      <td>2.197</td>\n",
       "      <td>5.777027</td>\n",
       "    </tr>\n",
       "    <tr>\n",
       "      <th>3</th>\n",
       "      <td>0</td>\n",
       "      <td>1</td>\n",
       "      <td>0</td>\n",
       "      <td>0</td>\n",
       "      <td>0</td>\n",
       "      <td>0</td>\n",
       "      <td>0</td>\n",
       "      <td>1</td>\n",
       "      <td>2.0</td>\n",
       "      <td>0.04</td>\n",
       "      <td>0.008</td>\n",
       "      <td>12.468750</td>\n",
       "    </tr>\n",
       "    <tr>\n",
       "      <th>4</th>\n",
       "      <td>1</td>\n",
       "      <td>1</td>\n",
       "      <td>0</td>\n",
       "      <td>0</td>\n",
       "      <td>0</td>\n",
       "      <td>0</td>\n",
       "      <td>0</td>\n",
       "      <td>1</td>\n",
       "      <td>15.0</td>\n",
       "      <td>2.25</td>\n",
       "      <td>3.375</td>\n",
       "      <td>18.525000</td>\n",
       "    </tr>\n",
       "  </tbody>\n",
       "</table>\n",
       "</div>"
      ],
      "text/plain": [
       "   female  cg  sc  hsg  mw  so  we  ne  exp1   exp2    exp3       wage\n",
       "0       0   0   0    1   0   0   0   1  33.0  10.89  35.937  11.659091\n",
       "1       0   1   0    0   0   0   0   1  27.0   7.29  19.683  12.825000\n",
       "2       0   0   1    0   0   0   0   1  13.0   1.69   2.197   5.777027\n",
       "3       0   1   0    0   0   0   0   1   2.0   0.04   0.008  12.468750\n",
       "4       1   1   0    0   0   0   0   1  15.0   2.25   3.375  18.525000"
      ]
     },
     "execution_count": 2,
     "metadata": {},
     "output_type": "execute_result"
    }
   ],
   "source": [
    "# reading data\n",
    "df = pd.read_csv('predicting_wages.csv')\n",
    "df.head()"
   ]
  },
  {
   "cell_type": "code",
   "execution_count": 4,
   "metadata": {},
   "outputs": [
    {
     "data": {
      "text/plain": [
       "<bound method DataFrame.info of       female  cg  sc  hsg  mw  so  we  ne  exp1   exp2    exp3       wage\n",
       "0          0   0   0    1   0   0   0   1  33.0  10.89  35.937  11.659091\n",
       "1          0   1   0    0   0   0   0   1  27.0   7.29  19.683  12.825000\n",
       "2          0   0   1    0   0   0   0   1  13.0   1.69   2.197   5.777027\n",
       "3          0   1   0    0   0   0   0   1   2.0   0.04   0.008  12.468750\n",
       "4          1   1   0    0   0   0   0   1  15.0   2.25   3.375  18.525000\n",
       "...      ...  ..  ..  ...  ..  ..  ..  ..   ...    ...     ...        ...\n",
       "3830       1   1   0    0   0   0   1   0   3.0   0.09   0.027  17.812500\n",
       "3831       0   0   0    1   0   0   1   0  14.0   1.96   2.744  12.825000\n",
       "3832       1   0   1    0   0   0   1   0  18.0   3.24   5.832  18.525000\n",
       "3833       1   1   0    0   0   0   1   0   5.0   0.25   0.125  12.825000\n",
       "3834       0   1   0    0   0   0   1   0  27.0   7.29  19.683  53.437500\n",
       "\n",
       "[3835 rows x 12 columns]>"
      ]
     },
     "execution_count": 4,
     "metadata": {},
     "output_type": "execute_result"
    }
   ],
   "source": [
    "# dataframe information\n",
    "df.info"
   ]
  },
  {
   "cell_type": "code",
   "execution_count": 6,
   "metadata": {},
   "outputs": [
    {
     "data": {
      "text/html": [
       "<div>\n",
       "<style scoped>\n",
       "    .dataframe tbody tr th:only-of-type {\n",
       "        vertical-align: middle;\n",
       "    }\n",
       "\n",
       "    .dataframe tbody tr th {\n",
       "        vertical-align: top;\n",
       "    }\n",
       "\n",
       "    .dataframe thead th {\n",
       "        text-align: right;\n",
       "    }\n",
       "</style>\n",
       "<table border=\"1\" class=\"dataframe\">\n",
       "  <thead>\n",
       "    <tr style=\"text-align: right;\">\n",
       "      <th></th>\n",
       "      <th>count</th>\n",
       "      <th>mean</th>\n",
       "      <th>std</th>\n",
       "      <th>min</th>\n",
       "      <th>25%</th>\n",
       "      <th>50%</th>\n",
       "      <th>75%</th>\n",
       "      <th>max</th>\n",
       "    </tr>\n",
       "  </thead>\n",
       "  <tbody>\n",
       "    <tr>\n",
       "      <th>female</th>\n",
       "      <td>3835.0</td>\n",
       "      <td>0.417992</td>\n",
       "      <td>0.493293</td>\n",
       "      <td>0.000000</td>\n",
       "      <td>0.00000</td>\n",
       "      <td>0.000000</td>\n",
       "      <td>1.000000</td>\n",
       "      <td>1.000000</td>\n",
       "    </tr>\n",
       "    <tr>\n",
       "      <th>cg</th>\n",
       "      <td>3835.0</td>\n",
       "      <td>0.376271</td>\n",
       "      <td>0.484513</td>\n",
       "      <td>0.000000</td>\n",
       "      <td>0.00000</td>\n",
       "      <td>0.000000</td>\n",
       "      <td>1.000000</td>\n",
       "      <td>1.000000</td>\n",
       "    </tr>\n",
       "    <tr>\n",
       "      <th>sc</th>\n",
       "      <td>3835.0</td>\n",
       "      <td>0.323859</td>\n",
       "      <td>0.468008</td>\n",
       "      <td>0.000000</td>\n",
       "      <td>0.00000</td>\n",
       "      <td>0.000000</td>\n",
       "      <td>1.000000</td>\n",
       "      <td>1.000000</td>\n",
       "    </tr>\n",
       "    <tr>\n",
       "      <th>hsg</th>\n",
       "      <td>3835.0</td>\n",
       "      <td>0.299870</td>\n",
       "      <td>0.458260</td>\n",
       "      <td>0.000000</td>\n",
       "      <td>0.00000</td>\n",
       "      <td>0.000000</td>\n",
       "      <td>1.000000</td>\n",
       "      <td>1.000000</td>\n",
       "    </tr>\n",
       "    <tr>\n",
       "      <th>mw</th>\n",
       "      <td>3835.0</td>\n",
       "      <td>0.287614</td>\n",
       "      <td>0.452709</td>\n",
       "      <td>0.000000</td>\n",
       "      <td>0.00000</td>\n",
       "      <td>0.000000</td>\n",
       "      <td>1.000000</td>\n",
       "      <td>1.000000</td>\n",
       "    </tr>\n",
       "    <tr>\n",
       "      <th>so</th>\n",
       "      <td>3835.0</td>\n",
       "      <td>0.243546</td>\n",
       "      <td>0.429278</td>\n",
       "      <td>0.000000</td>\n",
       "      <td>0.00000</td>\n",
       "      <td>0.000000</td>\n",
       "      <td>0.000000</td>\n",
       "      <td>1.000000</td>\n",
       "    </tr>\n",
       "    <tr>\n",
       "      <th>we</th>\n",
       "      <td>3835.0</td>\n",
       "      <td>0.211734</td>\n",
       "      <td>0.408591</td>\n",
       "      <td>0.000000</td>\n",
       "      <td>0.00000</td>\n",
       "      <td>0.000000</td>\n",
       "      <td>0.000000</td>\n",
       "      <td>1.000000</td>\n",
       "    </tr>\n",
       "    <tr>\n",
       "      <th>ne</th>\n",
       "      <td>3835.0</td>\n",
       "      <td>0.257106</td>\n",
       "      <td>0.437095</td>\n",
       "      <td>0.000000</td>\n",
       "      <td>0.00000</td>\n",
       "      <td>0.000000</td>\n",
       "      <td>1.000000</td>\n",
       "      <td>1.000000</td>\n",
       "    </tr>\n",
       "    <tr>\n",
       "      <th>exp1</th>\n",
       "      <td>3835.0</td>\n",
       "      <td>13.353194</td>\n",
       "      <td>8.639348</td>\n",
       "      <td>2.000000</td>\n",
       "      <td>6.00000</td>\n",
       "      <td>11.000000</td>\n",
       "      <td>19.500000</td>\n",
       "      <td>35.000000</td>\n",
       "    </tr>\n",
       "    <tr>\n",
       "      <th>exp2</th>\n",
       "      <td>3835.0</td>\n",
       "      <td>2.529267</td>\n",
       "      <td>2.910554</td>\n",
       "      <td>0.040000</td>\n",
       "      <td>0.36000</td>\n",
       "      <td>1.210000</td>\n",
       "      <td>3.802500</td>\n",
       "      <td>12.250000</td>\n",
       "    </tr>\n",
       "    <tr>\n",
       "      <th>exp3</th>\n",
       "      <td>3835.0</td>\n",
       "      <td>5.812103</td>\n",
       "      <td>9.033207</td>\n",
       "      <td>0.008000</td>\n",
       "      <td>0.21600</td>\n",
       "      <td>1.331000</td>\n",
       "      <td>7.414875</td>\n",
       "      <td>42.875000</td>\n",
       "    </tr>\n",
       "    <tr>\n",
       "      <th>wage</th>\n",
       "      <td>3835.0</td>\n",
       "      <td>15.533356</td>\n",
       "      <td>13.518165</td>\n",
       "      <td>0.004275</td>\n",
       "      <td>9.61875</td>\n",
       "      <td>13.028571</td>\n",
       "      <td>17.812500</td>\n",
       "      <td>348.333017</td>\n",
       "    </tr>\n",
       "  </tbody>\n",
       "</table>\n",
       "</div>"
      ],
      "text/plain": [
       "         count       mean        std       min      25%        50%        75%  \\\n",
       "female  3835.0   0.417992   0.493293  0.000000  0.00000   0.000000   1.000000   \n",
       "cg      3835.0   0.376271   0.484513  0.000000  0.00000   0.000000   1.000000   \n",
       "sc      3835.0   0.323859   0.468008  0.000000  0.00000   0.000000   1.000000   \n",
       "hsg     3835.0   0.299870   0.458260  0.000000  0.00000   0.000000   1.000000   \n",
       "mw      3835.0   0.287614   0.452709  0.000000  0.00000   0.000000   1.000000   \n",
       "so      3835.0   0.243546   0.429278  0.000000  0.00000   0.000000   0.000000   \n",
       "we      3835.0   0.211734   0.408591  0.000000  0.00000   0.000000   0.000000   \n",
       "ne      3835.0   0.257106   0.437095  0.000000  0.00000   0.000000   1.000000   \n",
       "exp1    3835.0  13.353194   8.639348  2.000000  6.00000  11.000000  19.500000   \n",
       "exp2    3835.0   2.529267   2.910554  0.040000  0.36000   1.210000   3.802500   \n",
       "exp3    3835.0   5.812103   9.033207  0.008000  0.21600   1.331000   7.414875   \n",
       "wage    3835.0  15.533356  13.518165  0.004275  9.61875  13.028571  17.812500   \n",
       "\n",
       "               max  \n",
       "female    1.000000  \n",
       "cg        1.000000  \n",
       "sc        1.000000  \n",
       "hsg       1.000000  \n",
       "mw        1.000000  \n",
       "so        1.000000  \n",
       "we        1.000000  \n",
       "ne        1.000000  \n",
       "exp1     35.000000  \n",
       "exp2     12.250000  \n",
       "exp3     42.875000  \n",
       "wage    348.333017  "
      ]
     },
     "execution_count": 6,
     "metadata": {},
     "output_type": "execute_result"
    }
   ],
   "source": [
    "# summary statistics\n",
    "df.describe().T"
   ]
  },
  {
   "cell_type": "code",
   "execution_count": 8,
   "metadata": {},
   "outputs": [
    {
     "data": {
      "image/png": "[encoded data removed]",
      "text/plain": [
       "<Figure size 1440x720 with 1 Axes>"
      ]
     },
     "metadata": {
      "needs_background": "light"
     },
     "output_type": "display_data"
    }
   ],
   "source": [
    "# checking for outliers\n",
    "df[['exp1','exp2','exp3','wage']].boxplot(figsize=(20,10))\n",
    "plt.show()"
   ]
  },
  {
   "cell_type": "code",
   "execution_count": 9,
   "metadata": {},
   "outputs": [
    {
     "data": {
      "text/plain": [
       "female     1.000000\n",
       "cg         0.406114\n",
       "sc         0.354336\n",
       "hsg        0.239551\n",
       "mw         0.291329\n",
       "so         0.255147\n",
       "we         0.198378\n",
       "ne         0.255147\n",
       "exp1      13.037118\n",
       "exp2       2.449453\n",
       "exp3       5.599297\n",
       "wage      14.720058\n",
       "dtype: float64"
      ]
     },
     "execution_count": 9,
     "metadata": {},
     "output_type": "execute_result"
    }
   ],
   "source": [
    "# female stats\n",
    "df[df['female'] == 1].mean()"
   ]
  },
  {
   "cell_type": "code",
   "execution_count": 10,
   "metadata": {},
   "outputs": [
    {
     "data": {
      "text/plain": [
       "female     0.000000\n",
       "cg         0.354839\n",
       "sc         0.301971\n",
       "hsg        0.343190\n",
       "mw         0.284946\n",
       "so         0.235215\n",
       "we         0.221326\n",
       "ne         0.258513\n",
       "exp1      13.580197\n",
       "exp2       2.586588\n",
       "exp3       5.964938\n",
       "wage      16.117458\n",
       "dtype: float64"
      ]
     },
     "execution_count": 10,
     "metadata": {},
     "output_type": "execute_result"
    }
   ],
   "source": [
    "df[df['female'] == 0].mean()"
   ]
  },
  {
   "cell_type": "code",
   "execution_count": 11,
   "metadata": {},
   "outputs": [
    {
     "name": "stdout",
     "output_type": "stream",
     "text": [
      "                            OLS Regression Results                            \n",
      "==============================================================================\n",
      "Dep. Variable:                   wage   R-squared:                       0.095\n",
      "Model:                            OLS   Adj. R-squared:                  0.093\n",
      "Method:                 Least Squares   F-statistic:                     44.87\n",
      "Date:                Sat, 29 Jan 2022   Prob (F-statistic):           3.17e-77\n",
      "Time:                        18:32:01   Log-Likelihood:                -15235.\n",
      "No. Observations:                3835   AIC:                         3.049e+04\n",
      "Df Residuals:                    3825   BIC:                         3.055e+04\n",
      "Df Model:                           9                                         \n",
      "Covariance Type:            nonrobust                                         \n",
      "==============================================================================\n",
      "                 coef    std err          t      P>|t|      [0.025      0.975]\n",
      "------------------------------------------------------------------------------\n",
      "const          5.5386      0.717      7.720      0.000       4.132       6.945\n",
      "female        -1.8264      0.425     -4.302      0.000      -2.659      -0.994\n",
      "cg             7.5979      0.312     24.367      0.000       6.987       8.209\n",
      "sc             0.2136      0.408      0.524      0.600      -0.585       1.013\n",
      "hsg           -2.2729      0.449     -5.065      0.000      -3.153      -1.393\n",
      "mw             0.4355      0.389      1.120      0.263      -0.327       1.198\n",
      "so             2.0544      0.408      5.034      0.000       1.254       2.854\n",
      "we             1.3990      0.425      3.290      0.001       0.565       2.233\n",
      "ne             1.6498      0.396      4.170      0.000       0.874       2.425\n",
      "exp1           1.0965      0.269      4.077      0.000       0.569       1.624\n",
      "exp2          -4.0134      1.785     -2.248      0.025      -7.514      -0.513\n",
      "exp3           0.4603      0.344      1.340      0.180      -0.213       1.134\n",
      "==============================================================================\n",
      "Omnibus:                     6626.018   Durbin-Watson:                   1.958\n",
      "Prob(Omnibus):                  0.000   Jarque-Bera (JB):          8721375.159\n",
      "Skew:                          11.808   Prob(JB):                         0.00\n",
      "Kurtosis:                     235.426   Cond. No.                     1.59e+17\n",
      "==============================================================================\n",
      "\n",
      "Notes:\n",
      "[1] Standard Errors assume that the covariance matrix of the errors is correctly specified.\n",
      "[2] The smallest eigenvalue is 5.51e-29. This might indicate that there are\n",
      "strong multicollinearity problems or that the design matrix is singular.\n"
     ]
    }
   ],
   "source": [
    "# Wage Linear Regression Model\n",
    "\n",
    "Y = df['wage'] # target variable\n",
    "X = df[['female','cg','sc','hsg','mw','so','we','ne','exp1','exp2','exp3']] # regressors\n",
    "\n",
    "X = sm.add_constant(X) # adding constant for intercept\n",
    "\n",
    "model = sm.OLS(Y, X) # creating the model \n",
    "results = model.fit() # training the model\n",
    "print(results.summary())"
   ]
  },
  {
   "cell_type": "markdown",
   "metadata": {},
   "source": [
    "- Model performance is very poor as the r squared is very low. \n",
    "- We can see that cg graduate have high coefficient which signifies that graduated people are getting high wages.\n",
    "- On the other hand exp2 has a negative coefficient which means with exp2 the wages are less. \n",
    "- Coefficient of the female indicator is negative, signifies that females are getting lower wages. "
   ]
  },
  {
   "cell_type": "markdown",
   "metadata": {},
   "source": [
    "We estimate the linear regression model:\n",
    "\n",
    "Y = $β_1D$ + $β^r_2W$ + ε.\n",
    "\n",
    "1. D is the indicator of being a female (1 if female and 0 otherwise). W ’s arecontrols.\n",
    "2. Model: W ’s consist of education and regional indicators, experience, experience squared, and experience cubed."
   ]
  },
  {
   "cell_type": "markdown",
   "metadata": {},
   "source": [
    "|| Estimate | Standard Error | Confidence Interval|\n",
    "| --- | --- | --- | --- |\n",
    "| basic reg | -1.8264 | 0.425 | [-2.659  -0.994] |"
   ]
  },
  {
   "cell_type": "markdown",
   "metadata": {},
   "source": [
    "- In the above table we see the estimated regression coefficient, its standard error, and the 95% confidence interval, for the regression model.\n",
    "\n",
    "- The estimated gender gap in hourly wage is about −2 dollars. This means that women get paid 2 dollars less per hour on average than men, controlling for experience, education, and geographical region.\n",
    "\n",
    "- The 95% confidence interval ranges from −2.7 to −1 dollars and -2 is lying within the region of the confidence interval therefore We conclude that the difference in the hourly wage for men and women, who have the same recorded characteristics, is both statistically and economically significant."
   ]
  },
  {
   "cell_type": "markdown",
   "metadata": {},
   "source": [
    "### Illustration of Partialling Out: (Linear Specification - Basic Model) "
   ]
  },
  {
   "cell_type": "markdown",
   "metadata": {},
   "source": [
    "**“Partialling-out” is an important tool that provides a conceptual understanding of the regression coefficient β1.  \n",
    "The Steps for partialling out are:**\n",
    "1. We predict Y using W only and find its residuals. i.e. removing the dependence of W on Y. \n",
    "2. We predict D using W and find its residuals, i.e. removing the dependence of W on D. \n",
    "3. Then we model residuals from step 1 and step 2, and this will give us how Y is dependent on D only. "
   ]
  },
  {
   "cell_type": "markdown",
   "metadata": {},
   "source": [
    "#### Step 1: We predict Y using W only and find its residuals. i.e. removing the dependence of W on Y."
   ]
  },
  {
   "cell_type": "code",
   "execution_count": 14,
   "metadata": {},
   "outputs": [
    {
     "data": {
      "text/plain": [
       "0       -1.686401\n",
       "1      -10.550023\n",
       "2       -9.298414\n",
       "3       -3.466715\n",
       "4       -4.451256\n",
       "          ...    \n",
       "3830     1.148402\n",
       "3831    -0.049341\n",
       "3832     2.728471\n",
       "3833    -5.471606\n",
       "3834    30.261356\n",
       "Length: 3835, dtype: float64"
      ]
     },
     "execution_count": 14,
     "metadata": {},
     "output_type": "execute_result"
    }
   ],
   "source": [
    "# target variable\n",
    "Y = df['wage']\n",
    "\n",
    "# regressors w \n",
    "W = df[['sc', 'cg', 'mw' , 'so' , 'we' , 'exp1' , 'exp2' , 'exp3']] \n",
    "W = sm.add_constant(W)\n",
    "\n",
    "# Linear regression/OLS object\n",
    "model = sm.OLS(Y, W) \n",
    "\n",
    "# train the model\n",
    "results = model.fit() \n",
    "\n",
    "# get the residuals\n",
    "t_Y = results.resid \n",
    "t_Y"
   ]
  },
  {
   "cell_type": "markdown",
   "metadata": {},
   "source": [
    "#### Step 2: We predict D using W and find its residuals, i.e. removing the dependence of W on D."
   ]
  },
  {
   "cell_type": "code",
   "execution_count": 15,
   "metadata": {},
   "outputs": [
    {
     "data": {
      "text/plain": [
       "0      -0.323196\n",
       "1      -0.448263\n",
       "2      -0.443029\n",
       "3      -0.485547\n",
       "4       0.572763\n",
       "          ...   \n",
       "3830    0.555462\n",
       "3831   -0.294333\n",
       "3832    0.577249\n",
       "3833    0.575515\n",
       "3834   -0.419835\n",
       "Length: 3835, dtype: float64"
      ]
     },
     "execution_count": 15,
     "metadata": {},
     "output_type": "execute_result"
    }
   ],
   "source": [
    "# target regressor D, i.e. female in our predicitng wage example\n",
    "D = df['female'] \n",
    "\n",
    "#regressors W\n",
    "W = df[['sc', 'cg', 'mw' , 'so' , 'we' , 'exp1' , 'exp2' , 'exp3']] #regressors\n",
    "W = sm.add_constant(W)\n",
    "\n",
    "# Linear regression/OLS object\n",
    "model = sm.OLS(D, W) \n",
    "\n",
    "# train the model\n",
    "results = model.fit() \n",
    "\n",
    "# get the residuals\n",
    "t_D = results.resid\n",
    "t_D"
   ]
  },
  {
   "cell_type": "markdown",
   "metadata": {},
   "source": [
    "#### Step 3: Then we model residuals from step 1 and step 2, and this will give us how Y is dependent on D only."
   ]
  },
  {
   "cell_type": "code",
   "execution_count": 16,
   "metadata": {},
   "outputs": [
    {
     "name": "stdout",
     "output_type": "stream",
     "text": [
      "                            OLS Regression Results                            \n",
      "==============================================================================\n",
      "Dep. Variable:                      y   R-squared:                       0.005\n",
      "Model:                            OLS   Adj. R-squared:                  0.005\n",
      "Method:                 Least Squares   F-statistic:                     18.55\n",
      "Date:                Sat, 29 Jan 2022   Prob (F-statistic):           1.70e-05\n",
      "Time:                        18:39:37   Log-Likelihood:                -15235.\n",
      "No. Observations:                3835   AIC:                         3.047e+04\n",
      "Df Residuals:                    3833   BIC:                         3.049e+04\n",
      "Df Model:                           1                                         \n",
      "Covariance Type:            nonrobust                                         \n",
      "==============================================================================\n",
      "                 coef    std err          t      P>|t|      [0.025      0.975]\n",
      "------------------------------------------------------------------------------\n",
      "const      -9.229e-16      0.208  -4.44e-15      1.000      -0.407       0.407\n",
      "0             -1.8264      0.424     -4.307      0.000      -2.658      -0.995\n",
      "==============================================================================\n",
      "Omnibus:                     6626.018   Durbin-Watson:                   1.958\n",
      "Prob(Omnibus):                  0.000   Jarque-Bera (JB):          8721375.159\n",
      "Skew:                          11.808   Prob(JB):                         0.00\n",
      "Kurtosis:                     235.426   Cond. No.                         2.04\n",
      "==============================================================================\n",
      "\n",
      "Notes:\n",
      "[1] Standard Errors assume that the covariance matrix of the errors is correctly specified.\n"
     ]
    }
   ],
   "source": [
    "# Run OLS coefficient get coefficients and 95% confidence intervals\n",
    "\n",
    "# target variable\n",
    "Y = t_Y \n",
    "\n",
    "X = t_D\n",
    "X = sm.add_constant(X)\n",
    "\n",
    "# Linear regression/OLS object\n",
    "model = sm.OLS(Y, X) \n",
    "\n",
    "# train the model\n",
    "results = model.fit() \n",
    "\n",
    "# print the summary of the trained model\n",
    "print(results.summary()) "
   ]
  },
  {
   "cell_type": "markdown",
   "metadata": {},
   "source": [
    "|| Estimate | Standard Error |\n",
    "| --- | --- | --- |\n",
    "| reg | -1.8264 | 0.425 |\n",
    "| reg with partialling out| -1.8264 | 0.424 |"
   ]
  }
 ],
 "metadata": {
  "kernelspec": {
   "display_name": "Python 3",
   "language": "python",
   "name": "python3"
  },
  "language_info": {
   "codemirror_mode": {
    "name": "ipython",
    "version": 3
   },
   "file_extension": ".py",
   "mimetype": "text/x-python",
   "name": "python",
   "nbconvert_exporter": "python",
   "pygments_lexer": "ipython3",
   "version": "3.8.5"
  }
 },
 "nbformat": 4,
 "nbformat_minor": 4
}
