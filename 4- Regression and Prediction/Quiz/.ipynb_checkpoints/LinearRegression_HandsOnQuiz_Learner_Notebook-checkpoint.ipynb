{
 "cells": [
  {
   "cell_type": "markdown",
   "metadata": {
    "id": "q7EiMOg9SPQe"
   },
   "source": [
    "-----------------------------\n",
    "## Practice Hands-on case study: Linear Regression\n",
    "\n",
    "-----------------------------\n",
    "\n",
    "Welcome to the Hands-on case study on Linear Regression. In this case study, we aim to construct a linear model that explains the relationship a car's mileage (mpg) has with its other attributes\n",
    "\n",
    "-----------------------------\n",
    "## Dataset: \n",
    "-----------------------------\n",
    "There are 8 variables in the data: \n",
    "\n",
    "- mpg: miles per gallon\n",
    "- cyl: number of cylinders\n",
    "- disp: engine displacement (cu. inches) or engine size\n",
    "- hp: horsepower\n",
    "- wt: vehicle weight (lbs.)\n",
    "- acc: time taken to accelerate from O to 60 mph (sec.)\n",
    "- yr: model year\n",
    "- car name: car model name\n",
    "\n",
    "\n",
    "- Also provided are the car labels (types) \n",
    "- Missing data values are marked by series of question marks."
   ]
  },
  {
   "cell_type": "markdown",
   "metadata": {
    "id": "DKIEGppWSPQt"
   },
   "source": [
    "## Import Libraries"
   ]
  },
  {
   "cell_type": "code",
   "execution_count": 1,
   "metadata": {
    "id": "3qeeka95SPQ0"
   },
   "outputs": [],
   "source": [
    "import numpy as np   \n",
    "import pandas as pd    \n",
    "import matplotlib.pyplot as plt \n",
    "%matplotlib inline \n",
    "import seaborn as sns"
   ]
  },
  {
   "cell_type": "markdown",
   "metadata": {
    "id": "atMYrFPnSPQ3"
   },
   "source": [
    "## Load and review data"
   ]
  },
  {
   "cell_type": "code",
   "execution_count": 3,
   "metadata": {
    "colab": {
     "base_uri": "https://localhost:8080/"
    },
    "id": "voLeIc4KSPQ4",
    "outputId": "08e73fd5-8197-43cc-a649-fb5086692a67"
   },
   "outputs": [
    {
     "data": {
      "text/plain": [
       "(398, 9)"
      ]
     },
     "execution_count": 3,
     "metadata": {},
     "output_type": "execute_result"
    }
   ],
   "source": [
    "data = pd.read_csv(\"auto-mpg.csv\")  \n",
    "data.shape"
   ]
  },
  {
   "cell_type": "code",
   "execution_count": 4,
   "metadata": {
    "colab": {
     "base_uri": "https://localhost:8080/",
     "height": 206
    },
    "id": "Ianp5IpzSPQ9",
    "outputId": "72906e02-271f-45f9-f3d9-1558d0180ea7"
   },
   "outputs": [
    {
     "data": {
      "text/html": [
       "<div>\n",
       "<style scoped>\n",
       "    .dataframe tbody tr th:only-of-type {\n",
       "        vertical-align: middle;\n",
       "    }\n",
       "\n",
       "    .dataframe tbody tr th {\n",
       "        vertical-align: top;\n",
       "    }\n",
       "\n",
       "    .dataframe thead th {\n",
       "        text-align: right;\n",
       "    }\n",
       "</style>\n",
       "<table border=\"1\" class=\"dataframe\">\n",
       "  <thead>\n",
       "    <tr style=\"text-align: right;\">\n",
       "      <th></th>\n",
       "      <th>mpg</th>\n",
       "      <th>cylinders</th>\n",
       "      <th>displacement</th>\n",
       "      <th>horsepower</th>\n",
       "      <th>weight</th>\n",
       "      <th>acceleration</th>\n",
       "      <th>model year</th>\n",
       "      <th>origin</th>\n",
       "      <th>car name</th>\n",
       "    </tr>\n",
       "  </thead>\n",
       "  <tbody>\n",
       "    <tr>\n",
       "      <th>0</th>\n",
       "      <td>18.0</td>\n",
       "      <td>8</td>\n",
       "      <td>307.0</td>\n",
       "      <td>130</td>\n",
       "      <td>3504</td>\n",
       "      <td>12.0</td>\n",
       "      <td>70</td>\n",
       "      <td>1</td>\n",
       "      <td>chevrolet chevelle malibu</td>\n",
       "    </tr>\n",
       "    <tr>\n",
       "      <th>1</th>\n",
       "      <td>15.0</td>\n",
       "      <td>8</td>\n",
       "      <td>350.0</td>\n",
       "      <td>165</td>\n",
       "      <td>3693</td>\n",
       "      <td>11.5</td>\n",
       "      <td>70</td>\n",
       "      <td>1</td>\n",
       "      <td>buick skylark 320</td>\n",
       "    </tr>\n",
       "    <tr>\n",
       "      <th>2</th>\n",
       "      <td>18.0</td>\n",
       "      <td>8</td>\n",
       "      <td>318.0</td>\n",
       "      <td>150</td>\n",
       "      <td>3436</td>\n",
       "      <td>11.0</td>\n",
       "      <td>70</td>\n",
       "      <td>1</td>\n",
       "      <td>plymouth satellite</td>\n",
       "    </tr>\n",
       "    <tr>\n",
       "      <th>3</th>\n",
       "      <td>16.0</td>\n",
       "      <td>8</td>\n",
       "      <td>304.0</td>\n",
       "      <td>150</td>\n",
       "      <td>3433</td>\n",
       "      <td>12.0</td>\n",
       "      <td>70</td>\n",
       "      <td>1</td>\n",
       "      <td>amc rebel sst</td>\n",
       "    </tr>\n",
       "    <tr>\n",
       "      <th>4</th>\n",
       "      <td>17.0</td>\n",
       "      <td>8</td>\n",
       "      <td>302.0</td>\n",
       "      <td>140</td>\n",
       "      <td>3449</td>\n",
       "      <td>10.5</td>\n",
       "      <td>70</td>\n",
       "      <td>1</td>\n",
       "      <td>ford torino</td>\n",
       "    </tr>\n",
       "  </tbody>\n",
       "</table>\n",
       "</div>"
      ],
      "text/plain": [
       "    mpg  cylinders  displacement horsepower  weight  acceleration  model year  \\\n",
       "0  18.0          8         307.0        130    3504          12.0          70   \n",
       "1  15.0          8         350.0        165    3693          11.5          70   \n",
       "2  18.0          8         318.0        150    3436          11.0          70   \n",
       "3  16.0          8         304.0        150    3433          12.0          70   \n",
       "4  17.0          8         302.0        140    3449          10.5          70   \n",
       "\n",
       "   origin                   car name  \n",
       "0       1  chevrolet chevelle malibu  \n",
       "1       1          buick skylark 320  \n",
       "2       1         plymouth satellite  \n",
       "3       1              amc rebel sst  \n",
       "4       1                ford torino  "
      ]
     },
     "execution_count": 4,
     "metadata": {},
     "output_type": "execute_result"
    }
   ],
   "source": [
    "data.head()"
   ]
  },
  {
   "cell_type": "code",
   "execution_count": 5,
   "metadata": {
    "colab": {
     "base_uri": "https://localhost:8080/",
     "height": 206
    },
    "id": "5j9Lbth6SPQ-",
    "outputId": "50b74f87-0407-4182-d853-fc35f711a1b9"
   },
   "outputs": [
    {
     "data": {
      "text/html": [
       "<div>\n",
       "<style scoped>\n",
       "    .dataframe tbody tr th:only-of-type {\n",
       "        vertical-align: middle;\n",
       "    }\n",
       "\n",
       "    .dataframe tbody tr th {\n",
       "        vertical-align: top;\n",
       "    }\n",
       "\n",
       "    .dataframe thead th {\n",
       "        text-align: right;\n",
       "    }\n",
       "</style>\n",
       "<table border=\"1\" class=\"dataframe\">\n",
       "  <thead>\n",
       "    <tr style=\"text-align: right;\">\n",
       "      <th></th>\n",
       "      <th>mpg</th>\n",
       "      <th>cylinders</th>\n",
       "      <th>displacement</th>\n",
       "      <th>horsepower</th>\n",
       "      <th>weight</th>\n",
       "      <th>acceleration</th>\n",
       "      <th>model year</th>\n",
       "      <th>origin</th>\n",
       "    </tr>\n",
       "  </thead>\n",
       "  <tbody>\n",
       "    <tr>\n",
       "      <th>0</th>\n",
       "      <td>18.0</td>\n",
       "      <td>8</td>\n",
       "      <td>307.0</td>\n",
       "      <td>130</td>\n",
       "      <td>3504</td>\n",
       "      <td>12.0</td>\n",
       "      <td>70</td>\n",
       "      <td>america</td>\n",
       "    </tr>\n",
       "    <tr>\n",
       "      <th>1</th>\n",
       "      <td>15.0</td>\n",
       "      <td>8</td>\n",
       "      <td>350.0</td>\n",
       "      <td>165</td>\n",
       "      <td>3693</td>\n",
       "      <td>11.5</td>\n",
       "      <td>70</td>\n",
       "      <td>america</td>\n",
       "    </tr>\n",
       "    <tr>\n",
       "      <th>2</th>\n",
       "      <td>18.0</td>\n",
       "      <td>8</td>\n",
       "      <td>318.0</td>\n",
       "      <td>150</td>\n",
       "      <td>3436</td>\n",
       "      <td>11.0</td>\n",
       "      <td>70</td>\n",
       "      <td>america</td>\n",
       "    </tr>\n",
       "    <tr>\n",
       "      <th>3</th>\n",
       "      <td>16.0</td>\n",
       "      <td>8</td>\n",
       "      <td>304.0</td>\n",
       "      <td>150</td>\n",
       "      <td>3433</td>\n",
       "      <td>12.0</td>\n",
       "      <td>70</td>\n",
       "      <td>america</td>\n",
       "    </tr>\n",
       "    <tr>\n",
       "      <th>4</th>\n",
       "      <td>17.0</td>\n",
       "      <td>8</td>\n",
       "      <td>302.0</td>\n",
       "      <td>140</td>\n",
       "      <td>3449</td>\n",
       "      <td>10.5</td>\n",
       "      <td>70</td>\n",
       "      <td>america</td>\n",
       "    </tr>\n",
       "  </tbody>\n",
       "</table>\n",
       "</div>"
      ],
      "text/plain": [
       "    mpg  cylinders  displacement horsepower  weight  acceleration  model year  \\\n",
       "0  18.0          8         307.0        130    3504          12.0          70   \n",
       "1  15.0          8         350.0        165    3693          11.5          70   \n",
       "2  18.0          8         318.0        150    3436          11.0          70   \n",
       "3  16.0          8         304.0        150    3433          12.0          70   \n",
       "4  17.0          8         302.0        140    3449          10.5          70   \n",
       "\n",
       "    origin  \n",
       "0  america  \n",
       "1  america  \n",
       "2  america  \n",
       "3  america  \n",
       "4  america  "
      ]
     },
     "execution_count": 5,
     "metadata": {},
     "output_type": "execute_result"
    }
   ],
   "source": [
    "#dropping/ignoring car_name \n",
    "data = data.drop('car name', axis=1)\n",
    "# Also replacing the categorical var with actual values\n",
    "data['origin'] = data['origin'].replace({1: 'america', 2: 'europe', 3: 'asia'})\n",
    "data.head()"
   ]
  },
  {
   "cell_type": "markdown",
   "metadata": {
    "id": "jT8CnIuvSPRE"
   },
   "source": [
    "## Create Dummy Variables\n",
    "Values like 'america' cannot be read into an equation. Using substitutes like 1 for america, 2 for europe and 3 for asia would end up implying that european cars fall exactly half way between american and asian cars! we dont want to impose such an baseless assumption!\n",
    "\n",
    "So we create 3 simple true or false columns with titles equivalent to \"Is this car America?\", \"Is this care European?\" and \"Is this car Asian?\". These will be used as independent variables without imposing any kind of ordering between the three regions.\n",
    "\n",
    "\n"
   ]
  },
  {
   "cell_type": "code",
   "execution_count": null,
   "metadata": {
    "colab": {
     "base_uri": "https://localhost:8080/",
     "height": 206
    },
    "id": "a74jWD6dSPRM",
    "outputId": "50cd720b-e631-4e79-cbd6-a34bbedbc49e"
   },
   "outputs": [],
   "source": [
    "data = pd.get_dummies(data, columns=['origin'])\n",
    "data.head()"
   ]
  },
  {
   "cell_type": "markdown",
   "metadata": {
    "id": "HxJtlkfSSPRO"
   },
   "source": [
    "## Dealing with Missing Values"
   ]
  },
  {
   "cell_type": "code",
   "execution_count": null,
   "metadata": {
    "colab": {
     "base_uri": "https://localhost:8080/",
     "height": 300
    },
    "id": "ACChlAMCSPRV",
    "outputId": "568fd864-b807-4a6e-bad9-655431ced99a"
   },
   "outputs": [],
   "source": [
    "#A quick summary of the data columns\n",
    "data.describe()"
   ]
  },
  {
   "cell_type": "code",
   "execution_count": null,
   "metadata": {
    "colab": {
     "base_uri": "https://localhost:8080/"
    },
    "id": "Y2l4Z5zpSPRW",
    "outputId": "556df515-5258-4e2d-fbe7-c824c4dff171"
   },
   "outputs": [],
   "source": [
    "# hp is missing cause it does not seem to be reqcognized as a numerical column!\n",
    "data.dtypes"
   ]
  },
  {
   "cell_type": "markdown",
   "metadata": {
    "id": "--In954HmLka"
   },
   "source": [
    "### Q.2 The method  used to check whether an entry of a column is a numerical value or is it missing?\n"
   ]
  },
  {
   "cell_type": "code",
   "execution_count": null,
   "metadata": {
    "colab": {
     "base_uri": "https://localhost:8080/",
     "height": 238
    },
    "id": "ZDUyeDg3SPRX",
    "outputId": "71fc9c54-47ef-4b99-969f-f865d2dd37fc"
   },
   "outputs": [],
   "source": [
    " # if the string is made of digits store True else False hint: use isdigit() \n",
    "hpIsDigit = pd.DataFrame(data.horsepower.str._________()) \n",
    "\n",
    "\n",
    "data[hpIsDigit['horsepower'] == False]   # from temp take only those rows where hp has false\n"
   ]
  },
  {
   "cell_type": "code",
   "execution_count": null,
   "metadata": {
    "colab": {
     "base_uri": "https://localhost:8080/",
     "height": 238
    },
    "id": "WcDW6u1OSPRY",
    "outputId": "e38fc273-4815-4196-b525-ea1adc9bc7aa"
   },
   "outputs": [],
   "source": [
    "# Missing values have a'?''\n",
    "# Replace missing values with NaN\n",
    "data = data.replace('?', np.nan)\n",
    "data[hpIsDigit['horsepower'] == False] "
   ]
  },
  {
   "cell_type": "markdown",
   "metadata": {
    "id": "1ag-N7rRSPRZ"
   },
   "source": [
    "There are various ways to handle missing values. Drop the rows, replace missing values with median values etc. of the 398 rows 6 have NAN in the hp column. We could drop those 6 rows - which might not be a good idea under all situations\n"
   ]
  },
  {
   "cell_type": "code",
   "execution_count": null,
   "metadata": {
    "colab": {
     "base_uri": "https://localhost:8080/"
    },
    "id": "HqjJ5oslSPRi",
    "outputId": "76dada04-bdc0-4033-9767-f85cbb5af987"
   },
   "outputs": [],
   "source": [
    "#instead of dropping the rows, lets replace the missing values with median value. \n",
    "data.median()"
   ]
  },
  {
   "cell_type": "markdown",
   "metadata": {
    "id": "iA_DbY64O45T"
   },
   "source": [
    "### Filling the missing values with median value"
   ]
  },
  {
   "cell_type": "code",
   "execution_count": null,
   "metadata": {
    "id": "Bvz6mToVSPRn"
   },
   "outputs": [],
   "source": [
    "# replace the missing values with median value.\n",
    "# Note, we do not need to specify the column names below\n",
    "# every column's missing value is replaced with that column's median respectively  (axis =0 means columnwise)\n",
    "\n",
    "medianFiller = lambda x: x.fillna(x.median())\n",
    "data = data.apply(medianFiller,axis=0)\n",
    "\n",
    "\n",
    "\n",
    "data['horsepower'] = data['horsepower'].astype('float64')  # converting the hp column from object / string type to float\n"
   ]
  },
  {
   "cell_type": "markdown",
   "metadata": {
    "id": "62BHlBJnSPRo"
   },
   "source": [
    "## BiVariate Plots\n",
    "\n",
    "A bivariate analysis among the different variables can be done using scatter matrix plot. Seaborn libs create a dashboard reflecting useful information about the dimensions. The result can be stored as a .png file. "
   ]
  },
  {
   "cell_type": "code",
   "execution_count": null,
   "metadata": {
    "colab": {
     "base_uri": "https://localhost:8080/",
     "height": 1000
    },
    "id": "IIn_rfG4SPRo",
    "outputId": "153c82c5-fc52-41ef-aa1b-fe881f482a55"
   },
   "outputs": [],
   "source": [
    "data_attr = data.iloc[:, 0:7]\n",
    "sns.pairplot(data_attr, diag_kind='kde')   # to plot density curve instead of histogram on the diag"
   ]
  },
  {
   "cell_type": "markdown",
   "metadata": {
    "id": "KNgJgjjgSPRp"
   },
   "source": [
    "Observation between 'mpg' and other attributes indicate the relationship is not really linear. However, the plots also indicate that linearity would still capture quite a bit of useful information/pattern. Several assumptions of classical linear regression seem to be violated, including the assumption of no Heteroscedasticity\n"
   ]
  },
  {
   "cell_type": "markdown",
   "metadata": {
    "id": "U5cmWfIHSPRp"
   },
   "source": [
    "## Split Data"
   ]
  },
  {
   "cell_type": "code",
   "execution_count": null,
   "metadata": {
    "id": "Oxaq9JIpSPRp"
   },
   "outputs": [],
   "source": [
    "# lets build our linear model\n",
    "# independant variables\n",
    "X = data.drop(columns = {'mpg','origin_europe'})\n",
    "# the dependent variable\n",
    "y = data['mpg']"
   ]
  },
  {
   "cell_type": "code",
   "execution_count": null,
   "metadata": {
    "id": "06HexPzuSPRq"
   },
   "outputs": [],
   "source": [
    "# Sklearn package's model_selection have a function train_test_split() is used for data splitting into test(out of sample) and train dataset\n",
    "from sklearn.model_selection import train_test_split\n",
    "\n",
    "\n",
    "# Split X and y into training and test set(out of sample data) in 70:30 ratio\n",
    "\n",
    "X_train, X_test, y_train, y_test = train_test_split(X, y, test_size=0.30, random_state=1)"
   ]
  },
  {
   "cell_type": "markdown",
   "metadata": {
    "id": "jVK7idYaSPRr"
   },
   "source": [
    "### Q.3 & 4 Create linear regression model using statsmodels OLS and interpretate coefficient"
   ]
  },
  {
   "cell_type": "code",
   "execution_count": null,
   "metadata": {
    "colab": {
     "base_uri": "https://localhost:8080/",
     "height": 659
    },
    "id": "fKiG23rLSPRr",
    "outputId": "b4b92f42-9158-4eef-bcfd-8d496f168067"
   },
   "outputs": [],
   "source": [
    "# import libraries for building linear regression model\n",
    "#using statsmodel\n",
    "\n",
    "from statsmodels.graphics.gofplots import ProbPlot\n",
    "from statsmodels.formula.api import ols\n",
    "import statsmodels.api as sm\n",
    "\n",
    "# let's add the intercept to data\n",
    "X_train_ols = sm.add_constant(X_train)\n",
    "X_test_ols=sm.add_constant(X_test)\n",
    "\n",
    "# create the model\n",
    "\n",
    "#remove ________ and define ols model and complete the code\n",
    "model1 = ___________________\n",
    "\n",
    "# get the model summary\n",
    "#remove ________ and print summary and complete the code.\n",
    "model1.__________"
   ]
  },
  {
   "cell_type": "markdown",
   "metadata": {
    "id": "Ej--aPJRixHs"
   },
   "source": [
    "- Not all the variables are statistically significant to predict the outcome variable. To check which are statistically significant or have predictive power to predict the target variable, we need to check the `p-value` against all the independent variables.\n",
    "- **Interpreting the Regression Results:**\n",
    "\n",
    "1. **Adjusted. R-squared**: It reflects the fit of the model.\n",
    "    - R-squared values range from 0 to 1, where a higher value generally indicates a better fit, assuming certain conditions are met.\n",
    "    \n",
    "2. **coeff**: It represents the change in the output Y due to a change of one unit in the variable (everything else held constant).\n",
    "3. **std err**: It reflects the level of accuracy of the coefficients.\n",
    "    - The lower it is, the more accurate the coefficients are.\n",
    "4. **P >|t|**: It is p-value.\n",
    "   \n",
    "   * Pr(>|t|) : For each independent feature there is a null hypothesis and alternate hypothesis \n",
    "\n",
    "    Ho : Independent feature is not significant \n",
    "   \n",
    "    Ha : Independent feature is significant \n",
    "    \n",
    "   * A p-value of less than 0.05 is considered to be statistically significant.\n",
    "\n",
    "   \n",
    "5. **Confidence Interval**: It represents the range in which our coefficients are likely to fall (with a likelihood of 95%).\n",
    "\n",
    "* To be able to make statistical inferences from our model, **we will have to test the significance of the regression coefficients and linear regression assumptions.**"
   ]
  },
  {
   "cell_type": "markdown",
   "metadata": {
    "id": "VATZUe_ElPOY"
   },
   "source": [
    "### Checking the performance of the model on the train and test data set"
   ]
  },
  {
   "cell_type": "code",
   "execution_count": null,
   "metadata": {
    "colab": {
     "base_uri": "https://localhost:8080/"
    },
    "id": "KyAboiLolRJN",
    "outputId": "eeebc4d1-fbb7-437f-8f71-c75b3c19367b"
   },
   "outputs": [],
   "source": [
    "# RMSE\n",
    "def rmse(predictions, targets):\n",
    "    return np.sqrt(((targets - predictions) ** 2).mean())\n",
    "\n",
    "\n",
    "# MAPE\n",
    "def mape(predictions, targets):\n",
    "    return np.mean(np.abs((targets - predictions)) / targets) * 100\n",
    "\n",
    "\n",
    "# MAE\n",
    "def mae(predictions, targets):\n",
    "    return np.mean(np.abs((targets - predictions)))\n",
    "\n",
    "\n",
    "# Model Performance on test and train data\n",
    "def model_pref(olsmodel, x_train, x_test, y_train,y_test):\n",
    "\n",
    "    # Insample Prediction\n",
    "    y_pred_train = olsmodel.predict(x_train)\n",
    "    y_observed_train = y_train\n",
    "\n",
    "    # Prediction on test data\n",
    "    y_pred_test = olsmodel.predict(x_test)\n",
    "    y_observed_test = y_test\n",
    "\n",
    "    print(\n",
    "        pd.DataFrame(\n",
    "            {\n",
    "                \"Data\": [\"Train\", \"Test\"],\n",
    "                \"RMSE\": [\n",
    "                    rmse(y_pred_train, y_observed_train),\n",
    "                    rmse(y_pred_test, y_observed_test),\n",
    "                ],\n",
    "                \"MAE\": [\n",
    "                    mae(y_pred_train, y_observed_train),\n",
    "                    mae(y_pred_test, y_observed_test),\n",
    "                ],\n",
    "                \"MAPE\": [\n",
    "                    mape(y_pred_train, y_observed_train),\n",
    "                    mape(y_pred_test, y_observed_test),\n",
    "                ],\n",
    "            }\n",
    "        )\n",
    "    )\n",
    "\n",
    "\n",
    "# Checking model performance\n",
    "model_pref(model1, X_train_ols, X_test_ols,y_train,y_test)  "
   ]
  },
  {
   "cell_type": "markdown",
   "metadata": {
    "id": "uSW-478RZmbs"
   },
   "source": [
    "**Observations:**\n",
    "\n",
    "* RMSE, MAE, and MAPE of train and test data are not very different, indicating that the **model is not overfitting and has generalized well.**"
   ]
  },
  {
   "cell_type": "markdown",
   "metadata": {},
   "source": [
    "### Question 5: Performing cross validation and comparing its average performance to OLS performance"
   ]
  },
  {
   "cell_type": "code",
   "execution_count": null,
   "metadata": {
    "colab": {
     "base_uri": "https://localhost:8080/"
    },
    "id": "SZD7kWJFyztG",
    "outputId": "c1f35e3b-12fd-4fd9-c520-c29548e2b6a5"
   },
   "outputs": [],
   "source": [
    "# import the required function\n",
    "from sklearn.linear_model import LinearRegression\n",
    "from sklearn.model_selection import cross_val_score\n",
    "\n",
    "# build the regression model using Sklearn Linear regression\n",
    "linearregression = LinearRegression()                                    \n",
    "\n",
    "#remove ________ and cross_val_score and complete the code\n",
    "cv_Score11 = cross_val_score(____________) #cv=10 represents data is divided into 10 folds.\n",
    "cv_Score12 = cross_val_score(____________________, \n",
    "                             scoring = 'neg_mean_squared_error')                                  \n",
    "\n",
    "\n",
    "print(\"RSquared: %0.3f (+/- %0.3f)\" % (cv_Score11.mean(), cv_Score11.std() * 2))\n",
    "print(\"Mean Squared Error: %0.3f (+/- %0.3f)\" % (-1*cv_Score12.mean(), cv_Score12.std() * 2))"
   ]
  },
  {
   "cell_type": "markdown",
   "metadata": {
    "id": "_e7-DXjiruTC"
   },
   "source": [
    "### Get model Coefficients in a pandas dataframe with column 'Feature' having all the features and column 'Coefs' with all the corresponding Coefs. Write the regression equation."
   ]
  },
  {
   "cell_type": "code",
   "execution_count": null,
   "metadata": {
    "colab": {
     "base_uri": "https://localhost:8080/"
    },
    "id": "-SW4Gt_Drvhb",
    "outputId": "3e137ca6-a316-45a0-8139-c9cf4df6b049"
   },
   "outputs": [],
   "source": [
    "coef = model1.params\n",
    "coef"
   ]
  },
  {
   "cell_type": "code",
   "execution_count": null,
   "metadata": {
    "colab": {
     "base_uri": "https://localhost:8080/"
    },
    "id": "LPskalztr6v4",
    "outputId": "09bebca6-4d47-4112-be98-f825ab2e9c06"
   },
   "outputs": [],
   "source": [
    "# Let us write the equation of the fit\n",
    "Equation = \"log (car_mileage) =\"\n",
    "print(Equation, end='\\t')\n",
    "for i in range(len(coef)):\n",
    "    print('(', coef[i], ') * ', coef.index[i], '+', end = ' ')"
   ]
  },
  {
   "cell_type": "markdown",
   "metadata": {
    "id": "VibWka1yzhro"
   },
   "source": [
    "### Building Decision Tree"
   ]
  },
  {
   "cell_type": "code",
   "execution_count": null,
   "metadata": {
    "id": "l9-DVRAV0loI"
   },
   "outputs": [],
   "source": [
    "#importing Decision tree regressor using sklearn\n",
    "\n",
    "from sklearn.tree import DecisionTreeRegressor"
   ]
  },
  {
   "cell_type": "code",
   "execution_count": null,
   "metadata": {
    "id": "DLvYrCLV0vYf"
   },
   "outputs": [],
   "source": [
    "# splitting the data in 70:30 ratio of train to test data\n",
    "# separate the dependent and indepedent variable\n",
    "Y1 = data['mpg']\n",
    "X1 = data.drop(columns = {'mpg','origin_europe'})\n",
    "X_train1, X_test1, y_train1, y_test1 = train_test_split(X1, Y1, test_size=0.30 , random_state=1)"
   ]
  },
  {
   "cell_type": "markdown",
   "metadata": {},
   "source": [
    "### Question 6: Building Decision tree and Checking its performance"
   ]
  },
  {
   "cell_type": "code",
   "execution_count": null,
   "metadata": {
    "colab": {
     "base_uri": "https://localhost:8080/"
    },
    "id": "l2upb0de1Q-k",
    "outputId": "d09c7106-9419-4b9b-a69d-4f9db8da4fcf"
   },
   "outputs": [],
   "source": [
    "#defining the Descision tree regressor\n",
    "#remove ________ and define decision tree and complete the code\n",
    "dt = ________________\n",
    "\n",
    "#Fitting Descision Tree regressor to train dataset\n",
    "#remove ________ and fit decision tree and complete the code\n",
    "dt.fit(______________)"
   ]
  },
  {
   "cell_type": "markdown",
   "metadata": {
    "id": "DzUyk2761Wzi"
   },
   "source": [
    "Checking model perform on the train and test dataset"
   ]
  },
  {
   "cell_type": "code",
   "execution_count": null,
   "metadata": {
    "colab": {
     "base_uri": "https://localhost:8080/"
    },
    "id": "hUG7Aj5w1YDC",
    "outputId": "f487a07c-6aae-430e-cd09-adfc56a23223"
   },
   "outputs": [],
   "source": [
    "model_pref(dt, X_train1, X_test1,y_train1,y_test1)  "
   ]
  },
  {
   "cell_type": "markdown",
   "metadata": {
    "id": "hU9tS2bmc5CA"
   },
   "source": [
    "**Observations:**\n",
    "\n",
    "- **The model seem to overfit the data** as rmse, mae and mape value of train data is 0, but that value for test data is much higher."
   ]
  },
  {
   "cell_type": "code",
   "execution_count": null,
   "metadata": {
    "id": "-x6CBJxx6CJm"
   },
   "outputs": [],
   "source": [
    "from sklearn.tree import plot_tree"
   ]
  },
  {
   "cell_type": "code",
   "execution_count": null,
   "metadata": {
    "colab": {
     "base_uri": "https://localhost:8080/",
     "height": 1000
    },
    "id": "cK89lLf36MVA",
    "outputId": "bca3be0d-2915-4c80-e784-980ce8dd8fc4"
   },
   "outputs": [],
   "source": [
    "features = list(X1.columns)\n",
    "\n",
    "plt.figure(figsize=(35,25))\n",
    "plot_tree(dt, max_depth=4, feature_names=features,filled=True,fontsize=12,node_ids=True,class_names=True)\n",
    "plt.show()"
   ]
  },
  {
   "cell_type": "markdown",
   "metadata": {
    "id": "TkKHRdwt6c_K"
   },
   "source": [
    "#### Let's plot the feature importance for each variable in the dataset and analyze the variables"
   ]
  },
  {
   "cell_type": "markdown",
   "metadata": {},
   "source": [
    "### Checking Feature importance"
   ]
  },
  {
   "cell_type": "code",
   "execution_count": null,
   "metadata": {
    "colab": {
     "base_uri": "https://localhost:8080/",
     "height": 351
    },
    "id": "3VS7lgCU6O3q",
    "outputId": "d27d3c18-1a22-4e88-feec-9342b9e4d086"
   },
   "outputs": [],
   "source": [
    "#remove ________ and find feature importance decision tree and complete the code\n",
    "\n",
    "importances = dt.______________\n",
    "\n",
    "columns=X1.columns\n",
    "importance_df=pd.DataFrame(importances,index=columns,columns=['Importance']).sort_values(by='Importance',ascending=False)\n",
    "plt.figure(figsize=(8,4))\n",
    "sns.barplot(importance_df.Importance,importance_df.index)"
   ]
  },
  {
   "cell_type": "markdown",
   "metadata": {
    "id": "sluxW3lpDKft"
   },
   "source": [
    "### Building Random Forest"
   ]
  },
  {
   "cell_type": "code",
   "execution_count": null,
   "metadata": {
    "id": "steSpvoTDLwT"
   },
   "outputs": [],
   "source": [
    "#importing random forest regressor usinf sklearn\n",
    "\n",
    "from sklearn.ensemble import RandomForestRegressor"
   ]
  },
  {
   "cell_type": "markdown",
   "metadata": {},
   "source": [
    "#### Parameters for regression\n",
    "**n_estimators**: The number of trees in the forest.\n",
    "\n",
    "**min_samples_split**: The minimum number of samples required to split an internal node:\n",
    "\n",
    "**max_depth**\n",
    "The maximum depth of the tree. If None, then nodes are expanded until all leaves are pure or until all leaves contain less than min_samples_split samples.\n",
    "\n",
    "**max_features{“auto”, “sqrt”, “log2”, 'None'}**: The number of features to consider when looking for the best split.\n",
    "\n",
    "- If “auto”, then max_features=sqrt(n_features).\n",
    "\n",
    "- If “sqrt”, then max_features=sqrt(n_features) (same as “auto”).\n",
    "\n",
    "- If “log2”, then max_features=log2(n_features).\n",
    "\n",
    "- If None, then max_features=n_features."
   ]
  },
  {
   "cell_type": "code",
   "execution_count": null,
   "metadata": {
    "colab": {
     "base_uri": "https://localhost:8080/"
    },
    "id": "jj-9yMDZDQNC",
    "outputId": "eee861e2-b7b5-4f7d-f178-59a4d6d50b24"
   },
   "outputs": [],
   "source": [
    "#defining the Random forest regressor\n",
    "#remove ________ and define random forest tree and complete the code\n",
    "rf=________________________\n",
    "\n",
    "#Hyperparameters, we have randomly choosen them for now but we can tune these hyperparameters and get the best model. \n",
    "\n",
    "#fitting the model\n",
    "#remove ________ and fit random forest tree and complete the code\n",
    "rf.fit(__________________)"
   ]
  },
  {
   "cell_type": "markdown",
   "metadata": {
    "id": "Cn-YxjL5NwD1"
   },
   "source": [
    "### Q.7 Check performance of Random Forest"
   ]
  },
  {
   "cell_type": "code",
   "execution_count": null,
   "metadata": {
    "colab": {
     "base_uri": "https://localhost:8080/"
    },
    "id": "l3CkXaCuDUsG",
    "outputId": "f6e83bdc-a44b-45b8-bc04-a1e8178b08a4"
   },
   "outputs": [],
   "source": [
    "# checking model performance on test dataset\n",
    "rf.score(__________________)"
   ]
  },
  {
   "cell_type": "code",
   "execution_count": null,
   "metadata": {
    "colab": {
     "base_uri": "https://localhost:8080/"
    },
    "id": "96ClBaPuDcqo",
    "outputId": "a8497e4b-0e10-4a25-a4c4-e843f857c5a6"
   },
   "outputs": [],
   "source": [
    "model_pref(rf, X_train1, X_test1,y_train1,y_test1)  "
   ]
  },
  {
   "cell_type": "markdown",
   "metadata": {},
   "source": [
    "### Question 8 & 9: Checking the feature importance of each variable in Random Forest and comparing to Decision Tree"
   ]
  },
  {
   "cell_type": "code",
   "execution_count": null,
   "metadata": {
    "colab": {
     "base_uri": "https://localhost:8080/",
     "height": 351
    },
    "id": "4WGfZoNQDjj4",
    "outputId": "22a12dce-cd6f-4027-a5ea-49314220ec9f"
   },
   "outputs": [],
   "source": [
    "#remove ________ and print feature importance Random forest and complete the code\n",
    "importances = rf.________________\n",
    "\n",
    "columns=X1.columns\n",
    "importance_df=pd.DataFrame(importances,index=columns,columns=['Importance']).sort_values(by='Importance',ascending=False)\n",
    "plt.figure(figsize=(8,4))\n",
    "sns.barplot(importance_df.Importance,importance_df.index)"
   ]
  },
  {
   "cell_type": "markdown",
   "metadata": {
    "id": "Qb-ni3DMCMbk"
   },
   "source": [
    "### Question 10: Comparing results of three model"
   ]
  },
  {
   "cell_type": "code",
   "execution_count": null,
   "metadata": {
    "colab": {
     "base_uri": "https://localhost:8080/"
    },
    "id": "iPyzai3e6j6Y",
    "outputId": "cd77ffad-6136-4c4e-a6fa-ea467e84198f"
   },
   "outputs": [],
   "source": [
    "print(\"Linear Regression\")\n",
    "model_pref(model1, X_train_ols, X_test_ols,y_train,y_test)\n",
    "print(\"Decision tree\")\n",
    "model_pref(dt, X_train1, X_test1,y_train1,y_test1)\n",
    "print(\"Random Forest\")\n",
    "model_pref(rf, X_train1, X_test1,y_train1,y_test1)  "
   ]
  }
 ],
 "metadata": {
  "colab": {
   "collapsed_sections": [],
   "name": "LinearRegression_HandsOnQuiz.ipynb",
   "provenance": []
  },
  "kernelspec": {
   "display_name": "Python 3",
   "language": "python",
   "name": "python3"
  },
  "language_info": {
   "codemirror_mode": {
    "name": "ipython",
    "version": 3
   },
   "file_extension": ".py",
   "mimetype": "text/x-python",
   "name": "python",
   "nbconvert_exporter": "python",
   "pygments_lexer": "ipython3",
   "version": "3.8.5"
  }
 },
 "nbformat": 4,
 "nbformat_minor": 1
}
