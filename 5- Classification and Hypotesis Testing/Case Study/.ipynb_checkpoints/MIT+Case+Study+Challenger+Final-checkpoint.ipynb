{
 "cells": [
  {
   "cell_type": "markdown",
   "metadata": {},
   "source": [
    "# Accessing\tthe\tData\t\n",
    "### The data can be\taccessed from the csv file “challenger-data.csv” via the following function calls:"
   ]
  },
  {
   "cell_type": "markdown",
   "metadata": {},
   "source": [
    "### We will use the Pandas and Numpy libraries to help process the data in Python. Please ensure you have them installed before using the code below."
   ]
  },
  {
   "cell_type": "code",
   "execution_count": 1,
   "metadata": {
    "ExecuteTime": {
     "end_time": "2021-06-11T15:59:37.353965Z",
     "start_time": "2021-06-11T15:59:35.081179Z"
    }
   },
   "outputs": [],
   "source": [
    "#Importing Libraries\n",
    "\n",
    "import pandas as pd\n",
    "import numpy as np"
   ]
  },
  {
   "cell_type": "code",
   "execution_count": 2,
   "metadata": {
    "ExecuteTime": {
     "end_time": "2021-06-11T15:59:37.369072Z",
     "start_time": "2021-06-11T15:59:37.355981Z"
    }
   },
   "outputs": [],
   "source": [
    "data=pd.read_csv('challenger-data.csv')"
   ]
  },
  {
   "cell_type": "code",
   "execution_count": 3,
   "metadata": {
    "ExecuteTime": {
     "end_time": "2021-06-11T15:59:37.400371Z",
     "start_time": "2021-06-11T15:59:37.371073Z"
    }
   },
   "outputs": [
    {
     "data": {
      "text/html": [
       "<div>\n",
       "<style scoped>\n",
       "    .dataframe tbody tr th:only-of-type {\n",
       "        vertical-align: middle;\n",
       "    }\n",
       "\n",
       "    .dataframe tbody tr th {\n",
       "        vertical-align: top;\n",
       "    }\n",
       "\n",
       "    .dataframe thead th {\n",
       "        text-align: right;\n",
       "    }\n",
       "</style>\n",
       "<table border=\"1\" class=\"dataframe\">\n",
       "  <thead>\n",
       "    <tr style=\"text-align: right;\">\n",
       "      <th></th>\n",
       "      <th>Observation</th>\n",
       "      <th>Y</th>\n",
       "      <th>X</th>\n",
       "    </tr>\n",
       "  </thead>\n",
       "  <tbody>\n",
       "    <tr>\n",
       "      <th>0</th>\n",
       "      <td>1</td>\n",
       "      <td>1</td>\n",
       "      <td>53</td>\n",
       "    </tr>\n",
       "    <tr>\n",
       "      <th>1</th>\n",
       "      <td>2</td>\n",
       "      <td>1</td>\n",
       "      <td>53</td>\n",
       "    </tr>\n",
       "    <tr>\n",
       "      <th>2</th>\n",
       "      <td>3</td>\n",
       "      <td>1</td>\n",
       "      <td>53</td>\n",
       "    </tr>\n",
       "    <tr>\n",
       "      <th>3</th>\n",
       "      <td>4</td>\n",
       "      <td>0</td>\n",
       "      <td>53</td>\n",
       "    </tr>\n",
       "    <tr>\n",
       "      <th>4</th>\n",
       "      <td>5</td>\n",
       "      <td>0</td>\n",
       "      <td>53</td>\n",
       "    </tr>\n",
       "  </tbody>\n",
       "</table>\n",
       "</div>"
      ],
      "text/plain": [
       "   Observation  Y   X\n",
       "0            1  1  53\n",
       "1            2  1  53\n",
       "2            3  1  53\n",
       "3            4  0  53\n",
       "4            5  0  53"
      ]
     },
     "execution_count": 3,
     "metadata": {},
     "output_type": "execute_result"
    }
   ],
   "source": [
    "data.head()\n",
    "#We now have the data readily accessible for further analysis."
   ]
  },
  {
   "cell_type": "markdown",
   "metadata": {},
   "source": [
    "- X represent the temperature while the time of launch of the Rocket. \n",
    "- Y represents the whether an o-rings failure happened or not at the temperature."
   ]
  },
  {
   "cell_type": "code",
   "execution_count": 4,
   "metadata": {},
   "outputs": [
    {
     "name": "stdout",
     "output_type": "stream",
     "text": [
      "<class 'pandas.core.frame.DataFrame'>\n",
      "RangeIndex: 120 entries, 0 to 119\n",
      "Data columns (total 3 columns):\n",
      " #   Column       Non-Null Count  Dtype\n",
      "---  ------       --------------  -----\n",
      " 0   Observation  120 non-null    int64\n",
      " 1   Y            120 non-null    int64\n",
      " 2   X            120 non-null    int64\n",
      "dtypes: int64(3)\n",
      "memory usage: 2.9 KB\n"
     ]
    }
   ],
   "source": [
    "data.info()"
   ]
  },
  {
   "cell_type": "markdown",
   "metadata": {},
   "source": [
    "- The data is comprised of 120 non-null values."
   ]
  },
  {
   "cell_type": "code",
   "execution_count": 5,
   "metadata": {
    "ExecuteTime": {
     "end_time": "2021-06-11T15:59:37.430929Z",
     "start_time": "2021-06-11T15:59:37.401959Z"
    }
   },
   "outputs": [
    {
     "data": {
      "text/html": [
       "<div>\n",
       "<style scoped>\n",
       "    .dataframe tbody tr th:only-of-type {\n",
       "        vertical-align: middle;\n",
       "    }\n",
       "\n",
       "    .dataframe tbody tr th {\n",
       "        vertical-align: top;\n",
       "    }\n",
       "\n",
       "    .dataframe thead th {\n",
       "        text-align: right;\n",
       "    }\n",
       "</style>\n",
       "<table border=\"1\" class=\"dataframe\">\n",
       "  <thead>\n",
       "    <tr style=\"text-align: right;\">\n",
       "      <th></th>\n",
       "      <th>Observation</th>\n",
       "      <th>Y</th>\n",
       "      <th>X</th>\n",
       "    </tr>\n",
       "  </thead>\n",
       "  <tbody>\n",
       "    <tr>\n",
       "      <th>count</th>\n",
       "      <td>120.000000</td>\n",
       "      <td>120.000000</td>\n",
       "      <td>120.000000</td>\n",
       "    </tr>\n",
       "    <tr>\n",
       "      <th>mean</th>\n",
       "      <td>60.500000</td>\n",
       "      <td>0.083333</td>\n",
       "      <td>70.000000</td>\n",
       "    </tr>\n",
       "    <tr>\n",
       "      <th>std</th>\n",
       "      <td>34.785054</td>\n",
       "      <td>0.277544</td>\n",
       "      <td>7.100716</td>\n",
       "    </tr>\n",
       "    <tr>\n",
       "      <th>min</th>\n",
       "      <td>1.000000</td>\n",
       "      <td>0.000000</td>\n",
       "      <td>53.000000</td>\n",
       "    </tr>\n",
       "    <tr>\n",
       "      <th>25%</th>\n",
       "      <td>30.750000</td>\n",
       "      <td>0.000000</td>\n",
       "      <td>67.000000</td>\n",
       "    </tr>\n",
       "    <tr>\n",
       "      <th>50%</th>\n",
       "      <td>60.500000</td>\n",
       "      <td>0.000000</td>\n",
       "      <td>70.000000</td>\n",
       "    </tr>\n",
       "    <tr>\n",
       "      <th>75%</th>\n",
       "      <td>90.250000</td>\n",
       "      <td>0.000000</td>\n",
       "      <td>75.250000</td>\n",
       "    </tr>\n",
       "    <tr>\n",
       "      <th>max</th>\n",
       "      <td>120.000000</td>\n",
       "      <td>1.000000</td>\n",
       "      <td>81.000000</td>\n",
       "    </tr>\n",
       "  </tbody>\n",
       "</table>\n",
       "</div>"
      ],
      "text/plain": [
       "       Observation           Y           X\n",
       "count   120.000000  120.000000  120.000000\n",
       "mean     60.500000    0.083333   70.000000\n",
       "std      34.785054    0.277544    7.100716\n",
       "min       1.000000    0.000000   53.000000\n",
       "25%      30.750000    0.000000   67.000000\n",
       "50%      60.500000    0.000000   70.000000\n",
       "75%      90.250000    0.000000   75.250000\n",
       "max     120.000000    1.000000   81.000000"
      ]
     },
     "execution_count": 5,
     "metadata": {},
     "output_type": "execute_result"
    }
   ],
   "source": [
    "data.describe()"
   ]
  },
  {
   "cell_type": "markdown",
   "metadata": {},
   "source": [
    "- The average temperature at which launch usually happens is 70 fahrenheit."
   ]
  },
  {
   "cell_type": "markdown",
   "metadata": {},
   "source": [
    "# Visualizing\tthe\tData"
   ]
  },
  {
   "cell_type": "markdown",
   "metadata": {},
   "source": [
    "### Using our data structure, it is possible to plot the data a graph. For instance, if we want to plot the frequency of failures at each temperature on a plot, we can do it in the following manner "
   ]
  },
  {
   "cell_type": "code",
   "execution_count": 6,
   "metadata": {
    "ExecuteTime": {
     "end_time": "2021-06-11T15:59:38.746752Z",
     "start_time": "2021-06-11T15:59:37.672757Z"
    }
   },
   "outputs": [
    {
     "data": {
      "image/png": "[encoded data removed]",
      "text/plain": [
       "<Figure size 432x288 with 1 Axes>"
      ]
     },
     "metadata": {
      "needs_background": "light"
     },
     "output_type": "display_data"
    }
   ],
   "source": [
    "# We will be using the Matplotlib library for plotting. Please ensure it is installed before proceeding.\n",
    "# subsetting data\n",
    "\n",
    "failures = data.loc[(data.Y == 1)]\n",
    "no_failures\t= data.loc[(data.Y == 0)]\n",
    "# frequencies\n",
    "failures_freq = failures.X.value_counts() #failures.groupby('X')\n",
    "no_failures_freq = no_failures.X.value_counts()\n",
    "# plotting\n",
    "import matplotlib as mpl\n",
    "from matplotlib\timport pyplot as plt\n",
    "plt.scatter(failures_freq.index, failures_freq, c='red', s=40)\n",
    "plt.scatter(no_failures_freq.index, np.zeros(len(no_failures_freq)), c='blue', s=40)\n",
    "plt.xlabel('X: Temperature')\n",
    "plt.ylabel('Number of Failures')\n",
    "plt.legend(['failures', 'No failures'])\n",
    "plt.show()"
   ]
  },
  {
   "cell_type": "markdown",
   "metadata": {},
   "source": [
    "- At higher temperatures there are very less chance for o-rings failures. \n",
    "- There is a chance where there is no o-ring failure below 55 temperature and other has 3 o-rings failures which creates a sense of doubt whether to go for it or not. "
   ]
  },
  {
   "cell_type": "markdown",
   "metadata": {},
   "source": [
    "# Logistic Regression\n",
    "### We are now ready to Logistic Regression."
   ]
  },
  {
   "cell_type": "code",
   "execution_count": 7,
   "metadata": {
    "ExecuteTime": {
     "end_time": "2021-06-11T16:01:42.054003Z",
     "start_time": "2021-06-11T16:01:42.033888Z"
    }
   },
   "outputs": [
    {
     "name": "stdout",
     "output_type": "stream",
     "text": [
      "Optimization terminated successfully.\n",
      "         Current function value: 0.242411\n",
      "         Iterations 7\n",
      "                           Logit Regression Results                           \n",
      "==============================================================================\n",
      "Dep. Variable:                      Y   No. Observations:                  120\n",
      "Model:                          Logit   Df Residuals:                      118\n",
      "Method:                           MLE   Df Model:                            1\n",
      "Date:                Tue, 27 Jul 2021   Pseudo R-squ.:                  0.1549\n",
      "Time:                        20:25:44   Log-Likelihood:                -29.089\n",
      "converged:                       True   LL-Null:                       -34.420\n",
      "Covariance Type:            nonrobust   LLR p-value:                  0.001094\n",
      "==============================================================================\n",
      "                 coef    std err          z      P>|z|      [0.025      0.975]\n",
      "------------------------------------------------------------------------------\n",
      "Intercept      7.4049      3.041      2.435      0.015       1.445      13.365\n",
      "X             -0.1466      0.047     -3.104      0.002      -0.239      -0.054\n",
      "==============================================================================\n"
     ]
    }
   ],
   "source": [
    "# You will need to have the following libraries installed before proceeding:\n",
    "import statsmodels.formula.api as SM\n",
    "#build the model\n",
    "model = SM.logit(formula='Y~X',data=data)\n",
    "result = model.fit()\n",
    "# summarize the model\n",
    "print (result.summary())\n",
    "#We now have the model and the summaries should provide the coefficient, intercept, standard errors and p-values"
   ]
  },
  {
   "cell_type": "markdown",
   "metadata": {},
   "source": [
    "- We now have the model and the summaries should provide the coefficient, intercept, standard errors and p-values. \n",
    "- The Negative coefficient for X determines if the the temperate lowers by 1 there is ~15% chance for o-ring failure.\n",
    "- p have for both intercept and X signifies that they are statistically significant and temperature does effect the change of an o-ring failure."
   ]
  }
 ],
 "metadata": {
  "kernelspec": {
   "display_name": "Python 3",
   "language": "python",
   "name": "python3"
  },
  "language_info": {
   "codemirror_mode": {
    "name": "ipython",
    "version": 3
   },
   "file_extension": ".py",
   "mimetype": "text/x-python",
   "name": "python",
   "nbconvert_exporter": "python",
   "pygments_lexer": "ipython3",
   "version": "3.8.5"
  },
  "toc": {
   "base_numbering": 1,
   "nav_menu": {},
   "number_sections": true,
   "sideBar": true,
   "skip_h1_title": false,
   "title_cell": "Table of Contents",
   "title_sidebar": "Contents",
   "toc_cell": false,
   "toc_position": {},
   "toc_section_display": true,
   "toc_window_display": false
  }
 },
 "nbformat": 4,
 "nbformat_minor": 4
}
