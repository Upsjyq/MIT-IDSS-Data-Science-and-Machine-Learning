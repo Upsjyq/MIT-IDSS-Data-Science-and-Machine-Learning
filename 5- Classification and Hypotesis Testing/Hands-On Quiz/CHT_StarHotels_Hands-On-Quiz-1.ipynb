{
 "cells": [
  {
   "cell_type": "markdown",
   "metadata": {
    "id": "dense-medicaid"
   },
   "source": [
    "# Star Hotels Project\n",
    "\n",
    "## Context\n",
    "\n",
    "A significant number of hotel bookings are called off due to cancellations or no-shows. The typical reasons for cancellations include change of plans, scheduling conflicts, etc. This is often made easier by the option to do so free of charge or preferably at a low cost which is beneficial to hotel guests but it is a less desirable and possibly revenue-diminishing factor for hotels to deal with. Such losses are particularly high on last-minute cancellations.\n",
    "\n",
    "The new technologies involving online booking channels have dramatically changed customers’ booking possibilities and behavior. This adds a further dimension to the challenge of how hotels handle cancellations, which are no longer limited to traditional booking and guest characteristics.\n",
    "\n",
    "The cancellation of bookings impact a hotel on various fronts:\n",
    "1. Loss of resources (revenue) when the hotel cannot resell the room.\n",
    "2. Additional costs of distribution channels by increasing commissions or paying for publicity to help sell these rooms.\n",
    "3. Lowering prices last minute, so the hotel can resell a room, resulting in reducing the profit margin.\n",
    "4. Human resources to make arrangements for the guests.\n",
    "\n",
    "## Objective\n",
    "\n",
    "The increasing number of cancellations calls for a Machine Learning based solution that can help in predicting which booking is likely to be canceled. Star Hotels Group has a chain of hotels in Portugal, they are facing problems with the high number of booking cancellations and have reached out to your firm for data-driven solutions. You as a data scientist have to analyze the data provided to find which factors have a high influence on booking cancellations, build a predictive model that can predict which booking is going to be canceled in advance, and help in formulating profitable policies for cancellations and refunds.\n",
    "\n",
    "\n",
    "## Data Description\n",
    "\n",
    "The data contains the different attributes of customers' booking details. The detailed data dictionary is given below.\n",
    "\n",
    "\n",
    "**Data Dictionary**\n",
    "\n",
    "* no_of_adults: Number of adults\n",
    "* no_of_children: Number of Children\n",
    "* no_of_weekend_nights: Number of weekend nights (Saturday or Sunday) the guest stayed or booked to stay at the hotel\n",
    "* no_of_week_nights: Number of week nights (Monday to Friday) the guest stayed or booked to stay at the hotel\n",
    "* type_of_meal_plan: Type of meal plan booked by the customer:\n",
    "    * Not Selected – No meal plan selected\n",
    "    * Meal Plan 1 – Breakfast\n",
    "    * Meal Plan 2 – Half board (breakfast and one other meal)\n",
    "    * Meal Plan 3 – Full board (breakfast, lunch, and dinner)\n",
    "* required_car_parking_space: Does the customer require a car parking space? (0 - No, 1- Yes)\n",
    "* room_type_reserved: Type of room reserved by the customer. The values are ciphered (encoded) by Star Hotels.\n",
    "* lead_time: Number of days between the date of booking and the arrival date\n",
    "* arrival_year: Year of arrival date\n",
    "* arrival_month: Month of arrival date\n",
    "* arrival_date: Date of the month\n",
    "* market_segment_type: Market segment designation.\n",
    "* repeated_guest: Is the customer a repeated guest? (0 - No, 1- Yes)\n",
    "* no_of_previous_cancellations: Number of previous bookings that were canceled by the customer prior to the current booking\n",
    "* no_of_previous_bookings_not_canceled: Number of previous bookings not canceled by the customer prior to the current booking\n",
    "* avg_price_per_room: Average price per day of the reservation; prices of the rooms are dynamic. (in euros)\n",
    "* no_of_special_requests: Total number of special requests made by the customer (e.g. high floor, view from the room, etc)\n",
    "* booking_status: Flag indicating if the booking was canceled or not."
   ]
  },
  {
   "cell_type": "code",
   "execution_count": 1,
   "metadata": {
    "id": "proper-calgary",
    "outputId": "c9a178c9-fe92-4393-ac6d-905c6562ed1d"
   },
   "outputs": [],
   "source": [
    "# this will help in making the Python code more structured automatically (help adhere to good coding practices)\n",
    "#%load_ext nb_black\n",
    "\n",
    "import warnings\n",
    "\n",
    "warnings.filterwarnings(\"ignore\")\n",
    "from statsmodels.tools.sm_exceptions import ConvergenceWarning\n",
    "\n",
    "warnings.simplefilter(\"ignore\", ConvergenceWarning)\n",
    "\n",
    "# Libraries to help with reading and manipulating data\n",
    "\n",
    "import pandas as pd\n",
    "import numpy as np\n",
    "\n",
    "# Library to split data\n",
    "from sklearn.model_selection import train_test_split\n",
    "\n",
    "# libaries to help with data visualization\n",
    "import matplotlib.pyplot as plt\n",
    "import seaborn as sns\n",
    "\n",
    "# Removes the limit for the number of displayed columns\n",
    "pd.set_option(\"display.max_columns\", None)\n",
    "# Sets the limit for the number of displayed rows\n",
    "pd.set_option(\"display.max_rows\", 200)\n",
    "# setting the precision of floating numbers to 5 decimal points\n",
    "pd.set_option(\"display.float_format\", lambda x: \"%.5f\" % x)\n",
    "\n",
    "# To build model for prediction\n",
    "import statsmodels.stats.api as sms\n",
    "from statsmodels.stats.outliers_influence import variance_inflation_factor\n",
    "import statsmodels.api as sm\n",
    "from statsmodels.tools.tools import add_constant\n",
    "from sklearn.linear_model import LogisticRegression\n",
    "from sklearn.tree import DecisionTreeClassifier\n",
    "from sklearn import tree\n",
    "from sklearn import metrics\n",
    "\n",
    "# To tune different models\n",
    "from sklearn.model_selection import GridSearchCV\n",
    "\n",
    "\n",
    "# To get diferent metric scores\n",
    "from sklearn.metrics import (\n",
    "    f1_score,\n",
    "    accuracy_score,\n",
    "    recall_score,\n",
    "    precision_score,\n",
    "    confusion_matrix,\n",
    "    classification_report,\n",
    "    roc_auc_score,\n",
    "    plot_confusion_matrix,\n",
    "    precision_recall_curve,\n",
    "    roc_curve,\n",
    "    make_scorer,\n",
    ")"
   ]
  },
  {
   "cell_type": "markdown",
   "metadata": {
    "id": "fantastic-rebel"
   },
   "source": [
    "## Import Dataset"
   ]
  },
  {
   "cell_type": "code",
   "execution_count": 2,
   "metadata": {
    "id": "precious-leonard",
    "outputId": "0c8093b8-d38f-4732-b1eb-40c406b1e540"
   },
   "outputs": [],
   "source": [
    "hotel = pd.read_csv(\"StarHotelsGroup.csv\")"
   ]
  },
  {
   "cell_type": "code",
   "execution_count": 3,
   "metadata": {
    "id": "geographic-gender",
    "outputId": "e8974753-2ac4-4e98-89e4-be262d4eb21e"
   },
   "outputs": [],
   "source": [
    "# copying data to another variable to avoid any changes to original data\n",
    "data = hotel.copy()"
   ]
  },
  {
   "cell_type": "markdown",
   "metadata": {
    "id": "convinced-blackberry"
   },
   "source": [
    "### View the first and last 5 rows of the dataset"
   ]
  },
  {
   "cell_type": "code",
   "execution_count": 4,
   "metadata": {
    "id": "tested-adjustment",
    "outputId": "5a49f79c-b530-49ec-aee1-b540342ffa6a"
   },
   "outputs": [
    {
     "data": {
      "text/html": [
       "<div>\n",
       "<style scoped>\n",
       "    .dataframe tbody tr th:only-of-type {\n",
       "        vertical-align: middle;\n",
       "    }\n",
       "\n",
       "    .dataframe tbody tr th {\n",
       "        vertical-align: top;\n",
       "    }\n",
       "\n",
       "    .dataframe thead th {\n",
       "        text-align: right;\n",
       "    }\n",
       "</style>\n",
       "<table border=\"1\" class=\"dataframe\">\n",
       "  <thead>\n",
       "    <tr style=\"text-align: right;\">\n",
       "      <th></th>\n",
       "      <th>no_of_adults</th>\n",
       "      <th>no_of_children</th>\n",
       "      <th>no_of_weekend_nights</th>\n",
       "      <th>no_of_week_nights</th>\n",
       "      <th>type_of_meal_plan</th>\n",
       "      <th>required_car_parking_space</th>\n",
       "      <th>room_type_reserved</th>\n",
       "      <th>lead_time</th>\n",
       "      <th>arrival_year</th>\n",
       "      <th>arrival_month</th>\n",
       "      <th>arrival_date</th>\n",
       "      <th>market_segment_type</th>\n",
       "      <th>repeated_guest</th>\n",
       "      <th>no_of_previous_cancellations</th>\n",
       "      <th>no_of_previous_bookings_not_canceled</th>\n",
       "      <th>avg_price_per_room</th>\n",
       "      <th>no_of_special_requests</th>\n",
       "      <th>booking_status</th>\n",
       "    </tr>\n",
       "  </thead>\n",
       "  <tbody>\n",
       "    <tr>\n",
       "      <th>0</th>\n",
       "      <td>2</td>\n",
       "      <td>0</td>\n",
       "      <td>1</td>\n",
       "      <td>2</td>\n",
       "      <td>Meal Plan 1</td>\n",
       "      <td>0</td>\n",
       "      <td>Room_Type 1</td>\n",
       "      <td>224</td>\n",
       "      <td>2017</td>\n",
       "      <td>10</td>\n",
       "      <td>2</td>\n",
       "      <td>Offline</td>\n",
       "      <td>0</td>\n",
       "      <td>0</td>\n",
       "      <td>0</td>\n",
       "      <td>65.00000</td>\n",
       "      <td>0</td>\n",
       "      <td>Not_Canceled</td>\n",
       "    </tr>\n",
       "    <tr>\n",
       "      <th>1</th>\n",
       "      <td>2</td>\n",
       "      <td>0</td>\n",
       "      <td>2</td>\n",
       "      <td>3</td>\n",
       "      <td>Not Selected</td>\n",
       "      <td>0</td>\n",
       "      <td>Room_Type 1</td>\n",
       "      <td>5</td>\n",
       "      <td>2018</td>\n",
       "      <td>11</td>\n",
       "      <td>6</td>\n",
       "      <td>Online</td>\n",
       "      <td>0</td>\n",
       "      <td>0</td>\n",
       "      <td>0</td>\n",
       "      <td>106.68000</td>\n",
       "      <td>1</td>\n",
       "      <td>Not_Canceled</td>\n",
       "    </tr>\n",
       "    <tr>\n",
       "      <th>2</th>\n",
       "      <td>1</td>\n",
       "      <td>0</td>\n",
       "      <td>2</td>\n",
       "      <td>1</td>\n",
       "      <td>Meal Plan 1</td>\n",
       "      <td>0</td>\n",
       "      <td>Room_Type 1</td>\n",
       "      <td>1</td>\n",
       "      <td>2018</td>\n",
       "      <td>2</td>\n",
       "      <td>28</td>\n",
       "      <td>Online</td>\n",
       "      <td>0</td>\n",
       "      <td>0</td>\n",
       "      <td>0</td>\n",
       "      <td>60.00000</td>\n",
       "      <td>0</td>\n",
       "      <td>Canceled</td>\n",
       "    </tr>\n",
       "    <tr>\n",
       "      <th>3</th>\n",
       "      <td>2</td>\n",
       "      <td>0</td>\n",
       "      <td>0</td>\n",
       "      <td>2</td>\n",
       "      <td>Meal Plan 1</td>\n",
       "      <td>0</td>\n",
       "      <td>Room_Type 1</td>\n",
       "      <td>211</td>\n",
       "      <td>2018</td>\n",
       "      <td>5</td>\n",
       "      <td>20</td>\n",
       "      <td>Online</td>\n",
       "      <td>0</td>\n",
       "      <td>0</td>\n",
       "      <td>0</td>\n",
       "      <td>100.00000</td>\n",
       "      <td>0</td>\n",
       "      <td>Canceled</td>\n",
       "    </tr>\n",
       "    <tr>\n",
       "      <th>4</th>\n",
       "      <td>3</td>\n",
       "      <td>0</td>\n",
       "      <td>0</td>\n",
       "      <td>3</td>\n",
       "      <td>Not Selected</td>\n",
       "      <td>0</td>\n",
       "      <td>Room_Type 1</td>\n",
       "      <td>277</td>\n",
       "      <td>2019</td>\n",
       "      <td>7</td>\n",
       "      <td>13</td>\n",
       "      <td>Online</td>\n",
       "      <td>0</td>\n",
       "      <td>0</td>\n",
       "      <td>0</td>\n",
       "      <td>89.10000</td>\n",
       "      <td>2</td>\n",
       "      <td>Canceled</td>\n",
       "    </tr>\n",
       "  </tbody>\n",
       "</table>\n",
       "</div>"
      ],
      "text/plain": [
       "   no_of_adults  no_of_children  no_of_weekend_nights  no_of_week_nights  \\\n",
       "0             2               0                     1                  2   \n",
       "1             2               0                     2                  3   \n",
       "2             1               0                     2                  1   \n",
       "3             2               0                     0                  2   \n",
       "4             3               0                     0                  3   \n",
       "\n",
       "  type_of_meal_plan  required_car_parking_space room_type_reserved  lead_time  \\\n",
       "0       Meal Plan 1                           0        Room_Type 1        224   \n",
       "1      Not Selected                           0        Room_Type 1          5   \n",
       "2       Meal Plan 1                           0        Room_Type 1          1   \n",
       "3       Meal Plan 1                           0        Room_Type 1        211   \n",
       "4      Not Selected                           0        Room_Type 1        277   \n",
       "\n",
       "   arrival_year  arrival_month  arrival_date market_segment_type  \\\n",
       "0          2017             10             2             Offline   \n",
       "1          2018             11             6              Online   \n",
       "2          2018              2            28              Online   \n",
       "3          2018              5            20              Online   \n",
       "4          2019              7            13              Online   \n",
       "\n",
       "   repeated_guest  no_of_previous_cancellations  \\\n",
       "0               0                             0   \n",
       "1               0                             0   \n",
       "2               0                             0   \n",
       "3               0                             0   \n",
       "4               0                             0   \n",
       "\n",
       "   no_of_previous_bookings_not_canceled  avg_price_per_room  \\\n",
       "0                                     0            65.00000   \n",
       "1                                     0           106.68000   \n",
       "2                                     0            60.00000   \n",
       "3                                     0           100.00000   \n",
       "4                                     0            89.10000   \n",
       "\n",
       "   no_of_special_requests booking_status  \n",
       "0                       0   Not_Canceled  \n",
       "1                       1   Not_Canceled  \n",
       "2                       0       Canceled  \n",
       "3                       0       Canceled  \n",
       "4                       2       Canceled  "
      ]
     },
     "execution_count": 4,
     "metadata": {},
     "output_type": "execute_result"
    }
   ],
   "source": [
    "data.head()"
   ]
  },
  {
   "cell_type": "code",
   "execution_count": 5,
   "metadata": {
    "id": "demonstrated-charger",
    "outputId": "0771f554-108a-4473-c622-8135ad412e3f"
   },
   "outputs": [
    {
     "data": {
      "text/html": [
       "<div>\n",
       "<style scoped>\n",
       "    .dataframe tbody tr th:only-of-type {\n",
       "        vertical-align: middle;\n",
       "    }\n",
       "\n",
       "    .dataframe tbody tr th {\n",
       "        vertical-align: top;\n",
       "    }\n",
       "\n",
       "    .dataframe thead th {\n",
       "        text-align: right;\n",
       "    }\n",
       "</style>\n",
       "<table border=\"1\" class=\"dataframe\">\n",
       "  <thead>\n",
       "    <tr style=\"text-align: right;\">\n",
       "      <th></th>\n",
       "      <th>no_of_adults</th>\n",
       "      <th>no_of_children</th>\n",
       "      <th>no_of_weekend_nights</th>\n",
       "      <th>no_of_week_nights</th>\n",
       "      <th>type_of_meal_plan</th>\n",
       "      <th>required_car_parking_space</th>\n",
       "      <th>room_type_reserved</th>\n",
       "      <th>lead_time</th>\n",
       "      <th>arrival_year</th>\n",
       "      <th>arrival_month</th>\n",
       "      <th>arrival_date</th>\n",
       "      <th>market_segment_type</th>\n",
       "      <th>repeated_guest</th>\n",
       "      <th>no_of_previous_cancellations</th>\n",
       "      <th>no_of_previous_bookings_not_canceled</th>\n",
       "      <th>avg_price_per_room</th>\n",
       "      <th>no_of_special_requests</th>\n",
       "      <th>booking_status</th>\n",
       "    </tr>\n",
       "  </thead>\n",
       "  <tbody>\n",
       "    <tr>\n",
       "      <th>56921</th>\n",
       "      <td>2</td>\n",
       "      <td>1</td>\n",
       "      <td>0</td>\n",
       "      <td>1</td>\n",
       "      <td>Meal Plan 2</td>\n",
       "      <td>0</td>\n",
       "      <td>Room_Type 4</td>\n",
       "      <td>45</td>\n",
       "      <td>2019</td>\n",
       "      <td>6</td>\n",
       "      <td>15</td>\n",
       "      <td>Online</td>\n",
       "      <td>0</td>\n",
       "      <td>0</td>\n",
       "      <td>0</td>\n",
       "      <td>163.88000</td>\n",
       "      <td>1</td>\n",
       "      <td>Not_Canceled</td>\n",
       "    </tr>\n",
       "    <tr>\n",
       "      <th>56922</th>\n",
       "      <td>2</td>\n",
       "      <td>0</td>\n",
       "      <td>1</td>\n",
       "      <td>1</td>\n",
       "      <td>Meal Plan 1</td>\n",
       "      <td>0</td>\n",
       "      <td>Room_Type 1</td>\n",
       "      <td>320</td>\n",
       "      <td>2019</td>\n",
       "      <td>5</td>\n",
       "      <td>15</td>\n",
       "      <td>Offline</td>\n",
       "      <td>0</td>\n",
       "      <td>0</td>\n",
       "      <td>0</td>\n",
       "      <td>90.00000</td>\n",
       "      <td>1</td>\n",
       "      <td>Canceled</td>\n",
       "    </tr>\n",
       "    <tr>\n",
       "      <th>56923</th>\n",
       "      <td>2</td>\n",
       "      <td>0</td>\n",
       "      <td>0</td>\n",
       "      <td>3</td>\n",
       "      <td>Not Selected</td>\n",
       "      <td>0</td>\n",
       "      <td>Room_Type 1</td>\n",
       "      <td>63</td>\n",
       "      <td>2018</td>\n",
       "      <td>4</td>\n",
       "      <td>21</td>\n",
       "      <td>Online</td>\n",
       "      <td>0</td>\n",
       "      <td>0</td>\n",
       "      <td>0</td>\n",
       "      <td>94.50000</td>\n",
       "      <td>0</td>\n",
       "      <td>Canceled</td>\n",
       "    </tr>\n",
       "    <tr>\n",
       "      <th>56924</th>\n",
       "      <td>2</td>\n",
       "      <td>0</td>\n",
       "      <td>2</td>\n",
       "      <td>2</td>\n",
       "      <td>Not Selected</td>\n",
       "      <td>0</td>\n",
       "      <td>Room_Type 1</td>\n",
       "      <td>6</td>\n",
       "      <td>2019</td>\n",
       "      <td>4</td>\n",
       "      <td>28</td>\n",
       "      <td>Online</td>\n",
       "      <td>0</td>\n",
       "      <td>0</td>\n",
       "      <td>0</td>\n",
       "      <td>162.50000</td>\n",
       "      <td>2</td>\n",
       "      <td>Not_Canceled</td>\n",
       "    </tr>\n",
       "    <tr>\n",
       "      <th>56925</th>\n",
       "      <td>2</td>\n",
       "      <td>0</td>\n",
       "      <td>1</td>\n",
       "      <td>2</td>\n",
       "      <td>Meal Plan 1</td>\n",
       "      <td>0</td>\n",
       "      <td>Room_Type 1</td>\n",
       "      <td>207</td>\n",
       "      <td>2018</td>\n",
       "      <td>12</td>\n",
       "      <td>30</td>\n",
       "      <td>Offline</td>\n",
       "      <td>0</td>\n",
       "      <td>0</td>\n",
       "      <td>0</td>\n",
       "      <td>161.67000</td>\n",
       "      <td>0</td>\n",
       "      <td>Not_Canceled</td>\n",
       "    </tr>\n",
       "  </tbody>\n",
       "</table>\n",
       "</div>"
      ],
      "text/plain": [
       "       no_of_adults  no_of_children  no_of_weekend_nights  no_of_week_nights  \\\n",
       "56921             2               1                     0                  1   \n",
       "56922             2               0                     1                  1   \n",
       "56923             2               0                     0                  3   \n",
       "56924             2               0                     2                  2   \n",
       "56925             2               0                     1                  2   \n",
       "\n",
       "      type_of_meal_plan  required_car_parking_space room_type_reserved  \\\n",
       "56921       Meal Plan 2                           0        Room_Type 4   \n",
       "56922       Meal Plan 1                           0        Room_Type 1   \n",
       "56923      Not Selected                           0        Room_Type 1   \n",
       "56924      Not Selected                           0        Room_Type 1   \n",
       "56925       Meal Plan 1                           0        Room_Type 1   \n",
       "\n",
       "       lead_time  arrival_year  arrival_month  arrival_date  \\\n",
       "56921         45          2019              6            15   \n",
       "56922        320          2019              5            15   \n",
       "56923         63          2018              4            21   \n",
       "56924          6          2019              4            28   \n",
       "56925        207          2018             12            30   \n",
       "\n",
       "      market_segment_type  repeated_guest  no_of_previous_cancellations  \\\n",
       "56921              Online               0                             0   \n",
       "56922             Offline               0                             0   \n",
       "56923              Online               0                             0   \n",
       "56924              Online               0                             0   \n",
       "56925             Offline               0                             0   \n",
       "\n",
       "       no_of_previous_bookings_not_canceled  avg_price_per_room  \\\n",
       "56921                                     0           163.88000   \n",
       "56922                                     0            90.00000   \n",
       "56923                                     0            94.50000   \n",
       "56924                                     0           162.50000   \n",
       "56925                                     0           161.67000   \n",
       "\n",
       "       no_of_special_requests booking_status  \n",
       "56921                       1   Not_Canceled  \n",
       "56922                       1       Canceled  \n",
       "56923                       0       Canceled  \n",
       "56924                       2   Not_Canceled  \n",
       "56925                       0   Not_Canceled  "
      ]
     },
     "execution_count": 5,
     "metadata": {},
     "output_type": "execute_result"
    }
   ],
   "source": [
    "data.tail()"
   ]
  },
  {
   "cell_type": "markdown",
   "metadata": {
    "id": "prepared-clause"
   },
   "source": [
    "### Understand the shape of the dataset"
   ]
  },
  {
   "cell_type": "code",
   "execution_count": 6,
   "metadata": {
    "id": "likely-scene",
    "outputId": "c4dc8178-05d5-4788-ce33-5b8348ced2b6"
   },
   "outputs": [
    {
     "data": {
      "text/plain": [
       "(56926, 18)"
      ]
     },
     "execution_count": 6,
     "metadata": {},
     "output_type": "execute_result"
    }
   ],
   "source": [
    "data.shape"
   ]
  },
  {
   "cell_type": "markdown",
   "metadata": {
    "id": "sacred-language"
   },
   "source": [
    "* The dataset has 56926 rows and 18 columns "
   ]
  },
  {
   "cell_type": "markdown",
   "metadata": {
    "id": "creative-warner"
   },
   "source": [
    "### Check the data types of the columns for the dataset"
   ]
  },
  {
   "cell_type": "code",
   "execution_count": 7,
   "metadata": {
    "id": "expanded-technique",
    "outputId": "a96250c8-79f8-4a28-d671-5849b398180a"
   },
   "outputs": [
    {
     "name": "stdout",
     "output_type": "stream",
     "text": [
      "<class 'pandas.core.frame.DataFrame'>\n",
      "RangeIndex: 56926 entries, 0 to 56925\n",
      "Data columns (total 18 columns):\n",
      " #   Column                                Non-Null Count  Dtype  \n",
      "---  ------                                --------------  -----  \n",
      " 0   no_of_adults                          56926 non-null  int64  \n",
      " 1   no_of_children                        56926 non-null  int64  \n",
      " 2   no_of_weekend_nights                  56926 non-null  int64  \n",
      " 3   no_of_week_nights                     56926 non-null  int64  \n",
      " 4   type_of_meal_plan                     56926 non-null  object \n",
      " 5   required_car_parking_space            56926 non-null  int64  \n",
      " 6   room_type_reserved                    56926 non-null  object \n",
      " 7   lead_time                             56926 non-null  int64  \n",
      " 8   arrival_year                          56926 non-null  int64  \n",
      " 9   arrival_month                         56926 non-null  int64  \n",
      " 10  arrival_date                          56926 non-null  int64  \n",
      " 11  market_segment_type                   56926 non-null  object \n",
      " 12  repeated_guest                        56926 non-null  int64  \n",
      " 13  no_of_previous_cancellations          56926 non-null  int64  \n",
      " 14  no_of_previous_bookings_not_canceled  56926 non-null  int64  \n",
      " 15  avg_price_per_room                    56926 non-null  float64\n",
      " 16  no_of_special_requests                56926 non-null  int64  \n",
      " 17  booking_status                        56926 non-null  object \n",
      "dtypes: float64(1), int64(13), object(4)\n",
      "memory usage: 7.8+ MB\n"
     ]
    }
   ],
   "source": [
    "data.info()"
   ]
  },
  {
   "cell_type": "markdown",
   "metadata": {
    "id": "august-hopkins"
   },
   "source": [
    "* `type_of_meal_plan`, `room_type_reserved`, `market_segment_type`, and `booking_status` are of object type while rest columns are numeric in nature.\n",
    "\n",
    "* There are no null values in the dataset."
   ]
  },
  {
   "cell_type": "code",
   "execution_count": 8,
   "metadata": {
    "id": "greenhouse-vertical",
    "outputId": "5780fb36-7285-4b48-bbcf-1932eaae5cc4"
   },
   "outputs": [
    {
     "data": {
      "text/plain": [
       "14350"
      ]
     },
     "execution_count": 8,
     "metadata": {},
     "output_type": "execute_result"
    }
   ],
   "source": [
    "# checking for duplicate values\n",
    "data.duplicated().sum()"
   ]
  },
  {
   "cell_type": "markdown",
   "metadata": {
    "id": "adjustable-programmer"
   },
   "source": [
    "- There are 14350 duplicate values in the data. \n",
    "- Let's drop these values."
   ]
  },
  {
   "cell_type": "code",
   "execution_count": 9,
   "metadata": {
    "id": "referenced-architect",
    "outputId": "eb67111f-ebae-433c-fc96-f7aeba9c1826"
   },
   "outputs": [],
   "source": [
    "data.drop_duplicates(inplace=True)"
   ]
  },
  {
   "cell_type": "markdown",
   "metadata": {
    "id": "realistic-mortgage"
   },
   "source": [
    "## Exploratory Data Analysis"
   ]
  },
  {
   "cell_type": "markdown",
   "metadata": {},
   "source": [
    "### Q1: Check summary Statistics and analyze the variables. Also find the  Difference between the 25th quantile and 50% quantile value of average-price_per_room"
   ]
  },
  {
   "cell_type": "code",
   "execution_count": 10,
   "metadata": {
    "id": "backed-solution",
    "outputId": "e927f154-c655-41fa-e8b3-4b8595187cb7"
   },
   "outputs": [
    {
     "data": {
      "text/html": [
       "<div>\n",
       "<style scoped>\n",
       "    .dataframe tbody tr th:only-of-type {\n",
       "        vertical-align: middle;\n",
       "    }\n",
       "\n",
       "    .dataframe tbody tr th {\n",
       "        vertical-align: top;\n",
       "    }\n",
       "\n",
       "    .dataframe thead th {\n",
       "        text-align: right;\n",
       "    }\n",
       "</style>\n",
       "<table border=\"1\" class=\"dataframe\">\n",
       "  <thead>\n",
       "    <tr style=\"text-align: right;\">\n",
       "      <th></th>\n",
       "      <th>count</th>\n",
       "      <th>mean</th>\n",
       "      <th>std</th>\n",
       "      <th>min</th>\n",
       "      <th>25%</th>\n",
       "      <th>50%</th>\n",
       "      <th>75%</th>\n",
       "      <th>max</th>\n",
       "    </tr>\n",
       "  </thead>\n",
       "  <tbody>\n",
       "    <tr>\n",
       "      <th>no_of_adults</th>\n",
       "      <td>42576.00000</td>\n",
       "      <td>1.91674</td>\n",
       "      <td>0.52752</td>\n",
       "      <td>0.00000</td>\n",
       "      <td>2.00000</td>\n",
       "      <td>2.00000</td>\n",
       "      <td>2.00000</td>\n",
       "      <td>4.00000</td>\n",
       "    </tr>\n",
       "    <tr>\n",
       "      <th>no_of_children</th>\n",
       "      <td>42576.00000</td>\n",
       "      <td>0.14215</td>\n",
       "      <td>0.45992</td>\n",
       "      <td>0.00000</td>\n",
       "      <td>0.00000</td>\n",
       "      <td>0.00000</td>\n",
       "      <td>0.00000</td>\n",
       "      <td>10.00000</td>\n",
       "    </tr>\n",
       "    <tr>\n",
       "      <th>no_of_weekend_nights</th>\n",
       "      <td>42576.00000</td>\n",
       "      <td>0.89527</td>\n",
       "      <td>0.88786</td>\n",
       "      <td>0.00000</td>\n",
       "      <td>0.00000</td>\n",
       "      <td>1.00000</td>\n",
       "      <td>2.00000</td>\n",
       "      <td>8.00000</td>\n",
       "    </tr>\n",
       "    <tr>\n",
       "      <th>no_of_week_nights</th>\n",
       "      <td>42576.00000</td>\n",
       "      <td>2.32117</td>\n",
       "      <td>1.51933</td>\n",
       "      <td>0.00000</td>\n",
       "      <td>1.00000</td>\n",
       "      <td>2.00000</td>\n",
       "      <td>3.00000</td>\n",
       "      <td>17.00000</td>\n",
       "    </tr>\n",
       "    <tr>\n",
       "      <th>required_car_parking_space</th>\n",
       "      <td>42576.00000</td>\n",
       "      <td>0.03436</td>\n",
       "      <td>0.18216</td>\n",
       "      <td>0.00000</td>\n",
       "      <td>0.00000</td>\n",
       "      <td>0.00000</td>\n",
       "      <td>0.00000</td>\n",
       "      <td>1.00000</td>\n",
       "    </tr>\n",
       "    <tr>\n",
       "      <th>lead_time</th>\n",
       "      <td>42576.00000</td>\n",
       "      <td>77.31595</td>\n",
       "      <td>77.27962</td>\n",
       "      <td>0.00000</td>\n",
       "      <td>16.00000</td>\n",
       "      <td>53.00000</td>\n",
       "      <td>118.00000</td>\n",
       "      <td>521.00000</td>\n",
       "    </tr>\n",
       "    <tr>\n",
       "      <th>arrival_year</th>\n",
       "      <td>42576.00000</td>\n",
       "      <td>2018.29789</td>\n",
       "      <td>0.62613</td>\n",
       "      <td>2017.00000</td>\n",
       "      <td>2018.00000</td>\n",
       "      <td>2018.00000</td>\n",
       "      <td>2019.00000</td>\n",
       "      <td>2019.00000</td>\n",
       "    </tr>\n",
       "    <tr>\n",
       "      <th>arrival_month</th>\n",
       "      <td>42576.00000</td>\n",
       "      <td>6.36549</td>\n",
       "      <td>3.05192</td>\n",
       "      <td>1.00000</td>\n",
       "      <td>4.00000</td>\n",
       "      <td>6.00000</td>\n",
       "      <td>9.00000</td>\n",
       "      <td>12.00000</td>\n",
       "    </tr>\n",
       "    <tr>\n",
       "      <th>arrival_date</th>\n",
       "      <td>42576.00000</td>\n",
       "      <td>15.68287</td>\n",
       "      <td>8.81399</td>\n",
       "      <td>1.00000</td>\n",
       "      <td>8.00000</td>\n",
       "      <td>16.00000</td>\n",
       "      <td>23.00000</td>\n",
       "      <td>31.00000</td>\n",
       "    </tr>\n",
       "    <tr>\n",
       "      <th>repeated_guest</th>\n",
       "      <td>42576.00000</td>\n",
       "      <td>0.03089</td>\n",
       "      <td>0.17301</td>\n",
       "      <td>0.00000</td>\n",
       "      <td>0.00000</td>\n",
       "      <td>0.00000</td>\n",
       "      <td>0.00000</td>\n",
       "      <td>1.00000</td>\n",
       "    </tr>\n",
       "    <tr>\n",
       "      <th>no_of_previous_cancellations</th>\n",
       "      <td>42576.00000</td>\n",
       "      <td>0.02541</td>\n",
       "      <td>0.35819</td>\n",
       "      <td>0.00000</td>\n",
       "      <td>0.00000</td>\n",
       "      <td>0.00000</td>\n",
       "      <td>0.00000</td>\n",
       "      <td>13.00000</td>\n",
       "    </tr>\n",
       "    <tr>\n",
       "      <th>no_of_previous_bookings_not_canceled</th>\n",
       "      <td>42576.00000</td>\n",
       "      <td>0.22273</td>\n",
       "      <td>2.24231</td>\n",
       "      <td>0.00000</td>\n",
       "      <td>0.00000</td>\n",
       "      <td>0.00000</td>\n",
       "      <td>0.00000</td>\n",
       "      <td>72.00000</td>\n",
       "    </tr>\n",
       "    <tr>\n",
       "      <th>avg_price_per_room</th>\n",
       "      <td>42576.00000</td>\n",
       "      <td>112.37580</td>\n",
       "      <td>40.86590</td>\n",
       "      <td>0.00000</td>\n",
       "      <td>85.50000</td>\n",
       "      <td>107.00000</td>\n",
       "      <td>135.00000</td>\n",
       "      <td>540.00000</td>\n",
       "    </tr>\n",
       "    <tr>\n",
       "      <th>no_of_special_requests</th>\n",
       "      <td>42576.00000</td>\n",
       "      <td>0.76811</td>\n",
       "      <td>0.83726</td>\n",
       "      <td>0.00000</td>\n",
       "      <td>0.00000</td>\n",
       "      <td>1.00000</td>\n",
       "      <td>1.00000</td>\n",
       "      <td>5.00000</td>\n",
       "    </tr>\n",
       "  </tbody>\n",
       "</table>\n",
       "</div>"
      ],
      "text/plain": [
       "                                           count       mean      std  \\\n",
       "no_of_adults                         42576.00000    1.91674  0.52752   \n",
       "no_of_children                       42576.00000    0.14215  0.45992   \n",
       "no_of_weekend_nights                 42576.00000    0.89527  0.88786   \n",
       "no_of_week_nights                    42576.00000    2.32117  1.51933   \n",
       "required_car_parking_space           42576.00000    0.03436  0.18216   \n",
       "lead_time                            42576.00000   77.31595 77.27962   \n",
       "arrival_year                         42576.00000 2018.29789  0.62613   \n",
       "arrival_month                        42576.00000    6.36549  3.05192   \n",
       "arrival_date                         42576.00000   15.68287  8.81399   \n",
       "repeated_guest                       42576.00000    0.03089  0.17301   \n",
       "no_of_previous_cancellations         42576.00000    0.02541  0.35819   \n",
       "no_of_previous_bookings_not_canceled 42576.00000    0.22273  2.24231   \n",
       "avg_price_per_room                   42576.00000  112.37580 40.86590   \n",
       "no_of_special_requests               42576.00000    0.76811  0.83726   \n",
       "\n",
       "                                            min        25%        50%  \\\n",
       "no_of_adults                            0.00000    2.00000    2.00000   \n",
       "no_of_children                          0.00000    0.00000    0.00000   \n",
       "no_of_weekend_nights                    0.00000    0.00000    1.00000   \n",
       "no_of_week_nights                       0.00000    1.00000    2.00000   \n",
       "required_car_parking_space              0.00000    0.00000    0.00000   \n",
       "lead_time                               0.00000   16.00000   53.00000   \n",
       "arrival_year                         2017.00000 2018.00000 2018.00000   \n",
       "arrival_month                           1.00000    4.00000    6.00000   \n",
       "arrival_date                            1.00000    8.00000   16.00000   \n",
       "repeated_guest                          0.00000    0.00000    0.00000   \n",
       "no_of_previous_cancellations            0.00000    0.00000    0.00000   \n",
       "no_of_previous_bookings_not_canceled    0.00000    0.00000    0.00000   \n",
       "avg_price_per_room                      0.00000   85.50000  107.00000   \n",
       "no_of_special_requests                  0.00000    0.00000    1.00000   \n",
       "\n",
       "                                            75%        max  \n",
       "no_of_adults                            2.00000    4.00000  \n",
       "no_of_children                          0.00000   10.00000  \n",
       "no_of_weekend_nights                    2.00000    8.00000  \n",
       "no_of_week_nights                       3.00000   17.00000  \n",
       "required_car_parking_space              0.00000    1.00000  \n",
       "lead_time                             118.00000  521.00000  \n",
       "arrival_year                         2019.00000 2019.00000  \n",
       "arrival_month                           9.00000   12.00000  \n",
       "arrival_date                           23.00000   31.00000  \n",
       "repeated_guest                          0.00000    1.00000  \n",
       "no_of_previous_cancellations            0.00000   13.00000  \n",
       "no_of_previous_bookings_not_canceled    0.00000   72.00000  \n",
       "avg_price_per_room                    135.00000  540.00000  \n",
       "no_of_special_requests                  1.00000    5.00000  "
      ]
     },
     "execution_count": 10,
     "metadata": {},
     "output_type": "execute_result"
    }
   ],
   "source": [
    "#Remove __________ and complete the code\n",
    "\n",
    "data.describe().T"
   ]
  },
  {
   "cell_type": "markdown",
   "metadata": {
    "id": "personal-detector"
   },
   "source": [
    "**Observations:**\n",
    "* The number of adults ranges from 0 to 4, which is usual.\n",
    "* The maximum value in the number of children column is 10, which is a bit unusual and might require a check.\n",
    "* The range of the number of weeks and weekend nights seems fine. Though 8 weekends might be a very long stay.\n",
    "* At least 75% of the customers do not require car parking space.\n",
    "* On average the customers are book 77 days in advance. There's also a very huge difference in 75th percentile and maximum value which indicates there might be outliers present in this column.\n",
    "### These are some observations only, kindly try to analyze the summary statistics. "
   ]
  },
  {
   "cell_type": "markdown",
   "metadata": {
    "id": "arbitrary-intelligence"
   },
   "source": [
    "### Univariate Analysis"
   ]
  },
  {
   "cell_type": "markdown",
   "metadata": {},
   "source": [
    "Let's explore these variables in some more depth by observing their distributions\n"
   ]
  },
  {
   "cell_type": "code",
   "execution_count": 11,
   "metadata": {},
   "outputs": [],
   "source": [
    "#Creating numerical columns\n",
    "num_cols=['no_of_adults', 'no_of_children', 'no_of_weekend_nights', 'no_of_week_nights','required_car_parking_space','lead_time','arrival_month','repeated_guest','no_of_previous_cancellations','no_of_previous_bookings_not_canceled', 'avg_price_per_room', 'no_of_special_requests']\n",
    "\n",
    "#Creating categorical variables \n",
    "cat_cols= ['type_of_meal_plan','room_type_reserved','market_segment_type','booking_status']"
   ]
  },
  {
   "cell_type": "code",
   "execution_count": 12,
   "metadata": {},
   "outputs": [
    {
     "data": {
      "image/png": "[encoded data removed]",
      "text/plain": [
       "<Figure size 1008x1008 with 12 Axes>"
      ]
     },
     "metadata": {
      "needs_background": "light"
     },
     "output_type": "display_data"
    }
   ],
   "source": [
    "#creating histograms\n",
    "data[num_cols].hist(figsize=(14,14))\n",
    "plt.show()"
   ]
  },
  {
   "cell_type": "markdown",
   "metadata": {},
   "source": [
    "* Most of the bookings were made for 2 adults.Almost 90% of the customers didn't make reservations for children.\n",
    "* No of weekend night spent is distributed mostly across values 0 , 1 and 2, with 0 being the highest.So many of the customers of the customers do not plan to spend the weekend in the hotel.\n",
    "* Most of the bookings are made for between 1 to 3 nights.A very less proportion of customers made the booking for more than 15 days.\n",
    "* Most of the customers(above 90%) do not require a car parking space.\n",
    "* The distribution of lead time is right-skewed, and there are many outliers.Some customers made booking 500 days in     advance.Many customers have made the booking on the same day of arrival as well.\n",
    "*  August is the busiest month for the hotel followed by July.A significant amount of the bookings were made in August.\n",
    "* Very few customers have more than one cancellation.Some customers canceled more than 12 times.\n",
    "* Very few customers have more than 1 booking not canceled previously.Some customers have not canceled their bookings 70 times.\n",
    "* The distribution of average price per room is skewed to right. There are outliers on both sides.The average price of a room is around ~100 euros.\n"
   ]
  },
  {
   "cell_type": "markdown",
   "metadata": {},
   "source": [
    "### Univariate analysis for categorical variables"
   ]
  },
  {
   "cell_type": "markdown",
   "metadata": {},
   "source": [
    "### Q2: More than 90% of the type of room reserved by the customer are of which room type?"
   ]
  },
  {
   "cell_type": "code",
   "execution_count": 13,
   "metadata": {},
   "outputs": [
    {
     "name": "stdout",
     "output_type": "stream",
     "text": [
      "Meal Plan 1     31863\n",
      "Not Selected     8716\n",
      "Meal Plan 2      1989\n",
      "Meal Plan 3         8\n",
      "Name: type_of_meal_plan, dtype: int64\n",
      "****************************************\n",
      "Room_Type 1    29730\n",
      "Room_Type 4     9369\n",
      "Room_Type 6     1540\n",
      "Room_Type 5      906\n",
      "Room_Type 2      718\n",
      "Room_Type 7      307\n",
      "Room_Type 3        6\n",
      "Name: room_type_reserved, dtype: int64\n",
      "****************************************\n",
      "Online           34169\n",
      "Offline           5777\n",
      "Corporate         1939\n",
      "Complementary      496\n",
      "Aviation           195\n",
      "Name: market_segment_type, dtype: int64\n",
      "****************************************\n",
      "Not_Canceled    28089\n",
      "Canceled        14487\n",
      "Name: booking_status, dtype: int64\n",
      "****************************************\n"
     ]
    }
   ],
   "source": [
    "#Printing the % sub categories of each category \n",
    "# hint use value counts,\n",
    "\n",
    "#Remove __________ and complete the code\n",
    "\n",
    "for i in cat_cols:\n",
    "    print(data[i].value_counts())\n",
    "    print('*'*40)"
   ]
  },
  {
   "cell_type": "markdown",
   "metadata": {},
   "source": [
    "* Most of the customers prefer meal plan 1 that is only breakfast.20.5% of the customers didn't select a meal plan.\n",
    "* 80% of the hotel booking were made online followed by 13.6% of the booking made offline.So, it's clear that people are more likely to book online.\n",
    "### These are some observations only, kindly try to analyze all the variables. "
   ]
  },
  {
   "cell_type": "markdown",
   "metadata": {},
   "source": [
    "#### Let's encode Canceled bookings to 1 and Not_Canceled as 0 for further analysis"
   ]
  },
  {
   "cell_type": "markdown",
   "metadata": {},
   "source": [
    "### Bivariate and Multivariate analysis"
   ]
  },
  {
   "cell_type": "markdown",
   "metadata": {},
   "source": [
    "**We have analyzed different categorical and numerical variables.** \n",
    "\n",
    "**Let's now check how does cancellation rate is related with other categorical variables**"
   ]
  },
  {
   "cell_type": "code",
   "execution_count": 16,
   "metadata": {
    "scrolled": false
   },
   "outputs": [
    {
     "data": {
      "image/png": "[encoded data removed]",
      "text/plain": [
       "<Figure size 576x288 with 1 Axes>"
      ]
     },
     "metadata": {
      "needs_background": "light"
     },
     "output_type": "display_data"
    },
    {
     "data": {
      "image/png": "[encoded data removed]",
      "text/plain": [
       "<Figure size 576x288 with 1 Axes>"
      ]
     },
     "metadata": {
      "needs_background": "light"
     },
     "output_type": "display_data"
    },
    {
     "data": {
      "image/png": "[encoded data removed]",
      "text/plain": [
       "<Figure size 576x288 with 1 Axes>"
      ]
     },
     "metadata": {
      "needs_background": "light"
     },
     "output_type": "display_data"
    },
    {
     "data": {
      "image/png": "[encoded data removed]",
      "text/plain": [
       "<Figure size 576x288 with 1 Axes>"
      ]
     },
     "metadata": {
      "needs_background": "light"
     },
     "output_type": "display_data"
    },
    {
     "data": {
      "image/png": "[encoded data removed]",
      "text/plain": [
       "<Figure size 576x288 with 1 Axes>"
      ]
     },
     "metadata": {
      "needs_background": "light"
     },
     "output_type": "display_data"
    }
   ],
   "source": [
    "new_cols= ['room_type_reserved','market_segment_type','booking_status','no_of_special_requests','repeated_guest','arrival_month']\n",
    "\n",
    "for i in new_cols:\n",
    "    if i!='booking_status':\n",
    "        (pd.crosstab(data[i],data['booking_status'],normalize='index')*100).plot(kind='bar',figsize=(8,4),stacked=True)\n",
    "        plt.ylabel('Percentage Cancellation %')"
   ]
  },
  {
   "cell_type": "markdown",
   "metadata": {},
   "source": [
    "* The cancelation of booking doesn't have any significance relation with a specific room type.The number of cancellations almost equaly distributed across all room types.\n",
    "* Around 40% of the online booking were canceled.Bookings made offline are less prone to cancellations.Corporate and Complementary segment shows least cancellations.\n",
    "* If a customer has made more than 2 requests there's a very high chance that the booking will not be canceled.\n",
    "* Cancellation of bookings are lowest in Januaray and December, while it's highest for July and August. July and August also has the most number of bookings.\n",
    "* There are very few repeat customers but the cancellation among them is very less.\n",
    "  This is a good indication as repeat customers are important for the hospitality industry as they can help in spreading     \n",
    "  the word of mouth.A loyal guest is usually more profitable for the business because they are more familiar with what is on   \n",
    "  offer at a hotel they have visited before.Attracting new customers is tedious and costs more as compared to a repeated guest."
   ]
  },
  {
   "cell_type": "markdown",
   "metadata": {},
   "source": [
    "**Let's encode Canceled bookings to 1 and Not_Canceled as 0 for further analysis**"
   ]
  },
  {
   "cell_type": "code",
   "execution_count": 17,
   "metadata": {
    "id": "voluntary-irish",
    "outputId": "71708074-1efa-4fbb-98bd-ea7b4c578227"
   },
   "outputs": [],
   "source": [
    "data[\"booking_status\"] = data[\"booking_status\"].apply(\n",
    "    lambda x: 1 if x == \"Canceled\" else 0 )"
   ]
  },
  {
   "cell_type": "code",
   "execution_count": 18,
   "metadata": {},
   "outputs": [
    {
     "data": {
      "text/html": [
       "<div>\n",
       "<style scoped>\n",
       "    .dataframe tbody tr th:only-of-type {\n",
       "        vertical-align: middle;\n",
       "    }\n",
       "\n",
       "    .dataframe tbody tr th {\n",
       "        vertical-align: top;\n",
       "    }\n",
       "\n",
       "    .dataframe thead th {\n",
       "        text-align: right;\n",
       "    }\n",
       "</style>\n",
       "<table border=\"1\" class=\"dataframe\">\n",
       "  <thead>\n",
       "    <tr style=\"text-align: right;\">\n",
       "      <th></th>\n",
       "      <th>no_of_adults</th>\n",
       "      <th>no_of_children</th>\n",
       "      <th>no_of_weekend_nights</th>\n",
       "      <th>no_of_week_nights</th>\n",
       "      <th>type_of_meal_plan</th>\n",
       "      <th>required_car_parking_space</th>\n",
       "      <th>room_type_reserved</th>\n",
       "      <th>lead_time</th>\n",
       "      <th>arrival_year</th>\n",
       "      <th>arrival_month</th>\n",
       "      <th>arrival_date</th>\n",
       "      <th>market_segment_type</th>\n",
       "      <th>repeated_guest</th>\n",
       "      <th>no_of_previous_cancellations</th>\n",
       "      <th>no_of_previous_bookings_not_canceled</th>\n",
       "      <th>avg_price_per_room</th>\n",
       "      <th>no_of_special_requests</th>\n",
       "      <th>booking_status</th>\n",
       "    </tr>\n",
       "  </thead>\n",
       "  <tbody>\n",
       "    <tr>\n",
       "      <th>0</th>\n",
       "      <td>2</td>\n",
       "      <td>0</td>\n",
       "      <td>1</td>\n",
       "      <td>2</td>\n",
       "      <td>Meal Plan 1</td>\n",
       "      <td>0</td>\n",
       "      <td>Room_Type 1</td>\n",
       "      <td>224</td>\n",
       "      <td>2017</td>\n",
       "      <td>10</td>\n",
       "      <td>2</td>\n",
       "      <td>Offline</td>\n",
       "      <td>0</td>\n",
       "      <td>0</td>\n",
       "      <td>0</td>\n",
       "      <td>65.00000</td>\n",
       "      <td>0</td>\n",
       "      <td>0</td>\n",
       "    </tr>\n",
       "    <tr>\n",
       "      <th>1</th>\n",
       "      <td>2</td>\n",
       "      <td>0</td>\n",
       "      <td>2</td>\n",
       "      <td>3</td>\n",
       "      <td>Not Selected</td>\n",
       "      <td>0</td>\n",
       "      <td>Room_Type 1</td>\n",
       "      <td>5</td>\n",
       "      <td>2018</td>\n",
       "      <td>11</td>\n",
       "      <td>6</td>\n",
       "      <td>Online</td>\n",
       "      <td>0</td>\n",
       "      <td>0</td>\n",
       "      <td>0</td>\n",
       "      <td>106.68000</td>\n",
       "      <td>1</td>\n",
       "      <td>0</td>\n",
       "    </tr>\n",
       "    <tr>\n",
       "      <th>2</th>\n",
       "      <td>1</td>\n",
       "      <td>0</td>\n",
       "      <td>2</td>\n",
       "      <td>1</td>\n",
       "      <td>Meal Plan 1</td>\n",
       "      <td>0</td>\n",
       "      <td>Room_Type 1</td>\n",
       "      <td>1</td>\n",
       "      <td>2018</td>\n",
       "      <td>2</td>\n",
       "      <td>28</td>\n",
       "      <td>Online</td>\n",
       "      <td>0</td>\n",
       "      <td>0</td>\n",
       "      <td>0</td>\n",
       "      <td>60.00000</td>\n",
       "      <td>0</td>\n",
       "      <td>1</td>\n",
       "    </tr>\n",
       "    <tr>\n",
       "      <th>3</th>\n",
       "      <td>2</td>\n",
       "      <td>0</td>\n",
       "      <td>0</td>\n",
       "      <td>2</td>\n",
       "      <td>Meal Plan 1</td>\n",
       "      <td>0</td>\n",
       "      <td>Room_Type 1</td>\n",
       "      <td>211</td>\n",
       "      <td>2018</td>\n",
       "      <td>5</td>\n",
       "      <td>20</td>\n",
       "      <td>Online</td>\n",
       "      <td>0</td>\n",
       "      <td>0</td>\n",
       "      <td>0</td>\n",
       "      <td>100.00000</td>\n",
       "      <td>0</td>\n",
       "      <td>1</td>\n",
       "    </tr>\n",
       "    <tr>\n",
       "      <th>4</th>\n",
       "      <td>3</td>\n",
       "      <td>0</td>\n",
       "      <td>0</td>\n",
       "      <td>3</td>\n",
       "      <td>Not Selected</td>\n",
       "      <td>0</td>\n",
       "      <td>Room_Type 1</td>\n",
       "      <td>277</td>\n",
       "      <td>2019</td>\n",
       "      <td>7</td>\n",
       "      <td>13</td>\n",
       "      <td>Online</td>\n",
       "      <td>0</td>\n",
       "      <td>0</td>\n",
       "      <td>0</td>\n",
       "      <td>89.10000</td>\n",
       "      <td>2</td>\n",
       "      <td>1</td>\n",
       "    </tr>\n",
       "  </tbody>\n",
       "</table>\n",
       "</div>"
      ],
      "text/plain": [
       "   no_of_adults  no_of_children  no_of_weekend_nights  no_of_week_nights  \\\n",
       "0             2               0                     1                  2   \n",
       "1             2               0                     2                  3   \n",
       "2             1               0                     2                  1   \n",
       "3             2               0                     0                  2   \n",
       "4             3               0                     0                  3   \n",
       "\n",
       "  type_of_meal_plan  required_car_parking_space room_type_reserved  lead_time  \\\n",
       "0       Meal Plan 1                           0        Room_Type 1        224   \n",
       "1      Not Selected                           0        Room_Type 1          5   \n",
       "2       Meal Plan 1                           0        Room_Type 1          1   \n",
       "3       Meal Plan 1                           0        Room_Type 1        211   \n",
       "4      Not Selected                           0        Room_Type 1        277   \n",
       "\n",
       "   arrival_year  arrival_month  arrival_date market_segment_type  \\\n",
       "0          2017             10             2             Offline   \n",
       "1          2018             11             6              Online   \n",
       "2          2018              2            28              Online   \n",
       "3          2018              5            20              Online   \n",
       "4          2019              7            13              Online   \n",
       "\n",
       "   repeated_guest  no_of_previous_cancellations  \\\n",
       "0               0                             0   \n",
       "1               0                             0   \n",
       "2               0                             0   \n",
       "3               0                             0   \n",
       "4               0                             0   \n",
       "\n",
       "   no_of_previous_bookings_not_canceled  avg_price_per_room  \\\n",
       "0                                     0            65.00000   \n",
       "1                                     0           106.68000   \n",
       "2                                     0            60.00000   \n",
       "3                                     0           100.00000   \n",
       "4                                     0            89.10000   \n",
       "\n",
       "   no_of_special_requests  booking_status  \n",
       "0                       0               0  \n",
       "1                       1               0  \n",
       "2                       0               1  \n",
       "3                       0               1  \n",
       "4                       2               1  "
      ]
     },
     "execution_count": 18,
     "metadata": {},
     "output_type": "execute_result"
    }
   ],
   "source": [
    "data.head()"
   ]
  },
  {
   "cell_type": "markdown",
   "metadata": {},
   "source": [
    "### Q3: Find correlation between different variables"
   ]
  },
  {
   "cell_type": "code",
   "execution_count": 20,
   "metadata": {
    "id": "official-wyoming",
    "outputId": "81a9c889-9e29-4178-924c-ff99a2b6acab"
   },
   "outputs": [
    {
     "data": {
      "image/png": "[encoded data removed]",
      "text/plain": [
       "<Figure size 864x504 with 2 Axes>"
      ]
     },
     "metadata": {
      "needs_background": "light"
     },
     "output_type": "display_data"
    }
   ],
   "source": [
    "\n",
    "#Remove __________ and complete the code\n",
    "\n",
    "plt.figure(figsize=(12, 7))\n",
    "sns.heatmap(data.corr(), annot=True, cmap='coolwarm')\n",
    "plt.show()"
   ]
  },
  {
   "cell_type": "markdown",
   "metadata": {
    "id": "brave-hamilton"
   },
   "source": [
    "* There's a positive correlation between the number of customers (adults and children) and the average price per room.\n",
    "    * This makes sense as more the number of customers more rooms they will require thus increasing the cost.\n",
    "* There's a negative correlation between average room price by a customer and repeated guests. The hotel might be giving some loyalty benefits to the customers.\n",
    "* There's a positive correlation between the number of previous bookings canceled and previous bookings not canceled by a customer and repeated guest. \n",
    "* There's a positive correlation between lead time and the number of weeknights a customer is planning to stay in the hotel.\n",
    "* There's a positive correlation between booking status and lead time, indicating higher the lead time higher are the chances of cancellation. We will analyze it further.\n",
    "* There's a negative correlation between the number of special requests from the customer and the booking status, indicating if a customer has made some special requests the chances of cancellation might decrease. We will analyze it further."
   ]
  },
  {
   "cell_type": "markdown",
   "metadata": {},
   "source": [
    "**Generally people travel with their spouse and children for vacations or other activities. Let's create a new dataframe of the customers who traveled with their families and analyze the impact on booking status.**"
   ]
  },
  {
   "cell_type": "code",
   "execution_count": 21,
   "metadata": {
    "id": "absent-diabetes",
    "outputId": "26d79cd6-e47e-465d-efd6-87f663972231"
   },
   "outputs": [
    {
     "data": {
      "text/plain": [
       "(35128, 18)"
      ]
     },
     "execution_count": 21,
     "metadata": {},
     "output_type": "execute_result"
    }
   ],
   "source": [
    "family_data = data[(data[\"no_of_children\"] >= 0) & (data[\"no_of_adults\"] > 1)]\n",
    "family_data.shape"
   ]
  },
  {
   "cell_type": "code",
   "execution_count": 22,
   "metadata": {
    "id": "animal-oxide",
    "outputId": "74b4eee9-fb70-43fd-da4f-9fb9a64973b2"
   },
   "outputs": [],
   "source": [
    "family_data[\"no_of_family_members\"] = (\n",
    "    family_data[\"no_of_adults\"] + family_data[\"no_of_children\"]\n",
    ")"
   ]
  },
  {
   "cell_type": "code",
   "execution_count": 24,
   "metadata": {
    "id": "bored-supplier",
    "outputId": "9f9d5679-b0be-47cc-8bbf-d1fcdff2e39a"
   },
   "outputs": [
    {
     "data": {
      "text/plain": [
       "Text(0, 0.5, 'Percentage Cancellation %')"
      ]
     },
     "execution_count": 24,
     "metadata": {},
     "output_type": "execute_result"
    },
    {
     "data": {
      "image/png": "[encoded data removed]",
      "text/plain": [
       "<Figure size 576x288 with 1 Axes>"
      ]
     },
     "metadata": {
      "needs_background": "light"
     },
     "output_type": "display_data"
    }
   ],
   "source": [
    "pd.crosstab(family_data[\"no_of_family_members\"],family_data['booking_status'],normalize='index').plot(kind='bar',figsize=(8,4),stacked=True)\n",
    "plt.ylabel('Percentage Cancellation %')"
   ]
  },
  {
   "cell_type": "markdown",
   "metadata": {
    "id": "protected-freight"
   },
   "source": [
    "* We can see that as the size of the family increases the chances of cancellation also increases.\n",
    "* There's a ~50% chance of a booking getting canceled if the booking is made for 4 family members."
   ]
  },
  {
   "cell_type": "markdown",
   "metadata": {
    "id": "formed-arthur"
   },
   "source": [
    "**Let's do a similar analysis for the customer who stay for at least a day at the hotel.**"
   ]
  },
  {
   "cell_type": "code",
   "execution_count": 25,
   "metadata": {
    "id": "typical-insured",
    "outputId": "6cfd8b69-cc4c-4620-c35c-31309acd85ab"
   },
   "outputs": [
    {
     "data": {
      "text/plain": [
       "(22049, 18)"
      ]
     },
     "execution_count": 25,
     "metadata": {},
     "output_type": "execute_result"
    }
   ],
   "source": [
    "stay_data = data[(data[\"no_of_week_nights\"] > 0) & (data[\"no_of_weekend_nights\"] > 0)]\n",
    "stay_data.shape"
   ]
  },
  {
   "cell_type": "code",
   "execution_count": 26,
   "metadata": {
    "id": "african-foundation",
    "outputId": "f9dc7477-9ddd-4e74-e55c-f7afb2ee2693"
   },
   "outputs": [],
   "source": [
    "stay_data[\"total_days\"] = (\n",
    "    stay_data[\"no_of_week_nights\"] + stay_data[\"no_of_weekend_nights\"]\n",
    ")"
   ]
  },
  {
   "cell_type": "code",
   "execution_count": 27,
   "metadata": {
    "id": "certified-vacation",
    "outputId": "af06989c-b3b3-4a14-b5fc-534c30f80126"
   },
   "outputs": [
    {
     "data": {
      "text/plain": [
       "Text(0, 0.5, 'Percentage Cancellation %')"
      ]
     },
     "execution_count": 27,
     "metadata": {},
     "output_type": "execute_result"
    },
    {
     "data": {
      "image/png": "[encoded data removed]",
      "text/plain": [
       "<Figure size 576x288 with 1 Axes>"
      ]
     },
     "metadata": {
      "needs_background": "light"
     },
     "output_type": "display_data"
    }
   ],
   "source": [
    "(pd.crosstab(stay_data[\"total_days\"],stay_data['booking_status'],normalize='index')*100).plot(kind='bar',figsize=(8,4),stacked=True)\n",
    "plt.ylabel('Percentage Cancellation %')"
   ]
  },
  {
   "cell_type": "markdown",
   "metadata": {
    "id": "biological-concentration"
   },
   "source": [
    "* The chances of cancellation increase as the number of days the customer planned to stay at the hotel increases.\n",
    "* The chances of cancellation increase further if the stay is planned for more than 5 days."
   ]
  },
  {
   "cell_type": "markdown",
   "metadata": {
    "id": "attached-speech"
   },
   "source": [
    "**Let's find out what are the busiest months in the hotel.**"
   ]
  },
  {
   "cell_type": "code",
   "execution_count": 28,
   "metadata": {
    "id": "configured-japan",
    "outputId": "ed101baf-d156-4676-a3b3-213a7c6c92a5"
   },
   "outputs": [
    {
     "data": {
      "image/png": "[encoded data removed]",
      "text/plain": [
       "<Figure size 720x360 with 1 Axes>"
      ]
     },
     "metadata": {
      "needs_background": "light"
     },
     "output_type": "display_data"
    }
   ],
   "source": [
    "# grouping the data on arrival months and extracting the count of bookings\n",
    "monthly_data = data.groupby([\"arrival_month\"])[\"booking_status\"].count()\n",
    "\n",
    "# creating a dataframe with months and count of customers in each month\n",
    "monthly_data = pd.DataFrame(\n",
    "    {\"Month\": list(monthly_data.index), \"Guests\": list(monthly_data.values)}\n",
    ")\n",
    "\n",
    "# plotting the trend over different months\n",
    "plt.figure(figsize=(10, 5))\n",
    "sns.lineplot(data=monthly_data, x=\"Month\", y=\"Guests\")\n",
    "plt.show()"
   ]
  },
  {
   "cell_type": "markdown",
   "metadata": {
    "id": "hawaiian-convert"
   },
   "source": [
    "* The trend shows the number of bookings remains consistent from March to June and the hotel sees around 4000 to 4500 guests.\n",
    "* Most bookings were made in July and August- more than 5000 bookings. \n",
    "* Least bookings were made in January and November - around 2000 bookings."
   ]
  },
  {
   "cell_type": "markdown",
   "metadata": {
    "id": "tired-bridges"
   },
   "source": [
    "**As hotel room prices are dynamic, Let's see how the prices vary across different months**"
   ]
  },
  {
   "cell_type": "code",
   "execution_count": null,
   "metadata": {
    "id": "atomic-locator",
    "outputId": "2cddf2fe-a1d3-490a-9d28-cb2b9f7d3051"
   },
   "outputs": [],
   "source": [
    "plt.figure(figsize=(10, 5))\n",
    "sns.lineplot(y=data[\"avg_price_per_room\"], x=data[\"arrival_month\"], ci=None)\n",
    "plt.show()"
   ]
  },
  {
   "cell_type": "markdown",
   "metadata": {
    "id": "incorporated-northern"
   },
   "source": [
    "* The price of rooms is highest in May to August - vary from 120-130 euros per room."
   ]
  },
  {
   "cell_type": "markdown",
   "metadata": {
    "id": "pleased-chicken"
   },
   "source": [
    "### Data Preparation for modeling\n",
    "\n",
    "- We want to predict which bookings will be canceled.\n",
    "- Before we proceed to build a model, we'll have to encode categorical features.\n",
    "- We'll split the data into train and test to be able to evaluate the model that we build on the train data."
   ]
  },
  {
   "cell_type": "code",
   "execution_count": 29,
   "metadata": {
    "id": "durable-allergy",
    "outputId": "a16171b4-19ab-4c84-d35d-0c0a686b8508"
   },
   "outputs": [],
   "source": [
    "X = data.drop([\"booking_status\"], axis=1)\n",
    "Y = data[\"booking_status\"]\n",
    "\n",
    "X = pd.get_dummies(X, drop_first=True)\n",
    "\n",
    "# Splitting data in train and test sets\n",
    "X_train, X_test, y_train, y_test = train_test_split(\n",
    "    X, Y, test_size=0.30, random_state=1)"
   ]
  },
  {
   "cell_type": "code",
   "execution_count": 30,
   "metadata": {
    "id": "ecological-principal",
    "outputId": "86473a5b-31f8-4d7b-975c-935b81ffc8e7"
   },
   "outputs": [
    {
     "name": "stdout",
     "output_type": "stream",
     "text": [
      "Shape of Training set :  (29803, 27)\n",
      "Shape of test set :  (12773, 27)\n",
      "Percentage of classes in training set:\n",
      "0   0.66107\n",
      "1   0.33893\n",
      "Name: booking_status, dtype: float64\n",
      "Percentage of classes in test set:\n",
      "0   0.65662\n",
      "1   0.34338\n",
      "Name: booking_status, dtype: float64\n"
     ]
    }
   ],
   "source": [
    "print(\"Shape of Training set : \", X_train.shape)\n",
    "print(\"Shape of test set : \", X_test.shape)\n",
    "print(\"Percentage of classes in training set:\")\n",
    "print(y_train.value_counts(normalize=True))\n",
    "print(\"Percentage of classes in test set:\")\n",
    "print(y_test.value_counts(normalize=True))"
   ]
  },
  {
   "cell_type": "markdown",
   "metadata": {
    "id": "cultural-engagement"
   },
   "source": [
    "### Model evaluation criterion\n",
    "\n",
    "### Model can make wrong predictions as:\n",
    "\n",
    "1. Predicting a customer will not cancel their booking but in reality, the customer will cancel their booking.\n",
    "2. Predicting a customer will cancel their booking but in reality, the customer will not cancel their booking. \n",
    "\n",
    "### Which case is more important? \n",
    "* Both the cases are important as:\n",
    "\n",
    "* If we predict that a booking will not be canceled and the booking gets canceled then the hotel will lose resources and will have to bear additional costs of distribution channels.\n",
    "\n",
    "* If we predict that a booking will get canceled and the booking doesn't get canceled the hotel might not be able to provide satisfactory services to the customer by assuming that this booking will be canceled. This might damage the brand equity. \n",
    "\n",
    "\n",
    "\n",
    "### How to reduce the losses?\n",
    "\n",
    "* Hotel would want `F1 Score` to be maximized, greater the F1  score higher are the chances of minimizing False Negatives and False Positives. "
   ]
  },
  {
   "cell_type": "code",
   "execution_count": 31,
   "metadata": {},
   "outputs": [],
   "source": [
    "def metrics_score(actual, predicted):\n",
    "    print(classification_report(actual, predicted))\n",
    "    cm = confusion_matrix(actual, predicted)\n",
    "    plt.figure(figsize=(8,5))\n",
    "    sns.heatmap(cm, annot=True,  fmt='.2f', xticklabels=['Not Cancelled', 'Cancelled'], yticklabels=['Not Cancelled', 'Cancelled'])\n",
    "    plt.ylabel('Actual')\n",
    "    plt.xlabel('Predicted')\n",
    "    plt.show()"
   ]
  },
  {
   "cell_type": "markdown",
   "metadata": {
    "id": "mysterious-sight"
   },
   "source": [
    "### Logistic Regression (with Sklearn library)"
   ]
  },
  {
   "cell_type": "markdown",
   "metadata": {},
   "source": [
    "### Q 4: Build the logistic regression model use random_state =1 and check its performance on train and test dataset"
   ]
  },
  {
   "cell_type": "code",
   "execution_count": 32,
   "metadata": {
    "id": "plastic-logistics",
    "outputId": "472afe97-48ae-43c9-f971-52280fabb39d"
   },
   "outputs": [
    {
     "data": {
      "text/plain": [
       "LogisticRegression()"
      ]
     },
     "execution_count": 32,
     "metadata": {},
     "output_type": "execute_result"
    }
   ],
   "source": [
    "# There are different solvers available in Sklearn logistic regression\n",
    "# The newton-cg solver is faster for high-dimensional data\n",
    "\n",
    "\n",
    "#Remove __________ and complete the code\n",
    "\n",
    "#define the logistic regression model\n",
    "log_reg = LogisticRegression()\n",
    "\n",
    "#fir the logistic regression model\n",
    "log_reg.fit(X_train, y_train)"
   ]
  },
  {
   "cell_type": "code",
   "execution_count": 34,
   "metadata": {
    "id": "coordinate-superintendent",
    "outputId": "bd508087-3ace-4664-da2b-90ed282fb66d"
   },
   "outputs": [
    {
     "name": "stdout",
     "output_type": "stream",
     "text": [
      "              precision    recall  f1-score   support\n",
      "\n",
      "           0       0.81      0.89      0.85     19702\n",
      "           1       0.73      0.59      0.65     10101\n",
      "\n",
      "    accuracy                           0.79     29803\n",
      "   macro avg       0.77      0.74      0.75     29803\n",
      "weighted avg       0.78      0.79      0.78     29803\n",
      "\n"
     ]
    },
    {
     "data": {
      "image/png": "[encoded data removed]",
      "text/plain": [
       "<Figure size 576x360 with 2 Axes>"
      ]
     },
     "metadata": {
      "needs_background": "light"
     },
     "output_type": "display_data"
    }
   ],
   "source": [
    "# predicting on training set\n",
    "\n",
    "#Remove __________ and complete the code\n",
    "\n",
    "y_pred_train = log_reg.predict(X_train)\n",
    "\n",
    "metrics_score(y_train, y_pred_train)"
   ]
  },
  {
   "cell_type": "markdown",
   "metadata": {
    "id": "eight-edition"
   },
   "source": [
    "#### Checking performance on test set"
   ]
  },
  {
   "cell_type": "code",
   "execution_count": 35,
   "metadata": {
    "id": "peaceful-uruguay",
    "outputId": "32214026-4ff7-4a39-b80e-7fab2d4c6ce2"
   },
   "outputs": [
    {
     "name": "stdout",
     "output_type": "stream",
     "text": [
      "              precision    recall  f1-score   support\n",
      "\n",
      "           0       0.80      0.89      0.84      8387\n",
      "           1       0.73      0.59      0.65      4386\n",
      "\n",
      "    accuracy                           0.78     12773\n",
      "   macro avg       0.77      0.74      0.75     12773\n",
      "weighted avg       0.78      0.78      0.78     12773\n",
      "\n"
     ]
    },
    {
     "data": {
      "image/png": "[encoded data removed]",
      "text/plain": [
       "<Figure size 576x360 with 2 Axes>"
      ]
     },
     "metadata": {
      "needs_background": "light"
     },
     "output_type": "display_data"
    }
   ],
   "source": [
    "# predicting on the test set\n",
    "\n",
    "#Remove __________ and complete the code\n",
    "\n",
    "y_pred_test = log_reg.predict(X_test)\n",
    "metrics_score(y_test, y_pred_test)"
   ]
  },
  {
   "cell_type": "markdown",
   "metadata": {
    "id": "given-relations"
   },
   "source": [
    "**Observations**\n",
    "\n",
    "- F1 score on the training and test set is very close, which indicates our model is not overfitting and the model is a good fit.\n",
    "- The F1 score is 0.67 on the training and test set.\n",
    "- The model has high precision and low recall. To get a good F1 score the precision and recall should be comparable."
   ]
  },
  {
   "cell_type": "markdown",
   "metadata": {},
   "source": [
    "### Logistic Regression (with statsmodels library)"
   ]
  },
  {
   "cell_type": "code",
   "execution_count": 36,
   "metadata": {},
   "outputs": [],
   "source": [
    "X = data.drop([\"booking_status\"], axis=1)\n",
    "Y = data[\"booking_status\"]\n",
    "\n",
    "# adding constant\n",
    "X = sm.add_constant(X)\n",
    "\n",
    "X = pd.get_dummies(X, drop_first=True)\n",
    "\n",
    "# Splitting data in train and test sets\n",
    "X_train, X_test, y_train, y_test = train_test_split(\n",
    "    X, Y, test_size=0.30, random_state=1\n",
    ")"
   ]
  },
  {
   "cell_type": "code",
   "execution_count": 37,
   "metadata": {},
   "outputs": [
    {
     "name": "stdout",
     "output_type": "stream",
     "text": [
      "                           Logit Regression Results                           \n",
      "==============================================================================\n",
      "Dep. Variable:         booking_status   No. Observations:                29803\n",
      "Model:                          Logit   Df Residuals:                    29775\n",
      "Method:                           MLE   Df Model:                           27\n",
      "Date:                Thu, 10 Feb 2022   Pseudo R-squ.:                  0.3293\n",
      "Time:                        17:59:16   Log-Likelihood:                -12799.\n",
      "converged:                      False   LL-Null:                       -19083.\n",
      "Covariance Type:            nonrobust   LLR p-value:                     0.000\n",
      "========================================================================================================\n",
      "                                           coef    std err          z      P>|z|      [0.025      0.975]\n",
      "--------------------------------------------------------------------------------------------------------\n",
      "const                                   91.4613     68.734      1.331      0.183     -43.256     226.178\n",
      "no_of_adults                            -0.0320      0.035     -0.904      0.366      -0.102       0.037\n",
      "no_of_children                           0.1129      0.048      2.375      0.018       0.020       0.206\n",
      "no_of_weekend_nights                     0.0337      0.018      1.874      0.061      -0.002       0.069\n",
      "no_of_week_nights                        0.0732      0.011      6.885      0.000       0.052       0.094\n",
      "required_car_parking_space              -1.5124      0.116    -13.007      0.000      -1.740      -1.285\n",
      "lead_time                                0.0168      0.000     62.116      0.000       0.016       0.017\n",
      "arrival_year                            -0.0468      0.034     -1.373      0.170      -0.114       0.020\n",
      "arrival_month                           -0.0416      0.007     -6.146      0.000      -0.055      -0.028\n",
      "arrival_date                            -0.0029      0.002     -1.650      0.099      -0.006       0.001\n",
      "repeated_guest                          -3.0309      0.594     -5.099      0.000      -4.196      -1.866\n",
      "no_of_previous_cancellations             0.2225      0.096      2.307      0.021       0.033       0.412\n",
      "no_of_previous_bookings_not_canceled    -0.0098      0.053     -0.186      0.852      -0.113       0.093\n",
      "avg_price_per_room                       0.0168      0.001     25.746      0.000       0.015       0.018\n",
      "no_of_special_requests                  -1.2915      0.024    -54.838      0.000      -1.338      -1.245\n",
      "type_of_meal_plan_Meal Plan 2           -0.1580      0.080     -1.982      0.048      -0.314      -0.002\n",
      "type_of_meal_plan_Meal Plan 3            2.3659   4.29e+04   5.51e-05      1.000   -8.41e+04    8.42e+04\n",
      "type_of_meal_plan_Not Selected           0.3612      0.043      8.413      0.000       0.277       0.445\n",
      "room_type_reserved_Room_Type 2          -0.1851      0.127     -1.454      0.146      -0.435       0.064\n",
      "room_type_reserved_Room_Type 3           0.3624      1.334      0.272      0.786      -2.251       2.976\n",
      "room_type_reserved_Room_Type 4          -0.1271      0.044     -2.861      0.004      -0.214      -0.040\n",
      "room_type_reserved_Room_Type 5          -0.2723      0.112     -2.422      0.015      -0.493      -0.052\n",
      "room_type_reserved_Room_Type 6          -0.5080      0.120     -4.250      0.000      -0.742      -0.274\n",
      "room_type_reserved_Room_Type 7          -0.7297      0.201     -3.634      0.000      -1.123      -0.336\n",
      "market_segment_type_Complementary      -20.6061   4771.035     -0.004      0.997   -9371.663    9330.451\n",
      "market_segment_type_Corporate           -0.3716      0.274     -1.357      0.175      -0.908       0.165\n",
      "market_segment_type_Offline             -1.9833      0.260     -7.616      0.000      -2.494      -1.473\n",
      "market_segment_type_Online               0.2361      0.254      0.930      0.352      -0.262       0.734\n",
      "========================================================================================================\n"
     ]
    }
   ],
   "source": [
    "# fitting logistic regression model\n",
    "logit = sm.Logit(y_train, X_train.astype(float))\n",
    "lg2 = logit.fit(disp=False)\n",
    "\n",
    "print(lg2.summary())"
   ]
  },
  {
   "cell_type": "code",
   "execution_count": 38,
   "metadata": {},
   "outputs": [
    {
     "name": "stdout",
     "output_type": "stream",
     "text": [
      "Training performance:\n",
      "              precision    recall  f1-score   support\n",
      "\n",
      "           0       0.82      0.88      0.85     19702\n",
      "           1       0.73      0.61      0.67     10101\n",
      "\n",
      "    accuracy                           0.79     29803\n",
      "   macro avg       0.77      0.75      0.76     29803\n",
      "weighted avg       0.79      0.79      0.79     29803\n",
      "\n"
     ]
    },
    {
     "data": {
      "image/png": "[encoded data removed]",
      "text/plain": [
       "<Figure size 576x360 with 2 Axes>"
      ]
     },
     "metadata": {
      "needs_background": "light"
     },
     "output_type": "display_data"
    }
   ],
   "source": [
    "# checking which probabilities are greater than threshold(default threshold = 0.5)\n",
    "pred_temp = lg2.predict(X_train) > 0.5\n",
    "# rounding off the above values to get classes\n",
    "pred = np.round(pred_temp)\n",
    "print(\"Training performance:\")\n",
    "metrics_score(y_train, pred)"
   ]
  },
  {
   "cell_type": "code",
   "execution_count": 39,
   "metadata": {},
   "outputs": [
    {
     "name": "stdout",
     "output_type": "stream",
     "text": [
      "Test performance:\n",
      "              precision    recall  f1-score   support\n",
      "\n",
      "           0       0.81      0.89      0.85      8387\n",
      "           1       0.74      0.61      0.67      4386\n",
      "\n",
      "    accuracy                           0.79     12773\n",
      "   macro avg       0.77      0.75      0.76     12773\n",
      "weighted avg       0.79      0.79      0.79     12773\n",
      "\n"
     ]
    },
    {
     "data": {
      "image/png": "[encoded data removed]",
      "text/plain": [
       "<Figure size 576x360 with 2 Axes>"
      ]
     },
     "metadata": {
      "needs_background": "light"
     },
     "output_type": "display_data"
    }
   ],
   "source": [
    "pred_temp_test = lg2.predict(X_test) > 0.5\n",
    "# rounding off the above values to get classes\n",
    "pred_test = np.round(pred_temp_test)\n",
    "print(\"Test performance:\")\n",
    "metrics_score(y_test, pred_test)"
   ]
  },
  {
   "cell_type": "markdown",
   "metadata": {},
   "source": [
    "**Observations**\n",
    "\n",
    "- Negative values of the coefficient show that the probability of customers canceling the booking decreases with the increase of the corresponding attribute value.\n",
    "\n",
    "- Positive values of the coefficient show that the probability of customer canceling increases with the increase of corresponding attribute value.\n",
    "\n",
    "- p-value of a variable indicates if the variable is significant or not. If we consider the significance level to be 0.05 (5%), then any variable with a p-value less than 0.05 would be considered significant.\n"
   ]
  },
  {
   "cell_type": "markdown",
   "metadata": {
    "id": "monthly-segment"
   },
   "source": [
    "### Model Performance Improvement"
   ]
  },
  {
   "cell_type": "markdown",
   "metadata": {
    "id": "rapid-conflict"
   },
   "source": [
    "* Let's see if the recall score can be improved further, by changing the model threshold using Precision-Recall Curve."
   ]
  },
  {
   "cell_type": "markdown",
   "metadata": {},
   "source": [
    "### Q5: What is the value at which precision recall are equal"
   ]
  },
  {
   "cell_type": "code",
   "execution_count": 45,
   "metadata": {
    "id": "acute-newark",
    "outputId": "6ee4614d-cb83-4f4c-e434-a724cde3c83e"
   },
   "outputs": [
    {
     "data": {
      "image/png": "[encoded data removed]",
      "text/plain": [
       "<Figure size 720x504 with 1 Axes>"
      ]
     },
     "metadata": {
      "needs_background": "light"
     },
     "output_type": "display_data"
    }
   ],
   "source": [
    "#use Precision-Recall curve and see if we can find a better threshold\n",
    "\n",
    "#Remove __________ and complete the code\n",
    "\n",
    "y_scores = lg2.predict(X_train)\n",
    "\n",
    "precisions, recalls, thresholds = precision_recall_curve(y_train, y_scores, )\n",
    "\n",
    "#Plot values of precisions, recalls, and thresholds\n",
    "plt.figure(figsize=(10,7))\n",
    "plt.plot(thresholds, precisions[:-1], 'b--', label='precision')\n",
    "plt.plot(thresholds, recalls[:-1], 'g--', label = 'recall')\n",
    "plt.xlabel('Threshold')\n",
    "plt.legend(loc='upper left')\n",
    "plt.ylim([0,1])\n",
    "plt.show()"
   ]
  },
  {
   "cell_type": "markdown",
   "metadata": {
    "id": "supported-series"
   },
   "source": [
    "* At 0.42 threshold we get a balanced precision and recall."
   ]
  },
  {
   "cell_type": "markdown",
   "metadata": {},
   "source": [
    "### Find the optimal threshold point"
   ]
  },
  {
   "cell_type": "code",
   "execution_count": 46,
   "metadata": {},
   "outputs": [
    {
     "ename": "NameError",
     "evalue": "name '___________' is not defined",
     "output_type": "error",
     "traceback": [
      "\u001b[1;31m---------------------------------------------------------------------------\u001b[0m",
      "\u001b[1;31mNameError\u001b[0m                                 Traceback (most recent call last)",
      "\u001b[1;32m<ipython-input-46-1b040be93f56>\u001b[0m in \u001b[0;36m<module>\u001b[1;34m\u001b[0m\n\u001b[0;32m      3\u001b[0m \u001b[1;31m#Remove __________ and complete the code\u001b[0m\u001b[1;33m\u001b[0m\u001b[1;33m\u001b[0m\u001b[1;33m\u001b[0m\u001b[0m\n\u001b[0;32m      4\u001b[0m \u001b[1;33m\u001b[0m\u001b[0m\n\u001b[1;32m----> 5\u001b[1;33m \u001b[1;32mfor\u001b[0m \u001b[0mi\u001b[0m \u001b[1;32min\u001b[0m \u001b[0mnp\u001b[0m\u001b[1;33m.\u001b[0m\u001b[0marange\u001b[0m\u001b[1;33m(\u001b[0m\u001b[0m___________\u001b[0m\u001b[1;33m)\u001b[0m\u001b[1;33m:\u001b[0m\u001b[1;33m\u001b[0m\u001b[1;33m\u001b[0m\u001b[0m\n\u001b[0m\u001b[0;32m      6\u001b[0m     \u001b[1;32mif\u001b[0m \u001b[0m__________\u001b[0m\u001b[1;33m:\u001b[0m\u001b[1;33m\u001b[0m\u001b[1;33m\u001b[0m\u001b[0m\n\u001b[0;32m      7\u001b[0m         \u001b[0mprint\u001b[0m\u001b[1;33m(\u001b[0m\u001b[0m______________\u001b[0m\u001b[1;33m)\u001b[0m\u001b[1;33m\u001b[0m\u001b[1;33m\u001b[0m\u001b[0m\n",
      "\u001b[1;31mNameError\u001b[0m: name '___________' is not defined"
     ]
    }
   ],
   "source": [
    "#calculating the exact threshold where precision and recall are equal.\n",
    "\n",
    "#Remove __________ and complete the code\n",
    "\n",
    "for i in np.arange():\n",
    "    if __________:\n",
    "        print(______________)"
   ]
  },
  {
   "cell_type": "code",
   "execution_count": null,
   "metadata": {
    "id": "brown-advertiser",
    "outputId": "b9941497-3d59-40b1-f3cd-c138c1b75056"
   },
   "outputs": [],
   "source": [
    "# setting the threshold\n",
    "\n",
    "#Remove __________ and complete the code\n",
    "\n",
    "# define optimal threshold value\n",
    "\n",
    "optimal_threshold = ___________\n",
    "# creating confusion matrix\n",
    "y_pred = lg2.predict(X_train) > optimal_threshold\n",
    "metrics_score(y_train, y_pred)"
   ]
  },
  {
   "cell_type": "markdown",
   "metadata": {
    "id": "environmental-surface"
   },
   "source": [
    "#### Checking model performance on training set"
   ]
  },
  {
   "cell_type": "code",
   "execution_count": null,
   "metadata": {
    "id": "mental-albany",
    "outputId": "db6396bb-de79-420a-9639-970847db1110"
   },
   "outputs": [],
   "source": [
    "y_pred_test = lg2.predict(X_test) > optimal_threshold\n",
    "metrics_score(y_test, y_pred_test)"
   ]
  },
  {
   "cell_type": "markdown",
   "metadata": {
    "id": "polish-moldova"
   },
   "source": [
    "### Model performance summary"
   ]
  },
  {
   "cell_type": "markdown",
   "metadata": {
    "id": "virgin-polls"
   },
   "source": [
    "\n",
    "### Observations from Logistic Regression model\n",
    "- We have been able to build a predictive model that can be used by the hotel to predict which bookings are likely to be cancelled with an F1 score of 0.69 on the training set and formulate marketing policies accordingly.\n",
    "\n",
    "* The logistic regression models are giving a generalized performance on training and test set.\n",
    "\n",
    "* **Using the model with default threshold the model will give a low recall but good precision score -** The hotel will be able to predict which bookings will not be cancelled and will be able to provide satisfactory services to those customers which help in maintaining the brand equity but will lose on resources. \n",
    "\n",
    "* **Using the model with a 0.42 threshold the model will give a balance recall and precision score -** The hotel will be able to maintain a balance between resources and brand equity. "
   ]
  },
  {
   "cell_type": "markdown",
   "metadata": {
    "id": "separated-prague"
   },
   "source": [
    "## Decision Tree"
   ]
  },
  {
   "cell_type": "markdown",
   "metadata": {
    "id": "immune-malta"
   },
   "source": [
    "### Q6 and Q7: Building Decision Tree Model, Checking performance and finding feature importance"
   ]
  },
  {
   "cell_type": "code",
   "execution_count": null,
   "metadata": {
    "id": "recognized-nurse",
    "outputId": "750c3aab-5153-4a78-b190-6b9f9eb57265"
   },
   "outputs": [],
   "source": [
    "#Remove __________ and complete the code\n",
    "\n",
    "#define the Decision tree model Use random_state=1\n",
    "\n",
    "d_tree= ______________\n",
    "\n",
    "#fitting decision tree model\n",
    "d_tree.fit(___________________)"
   ]
  },
  {
   "cell_type": "markdown",
   "metadata": {
    "id": "identified-upper"
   },
   "source": [
    "#### Checking model performance on training set"
   ]
  },
  {
   "cell_type": "code",
   "execution_count": null,
   "metadata": {
    "id": "female-kennedy",
    "outputId": "ae4274dd-26d3-4fea-99a1-1f325a52926a"
   },
   "outputs": [],
   "source": [
    "# predicting on training set\n",
    "\n",
    "#Remove __________ and complete the code\n",
    "\n",
    "pred_train_dt = d_tree._________________\n",
    "metrics_score(____________________)"
   ]
  },
  {
   "cell_type": "markdown",
   "metadata": {
    "id": "neither-omaha"
   },
   "source": [
    "#### Checking model performance on test set"
   ]
  },
  {
   "cell_type": "code",
   "execution_count": null,
   "metadata": {
    "id": "applied-magazine",
    "outputId": "eeb36a38-61c4-4ce9-b112-42d06232b106",
    "scrolled": false
   },
   "outputs": [],
   "source": [
    "# predicting on test set\n",
    "\n",
    "\n",
    "\n",
    "pred_test_dt = d_tree.___________\n",
    "metrics_score(_____________________)"
   ]
  },
  {
   "cell_type": "markdown",
   "metadata": {},
   "source": [
    "### Check the feature importance for the decision tree model"
   ]
  },
  {
   "cell_type": "code",
   "execution_count": null,
   "metadata": {
    "id": "genetic-channels",
    "outputId": "a8006393-7611-4774-8084-9c46c009fe3f"
   },
   "outputs": [],
   "source": [
    "#Remove __________ and complete the code\n",
    "\n",
    "feature_names = _______________\n",
    "importances = __________________\n",
    "indices = np.argsort(importances)\n",
    "\n",
    "plt.figure(figsize=(8, 8))\n",
    "plt.title(\"Feature Importances\")\n",
    "plt.barh(range(len(indices)), importances[indices], color=\"violet\", align=\"center\")\n",
    "plt.yticks(range(len(indices)), [feature_names[i] for i in indices])\n",
    "plt.xlabel(\"Relative Importance\")\n",
    "plt.show()"
   ]
  },
  {
   "cell_type": "markdown",
   "metadata": {},
   "source": [
    "### Q8: Decision Tree - Hyperparameter Tuning"
   ]
  },
  {
   "cell_type": "code",
   "execution_count": null,
   "metadata": {},
   "outputs": [],
   "source": [
    "#define decision tree clssifier\n",
    "#Remove __________ and complete the code\n",
    "d_tree_tuned = ___________________________\n",
    "\n",
    "\n",
    "# Grid of hyperparameters to choose from\n",
    "#Remove __________ and complete the code\n",
    "parameters = {______________________}\n",
    "\n",
    "\n",
    "# Type of scoring used to compare parameter combinations - recall score for class 1\n",
    "scorer = metrics.make_scorer(recall_score, pos_label=1)\n",
    "\n",
    "\n",
    "# Run the grid search\n",
    "#Remove __________ and complete the code\n",
    "grid_obj = ____________________________\n",
    "grid_obj = _______________________-\n",
    "\n",
    "\n",
    "# Set the clf to the best combination of parameters\n",
    "#Remove __________ and complete the code\n",
    "d_tree_tuned = _____________________\n",
    "\n",
    "\n",
    "# Fit the best algorithm to the data. \n",
    "#Remove __________ and complete the code\n",
    "d_tree_tuned.fit(______________________-)"
   ]
  },
  {
   "cell_type": "markdown",
   "metadata": {},
   "source": [
    "#### Checking performance on training set"
   ]
  },
  {
   "cell_type": "code",
   "execution_count": null,
   "metadata": {},
   "outputs": [],
   "source": [
    "pred_train_dt_2 = d_tree_tuned.predict(X_train)\n",
    "metrics_score(y_train, pred_train_dt_2)"
   ]
  },
  {
   "cell_type": "markdown",
   "metadata": {},
   "source": [
    "#### Checking performance on training set"
   ]
  },
  {
   "cell_type": "code",
   "execution_count": null,
   "metadata": {},
   "outputs": [],
   "source": [
    "pred_test_dt_2 = d_tree_tuned.predict(X_test)\n",
    "metrics_score(y_test, pred_test_dt_2)"
   ]
  },
  {
   "cell_type": "markdown",
   "metadata": {},
   "source": [
    "**Let's visualize the tuned decision tree** and observe the decision rules:"
   ]
  },
  {
   "cell_type": "code",
   "execution_count": null,
   "metadata": {},
   "outputs": [],
   "source": [
    "features = list(X.columns)\n",
    "\n",
    "plt.figure(figsize=(20,20))\n",
    "from sklearn import tree\n",
    "tree.plot_tree(d_tree_tuned,feature_names=features,filled=True,fontsize=9,node_ids=True,class_names=True)\n",
    "plt.show()"
   ]
  },
  {
   "cell_type": "code",
   "execution_count": null,
   "metadata": {},
   "outputs": [],
   "source": [
    "# importance of features in the tree building\n",
    "\n",
    "importances = d_tree_tuned._______________\n",
    "indices = np.argsort(importances)\n",
    "\n",
    "plt.figure(figsize=(8, 8))\n",
    "plt.title(\"Feature Importances\")\n",
    "plt.barh(range(len(indices)), importances[indices], color=\"violet\", align=\"center\")\n",
    "plt.yticks(range(len(indices)), [feature_names[i] for i in indices])\n",
    "plt.xlabel(\"Relative Importance\")\n",
    "plt.show()"
   ]
  },
  {
   "cell_type": "markdown",
   "metadata": {
    "id": "differential-perth"
   },
   "source": [
    "### Observations from decision tree\n",
    "\n",
    "* We can see that the tree has become simpler and the rules of the trees are readable.\n",
    "* The model performance of the model has been generalized.\n",
    "\n",
    "\n",
    "* We observe that the most important features are:\n",
    "    * Lead Time\n",
    "    * Number of special requests\n",
    "    * Market Segment - Online\n",
    "    * Average price per room\n",
    "\n",
    "**The rules obtained from the decision tree can be interpreted as:**\n",
    "\n",
    "* The rules show that lead time plays a key role in identifying if a booking will be cancelled or not. 150 days has been considered as a threshold value by the model to make the first split.\n",
    "\n",
    "**Bookings made more than 150 days before the date of arrival:**\n",
    "\n",
    "* If the customer has more than 2 special requests the booking is less likely to be cancelled. \n",
    "* If the customer has less than or equal to 2 special requests, the average price per room is more than 100 euros, there is a high chance of booking getting cancelled, although if the average price per room of room is less than 100 euros, and that booking was not done Online it is less likely to get canceled.\n",
    "\n",
    "**Bookings made under 150 days before the date of arrival:**\n",
    "\n",
    "* If a customer has at least 1 special request the booking is less likely to be cancelled. \n",
    "* If the customer didn't make any special requests and the booking was done Online it is more likely to get canceled.\n",
    "\n",
    "`If we want more complex then we can go in more depth of the tree`"
   ]
  },
  {
   "cell_type": "markdown",
   "metadata": {
    "id": "growing-excitement"
   },
   "source": [
    "**Observations**\n",
    "* Decision tree model with default parameters is overfitting the training data and is not able to generalize well.\n",
    "* Tuned Decision Tree tree given a generalized performance with balanced values of precision and recall.\n"
   ]
  },
  {
   "cell_type": "markdown",
   "metadata": {
    "id": "otherwise-increase"
   },
   "source": [
    "### Conclusion\n",
    "* Overall we can see that the Decision Tree model performs better on the dataset.\n",
    "* Looking at important variables based on p-values in Logistic regression and feature importance in the Decision Tree model\n",
    "    * Lead Time, Number of special requests, Market Segment - Online, Average price per room are important in both model\n",
    "    * From the Logistic Regression model we observe that Lead Time, Average price per room, and Online market segment have a positive relation with bookings getting canclled. And the number of special requests has negative relation with bookings getting cancelled."
   ]
  },
  {
   "cell_type": "markdown",
   "metadata": {},
   "source": [
    "### Q9: Building SVM and checking its performance"
   ]
  },
  {
   "cell_type": "code",
   "execution_count": null,
   "metadata": {},
   "outputs": [],
   "source": [
    "from sklearn.svm import SVC"
   ]
  },
  {
   "cell_type": "code",
   "execution_count": null,
   "metadata": {},
   "outputs": [],
   "source": [
    "#Remove __________ and complete the code\n",
    "\n",
    "#define the SVM model\n",
    "\n",
    "svm = SVC(kernel = 'linear') #linear kernal or linear decision boundary\n",
    "\n",
    "#fit svm model\n",
    "svm.fit(X = X_train, y = y_train)"
   ]
  },
  {
   "cell_type": "code",
   "execution_count": null,
   "metadata": {},
   "outputs": [],
   "source": [
    "# predicting on training set\n",
    "\n",
    "#Remove __________ and complete the code\n",
    "\n",
    "pred_train_svm = svm._____________\n",
    "metrics_score(_______________)"
   ]
  },
  {
   "cell_type": "code",
   "execution_count": null,
   "metadata": {},
   "outputs": [],
   "source": [
    "# predicting on training set\n",
    "\n",
    "#Remove __________ and complete the code\n",
    "\n",
    "pred_test_svm = svm.___________\n",
    "metrics_score(__________________)"
   ]
  },
  {
   "cell_type": "markdown",
   "metadata": {},
   "source": [
    "* SVM model with default kernel  linear is not overfitting as the accuracy is around 80% for both train and test dataset\n",
    "* Recall for the model only around 60% which implies this model  not always correctly predict the bookings which could be cancelled by the customer. But\n",
    "* The precision score is good and so the model identifies most of the cases correctly where booking will not be cancelled."
   ]
  },
  {
   "cell_type": "markdown",
   "metadata": {
    "id": "marked-coaching"
   },
   "source": [
    "### Business Recommendations\n",
    "\n",
    "1. The lead time and the number of special requests made by the customer play a key role in identifying if a booking will be cancelled or not. Bookings where a customer has made a special request and the booking was done under 150 days to the date of arrival are less likely to be canceled.\n",
    "\n",
    "    * Using this information, the hotel can take the following actions:\n",
    "        * Set up a system that can send a prompt like an automated email to the customers before the arrival date asking for a  re-confirmation of their booking and any changes they would like to make in their bookings.\n",
    "        * Remind guests about imminent deadlines.\n",
    " \n",
    "The response given by the customer will give the hotel ample time to re-sell the room or make preparations for the customers' requests.\n",
    "\n",
    "\n",
    "2. Stricter cancellation policies can be adopted by the hotel. \n",
    "    * The bookings where the average price per room is high, and there were special requests associated should not get a full refund as the loss of resources will be high in these cases.\n",
    "    * Ideally the cancellation policies should be consistent across all market segments but as noticed in our analysis high percentage of bookings done online are cancelled. The booking cancelled online should yield less percentage of refund to the customers.\n",
    "    \n",
    "The refunds, cancellation fee, etc should be highlighted on the website/app before a customer confirms their booking to safeguard guests' interest.\n",
    "\n",
    "3. The length of stay at the hotel can be restricted.\n",
    "    * We saw in our analysis that bookings, where the total length of stay was more than 5 days, had higher chances of getting cancelled.\n",
    "    * Hotel can allow bookings up to 5 days only and then customers should be asked to re-book if they wish to stay longer. These policies can be relaxed for corporate and Aviation market segments. For other market segments, the process should be fairly easy to not hamper their experience with the hotel.\n",
    "\n",
    "Such restrictions can be strategized by the hotel to generate additional revenue.\n",
    "\n",
    "\n",
    "4. In the months November, December, and January cancellation to non-cancellation ratio is low. Customers might travel to celebrate Christmas and New Year. The hotel should ensure that enough human resources are available to cater to the needs of the guests.\n",
    "\n",
    "\n",
    "5. July and August saw the highest number of bookings but also the highest number of cancellations. This should be investigated further by the hotel. \n",
    "\n",
    "\n",
    "6. Post-booking interactions can be initiated with the customers.\n",
    "\n",
    "    * Post-booking interactions will show the guests the level of attention and care they would receive at the hotel. \n",
    "    * To give guests a personalized experience, information about local events, nearby places to explore, etc can be shared from time to time.\n",
    "\n",
    "\n",
    "7. Improving the experience of repeated customers.\n",
    "\n",
    "    * Our analysis shows that there are very few repeated customers and the cancellation among them is very less which is a good indication as repeat customers are important for the hospitality industry as they can help in spreading the word of mouth.\n",
    "    * A loyal guest is usually more profitable for the business because they are more familiar with offerings from the hotel they have visited before.\n",
    "    * Attracting new customers is tedious and costs more as compared to a repeated guest.\n",
    "    * A loyalty program that offers - special discounts, access to services in hotels, etc for these customers can help in improving their experience."
   ]
  }
 ],
 "metadata": {
  "colab": {
   "name": "Solution Notebook - Project_SLC_DSBA_StarHotels.ipynb",
   "provenance": []
  },
  "kernelspec": {
   "display_name": "Python 3",
   "language": "python",
   "name": "python3"
  },
  "language_info": {
   "codemirror_mode": {
    "name": "ipython",
    "version": 3
   },
   "file_extension": ".py",
   "mimetype": "text/x-python",
   "name": "python",
   "nbconvert_exporter": "python",
   "pygments_lexer": "ipython3",
   "version": "3.8.5"
  }
 },
 "nbformat": 4,
 "nbformat_minor": 5
}
