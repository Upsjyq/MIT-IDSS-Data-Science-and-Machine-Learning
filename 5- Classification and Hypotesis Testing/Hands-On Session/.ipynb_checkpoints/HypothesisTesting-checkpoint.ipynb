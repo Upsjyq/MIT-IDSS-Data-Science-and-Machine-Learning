{
 "cells": [
  {
   "cell_type": "markdown",
   "id": "f59f7150-ab6b-487c-88e1-8c0db69bee6d",
   "metadata": {},
   "source": [
    "\n",
    "## Context:\n",
    "ExperienceMyServices reported that a typical American spends an average of 144 minutes (2.4 hours) per day accessing the Internet via a mobile device with a standard deviation of 110 minutes.\n",
    "\n",
    "To test the validity of this statement, you collected 30 samples from friends and family. The results for the time spent per day accessing the Internet via a mobile device (in minutes) are stored in \"InternetMobileTime.csv\".\n",
    "\n",
    "## Key Question:\n",
    "Is there enough statistical evidence to conclude that the population mean time spent per day accessing the Internet via mobile device is different from 144 minutes? Use the p-value approach and a level of significance of 0.05.\n",
    "\n",
    "**Note:** We can assume that the samples are randomly selected, independent, and come from a normally distributed population"
   ]
  },
  {
   "cell_type": "markdown",
   "id": "000c61b3-41fe-4099-86b9-127f5172ac68",
   "metadata": {},
   "source": [
    "### Importing Necessary Libraries"
   ]
  },
  {
   "cell_type": "code",
   "execution_count": 1,
   "id": "8a5d744d-4641-4ce4-8005-a9895708fe00",
   "metadata": {},
   "outputs": [],
   "source": [
    "import pandas as pd\n",
    "import numpy as np\n",
    "import matplotlib.pyplot as plt\n",
    "import seaborn as sns\n",
    "import scipy.stats as stats"
   ]
  },
  {
   "cell_type": "markdown",
   "id": "ec6312c0-f193-47dc-b8cc-0d67311c8633",
   "metadata": {},
   "source": [
    "### Importing the Data"
   ]
  },
  {
   "cell_type": "code",
   "execution_count": 4,
   "id": "29d07fcf-58fe-4c58-92c4-2cca3bf67513",
   "metadata": {},
   "outputs": [
    {
     "data": {
      "text/html": [
       "<div>\n",
       "<style scoped>\n",
       "    .dataframe tbody tr th:only-of-type {\n",
       "        vertical-align: middle;\n",
       "    }\n",
       "\n",
       "    .dataframe tbody tr th {\n",
       "        vertical-align: top;\n",
       "    }\n",
       "\n",
       "    .dataframe thead th {\n",
       "        text-align: right;\n",
       "    }\n",
       "</style>\n",
       "<table border=\"1\" class=\"dataframe\">\n",
       "  <thead>\n",
       "    <tr style=\"text-align: right;\">\n",
       "      <th></th>\n",
       "      <th>Minutes</th>\n",
       "    </tr>\n",
       "  </thead>\n",
       "  <tbody>\n",
       "    <tr>\n",
       "      <th>0</th>\n",
       "      <td>72</td>\n",
       "    </tr>\n",
       "    <tr>\n",
       "      <th>1</th>\n",
       "      <td>144</td>\n",
       "    </tr>\n",
       "    <tr>\n",
       "      <th>2</th>\n",
       "      <td>48</td>\n",
       "    </tr>\n",
       "    <tr>\n",
       "      <th>3</th>\n",
       "      <td>72</td>\n",
       "    </tr>\n",
       "    <tr>\n",
       "      <th>4</th>\n",
       "      <td>36</td>\n",
       "    </tr>\n",
       "  </tbody>\n",
       "</table>\n",
       "</div>"
      ],
      "text/plain": [
       "   Minutes\n",
       "0       72\n",
       "1      144\n",
       "2       48\n",
       "3       72\n",
       "4       36"
      ]
     },
     "execution_count": 4,
     "metadata": {},
     "output_type": "execute_result"
    }
   ],
   "source": [
    "df = pd.read_csv(\"InternetMobileTime-2.csv\")\n",
    "df.head()"
   ]
  },
  {
   "cell_type": "code",
   "execution_count": 5,
   "id": "15ab36bb-63d6-4a97-afe8-2be520bbf074",
   "metadata": {},
   "outputs": [
    {
     "data": {
      "text/plain": [
       "(30, 1)"
      ]
     },
     "execution_count": 5,
     "metadata": {},
     "output_type": "execute_result"
    }
   ],
   "source": [
    "df.shape"
   ]
  },
  {
   "cell_type": "markdown",
   "id": "0fe9d26e-10de-446f-900b-337540f5ac5b",
   "metadata": {},
   "source": [
    "### Step 1: Define null and alternate hypotheses"
   ]
  },
  {
   "cell_type": "markdown",
   "id": "a5a6e6d7-8188-4124-af4e-368c26ce2ab6",
   "metadata": {},
   "source": [
    "#### Null hypothesis states that the mean Internet usage time, $\\mu$ is equal to 144.\n",
    "#### Alternative hypothesis states that the mean Internet usage time, $\\mu$ is not equal to 144.\n",
    "\n",
    "* $H_0$: $\\mu$ = 144\n",
    "* $H_a$: $\\mu$ $\\neq$ 144"
   ]
  },
  {
   "cell_type": "markdown",
   "id": "cc08fbf7-df88-4574-b57f-0b7270884d4b",
   "metadata": {},
   "source": [
    "### Step 2: Decide the significance level"
   ]
  },
  {
   "cell_type": "markdown",
   "id": "a9fa2f55-7b1a-4922-88bb-48f0ff3f7613",
   "metadata": {},
   "source": [
    "Here, we are given that $\\alpha$ = 0.05."
   ]
  },
  {
   "cell_type": "code",
   "execution_count": 6,
   "id": "75d3b82f-1110-4d93-9a95-c72d57196e7d",
   "metadata": {},
   "outputs": [
    {
     "name": "stdout",
     "output_type": "stream",
     "text": [
      "The sample size for this problem is: 30\n"
     ]
    }
   ],
   "source": [
    "print(\"The sample size for this problem is:\",len(df))"
   ]
  },
  {
   "cell_type": "markdown",
   "id": "ee964fb5-d811-497c-bac8-c12045919d6c",
   "metadata": {},
   "source": [
    "### Step 3: Identify the test statistic"
   ]
  },
  {
   "cell_type": "markdown",
   "id": "c819ee05-5a61-4de9-8a7d-8b0b16014cc9",
   "metadata": {},
   "source": [
    "The population is normally distributed and the population standard deviation is known to be equal to 110. So, we can use the Z-test statistic."
   ]
  },
  {
   "cell_type": "markdown",
   "id": "83f1a888-11dd-46eb-b135-adfd741ee964",
   "metadata": {},
   "source": [
    "### Step 4: Calculate the p-value using z-statistic"
   ]
  },
  {
   "cell_type": "code",
   "execution_count": 7,
   "id": "018832ad-e606-4020-82e6-29389d56e63b",
   "metadata": {},
   "outputs": [
    {
     "data": {
      "text/plain": [
       "180.46666666666667"
      ]
     },
     "execution_count": 7,
     "metadata": {},
     "output_type": "execute_result"
    }
   ],
   "source": [
    "sample_mean = df[\"Minutes\"].mean()\n",
    "sample_mean"
   ]
  },
  {
   "cell_type": "code",
   "execution_count": 8,
   "id": "eb395c01-9455-452f-9d36-78ac38ebaff3",
   "metadata": {},
   "outputs": [
    {
     "data": {
      "text/plain": [
       "1.8157832663959144"
      ]
     },
     "execution_count": 8,
     "metadata": {},
     "output_type": "execute_result"
    }
   ],
   "source": [
    "# calculating z stat\n",
    "n = 30\n",
    "mu = 144\n",
    "sigma = 110\n",
    "\n",
    "test_stat = (sample_mean - mu) / (sigma / np.sqrt(n))\n",
    "test_stat"
   ]
  },
  {
   "cell_type": "code",
   "execution_count": 13,
   "id": "dc2047e1-4f22-4f4f-8c37-7496e233cb8f",
   "metadata": {},
   "outputs": [],
   "source": [
    "from scipy.stats import norm\n",
    "\n",
    "# p-value for one tailed test\n",
    "p_value = 1 - norm.cdf(test_stat)\n",
    "\n",
    "#We can find the p_value for the the two-tailed test from the one-tailed test\n",
    "p_value_ztest = p_value*2"
   ]
  },
  {
   "cell_type": "code",
   "execution_count": 15,
   "id": "6edd2069-b21d-4231-bc12-e20e518c3106",
   "metadata": {},
   "outputs": [
    {
     "name": "stdout",
     "output_type": "stream",
     "text": [
      "The p-value is 0.06940362517785204\n"
     ]
    }
   ],
   "source": [
    "print(\"The p-value is {}\".format(p_value_ztest))"
   ]
  },
  {
   "cell_type": "markdown",
   "id": "70975b0d-1ed3-4abc-ad08-6a2f58b49646",
   "metadata": {},
   "source": [
    "### Step 5: Decide to reject or not to reject the null hypothesis based on the z-statistic"
   ]
  },
  {
   "cell_type": "code",
   "execution_count": 16,
   "id": "bf527204-f749-4656-9f33-a8035cc2edd0",
   "metadata": {},
   "outputs": [
    {
     "name": "stdout",
     "output_type": "stream",
     "text": [
      "Level of significance: 0.05\n",
      "We have no evidence to reject the null hypothesis since p-value is greater than the level of significance\n"
     ]
    }
   ],
   "source": [
    "alpha_value = 0.05 # Level of significance\n",
    "\n",
    "print('Level of significance: %.2f' %alpha_value)\n",
    "\n",
    "if p_value_ztest < alpha_value: \n",
    "    print('We have evidence to reject the null hypothesis since p-value is less than the level of significance'.format(p_value_ztest))\n",
    "else:\n",
    "    print('We have no evidence to reject the null hypothesis since p-value is greater than the level of significance'.format(p_value_ztest)) "
   ]
  },
  {
   "cell_type": "markdown",
   "id": "156e74cf-3977-4c69-8ab4-265474687186",
   "metadata": {},
   "source": [
    "We have calculated the z-statistic, which works on the assumption that population standard deviation is known but in real life this assumption is very unlikely and to deal with this problem their is another test called **t-statistic**, which is similar to z-statistic, with the assumption that population standard deviations is not known and sample standard deviation is used to calculate the test statistic."
   ]
  },
  {
   "cell_type": "markdown",
   "id": "a33728b5-d0cf-4231-beb4-528e9992d97b",
   "metadata": {},
   "source": [
    "we  will use **scipy.stats.ttest_1samp** which calculates the t test for the mean of one sample given the sample observations. This function returns t statistic and the p value for a two-tailed  t-test."
   ]
  },
  {
   "cell_type": "markdown",
   "id": "f763337f-7155-45f7-9a0a-d98849c8a184",
   "metadata": {},
   "source": [
    "### Step 6: Calculate the p-value using t-statistic"
   ]
  },
  {
   "cell_type": "code",
   "execution_count": 18,
   "id": "59a2100b-9ce2-419f-8726-ceec6163d507",
   "metadata": {},
   "outputs": [
    {
     "name": "stdout",
     "output_type": "stream",
     "text": [
      "One sample t test \n",
      "t statistic: [1.41131966] p value: [0.16878961] \n"
     ]
    }
   ],
   "source": [
    "t_statistic, p_value_ttest = stats.ttest_1samp(df, popmean = 144)\n",
    "print('One sample t test \\nt statistic: {0} p value: {1} '.format(t_statistic, p_value_ttest))"
   ]
  },
  {
   "cell_type": "markdown",
   "id": "2ae140b8-375a-4710-b27a-973d51b582f8",
   "metadata": {},
   "source": [
    "### Step 7: Decide to reject or not to reject the null hypothesis based on t-statistic"
   ]
  },
  {
   "cell_type": "code",
   "execution_count": 20,
   "id": "51ffdbc4-e8c8-483f-9e86-6ad33ab4abe3",
   "metadata": {},
   "outputs": [
    {
     "name": "stdout",
     "output_type": "stream",
     "text": [
      "Level of significance: 0.05\n",
      "We have no evidence to reject the null hypothesis since p-value is greater than the level of significance\n"
     ]
    }
   ],
   "source": [
    "alpha_value = 0.05 # Level of significance\n",
    "\n",
    "print('Level of significance: %.2f' %alpha_value)\n",
    "\n",
    "if p_value_ttest < alpha_value: \n",
    "    print('We have evidence to reject the null hypothesis since p-value is less than the level of significance'.format(p_value_ttest))\n",
    "else:\n",
    "    print('We have no evidence to reject the null hypothesis since p-value is greater than the level of significance'.format(p_value_ttest)) "
   ]
  },
  {
   "cell_type": "markdown",
   "id": "f9963680-42d9-423a-bb3a-6e7e9a1b092e",
   "metadata": {},
   "source": [
    "**Observation** \n",
    "- So at 5% significance level, we do not have enough statistical evidence to prove that the mean time spent on the Internet is not equal to 144 minutes. "
   ]
  }
 ],
 "metadata": {
  "kernelspec": {
   "display_name": "Python 3 (ipykernel)",
   "language": "python",
   "name": "python3"
  },
  "language_info": {
   "codemirror_mode": {
    "name": "ipython",
    "version": 3
   },
   "file_extension": ".py",
   "mimetype": "text/x-python",
   "name": "python",
   "nbconvert_exporter": "python",
   "pygments_lexer": "ipython3",
   "version": "3.9.7"
  }
 },
 "nbformat": 4,
 "nbformat_minor": 5
}
