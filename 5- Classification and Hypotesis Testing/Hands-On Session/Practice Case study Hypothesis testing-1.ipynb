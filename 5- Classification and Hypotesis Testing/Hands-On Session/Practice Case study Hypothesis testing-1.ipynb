{
 "cells": [
  {
   "cell_type": "markdown",
   "metadata": {
    "id": "fNQ9mYtCb3yM"
   },
   "source": [
    "\n",
    "## Context:\n",
    "ExperienceMyServices reported that a typical American spends an average of 144 minutes (2.4 hours) per day accessing the Internet via a mobile device with a standard deviation of 110 minutes.\n",
    "\n",
    "To test the validity of this statement, you collected 30 samples from friends and family. The results for the time spent per day accessing the Internet via a mobile device (in minutes) are stored in \"InternetMobileTime.csv\".\n",
    "\n",
    "## Key Question:\n",
    "Is there enough statistical evidence to conclude that the population mean time spent per day accessing the Internet via mobile device is different from 144 minutes? Use the p-value approach and a level of significance of 0.05.\n",
    "\n",
    "**Note:** We can assume that the samples are randomly selected, independent, and come from a normally distributed population"
   ]
  },
  {
   "cell_type": "markdown",
   "metadata": {
    "id": "5nFy-Lkmb3yR"
   },
   "source": [
    "### Importing necessary libraries"
   ]
  },
  {
   "cell_type": "code",
   "execution_count": 1,
   "metadata": {
    "ExecuteTime": {
     "end_time": "2020-05-12T08:39:10.385004Z",
     "start_time": "2020-05-12T08:39:07.270284Z"
    },
    "id": "MyVUpMAeb3yS"
   },
   "outputs": [],
   "source": [
    "# import the important packages\n",
    "import pandas as pd  # library used for data manipulation and analysis\n",
    "\n",
    "import numpy as np  # library used for working with arrays\n",
    "\n",
    "import matplotlib.pyplot as plt  # library for visualization\n",
    "\n",
    "import seaborn as sns  # library for visualization\n",
    "\n",
    "%matplotlib inline\n",
    "\n",
    "import scipy.stats as stats  # this library contains a large number of probability distributions as well as a growing library of statistical functions"
   ]
  },
  {
   "cell_type": "markdown",
   "metadata": {
    "id": "H0wFBWuMb3yT"
   },
   "source": [
    "### Importing the  Data"
   ]
  },
  {
   "cell_type": "code",
   "execution_count": 2,
   "metadata": {
    "ExecuteTime": {
     "end_time": "2020-05-12T08:39:10.606474Z",
     "start_time": "2020-05-12T08:39:10.476659Z"
    },
    "id": "1jnK18ELb3yT",
    "outputId": "80cc9274-047a-449f-f7af-2275449c214e"
   },
   "outputs": [
    {
     "data": {
      "text/html": [
       "<div>\n",
       "<style scoped>\n",
       "    .dataframe tbody tr th:only-of-type {\n",
       "        vertical-align: middle;\n",
       "    }\n",
       "\n",
       "    .dataframe tbody tr th {\n",
       "        vertical-align: top;\n",
       "    }\n",
       "\n",
       "    .dataframe thead th {\n",
       "        text-align: right;\n",
       "    }\n",
       "</style>\n",
       "<table border=\"1\" class=\"dataframe\">\n",
       "  <thead>\n",
       "    <tr style=\"text-align: right;\">\n",
       "      <th></th>\n",
       "      <th>Minutes</th>\n",
       "    </tr>\n",
       "  </thead>\n",
       "  <tbody>\n",
       "    <tr>\n",
       "      <th>0</th>\n",
       "      <td>72</td>\n",
       "    </tr>\n",
       "    <tr>\n",
       "      <th>1</th>\n",
       "      <td>144</td>\n",
       "    </tr>\n",
       "    <tr>\n",
       "      <th>2</th>\n",
       "      <td>48</td>\n",
       "    </tr>\n",
       "    <tr>\n",
       "      <th>3</th>\n",
       "      <td>72</td>\n",
       "    </tr>\n",
       "    <tr>\n",
       "      <th>4</th>\n",
       "      <td>36</td>\n",
       "    </tr>\n",
       "  </tbody>\n",
       "</table>\n",
       "</div>"
      ],
      "text/plain": [
       "   Minutes\n",
       "0       72\n",
       "1      144\n",
       "2       48\n",
       "3       72\n",
       "4       36"
      ]
     },
     "execution_count": 2,
     "metadata": {},
     "output_type": "execute_result"
    }
   ],
   "source": [
    "mydata = pd.read_csv('InternetMobileTime.csv')\n",
    "mydata.head()"
   ]
  },
  {
   "cell_type": "code",
   "execution_count": 3,
   "metadata": {
    "id": "rctzWw0xb3yV",
    "outputId": "0093489d-d1f4-4cce-a28a-69f3cf71138c"
   },
   "outputs": [
    {
     "data": {
      "text/plain": [
       "(30, 1)"
      ]
     },
     "execution_count": 3,
     "metadata": {},
     "output_type": "execute_result"
    }
   ],
   "source": [
    "mydata.shape"
   ]
  },
  {
   "cell_type": "markdown",
   "metadata": {
    "id": "SOItsu_8b3yW"
   },
   "source": [
    "### Step 1: Define null and alternate hypotheses"
   ]
  },
  {
   "cell_type": "markdown",
   "metadata": {
    "id": "urdL3y-yb3yX"
   },
   "source": [
    "#### Null hypothesis states that the mean Internet usage time, $\\mu$ is equal to 144.\n",
    "#### Alternative hypothesis states that the mean Internet usage time, $\\mu$ is not equal to 144.\n",
    "\n",
    "* $H_0$: $\\mu$ = 144\n",
    "* $H_a$: $\\mu$ $\\neq$ 144"
   ]
  },
  {
   "cell_type": "markdown",
   "metadata": {
    "id": "UWcBNG9jb3yY"
   },
   "source": [
    "### Step 2: Decide the significance level"
   ]
  },
  {
   "cell_type": "markdown",
   "metadata": {
    "id": "n7H1gdpJb3yY"
   },
   "source": [
    "Here, we are given that $\\alpha$ = 0.05."
   ]
  },
  {
   "cell_type": "code",
   "execution_count": 4,
   "metadata": {
    "ExecuteTime": {
     "end_time": "2020-05-12T08:39:11.495916Z",
     "start_time": "2020-05-12T08:39:11.488554Z"
    },
    "id": "Gy3bJLLmb3yZ",
    "outputId": "e0fa126e-aa28-450f-9d20-d667149ecf93"
   },
   "outputs": [
    {
     "name": "stdout",
     "output_type": "stream",
     "text": [
      "The sample size for this problem is 30\n"
     ]
    }
   ],
   "source": [
    "print(\"The sample size for this problem is\", len(mydata))"
   ]
  },
  {
   "cell_type": "markdown",
   "metadata": {
    "id": "gIND9yN0b3yZ"
   },
   "source": [
    "### Step 3: Identify the test statistic"
   ]
  },
  {
   "cell_type": "markdown",
   "metadata": {
    "id": "Haq829H5b3ya"
   },
   "source": [
    "The population is normally distributed and the population standard deviation is known to be equal to 110. So, we can use the Z-test statistic."
   ]
  },
  {
   "cell_type": "markdown",
   "metadata": {
    "id": "gCmn7vI5b3ya"
   },
   "source": [
    "### Step 4: Calculate the p-value using z-statistic"
   ]
  },
  {
   "cell_type": "code",
   "execution_count": 5,
   "metadata": {
    "id": "jAR-d5ypb3ye"
   },
   "outputs": [],
   "source": [
    "sample_mean = mydata[\"Minutes\"].mean()"
   ]
  },
  {
   "cell_type": "code",
   "execution_count": 6,
   "metadata": {
    "ExecuteTime": {
     "end_time": "2020-05-12T08:39:14.193366Z",
     "start_time": "2020-05-12T08:39:14.185193Z"
    },
    "id": "YJj4tUYQb3ye"
   },
   "outputs": [],
   "source": [
    "# Calculating z-stat\n",
    "\n",
    "n=30\n",
    "mu = 144  \n",
    "sigma = 110\n",
    "\n",
    "test_stat =  (sample_mean - mu)/(sigma/np.sqrt(n)) "
   ]
  },
  {
   "cell_type": "code",
   "execution_count": 7,
   "metadata": {
    "id": "6kTNDptbb3ye",
    "outputId": "440ec898-20e5-4ca4-d5dc-85c43247e6a8"
   },
   "outputs": [
    {
     "data": {
      "text/plain": [
       "1.8157832663959144"
      ]
     },
     "execution_count": 7,
     "metadata": {},
     "output_type": "execute_result"
    }
   ],
   "source": [
    "test_stat"
   ]
  },
  {
   "cell_type": "code",
   "execution_count": 8,
   "metadata": {
    "id": "s30Wp6Pdb3yf"
   },
   "outputs": [],
   "source": [
    "from scipy.stats import norm\n",
    "\n",
    "#p-value for one-tailed test\n",
    "p_value1 = 1 - norm.cdf(test_stat)\n",
    "\n",
    "#We can find the p_value for the the two-tailed test from the one-tailed test\n",
    "p_value_ztest = p_value1*2"
   ]
  },
  {
   "cell_type": "code",
   "execution_count": 9,
   "metadata": {
    "id": "W6KfZDe7b3yf",
    "outputId": "77254b39-a079-4db9-c2b2-6384ff549d48"
   },
   "outputs": [
    {
     "name": "stdout",
     "output_type": "stream",
     "text": [
      "The p-value is: 0.06940362517785204 \n"
     ]
    }
   ],
   "source": [
    "print('The p-value is: {0} '.format(p_value_ztest))"
   ]
  },
  {
   "cell_type": "markdown",
   "metadata": {
    "id": "224Pd6vgb3yg"
   },
   "source": [
    "### Step 5: Decide to reject or not to reject the null hypothesis based on the z-statistic"
   ]
  },
  {
   "cell_type": "code",
   "execution_count": 10,
   "metadata": {
    "id": "Li5vbRrkb3yg",
    "outputId": "0aae5590-78af-4d9d-fa0f-07d3efb07fbd"
   },
   "outputs": [
    {
     "name": "stdout",
     "output_type": "stream",
     "text": [
      "Level of significance: 0.05\n",
      "We have no evidence to reject the null hypothesis since p-value is greater than the Level of significance\n"
     ]
    }
   ],
   "source": [
    "alpha_value = 0.05 # Level of significance\n",
    "\n",
    "print('Level of significance: %.2f' %alpha_value)\n",
    "\n",
    "if p_value_ztest < alpha_value: \n",
    "    print('We have evidence to reject the null hypothesis since p-value is less than the level of significance'.format(p_value_ztest))\n",
    "else:\n",
    "    print('We have no evidence to reject the null hypothesis since p-value is greater than the level of significance'.format(p_value_ztest)) \n",
    "\n"
   ]
  },
  {
   "cell_type": "markdown",
   "metadata": {
    "id": "MiNHxWM3b3yh"
   },
   "source": [
    "We have calculated the z-statistic, which works on the assumption that population standard deviation is known but in real life this assumption is very unlikely and to deal with this problem their is another test called **t-statistic**, which is similar to z-statistic, with the assumption that population standard deviations is not known and sample standard deviation is used to calculate the test statistic."
   ]
  },
  {
   "cell_type": "markdown",
   "metadata": {
    "id": "O2ywLjzsb3yh"
   },
   "source": [
    "we  will use **scipy.stats.ttest_1samp** which calculates the t test for the mean of one sample given the sample observations. This function returns t statistic and the p value for a two-tailed  t-test."
   ]
  },
  {
   "cell_type": "markdown",
   "metadata": {
    "id": "G6ejuDieb3yi"
   },
   "source": [
    "### Step 6: Calculate the p-value using t-statistic"
   ]
  },
  {
   "cell_type": "code",
   "execution_count": 11,
   "metadata": {
    "id": "MuOryIk3b3yi",
    "outputId": "caa36bb1-75c6-42d5-f923-f514f09fe3ed"
   },
   "outputs": [
    {
     "name": "stdout",
     "output_type": "stream",
     "text": [
      "One sample t test \n",
      "t statistic: [1.41131966] p value: [0.16878961] \n"
     ]
    }
   ],
   "source": [
    "t_statistic, p_value_ttest = stats.ttest_1samp(mydata, popmean = 144)\n",
    "print('One sample t test \\nt statistic: {0} p value: {1} '.format(t_statistic, p_value_ttest))"
   ]
  },
  {
   "cell_type": "markdown",
   "metadata": {
    "id": "XbTKSdV8b3yi"
   },
   "source": [
    "### Step 7: Decide to reject or not to reject the null hypothesis based on t-statistic"
   ]
  },
  {
   "cell_type": "code",
   "execution_count": 12,
   "metadata": {
    "ExecuteTime": {
     "end_time": "2020-03-27T11:10:29.927035Z",
     "start_time": "2020-03-27T11:10:29.921051Z"
    },
    "id": "thWqVEosb3yj",
    "outputId": "bdefee51-a498-4fe8-cfeb-355c0e38a232"
   },
   "outputs": [
    {
     "name": "stdout",
     "output_type": "stream",
     "text": [
      "Level of significance: 0.05\n",
      "We have no evidence to reject the null hypothesis since p-value is greater than the Level of significance\n"
     ]
    }
   ],
   "source": [
    "alpha_value = 0.05 # Level of significance\n",
    "\n",
    "print('Level of significance: %.2f' %alpha_value)\n",
    "\n",
    "if p_value_ttest < alpha_value: \n",
    "    print('We have evidence to reject the null hypothesis since p-value is less than the level of significance'.format(p_value_ttest))\n",
    "else:\n",
    "    print('We have no evidence to reject the null hypothesis since p-value is greater than the level of significance'.format(p_value_ttest)) \n",
    "\n"
   ]
  },
  {
   "cell_type": "markdown",
   "metadata": {
    "id": "0cx01v8Ib3yj"
   },
   "source": [
    "**Observation** \n",
    "- So at 5% significance level, we do not have enough statistical evidence to prove that the mean time spent on the Internet is not equal to 144 minutes. "
   ]
  }
 ],
 "metadata": {
  "colab": {
   "name": "Mobile_Internet_Case_Study.ipynb",
   "provenance": []
  },
  "kernelspec": {
   "display_name": "Python 3",
   "language": "python",
   "name": "python3"
  },
  "language_info": {
   "codemirror_mode": {
    "name": "ipython",
    "version": 3
   },
   "file_extension": ".py",
   "mimetype": "text/x-python",
   "name": "python",
   "nbconvert_exporter": "python",
   "pygments_lexer": "ipython3",
   "version": "3.8.8"
  },
  "toc": {
   "base_numbering": 1,
   "nav_menu": {},
   "number_sections": true,
   "sideBar": true,
   "skip_h1_title": false,
   "title_cell": "Table of Contents",
   "title_sidebar": "Contents",
   "toc_cell": false,
   "toc_position": {},
   "toc_section_display": true,
   "toc_window_display": false
  },
  "varInspector": {
   "cols": {
    "lenName": 16,
    "lenType": 16,
    "lenVar": 40
   },
   "kernels_config": {
    "python": {
     "delete_cmd_postfix": "",
     "delete_cmd_prefix": "del ",
     "library": "var_list.py",
     "varRefreshCmd": "print(var_dic_list())"
    },
    "r": {
     "delete_cmd_postfix": ") ",
     "delete_cmd_prefix": "rm(",
     "library": "var_list.r",
     "varRefreshCmd": "cat(var_dic_list()) "
    }
   },
   "types_to_exclude": [
    "module",
    "function",
    "builtin_function_or_method",
    "instance",
    "_Feature"
   ],
   "window_display": false
  }
 },
 "nbformat": 4,
 "nbformat_minor": 1
}
