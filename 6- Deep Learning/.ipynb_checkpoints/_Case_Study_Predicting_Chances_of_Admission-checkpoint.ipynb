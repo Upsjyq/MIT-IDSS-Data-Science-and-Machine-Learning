{
 "cells": [
  {
   "cell_type": "markdown",
   "metadata": {
    "id": "IIfOydFLJIaI"
   },
   "source": [
    "# **MLS 1 Case Study - Neural Networks**"
   ]
  },
  {
   "cell_type": "markdown",
   "metadata": {
    "id": "9s4YOTYtdsPc"
   },
   "source": [
    "### **Context:**\n",
    "\n",
    "The world is developing rapidly and continuously looking for the best knowledge and experience among people. This motivates people all around the world to stand out in their jobs and look for higher degrees that can help them in improving their skills and knowledge. As a result, the number of students applying for Master's programs has increased substantially.\n",
    "\n",
    "The current admission dataset was created for the prediction of admissions into the University of California, Los Angeles (UCLA). It was built to help students in shortlisting universities based on their profiles. The predicted output gives them a fair idea about their chances of getting accepted."
   ]
  },
  {
   "cell_type": "markdown",
   "metadata": {
    "id": "JZuWds1tKBZ3"
   },
   "source": [
    "### **Objective:**\n",
    "\n",
    "We need to build a classification model using neural networks to predict a student's chances of admission into UCLA."
   ]
  },
  {
   "cell_type": "markdown",
   "metadata": {
    "id": "O8NO_yexzbBa"
   },
   "source": [
    "### **Data Dictionary:**\n",
    "\n",
    "The dataset contains several parameters which are considered important during the application for Masters Programs.\n",
    "The parameters included are : \n",
    "\n",
    "**GRE Scores:** (out of 340) \\\n",
    "**TOEFL Scores:** (out of 120) \\\n",
    "**University Rating:**  It indicates the Bachelor University ranking (out of 5) \\\n",
    "**Statement of Purpose Strength:** (out of 5) \\\n",
    "**Letter of Recommendation Strength:** (out of 5) \\\n",
    "**Undergraduate GPA:** (out of 10) \\\n",
    "**Research Experience:** (either 0 or 1) \\\n",
    "**Chance of Admit:** (ranging from 0 to 1) \\"
   ]
  },
  {
   "cell_type": "markdown",
   "metadata": {
    "id": "RUNw9Lh-mZHQ"
   },
   "source": [
    "### **Loading the libraries and the dataset**"
   ]
  },
  {
   "cell_type": "markdown",
   "metadata": {
    "id": "Ycku3MMOwTGZ"
   },
   "source": [
    "First, let's import the data into the drive so that Colab can access the dataset. One way to load the data In Colab is by mounting the drive. into the drive from your local system is to use the following code.\n",
    "Once you run the cell, it would ask you to choose the file from your local system."
   ]
  },
  {
   "cell_type": "code",
   "execution_count": null,
   "metadata": {
    "colab": {
     "base_uri": "https://localhost:8080/",
     "height": 72,
     "resources": {
      "http://localhost:8080/nbextensions/google.colab/files.js": {
       "data": "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",
       "headers": [
        [
         "content-type",
         "application/javascript"
        ]
       ],
       "ok": true,
       "status": 200,
       "status_text": ""
      }
     }
    },
    "id": "wxUDP72g1N96",
    "outputId": "f3a83f42-dcd1-4855-9b6e-f12bf68b06bb"
   },
   "outputs": [
    {
     "data": {
      "text/html": [
       "\n",
       "     <input type=\"file\" id=\"files-5ccea1a7-45a2-4e5c-bbab-e1edcf0560ba\" name=\"files[]\" multiple disabled\n",
       "        style=\"border:none\" />\n",
       "     <output id=\"result-5ccea1a7-45a2-4e5c-bbab-e1edcf0560ba\">\n",
       "      Upload widget is only available when the cell has been executed in the\n",
       "      current browser session. Please rerun this cell to enable.\n",
       "      </output>\n",
       "      <script src=\"/nbextensions/google.colab/files.js\"></script> "
      ],
      "text/plain": [
       "<IPython.core.display.HTML object>"
      ]
     },
     "metadata": {
      "tags": []
     },
     "output_type": "display_data"
    },
    {
     "name": "stdout",
     "output_type": "stream",
     "text": [
      "Saving Admission_Predict.csv to Admission_Predict (1).csv\n"
     ]
    }
   ],
   "source": [
    "from google.colab import files\n",
    "uploaded = files.upload()"
   ]
  },
  {
   "cell_type": "code",
   "execution_count": null,
   "metadata": {
    "id": "CK_nbUDBmX2E"
   },
   "outputs": [],
   "source": [
    "import numpy as np\n",
    "import pandas as pd\n",
    "import matplotlib.pyplot as plt\n",
    "import seaborn as sns\n",
    "\n",
    "from sklearn.model_selection import train_test_split\n",
    "from sklearn.preprocessing import MinMaxScaler\n",
    "\n",
    "import tensorflow as tf\n",
    "from tensorflow.keras.models import Sequential\n",
    "from tensorflow.keras.layers import Dense, Dropout, Activation"
   ]
  },
  {
   "cell_type": "markdown",
   "metadata": {
    "id": "F6lw4gHtxYfK"
   },
   "source": [
    "Now, let's load the data using the read_csv() function. One small change from Jupyter here is that the path of the file might be a bit different. \n",
    "To get the path of the data file, follow the below steps:\n",
    "- To go the panel on the left-hand side and click on the folder icon at the bottom\n",
    "- Move the cursor on the file name\n",
    "- Click on the three dots and select the option \"Copy path\""
   ]
  },
  {
   "cell_type": "code",
   "execution_count": null,
   "metadata": {
    "colab": {
     "base_uri": "https://localhost:8080/",
     "height": 204
    },
    "id": "cF6d_Z6B2CpB",
    "outputId": "900d32a5-573c-4001-90a5-c86f14bc7f20"
   },
   "outputs": [
    {
     "data": {
      "text/html": [
       "<div>\n",
       "<style scoped>\n",
       "    .dataframe tbody tr th:only-of-type {\n",
       "        vertical-align: middle;\n",
       "    }\n",
       "\n",
       "    .dataframe tbody tr th {\n",
       "        vertical-align: top;\n",
       "    }\n",
       "\n",
       "    .dataframe thead th {\n",
       "        text-align: right;\n",
       "    }\n",
       "</style>\n",
       "<table border=\"1\" class=\"dataframe\">\n",
       "  <thead>\n",
       "    <tr style=\"text-align: right;\">\n",
       "      <th></th>\n",
       "      <th>Serial No.</th>\n",
       "      <th>GRE Score</th>\n",
       "      <th>TOEFL Score</th>\n",
       "      <th>University Rating</th>\n",
       "      <th>SOP</th>\n",
       "      <th>LOR</th>\n",
       "      <th>CGPA</th>\n",
       "      <th>Research</th>\n",
       "      <th>Chance of Admit</th>\n",
       "    </tr>\n",
       "  </thead>\n",
       "  <tbody>\n",
       "    <tr>\n",
       "      <th>0</th>\n",
       "      <td>1</td>\n",
       "      <td>337</td>\n",
       "      <td>118</td>\n",
       "      <td>4</td>\n",
       "      <td>4.5</td>\n",
       "      <td>4.5</td>\n",
       "      <td>9.65</td>\n",
       "      <td>1</td>\n",
       "      <td>0.92</td>\n",
       "    </tr>\n",
       "    <tr>\n",
       "      <th>1</th>\n",
       "      <td>2</td>\n",
       "      <td>324</td>\n",
       "      <td>107</td>\n",
       "      <td>4</td>\n",
       "      <td>4.0</td>\n",
       "      <td>4.5</td>\n",
       "      <td>8.87</td>\n",
       "      <td>1</td>\n",
       "      <td>0.76</td>\n",
       "    </tr>\n",
       "    <tr>\n",
       "      <th>2</th>\n",
       "      <td>3</td>\n",
       "      <td>316</td>\n",
       "      <td>104</td>\n",
       "      <td>3</td>\n",
       "      <td>3.0</td>\n",
       "      <td>3.5</td>\n",
       "      <td>8.00</td>\n",
       "      <td>1</td>\n",
       "      <td>0.72</td>\n",
       "    </tr>\n",
       "    <tr>\n",
       "      <th>3</th>\n",
       "      <td>4</td>\n",
       "      <td>322</td>\n",
       "      <td>110</td>\n",
       "      <td>3</td>\n",
       "      <td>3.5</td>\n",
       "      <td>2.5</td>\n",
       "      <td>8.67</td>\n",
       "      <td>1</td>\n",
       "      <td>0.80</td>\n",
       "    </tr>\n",
       "    <tr>\n",
       "      <th>4</th>\n",
       "      <td>5</td>\n",
       "      <td>314</td>\n",
       "      <td>103</td>\n",
       "      <td>2</td>\n",
       "      <td>2.0</td>\n",
       "      <td>3.0</td>\n",
       "      <td>8.21</td>\n",
       "      <td>0</td>\n",
       "      <td>0.65</td>\n",
       "    </tr>\n",
       "  </tbody>\n",
       "</table>\n",
       "</div>"
      ],
      "text/plain": [
       "   Serial No.  GRE Score  TOEFL Score  ...  CGPA  Research  Chance of Admit \n",
       "0           1        337          118  ...  9.65         1              0.92\n",
       "1           2        324          107  ...  8.87         1              0.76\n",
       "2           3        316          104  ...  8.00         1              0.72\n",
       "3           4        322          110  ...  8.67         1              0.80\n",
       "4           5        314          103  ...  8.21         0              0.65\n",
       "\n",
       "[5 rows x 9 columns]"
      ]
     },
     "execution_count": 3,
     "metadata": {
      "tags": []
     },
     "output_type": "execute_result"
    }
   ],
   "source": [
    "data = pd.read_csv('/content/Admission_Predict.csv')\n",
    "data.head()"
   ]
  },
  {
   "cell_type": "markdown",
   "metadata": {
    "id": "yVsWWzVw2brU"
   },
   "source": [
    "- In the above dataset, the target variable is **Chance of Admit**\n",
    "- To make this a classification task, let's convert the target variable into a categorical variable by using a threshold of 80%\n",
    "- We are assuming that if **Chance of Admit** is more than 80% then **Admit** would be 1 (i.e. yes) otherwise it would be 0 (i.e. no)"
   ]
  },
  {
   "cell_type": "code",
   "execution_count": null,
   "metadata": {
    "id": "HLxtOrbw2ZLS"
   },
   "outputs": [],
   "source": [
    "#Converting the target variable into a categorical variable\n",
    "data['Admit'] = data['Chance of Admit '].apply(lambda x: 1 if x > 0.8 else 0)"
   ]
  },
  {
   "cell_type": "markdown",
   "metadata": {
    "id": "CY4KERF63aAY"
   },
   "source": [
    "Now that we have created new a target variable, we can remove the column - **Chance of Admit** from the dataset. We can also remove the column - **Serial No.** as it would not add any value to our analysis."
   ]
  },
  {
   "cell_type": "code",
   "execution_count": null,
   "metadata": {
    "colab": {
     "base_uri": "https://localhost:8080/",
     "height": 204
    },
    "id": "XGCid1us3jRJ",
    "outputId": "c5c7021e-6a16-4e52-ede9-ac345bc7dbb8"
   },
   "outputs": [
    {
     "data": {
      "text/html": [
       "<div>\n",
       "<style scoped>\n",
       "    .dataframe tbody tr th:only-of-type {\n",
       "        vertical-align: middle;\n",
       "    }\n",
       "\n",
       "    .dataframe tbody tr th {\n",
       "        vertical-align: top;\n",
       "    }\n",
       "\n",
       "    .dataframe thead th {\n",
       "        text-align: right;\n",
       "    }\n",
       "</style>\n",
       "<table border=\"1\" class=\"dataframe\">\n",
       "  <thead>\n",
       "    <tr style=\"text-align: right;\">\n",
       "      <th></th>\n",
       "      <th>GRE Score</th>\n",
       "      <th>TOEFL Score</th>\n",
       "      <th>University Rating</th>\n",
       "      <th>SOP</th>\n",
       "      <th>LOR</th>\n",
       "      <th>CGPA</th>\n",
       "      <th>Research</th>\n",
       "      <th>Admit</th>\n",
       "    </tr>\n",
       "  </thead>\n",
       "  <tbody>\n",
       "    <tr>\n",
       "      <th>0</th>\n",
       "      <td>337</td>\n",
       "      <td>118</td>\n",
       "      <td>4</td>\n",
       "      <td>4.5</td>\n",
       "      <td>4.5</td>\n",
       "      <td>9.65</td>\n",
       "      <td>1</td>\n",
       "      <td>1</td>\n",
       "    </tr>\n",
       "    <tr>\n",
       "      <th>1</th>\n",
       "      <td>324</td>\n",
       "      <td>107</td>\n",
       "      <td>4</td>\n",
       "      <td>4.0</td>\n",
       "      <td>4.5</td>\n",
       "      <td>8.87</td>\n",
       "      <td>1</td>\n",
       "      <td>0</td>\n",
       "    </tr>\n",
       "    <tr>\n",
       "      <th>2</th>\n",
       "      <td>316</td>\n",
       "      <td>104</td>\n",
       "      <td>3</td>\n",
       "      <td>3.0</td>\n",
       "      <td>3.5</td>\n",
       "      <td>8.00</td>\n",
       "      <td>1</td>\n",
       "      <td>0</td>\n",
       "    </tr>\n",
       "    <tr>\n",
       "      <th>3</th>\n",
       "      <td>322</td>\n",
       "      <td>110</td>\n",
       "      <td>3</td>\n",
       "      <td>3.5</td>\n",
       "      <td>2.5</td>\n",
       "      <td>8.67</td>\n",
       "      <td>1</td>\n",
       "      <td>0</td>\n",
       "    </tr>\n",
       "    <tr>\n",
       "      <th>4</th>\n",
       "      <td>314</td>\n",
       "      <td>103</td>\n",
       "      <td>2</td>\n",
       "      <td>2.0</td>\n",
       "      <td>3.0</td>\n",
       "      <td>8.21</td>\n",
       "      <td>0</td>\n",
       "      <td>0</td>\n",
       "    </tr>\n",
       "  </tbody>\n",
       "</table>\n",
       "</div>"
      ],
      "text/plain": [
       "   GRE Score  TOEFL Score  University Rating  SOP  LOR   CGPA  Research  Admit\n",
       "0        337          118                  4  4.5   4.5  9.65         1      1\n",
       "1        324          107                  4  4.0   4.5  8.87         1      0\n",
       "2        316          104                  3  3.0   3.5  8.00         1      0\n",
       "3        322          110                  3  3.5   2.5  8.67         1      0\n",
       "4        314          103                  2  2.0   3.0  8.21         0      0"
      ]
     },
     "execution_count": 5,
     "metadata": {
      "tags": []
     },
     "output_type": "execute_result"
    }
   ],
   "source": [
    "#Dropping columns\n",
    "data = data.drop(['Serial No.', 'Chance of Admit '], axis=1)\n",
    "data.head()"
   ]
  },
  {
   "cell_type": "markdown",
   "metadata": {
    "id": "VxPbTdpkC-ax"
   },
   "source": [
    "Let's check the info of the data"
   ]
  },
  {
   "cell_type": "code",
   "execution_count": null,
   "metadata": {
    "colab": {
     "base_uri": "https://localhost:8080/"
    },
    "id": "Y5wPX0lb3wRU",
    "outputId": "9d67a8fa-7462-4bb7-cf50-ccfbd5357582"
   },
   "outputs": [
    {
     "name": "stdout",
     "output_type": "stream",
     "text": [
      "<class 'pandas.core.frame.DataFrame'>\n",
      "RangeIndex: 500 entries, 0 to 499\n",
      "Data columns (total 8 columns):\n",
      " #   Column             Non-Null Count  Dtype  \n",
      "---  ------             --------------  -----  \n",
      " 0   GRE Score          500 non-null    int64  \n",
      " 1   TOEFL Score        500 non-null    int64  \n",
      " 2   University Rating  500 non-null    int64  \n",
      " 3   SOP                500 non-null    float64\n",
      " 4   LOR                500 non-null    float64\n",
      " 5   CGPA               500 non-null    float64\n",
      " 6   Research           500 non-null    int64  \n",
      " 7   Admit              500 non-null    int64  \n",
      "dtypes: float64(3), int64(5)\n",
      "memory usage: 31.4 KB\n"
     ]
    }
   ],
   "source": [
    "data.info()"
   ]
  },
  {
   "cell_type": "markdown",
   "metadata": {
    "id": "cBQS9b56DC2_"
   },
   "source": [
    "**Observations:**\n",
    "\n",
    "- There are **500 observations and 8 columns** in the data\n",
    "- All the columns are of **numeric data** type\n",
    "- There are **no missing values** in the data"
   ]
  },
  {
   "cell_type": "markdown",
   "metadata": {
    "id": "knC7NPjGDqJ8"
   },
   "source": [
    "Let's check the summary statistics of the data"
   ]
  },
  {
   "cell_type": "code",
   "execution_count": null,
   "metadata": {
    "colab": {
     "base_uri": "https://localhost:8080/",
     "height": 297
    },
    "id": "WpdM4iC0DwPJ",
    "outputId": "20d83806-a9f0-4ff5-ed5c-f2e3beb5169d"
   },
   "outputs": [
    {
     "data": {
      "text/html": [
       "<div>\n",
       "<style scoped>\n",
       "    .dataframe tbody tr th:only-of-type {\n",
       "        vertical-align: middle;\n",
       "    }\n",
       "\n",
       "    .dataframe tbody tr th {\n",
       "        vertical-align: top;\n",
       "    }\n",
       "\n",
       "    .dataframe thead th {\n",
       "        text-align: right;\n",
       "    }\n",
       "</style>\n",
       "<table border=\"1\" class=\"dataframe\">\n",
       "  <thead>\n",
       "    <tr style=\"text-align: right;\">\n",
       "      <th></th>\n",
       "      <th>count</th>\n",
       "      <th>mean</th>\n",
       "      <th>std</th>\n",
       "      <th>min</th>\n",
       "      <th>25%</th>\n",
       "      <th>50%</th>\n",
       "      <th>75%</th>\n",
       "      <th>max</th>\n",
       "    </tr>\n",
       "  </thead>\n",
       "  <tbody>\n",
       "    <tr>\n",
       "      <th>GRE Score</th>\n",
       "      <td>500.0</td>\n",
       "      <td>316.47200</td>\n",
       "      <td>11.295148</td>\n",
       "      <td>290.0</td>\n",
       "      <td>308.0000</td>\n",
       "      <td>317.00</td>\n",
       "      <td>325.00</td>\n",
       "      <td>340.00</td>\n",
       "    </tr>\n",
       "    <tr>\n",
       "      <th>TOEFL Score</th>\n",
       "      <td>500.0</td>\n",
       "      <td>107.19200</td>\n",
       "      <td>6.081868</td>\n",
       "      <td>92.0</td>\n",
       "      <td>103.0000</td>\n",
       "      <td>107.00</td>\n",
       "      <td>112.00</td>\n",
       "      <td>120.00</td>\n",
       "    </tr>\n",
       "    <tr>\n",
       "      <th>University Rating</th>\n",
       "      <td>500.0</td>\n",
       "      <td>3.11400</td>\n",
       "      <td>1.143512</td>\n",
       "      <td>1.0</td>\n",
       "      <td>2.0000</td>\n",
       "      <td>3.00</td>\n",
       "      <td>4.00</td>\n",
       "      <td>5.00</td>\n",
       "    </tr>\n",
       "    <tr>\n",
       "      <th>SOP</th>\n",
       "      <td>500.0</td>\n",
       "      <td>3.37400</td>\n",
       "      <td>0.991004</td>\n",
       "      <td>1.0</td>\n",
       "      <td>2.5000</td>\n",
       "      <td>3.50</td>\n",
       "      <td>4.00</td>\n",
       "      <td>5.00</td>\n",
       "    </tr>\n",
       "    <tr>\n",
       "      <th>LOR</th>\n",
       "      <td>500.0</td>\n",
       "      <td>3.48400</td>\n",
       "      <td>0.925450</td>\n",
       "      <td>1.0</td>\n",
       "      <td>3.0000</td>\n",
       "      <td>3.50</td>\n",
       "      <td>4.00</td>\n",
       "      <td>5.00</td>\n",
       "    </tr>\n",
       "    <tr>\n",
       "      <th>CGPA</th>\n",
       "      <td>500.0</td>\n",
       "      <td>8.57644</td>\n",
       "      <td>0.604813</td>\n",
       "      <td>6.8</td>\n",
       "      <td>8.1275</td>\n",
       "      <td>8.56</td>\n",
       "      <td>9.04</td>\n",
       "      <td>9.92</td>\n",
       "    </tr>\n",
       "    <tr>\n",
       "      <th>Research</th>\n",
       "      <td>500.0</td>\n",
       "      <td>0.56000</td>\n",
       "      <td>0.496884</td>\n",
       "      <td>0.0</td>\n",
       "      <td>0.0000</td>\n",
       "      <td>1.00</td>\n",
       "      <td>1.00</td>\n",
       "      <td>1.00</td>\n",
       "    </tr>\n",
       "    <tr>\n",
       "      <th>Admit</th>\n",
       "      <td>500.0</td>\n",
       "      <td>0.28400</td>\n",
       "      <td>0.451388</td>\n",
       "      <td>0.0</td>\n",
       "      <td>0.0000</td>\n",
       "      <td>0.00</td>\n",
       "      <td>1.00</td>\n",
       "      <td>1.00</td>\n",
       "    </tr>\n",
       "  </tbody>\n",
       "</table>\n",
       "</div>"
      ],
      "text/plain": [
       "                   count       mean        std  ...     50%     75%     max\n",
       "GRE Score          500.0  316.47200  11.295148  ...  317.00  325.00  340.00\n",
       "TOEFL Score        500.0  107.19200   6.081868  ...  107.00  112.00  120.00\n",
       "University Rating  500.0    3.11400   1.143512  ...    3.00    4.00    5.00\n",
       "SOP                500.0    3.37400   0.991004  ...    3.50    4.00    5.00\n",
       "LOR                500.0    3.48400   0.925450  ...    3.50    4.00    5.00\n",
       "CGPA               500.0    8.57644   0.604813  ...    8.56    9.04    9.92\n",
       "Research           500.0    0.56000   0.496884  ...    1.00    1.00    1.00\n",
       "Admit              500.0    0.28400   0.451388  ...    0.00    1.00    1.00\n",
       "\n",
       "[8 rows x 8 columns]"
      ]
     },
     "execution_count": 7,
     "metadata": {
      "tags": []
     },
     "output_type": "execute_result"
    }
   ],
   "source": [
    "data.describe().T"
   ]
  },
  {
   "cell_type": "markdown",
   "metadata": {
    "id": "Dwro2RclD222"
   },
   "source": [
    "**Observations:**\n",
    "\n",
    "- The average GRE score of students applying for UCLA is ~316 out of 340. Some students scored full marks on GRE. \n",
    "-  The average TOEFL score of students applying for UCLA is ~107 out of 120. Some students scored full marks on TOEFL.\n",
    "- There are students with all kinds of ratings for bachelor's University, SOP, and LOR - ratings ranging from 1 to 5.\n",
    "-  The average CGPA of students applying for UCLA is 8.57.\n",
    "- Majority of students (~56%) have research experience.\n",
    "- As per our assumption, on average 28.4% of students would get admission to UCLA."
   ]
  },
  {
   "cell_type": "markdown",
   "metadata": {
    "id": "fhotGVGD4hgT"
   },
   "source": [
    "### **Let's visualize the dataset to see some patterns**"
   ]
  },
  {
   "cell_type": "code",
   "execution_count": null,
   "metadata": {
    "colab": {
     "base_uri": "https://localhost:8080/",
     "height": 497
    },
    "id": "vwTqs3205Zk6",
    "outputId": "70c4dba6-3dc3-4359-8929-94a8f9f2a2f1"
   },
   "outputs": [
    {
     "data": {
      "image/png": "[encoded data removed]",
      "text/plain": [
       "<Figure size 1080x576 with 1 Axes>"
      ]
     },
     "metadata": {
      "needs_background": "light",
      "tags": []
     },
     "output_type": "display_data"
    }
   ],
   "source": [
    "plt.figure(figsize=(15,8))\n",
    "sns.scatterplot(data=data, \n",
    "           x='GRE Score', \n",
    "           y='TOEFL Score', \n",
    "           hue='Admit',\n",
    "           size='SOP');"
   ]
  },
  {
   "cell_type": "markdown",
   "metadata": {
    "id": "csxwJUu4Kmj4"
   },
   "source": [
    "**Observations:** \n",
    "\n",
    "- There is a linear relationship between GRE and TOEFL scores. This implies that students scoring high one of them would score high in the other as well.\n",
    "- With the increase in GRE and TOEFL scores, the strength of SOP increases. \n",
    "- We can see a distinction between students who were admitted (denoted by orange) vs those who were not admitted (denoted by blue). We can see that majority of students who were admitted have GRE score greater than 320, TOEFL score greater than 105, and SOP of 4 or higher."
   ]
  },
  {
   "cell_type": "code",
   "execution_count": null,
   "metadata": {
    "colab": {
     "base_uri": "https://localhost:8080/",
     "height": 458
    },
    "id": "cEOrIzXp4m4L",
    "outputId": "6c6f8703-4cfc-41a4-8cd3-a813472b97a8"
   },
   "outputs": [
    {
     "data": {
      "image/png": "[encoded data removed]",
      "text/plain": [
       "<Figure size 720x504 with 1 Axes>"
      ]
     },
     "metadata": {
      "needs_background": "light",
      "tags": []
     },
     "output_type": "display_data"
    }
   ],
   "source": [
    "plt.figure(figsize=(10,7))\n",
    "sns.boxplot(data=data,\n",
    "             x='University Rating', \n",
    "             y='CGPA',\n",
    "             hue='Admit')\n",
    "plt.title('Relationship between different University Rating and CGPA')\n",
    "plt.show()"
   ]
  },
  {
   "cell_type": "markdown",
   "metadata": {
    "id": "qphs_7DPMb05"
   },
   "source": [
    "**Observations:** \n",
    "\n",
    "- We can see that, with increasing university ratings, the CGPA is also increasing, and also the chances of getting admitted to UCLA increases.\n",
    "- The CGPA of students getting admission to UCLA is higher as compared to students not getting admission to UCLA which makes sense."
   ]
  },
  {
   "cell_type": "markdown",
   "metadata": {
    "id": "ZZP_r2sD7B0P"
   },
   "source": [
    "### **Data Preparation**"
   ]
  },
  {
   "cell_type": "markdown",
   "metadata": {
    "id": "5N2uA8r4MwX6"
   },
   "source": [
    "This dataset contains both numerical and categorical variables. We need to treat them first before we pass them onto the neural network. We will perform below pre-processing steps - \n",
    "*   One hot encoding of categorical variables\n",
    "*   Scaling numerical variables\n",
    "\n",
    "An important point to remember: Before we scale numerical variables, we would first split the dataset into train and test datasets and perform scaling separately. Otherwise, we would be leaking information from the test data to the train data and the resulting model might give a false sense of good performance. This is known as **data leakage** which we would like to avoid."
   ]
  },
  {
   "cell_type": "markdown",
   "metadata": {
    "id": "8kYCXX6UN7rE"
   },
   "source": [
    "In this dataset, although the variable **University Rating** is encoded as a numerical variable. But it is denoting or signifying the quality of the university, so that is why this is a categorical variable and we would be creating one-hot encoding or dummy variables for this variable."
   ]
  },
  {
   "cell_type": "code",
   "execution_count": null,
   "metadata": {
    "colab": {
     "base_uri": "https://localhost:8080/",
     "height": 221
    },
    "id": "FHbuFLR-7EeE",
    "outputId": "bd80c0aa-9e70-4aca-cd17-9e4f165888c1"
   },
   "outputs": [
    {
     "data": {
      "text/html": [
       "<div>\n",
       "<style scoped>\n",
       "    .dataframe tbody tr th:only-of-type {\n",
       "        vertical-align: middle;\n",
       "    }\n",
       "\n",
       "    .dataframe tbody tr th {\n",
       "        vertical-align: top;\n",
       "    }\n",
       "\n",
       "    .dataframe thead th {\n",
       "        text-align: right;\n",
       "    }\n",
       "</style>\n",
       "<table border=\"1\" class=\"dataframe\">\n",
       "  <thead>\n",
       "    <tr style=\"text-align: right;\">\n",
       "      <th></th>\n",
       "      <th>GRE Score</th>\n",
       "      <th>TOEFL Score</th>\n",
       "      <th>SOP</th>\n",
       "      <th>LOR</th>\n",
       "      <th>CGPA</th>\n",
       "      <th>Research</th>\n",
       "      <th>Admit</th>\n",
       "      <th>University Rating_1</th>\n",
       "      <th>University Rating_2</th>\n",
       "      <th>University Rating_3</th>\n",
       "      <th>University Rating_4</th>\n",
       "      <th>University Rating_5</th>\n",
       "    </tr>\n",
       "  </thead>\n",
       "  <tbody>\n",
       "    <tr>\n",
       "      <th>0</th>\n",
       "      <td>337</td>\n",
       "      <td>118</td>\n",
       "      <td>4.5</td>\n",
       "      <td>4.5</td>\n",
       "      <td>9.65</td>\n",
       "      <td>1</td>\n",
       "      <td>1</td>\n",
       "      <td>0</td>\n",
       "      <td>0</td>\n",
       "      <td>0</td>\n",
       "      <td>1</td>\n",
       "      <td>0</td>\n",
       "    </tr>\n",
       "    <tr>\n",
       "      <th>1</th>\n",
       "      <td>324</td>\n",
       "      <td>107</td>\n",
       "      <td>4.0</td>\n",
       "      <td>4.5</td>\n",
       "      <td>8.87</td>\n",
       "      <td>1</td>\n",
       "      <td>0</td>\n",
       "      <td>0</td>\n",
       "      <td>0</td>\n",
       "      <td>0</td>\n",
       "      <td>1</td>\n",
       "      <td>0</td>\n",
       "    </tr>\n",
       "    <tr>\n",
       "      <th>2</th>\n",
       "      <td>316</td>\n",
       "      <td>104</td>\n",
       "      <td>3.0</td>\n",
       "      <td>3.5</td>\n",
       "      <td>8.00</td>\n",
       "      <td>1</td>\n",
       "      <td>0</td>\n",
       "      <td>0</td>\n",
       "      <td>0</td>\n",
       "      <td>1</td>\n",
       "      <td>0</td>\n",
       "      <td>0</td>\n",
       "    </tr>\n",
       "    <tr>\n",
       "      <th>3</th>\n",
       "      <td>322</td>\n",
       "      <td>110</td>\n",
       "      <td>3.5</td>\n",
       "      <td>2.5</td>\n",
       "      <td>8.67</td>\n",
       "      <td>1</td>\n",
       "      <td>0</td>\n",
       "      <td>0</td>\n",
       "      <td>0</td>\n",
       "      <td>1</td>\n",
       "      <td>0</td>\n",
       "      <td>0</td>\n",
       "    </tr>\n",
       "    <tr>\n",
       "      <th>4</th>\n",
       "      <td>314</td>\n",
       "      <td>103</td>\n",
       "      <td>2.0</td>\n",
       "      <td>3.0</td>\n",
       "      <td>8.21</td>\n",
       "      <td>0</td>\n",
       "      <td>0</td>\n",
       "      <td>0</td>\n",
       "      <td>1</td>\n",
       "      <td>0</td>\n",
       "      <td>0</td>\n",
       "      <td>0</td>\n",
       "    </tr>\n",
       "  </tbody>\n",
       "</table>\n",
       "</div>"
      ],
      "text/plain": [
       "   GRE Score  TOEFL Score  ...  University Rating_4  University Rating_5\n",
       "0        337          118  ...                    1                    0\n",
       "1        324          107  ...                    1                    0\n",
       "2        316          104  ...                    0                    0\n",
       "3        322          110  ...                    0                    0\n",
       "4        314          103  ...                    0                    0\n",
       "\n",
       "[5 rows x 12 columns]"
      ]
     },
     "execution_count": 10,
     "metadata": {
      "tags": []
     },
     "output_type": "execute_result"
    }
   ],
   "source": [
    "#Creating one hot encoding for the column - University Rating and then dropping University Rating\n",
    "one_hot_data = pd.concat([data, pd.get_dummies(data['University Rating'], prefix = 'University Rating')], axis=1)\n",
    "one_hot_data = one_hot_data.drop(columns = 'University Rating')\n",
    "one_hot_data.head()"
   ]
  },
  {
   "cell_type": "markdown",
   "metadata": {
    "id": "M3O6DOWXOWkn"
   },
   "source": [
    "Now, let's split the dataset into train and test datasets. To do that, we would be extracting all the **independent variables** and save them into a variable **features**. And the target variable **Admit** would be saved into a variable **target**. These two variables will be used to split the parent dataset into train and test datasets."
   ]
  },
  {
   "cell_type": "code",
   "execution_count": null,
   "metadata": {
    "id": "7MQ2juQB8IuT"
   },
   "outputs": [],
   "source": [
    "features = one_hot_data.drop(['Admit'], axis=1)\n",
    "target = one_hot_data['Admit']"
   ]
  },
  {
   "cell_type": "markdown",
   "metadata": {
    "id": "NuYQ0t2WcBLG"
   },
   "source": [
    "The size of the dataset is small and the Keras implementation provides an argument for selecting some percentage of training data as validation data to check the accuracy of the model. Therefore, we will split the data into an 80:20 ratio."
   ]
  },
  {
   "cell_type": "code",
   "execution_count": null,
   "metadata": {
    "id": "I8fE8aF_7hJY"
   },
   "outputs": [],
   "source": [
    "#Splitting the dataset into train and test data\n",
    "X_train, X_test, y_train, y_test =  train_test_split(features, target, test_size=0.2, random_state=42)"
   ]
  },
  {
   "cell_type": "markdown",
   "metadata": {
    "id": "U883DzGZOwpp"
   },
   "source": [
    "Now, we will perform scaling on the numerical variables separately for train and test sets. We will perform **fit** and **transform** on the train data and then we will only perform **transform** on the test data. "
   ]
  },
  {
   "cell_type": "code",
   "execution_count": null,
   "metadata": {
    "id": "mVdTFnkb8dfQ"
   },
   "outputs": [],
   "source": [
    "scaler = MinMaxScaler()\n",
    "# here we are passing all the features (numerical and categorical), that's okay as min-max scaler will not change values of categorical variables\n",
    "X_train_normalized = scaler.fit_transform(X_train)"
   ]
  },
  {
   "cell_type": "code",
   "execution_count": null,
   "metadata": {
    "id": "2VLYxAVu953T"
   },
   "outputs": [],
   "source": [
    "X_test_normalized = scaler.transform(X_test)"
   ]
  },
  {
   "cell_type": "markdown",
   "metadata": {
    "id": "X7VT_t5f9bwR"
   },
   "source": [
    "### **Model Architecture**"
   ]
  },
  {
   "cell_type": "markdown",
   "metadata": {
    "id": "hbltijMlPVVP"
   },
   "source": [
    "In neural networks, there are so many hyper-parameters that you can play around with and tune the network to get the best results. Some of them are - \n",
    "\n",
    "\n",
    "\n",
    "1.   Number of hidden layers\n",
    "2.   Number of neurons in each hidden layer\n",
    "3.   Activation functions in hidden layers\n",
    "4.   Optimizers\n",
    "5.   Random initialization of weights and biases\n",
    "6.   Batch size\n",
    "7.   Learning rate\n",
    "8.   Early stopping\n",
    "9.   L1 and L2 Regularization\n",
    "10.  Dropout\n",
    "11.  Momentum\n",
    "\n",
    "and so on..."
   ]
  },
  {
   "cell_type": "markdown",
   "metadata": {
    "id": "9YFaopNE_lpw"
   },
   "source": [
    "First, let's set the seed for random number generators in NumPy, Python, and TensorFlow to be able to reproduce the same results everytime we run the code."
   ]
  },
  {
   "cell_type": "code",
   "execution_count": null,
   "metadata": {
    "id": "VTVs7lmH_hXx"
   },
   "outputs": [],
   "source": [
    "#Fixing the seed for random number generators\n",
    "np.random.seed(42)\n",
    "import random\n",
    "random.seed(42)\n",
    "tf.random.set_seed(42)"
   ]
  },
  {
   "cell_type": "markdown",
   "metadata": {
    "id": "tLsxcmgPQ_cG"
   },
   "source": [
    "Let's build a feed forward neural network with 2 hidden layers and the output layer."
   ]
  },
  {
   "cell_type": "code",
   "execution_count": null,
   "metadata": {
    "id": "ytCsjy93BKbK"
   },
   "outputs": [],
   "source": [
    "# we will be adding the layers sequentially\n",
    "model_1 = Sequential()\n",
    "\n",
    "# first hidden layer with 128 neurons and relu activation function, the input shape tuple denotes number of independent variables\n",
    "model_1.add(Dense(128, activation='relu', input_shape=(11,)))\n",
    "\n",
    "# we will be switching 20% of neurons randomly at each iteration to avoid overfitting\n",
    "model_1.add(Dropout(0.2))\n",
    "\n",
    "# second hidden layer with 64 neurons and relu activation function\n",
    "model_1.add(Dense(64, activation='relu'))\n",
    "\n",
    "# we will be switching 10% of neurons off randomly at each iteration to avoid overfitting\n",
    "model_1.add(Dropout(0.1))\n",
    "\n",
    "# output layer with only one neuron and sigmoid as activation function will give the probability of students getting admitted into UCLA  \n",
    "model_1.add(Dense(1, activation='sigmoid'))"
   ]
  },
  {
   "cell_type": "markdown",
   "metadata": {
    "id": "FvBhQn8ZR_HW"
   },
   "source": [
    "Once we are done with the model architecture, we need to compile the model, where we need to provide the loss function that we want to optimize, the optimization algorithm, and the evaluation metric that we are interested in to evaluate the model."
   ]
  },
  {
   "cell_type": "markdown",
   "metadata": {
    "id": "GAP99treSW_4"
   },
   "source": [
    "Since this is a binary classification task, we will be minimizing the **binary_crossentropy** and we can choose one optimizer out of \n",
    "1.   SGD\n",
    "2.   RMSprop\n",
    "3.   Adam\n",
    "4.   Adadelta\n",
    "5.   Adagrad\n",
    "6.   Adamax\n",
    "7.   Nadam\n",
    "8.   Ftrl\n",
    "\n",
    "This is a hyper-parameter. You can play around with these optimizers to check which one performs better with a particular data.\n",
    "\n",
    "For now, let's try **adamax** optimizer with **accuracy** as the metric and see the model's summary."
   ]
  },
  {
   "cell_type": "code",
   "execution_count": null,
   "metadata": {
    "colab": {
     "base_uri": "https://localhost:8080/"
    },
    "id": "2REFSaSx9RBi",
    "outputId": "eb733875-98d3-4730-c53a-8945bd1b42c2"
   },
   "outputs": [
    {
     "name": "stdout",
     "output_type": "stream",
     "text": [
      "Model: \"sequential\"\n",
      "_________________________________________________________________\n",
      "Layer (type)                 Output Shape              Param #   \n",
      "=================================================================\n",
      "dense (Dense)                (None, 128)               1536      \n",
      "_________________________________________________________________\n",
      "dropout (Dropout)            (None, 128)               0         \n",
      "_________________________________________________________________\n",
      "dense_1 (Dense)              (None, 64)                8256      \n",
      "_________________________________________________________________\n",
      "dropout_1 (Dropout)          (None, 64)                0         \n",
      "_________________________________________________________________\n",
      "dense_2 (Dense)              (None, 1)                 65        \n",
      "=================================================================\n",
      "Total params: 9,857\n",
      "Trainable params: 9,857\n",
      "Non-trainable params: 0\n",
      "_________________________________________________________________\n"
     ]
    }
   ],
   "source": [
    "model_1.compile(loss = 'binary_crossentropy', optimizer='adamax', metrics=['accuracy'])\n",
    "model_1.summary()"
   ]
  },
  {
   "cell_type": "markdown",
   "metadata": {
    "id": "C7W9EYZnTP1P"
   },
   "source": [
    "From the above summary, we can see that this architecture will train a total of **9,857** parameters i.e. weights and biases in the network."
   ]
  },
  {
   "cell_type": "markdown",
   "metadata": {
    "id": "4N6XAn6mA_BD"
   },
   "source": [
    "### **Training the model**"
   ]
  },
  {
   "cell_type": "markdown",
   "metadata": {
    "id": "hmZ5ZSIlUSVH"
   },
   "source": [
    "Let's now train the model using the below piece of code. We will keep the 10% of the training data for validation."
   ]
  },
  {
   "cell_type": "code",
   "execution_count": null,
   "metadata": {
    "colab": {
     "base_uri": "https://localhost:8080/"
    },
    "id": "hkeCQ_K99nob",
    "outputId": "16d9c08c-18f8-4c24-a8d8-014d7fbec49d"
   },
   "outputs": [
    {
     "name": "stdout",
     "output_type": "stream",
     "text": [
      "Epoch 1/150\n",
      "12/12 - 1s - loss: 0.6373 - accuracy: 0.7250 - val_loss: 0.6509 - val_accuracy: 0.5750\n",
      "Epoch 2/150\n",
      "12/12 - 0s - loss: 0.5813 - accuracy: 0.7361 - val_loss: 0.6019 - val_accuracy: 0.5750\n",
      "Epoch 3/150\n",
      "12/12 - 0s - loss: 0.5331 - accuracy: 0.7472 - val_loss: 0.5543 - val_accuracy: 0.7250\n",
      "Epoch 4/150\n",
      "12/12 - 0s - loss: 0.4897 - accuracy: 0.8167 - val_loss: 0.4976 - val_accuracy: 0.8500\n",
      "Epoch 5/150\n",
      "12/12 - 0s - loss: 0.4477 - accuracy: 0.8528 - val_loss: 0.4505 - val_accuracy: 0.9250\n",
      "Epoch 6/150\n",
      "12/12 - 0s - loss: 0.4192 - accuracy: 0.8583 - val_loss: 0.4132 - val_accuracy: 0.9000\n",
      "Epoch 7/150\n",
      "12/12 - 0s - loss: 0.3946 - accuracy: 0.8556 - val_loss: 0.3775 - val_accuracy: 0.9000\n",
      "Epoch 8/150\n",
      "12/12 - 0s - loss: 0.3690 - accuracy: 0.8556 - val_loss: 0.3548 - val_accuracy: 0.9000\n",
      "Epoch 9/150\n",
      "12/12 - 0s - loss: 0.3508 - accuracy: 0.8694 - val_loss: 0.3380 - val_accuracy: 0.9000\n",
      "Epoch 10/150\n",
      "12/12 - 0s - loss: 0.3357 - accuracy: 0.8667 - val_loss: 0.3235 - val_accuracy: 0.9000\n",
      "Epoch 11/150\n",
      "12/12 - 0s - loss: 0.3290 - accuracy: 0.8694 - val_loss: 0.3124 - val_accuracy: 0.9000\n",
      "Epoch 12/150\n",
      "12/12 - 0s - loss: 0.3134 - accuracy: 0.8722 - val_loss: 0.3132 - val_accuracy: 0.9000\n",
      "Epoch 13/150\n",
      "12/12 - 0s - loss: 0.3121 - accuracy: 0.8722 - val_loss: 0.3042 - val_accuracy: 0.9000\n",
      "Epoch 14/150\n",
      "12/12 - 0s - loss: 0.3108 - accuracy: 0.8722 - val_loss: 0.2932 - val_accuracy: 0.9000\n",
      "Epoch 15/150\n",
      "12/12 - 0s - loss: 0.2999 - accuracy: 0.8722 - val_loss: 0.2959 - val_accuracy: 0.9000\n",
      "Epoch 16/150\n",
      "12/12 - 0s - loss: 0.2940 - accuracy: 0.8750 - val_loss: 0.2939 - val_accuracy: 0.9000\n",
      "Epoch 17/150\n",
      "12/12 - 0s - loss: 0.2970 - accuracy: 0.8722 - val_loss: 0.2859 - val_accuracy: 0.9000\n",
      "Epoch 18/150\n",
      "12/12 - 0s - loss: 0.2825 - accuracy: 0.8806 - val_loss: 0.2863 - val_accuracy: 0.9000\n",
      "Epoch 19/150\n",
      "12/12 - 0s - loss: 0.2903 - accuracy: 0.8778 - val_loss: 0.2861 - val_accuracy: 0.9000\n",
      "Epoch 20/150\n",
      "12/12 - 0s - loss: 0.2905 - accuracy: 0.8722 - val_loss: 0.2893 - val_accuracy: 0.9250\n",
      "Epoch 21/150\n",
      "12/12 - 0s - loss: 0.2795 - accuracy: 0.8806 - val_loss: 0.2881 - val_accuracy: 0.9250\n",
      "Epoch 22/150\n",
      "12/12 - 0s - loss: 0.2684 - accuracy: 0.8889 - val_loss: 0.2813 - val_accuracy: 0.9250\n",
      "Epoch 23/150\n",
      "12/12 - 0s - loss: 0.2732 - accuracy: 0.8833 - val_loss: 0.2753 - val_accuracy: 0.9000\n",
      "Epoch 24/150\n",
      "12/12 - 0s - loss: 0.2783 - accuracy: 0.8806 - val_loss: 0.2759 - val_accuracy: 0.9250\n",
      "Epoch 25/150\n",
      "12/12 - 0s - loss: 0.2730 - accuracy: 0.8833 - val_loss: 0.2792 - val_accuracy: 0.9250\n",
      "Epoch 26/150\n",
      "12/12 - 0s - loss: 0.2642 - accuracy: 0.8861 - val_loss: 0.2819 - val_accuracy: 0.9250\n",
      "Epoch 27/150\n",
      "12/12 - 0s - loss: 0.2538 - accuracy: 0.8861 - val_loss: 0.2770 - val_accuracy: 0.9250\n",
      "Epoch 28/150\n",
      "12/12 - 0s - loss: 0.2675 - accuracy: 0.8917 - val_loss: 0.2824 - val_accuracy: 0.9250\n",
      "Epoch 29/150\n",
      "12/12 - 0s - loss: 0.2512 - accuracy: 0.9000 - val_loss: 0.2832 - val_accuracy: 0.9250\n",
      "Epoch 30/150\n",
      "12/12 - 0s - loss: 0.2604 - accuracy: 0.8917 - val_loss: 0.2748 - val_accuracy: 0.9250\n",
      "Epoch 31/150\n",
      "12/12 - 0s - loss: 0.2587 - accuracy: 0.8889 - val_loss: 0.2744 - val_accuracy: 0.9250\n",
      "Epoch 32/150\n",
      "12/12 - 0s - loss: 0.2566 - accuracy: 0.8917 - val_loss: 0.2753 - val_accuracy: 0.9250\n",
      "Epoch 33/150\n",
      "12/12 - 0s - loss: 0.2523 - accuracy: 0.8861 - val_loss: 0.2752 - val_accuracy: 0.9250\n",
      "Epoch 34/150\n",
      "12/12 - 0s - loss: 0.2590 - accuracy: 0.8833 - val_loss: 0.2749 - val_accuracy: 0.9250\n",
      "Epoch 35/150\n",
      "12/12 - 0s - loss: 0.2504 - accuracy: 0.9000 - val_loss: 0.2752 - val_accuracy: 0.9250\n",
      "Epoch 36/150\n",
      "12/12 - 0s - loss: 0.2515 - accuracy: 0.9000 - val_loss: 0.2681 - val_accuracy: 0.9250\n",
      "Epoch 37/150\n",
      "12/12 - 0s - loss: 0.2463 - accuracy: 0.8944 - val_loss: 0.2639 - val_accuracy: 0.9250\n",
      "Epoch 38/150\n",
      "12/12 - 0s - loss: 0.2458 - accuracy: 0.8861 - val_loss: 0.2643 - val_accuracy: 0.9250\n",
      "Epoch 39/150\n",
      "12/12 - 0s - loss: 0.2604 - accuracy: 0.8806 - val_loss: 0.2662 - val_accuracy: 0.9250\n",
      "Epoch 40/150\n",
      "12/12 - 0s - loss: 0.2425 - accuracy: 0.8861 - val_loss: 0.2597 - val_accuracy: 0.9250\n",
      "Epoch 41/150\n",
      "12/12 - 0s - loss: 0.2563 - accuracy: 0.8917 - val_loss: 0.2642 - val_accuracy: 0.9250\n",
      "Epoch 42/150\n",
      "12/12 - 0s - loss: 0.2348 - accuracy: 0.8917 - val_loss: 0.2599 - val_accuracy: 0.9250\n",
      "Epoch 43/150\n",
      "12/12 - 0s - loss: 0.2338 - accuracy: 0.9000 - val_loss: 0.2694 - val_accuracy: 0.9250\n",
      "Epoch 44/150\n",
      "12/12 - 0s - loss: 0.2370 - accuracy: 0.8944 - val_loss: 0.2714 - val_accuracy: 0.9250\n",
      "Epoch 45/150\n",
      "12/12 - 0s - loss: 0.2497 - accuracy: 0.8861 - val_loss: 0.2667 - val_accuracy: 0.9250\n",
      "Epoch 46/150\n",
      "12/12 - 0s - loss: 0.2424 - accuracy: 0.9028 - val_loss: 0.2636 - val_accuracy: 0.9250\n",
      "Epoch 47/150\n",
      "12/12 - 0s - loss: 0.2244 - accuracy: 0.8972 - val_loss: 0.2619 - val_accuracy: 0.9250\n",
      "Epoch 48/150\n",
      "12/12 - 0s - loss: 0.2398 - accuracy: 0.8944 - val_loss: 0.2620 - val_accuracy: 0.9250\n",
      "Epoch 49/150\n",
      "12/12 - 0s - loss: 0.2374 - accuracy: 0.8944 - val_loss: 0.2615 - val_accuracy: 0.9250\n",
      "Epoch 50/150\n",
      "12/12 - 0s - loss: 0.2286 - accuracy: 0.9083 - val_loss: 0.2560 - val_accuracy: 0.9250\n",
      "Epoch 51/150\n",
      "12/12 - 0s - loss: 0.2269 - accuracy: 0.8972 - val_loss: 0.2580 - val_accuracy: 0.9250\n",
      "Epoch 52/150\n",
      "12/12 - 0s - loss: 0.2206 - accuracy: 0.9167 - val_loss: 0.2608 - val_accuracy: 0.9250\n",
      "Epoch 53/150\n",
      "12/12 - 0s - loss: 0.2282 - accuracy: 0.9028 - val_loss: 0.2570 - val_accuracy: 0.9250\n",
      "Epoch 54/150\n",
      "12/12 - 0s - loss: 0.2230 - accuracy: 0.8972 - val_loss: 0.2546 - val_accuracy: 0.9250\n",
      "Epoch 55/150\n",
      "12/12 - 0s - loss: 0.2399 - accuracy: 0.8944 - val_loss: 0.2536 - val_accuracy: 0.9250\n",
      "Epoch 56/150\n",
      "12/12 - 0s - loss: 0.2254 - accuracy: 0.8889 - val_loss: 0.2492 - val_accuracy: 0.9250\n",
      "Epoch 57/150\n",
      "12/12 - 0s - loss: 0.2279 - accuracy: 0.9056 - val_loss: 0.2491 - val_accuracy: 0.9250\n",
      "Epoch 58/150\n",
      "12/12 - 0s - loss: 0.2295 - accuracy: 0.8917 - val_loss: 0.2515 - val_accuracy: 0.9250\n",
      "Epoch 59/150\n",
      "12/12 - 0s - loss: 0.2302 - accuracy: 0.8972 - val_loss: 0.2501 - val_accuracy: 0.9250\n",
      "Epoch 60/150\n",
      "12/12 - 0s - loss: 0.2157 - accuracy: 0.9000 - val_loss: 0.2476 - val_accuracy: 0.9250\n",
      "Epoch 61/150\n",
      "12/12 - 0s - loss: 0.2208 - accuracy: 0.9028 - val_loss: 0.2540 - val_accuracy: 0.9250\n",
      "Epoch 62/150\n",
      "12/12 - 0s - loss: 0.2125 - accuracy: 0.9056 - val_loss: 0.2580 - val_accuracy: 0.9250\n",
      "Epoch 63/150\n",
      "12/12 - 0s - loss: 0.2317 - accuracy: 0.8944 - val_loss: 0.2550 - val_accuracy: 0.9250\n",
      "Epoch 64/150\n",
      "12/12 - 0s - loss: 0.2320 - accuracy: 0.8944 - val_loss: 0.2486 - val_accuracy: 0.9250\n",
      "Epoch 65/150\n",
      "12/12 - 0s - loss: 0.2301 - accuracy: 0.9139 - val_loss: 0.2476 - val_accuracy: 0.9250\n",
      "Epoch 66/150\n",
      "12/12 - 0s - loss: 0.2263 - accuracy: 0.8972 - val_loss: 0.2546 - val_accuracy: 0.9250\n",
      "Epoch 67/150\n",
      "12/12 - 0s - loss: 0.2166 - accuracy: 0.9167 - val_loss: 0.2486 - val_accuracy: 0.9250\n",
      "Epoch 68/150\n",
      "12/12 - 0s - loss: 0.2161 - accuracy: 0.9028 - val_loss: 0.2492 - val_accuracy: 0.9250\n",
      "Epoch 69/150\n",
      "12/12 - 0s - loss: 0.2094 - accuracy: 0.9278 - val_loss: 0.2493 - val_accuracy: 0.9250\n",
      "Epoch 70/150\n",
      "12/12 - 0s - loss: 0.2261 - accuracy: 0.9028 - val_loss: 0.2456 - val_accuracy: 0.9250\n",
      "Epoch 71/150\n",
      "12/12 - 0s - loss: 0.1984 - accuracy: 0.9111 - val_loss: 0.2528 - val_accuracy: 0.9250\n",
      "Epoch 72/150\n",
      "12/12 - 0s - loss: 0.2147 - accuracy: 0.8944 - val_loss: 0.2452 - val_accuracy: 0.9250\n",
      "Epoch 73/150\n",
      "12/12 - 0s - loss: 0.2167 - accuracy: 0.9028 - val_loss: 0.2458 - val_accuracy: 0.9250\n",
      "Epoch 74/150\n",
      "12/12 - 0s - loss: 0.2093 - accuracy: 0.9250 - val_loss: 0.2475 - val_accuracy: 0.9250\n",
      "Epoch 75/150\n",
      "12/12 - 0s - loss: 0.2217 - accuracy: 0.9028 - val_loss: 0.2494 - val_accuracy: 0.9250\n",
      "Epoch 76/150\n",
      "12/12 - 0s - loss: 0.2082 - accuracy: 0.9056 - val_loss: 0.2540 - val_accuracy: 0.9250\n",
      "Epoch 77/150\n",
      "12/12 - 0s - loss: 0.2132 - accuracy: 0.9083 - val_loss: 0.2495 - val_accuracy: 0.9250\n",
      "Epoch 78/150\n",
      "12/12 - 0s - loss: 0.2105 - accuracy: 0.9083 - val_loss: 0.2448 - val_accuracy: 0.9250\n",
      "Epoch 79/150\n",
      "12/12 - 0s - loss: 0.2097 - accuracy: 0.9056 - val_loss: 0.2497 - val_accuracy: 0.9250\n",
      "Epoch 80/150\n",
      "12/12 - 0s - loss: 0.2231 - accuracy: 0.9000 - val_loss: 0.2483 - val_accuracy: 0.9250\n",
      "Epoch 81/150\n",
      "12/12 - 0s - loss: 0.2080 - accuracy: 0.9056 - val_loss: 0.2454 - val_accuracy: 0.9250\n",
      "Epoch 82/150\n",
      "12/12 - 0s - loss: 0.2031 - accuracy: 0.9139 - val_loss: 0.2509 - val_accuracy: 0.9250\n",
      "Epoch 83/150\n",
      "12/12 - 0s - loss: 0.2065 - accuracy: 0.9000 - val_loss: 0.2515 - val_accuracy: 0.9250\n",
      "Epoch 84/150\n",
      "12/12 - 0s - loss: 0.1972 - accuracy: 0.9167 - val_loss: 0.2476 - val_accuracy: 0.9250\n",
      "Epoch 85/150\n",
      "12/12 - 0s - loss: 0.1948 - accuracy: 0.9278 - val_loss: 0.2526 - val_accuracy: 0.9250\n",
      "Epoch 86/150\n",
      "12/12 - 0s - loss: 0.2070 - accuracy: 0.9139 - val_loss: 0.2468 - val_accuracy: 0.9250\n",
      "Epoch 87/150\n",
      "12/12 - 0s - loss: 0.2120 - accuracy: 0.9194 - val_loss: 0.2440 - val_accuracy: 0.9250\n",
      "Epoch 88/150\n",
      "12/12 - 0s - loss: 0.2021 - accuracy: 0.9056 - val_loss: 0.2490 - val_accuracy: 0.9250\n",
      "Epoch 89/150\n",
      "12/12 - 0s - loss: 0.2119 - accuracy: 0.9083 - val_loss: 0.2518 - val_accuracy: 0.9250\n",
      "Epoch 90/150\n",
      "12/12 - 0s - loss: 0.1936 - accuracy: 0.9111 - val_loss: 0.2470 - val_accuracy: 0.9250\n",
      "Epoch 91/150\n",
      "12/12 - 0s - loss: 0.1997 - accuracy: 0.9056 - val_loss: 0.2465 - val_accuracy: 0.9250\n",
      "Epoch 92/150\n",
      "12/12 - 0s - loss: 0.2081 - accuracy: 0.9056 - val_loss: 0.2489 - val_accuracy: 0.9250\n",
      "Epoch 93/150\n",
      "12/12 - 0s - loss: 0.1978 - accuracy: 0.9056 - val_loss: 0.2512 - val_accuracy: 0.9250\n",
      "Epoch 94/150\n",
      "12/12 - 0s - loss: 0.1944 - accuracy: 0.9056 - val_loss: 0.2523 - val_accuracy: 0.9250\n",
      "Epoch 95/150\n",
      "12/12 - 0s - loss: 0.1983 - accuracy: 0.9306 - val_loss: 0.2501 - val_accuracy: 0.9250\n",
      "Epoch 96/150\n",
      "12/12 - 0s - loss: 0.2103 - accuracy: 0.9083 - val_loss: 0.2506 - val_accuracy: 0.9250\n",
      "Epoch 97/150\n",
      "12/12 - 0s - loss: 0.2033 - accuracy: 0.9056 - val_loss: 0.2477 - val_accuracy: 0.9250\n",
      "Epoch 98/150\n",
      "12/12 - 0s - loss: 0.1873 - accuracy: 0.9111 - val_loss: 0.2533 - val_accuracy: 0.9250\n",
      "Epoch 99/150\n",
      "12/12 - 0s - loss: 0.1949 - accuracy: 0.9000 - val_loss: 0.2493 - val_accuracy: 0.9250\n",
      "Epoch 100/150\n",
      "12/12 - 0s - loss: 0.2003 - accuracy: 0.9083 - val_loss: 0.2473 - val_accuracy: 0.9250\n",
      "Epoch 101/150\n",
      "12/12 - 0s - loss: 0.2019 - accuracy: 0.9000 - val_loss: 0.2432 - val_accuracy: 0.9250\n",
      "Epoch 102/150\n",
      "12/12 - 0s - loss: 0.2018 - accuracy: 0.9028 - val_loss: 0.2521 - val_accuracy: 0.9250\n",
      "Epoch 103/150\n",
      "12/12 - 0s - loss: 0.1899 - accuracy: 0.9139 - val_loss: 0.2473 - val_accuracy: 0.9250\n",
      "Epoch 104/150\n",
      "12/12 - 0s - loss: 0.1791 - accuracy: 0.9083 - val_loss: 0.2521 - val_accuracy: 0.9250\n",
      "Epoch 105/150\n",
      "12/12 - 0s - loss: 0.1961 - accuracy: 0.8861 - val_loss: 0.2614 - val_accuracy: 0.9250\n",
      "Epoch 106/150\n",
      "12/12 - 0s - loss: 0.1891 - accuracy: 0.9194 - val_loss: 0.2554 - val_accuracy: 0.9250\n",
      "Epoch 107/150\n",
      "12/12 - 0s - loss: 0.1894 - accuracy: 0.9167 - val_loss: 0.2553 - val_accuracy: 0.9250\n",
      "Epoch 108/150\n",
      "12/12 - 0s - loss: 0.1976 - accuracy: 0.9139 - val_loss: 0.2544 - val_accuracy: 0.9250\n",
      "Epoch 109/150\n",
      "12/12 - 0s - loss: 0.1908 - accuracy: 0.9056 - val_loss: 0.2490 - val_accuracy: 0.9250\n",
      "Epoch 110/150\n",
      "12/12 - 0s - loss: 0.1857 - accuracy: 0.9167 - val_loss: 0.2571 - val_accuracy: 0.9250\n",
      "Epoch 111/150\n",
      "12/12 - 0s - loss: 0.1906 - accuracy: 0.9111 - val_loss: 0.2528 - val_accuracy: 0.9250\n",
      "Epoch 112/150\n",
      "12/12 - 0s - loss: 0.1971 - accuracy: 0.9028 - val_loss: 0.2506 - val_accuracy: 0.9000\n",
      "Epoch 113/150\n",
      "12/12 - 0s - loss: 0.2001 - accuracy: 0.9000 - val_loss: 0.2579 - val_accuracy: 0.9000\n",
      "Epoch 114/150\n",
      "12/12 - 0s - loss: 0.1884 - accuracy: 0.9194 - val_loss: 0.2633 - val_accuracy: 0.9250\n",
      "Epoch 115/150\n",
      "12/12 - 0s - loss: 0.1915 - accuracy: 0.9250 - val_loss: 0.2628 - val_accuracy: 0.9250\n",
      "Epoch 116/150\n",
      "12/12 - 0s - loss: 0.1894 - accuracy: 0.9250 - val_loss: 0.2583 - val_accuracy: 0.9250\n",
      "Epoch 117/150\n",
      "12/12 - 0s - loss: 0.1866 - accuracy: 0.9028 - val_loss: 0.2556 - val_accuracy: 0.9250\n",
      "Epoch 118/150\n",
      "12/12 - 0s - loss: 0.1818 - accuracy: 0.9250 - val_loss: 0.2611 - val_accuracy: 0.9250\n",
      "Epoch 119/150\n",
      "12/12 - 0s - loss: 0.1815 - accuracy: 0.9139 - val_loss: 0.2563 - val_accuracy: 0.9250\n",
      "Epoch 120/150\n",
      "12/12 - 0s - loss: 0.1812 - accuracy: 0.9250 - val_loss: 0.2555 - val_accuracy: 0.9250\n",
      "Epoch 121/150\n",
      "12/12 - 0s - loss: 0.1873 - accuracy: 0.9139 - val_loss: 0.2544 - val_accuracy: 0.9250\n",
      "Epoch 122/150\n",
      "12/12 - 0s - loss: 0.1816 - accuracy: 0.9167 - val_loss: 0.2595 - val_accuracy: 0.9250\n",
      "Epoch 123/150\n",
      "12/12 - 0s - loss: 0.1776 - accuracy: 0.9278 - val_loss: 0.2573 - val_accuracy: 0.9250\n",
      "Epoch 124/150\n",
      "12/12 - 0s - loss: 0.1886 - accuracy: 0.9250 - val_loss: 0.2532 - val_accuracy: 0.9250\n",
      "Epoch 125/150\n",
      "12/12 - 0s - loss: 0.1758 - accuracy: 0.9250 - val_loss: 0.2559 - val_accuracy: 0.9000\n",
      "Epoch 126/150\n",
      "12/12 - 0s - loss: 0.1819 - accuracy: 0.9083 - val_loss: 0.2599 - val_accuracy: 0.9250\n",
      "Epoch 127/150\n",
      "12/12 - 0s - loss: 0.1939 - accuracy: 0.9167 - val_loss: 0.2547 - val_accuracy: 0.9250\n",
      "Epoch 128/150\n",
      "12/12 - 0s - loss: 0.1901 - accuracy: 0.9222 - val_loss: 0.2607 - val_accuracy: 0.9250\n",
      "Epoch 129/150\n",
      "12/12 - 0s - loss: 0.1811 - accuracy: 0.9111 - val_loss: 0.2519 - val_accuracy: 0.9250\n",
      "Epoch 130/150\n",
      "12/12 - 0s - loss: 0.1697 - accuracy: 0.9278 - val_loss: 0.2602 - val_accuracy: 0.9250\n",
      "Epoch 131/150\n",
      "12/12 - 0s - loss: 0.1813 - accuracy: 0.9139 - val_loss: 0.2577 - val_accuracy: 0.9250\n",
      "Epoch 132/150\n",
      "12/12 - 0s - loss: 0.1995 - accuracy: 0.9028 - val_loss: 0.2619 - val_accuracy: 0.9250\n",
      "Epoch 133/150\n",
      "12/12 - 0s - loss: 0.1841 - accuracy: 0.9194 - val_loss: 0.2572 - val_accuracy: 0.9250\n",
      "Epoch 134/150\n",
      "12/12 - 0s - loss: 0.1801 - accuracy: 0.9222 - val_loss: 0.2582 - val_accuracy: 0.9250\n",
      "Epoch 135/150\n",
      "12/12 - 0s - loss: 0.1820 - accuracy: 0.9111 - val_loss: 0.2569 - val_accuracy: 0.9000\n",
      "Epoch 136/150\n",
      "12/12 - 0s - loss: 0.1780 - accuracy: 0.9250 - val_loss: 0.2616 - val_accuracy: 0.9250\n",
      "Epoch 137/150\n",
      "12/12 - 0s - loss: 0.1796 - accuracy: 0.9250 - val_loss: 0.2641 - val_accuracy: 0.9250\n",
      "Epoch 138/150\n",
      "12/12 - 0s - loss: 0.1753 - accuracy: 0.9139 - val_loss: 0.2622 - val_accuracy: 0.9250\n",
      "Epoch 139/150\n",
      "12/12 - 0s - loss: 0.1896 - accuracy: 0.9139 - val_loss: 0.2584 - val_accuracy: 0.9250\n",
      "Epoch 140/150\n",
      "12/12 - 0s - loss: 0.1706 - accuracy: 0.9333 - val_loss: 0.2624 - val_accuracy: 0.9250\n",
      "Epoch 141/150\n",
      "12/12 - 0s - loss: 0.1695 - accuracy: 0.9306 - val_loss: 0.2545 - val_accuracy: 0.9250\n",
      "Epoch 142/150\n",
      "12/12 - 0s - loss: 0.1840 - accuracy: 0.9083 - val_loss: 0.2532 - val_accuracy: 0.9250\n",
      "Epoch 143/150\n",
      "12/12 - 0s - loss: 0.1913 - accuracy: 0.9111 - val_loss: 0.2649 - val_accuracy: 0.9250\n",
      "Epoch 144/150\n",
      "12/12 - 0s - loss: 0.1643 - accuracy: 0.9333 - val_loss: 0.2639 - val_accuracy: 0.9250\n",
      "Epoch 145/150\n",
      "12/12 - 0s - loss: 0.1752 - accuracy: 0.9389 - val_loss: 0.2565 - val_accuracy: 0.9250\n",
      "Epoch 146/150\n",
      "12/12 - 0s - loss: 0.1706 - accuracy: 0.9278 - val_loss: 0.2677 - val_accuracy: 0.9250\n",
      "Epoch 147/150\n",
      "12/12 - 0s - loss: 0.1788 - accuracy: 0.9167 - val_loss: 0.2635 - val_accuracy: 0.9250\n",
      "Epoch 148/150\n",
      "12/12 - 0s - loss: 0.1882 - accuracy: 0.9139 - val_loss: 0.2620 - val_accuracy: 0.9250\n",
      "Epoch 149/150\n",
      "12/12 - 0s - loss: 0.1730 - accuracy: 0.9194 - val_loss: 0.2688 - val_accuracy: 0.9250\n",
      "Epoch 150/150\n",
      "12/12 - 0s - loss: 0.1644 - accuracy: 0.9333 - val_loss: 0.2672 - val_accuracy: 0.9250\n"
     ]
    }
   ],
   "source": [
    "history_1 = model_1.fit(X_train_normalized, \n",
    "                    y_train,\n",
    "                    validation_split=0.1, \n",
    "                    epochs=150, \n",
    "                    verbose=2)"
   ]
  },
  {
   "cell_type": "markdown",
   "metadata": {
    "id": "EFMmpLAuBC4n"
   },
   "source": [
    "### **Plotting Accuracy vs Epoch Curve**"
   ]
  },
  {
   "cell_type": "code",
   "execution_count": null,
   "metadata": {
    "colab": {
     "base_uri": "https://localhost:8080/",
     "height": 295
    },
    "id": "oe8CUImT-8xf",
    "outputId": "59b31288-d90b-4e86-f03a-42e14d59039b"
   },
   "outputs": [
    {
     "data": {
      "image/png": "[encoded data removed]",
      "text/plain": [
       "<Figure size 432x288 with 1 Axes>"
      ]
     },
     "metadata": {
      "needs_background": "light",
      "tags": []
     },
     "output_type": "display_data"
    }
   ],
   "source": [
    "plt.plot(history_1.history['accuracy'])\n",
    "plt.plot(history_1.history['val_accuracy'])\n",
    "plt.title('Accuracy vs Epochs')\n",
    "plt.ylabel('Accuracy')\n",
    "plt.xlabel('Epoch')\n",
    "plt.legend(['Train', 'Validation'], loc='lower right')\n",
    "plt.show()"
   ]
  },
  {
   "cell_type": "markdown",
   "metadata": {
    "id": "K8cyNSpIjURF"
   },
   "source": [
    "**Observations:**\n",
    "\n",
    "- The training accuracy is fluctuating but overall it is increasing with the increase in epochs.\n",
    "- The validation accuracy is constant between ~20 to 100 epochs and it is fluctuating a bit post 100 epochs.\n",
    "- The model is giving good accuracy. After 150 epochs, the accuracy of the model on the training data is about 93.3% and the validation accuracy is 92.5%.\n",
    "- The validation accuracy is closer to the training accuracy. This indicates that the model is giving a generalized performance."
   ]
  },
  {
   "cell_type": "markdown",
   "metadata": {
    "id": "e3lV6QFMVqQh"
   },
   "source": [
    "Let's try to increase the model complexity by tuning some of the hyper-parameters mentioned earlier and check if we can improve the model performance. Out of all the options we have, let's try to change the number of hidden layers, the number of neurons in each hidden layer, the activation function in the hidden layer, the optimizer from **adamax** to **adam**. Also, we have observed that validation accuracy became constant after some epochs, let's try less number of epochs which would also reduce the computation time. "
   ]
  },
  {
   "cell_type": "markdown",
   "metadata": {
    "id": "TcLYYkZo6PaW"
   },
   "source": [
    "First, we need to clear the previous model's history from the session. In Keras, we need special command to clear the model's history otherwise the previous model history remains in the backend.\n",
    "Also, let's fix the seed again after clearing the backend."
   ]
  },
  {
   "cell_type": "code",
   "execution_count": null,
   "metadata": {
    "id": "_GQu0Mv56_IH"
   },
   "outputs": [],
   "source": [
    "#Clearing backend\n",
    "from tensorflow.keras import backend\n",
    "backend.clear_session()"
   ]
  },
  {
   "cell_type": "code",
   "execution_count": null,
   "metadata": {
    "id": "7PIxvVI0LqbV"
   },
   "outputs": [],
   "source": [
    "#Fixing the seed for random number generators\n",
    "np.random.seed(42)\n",
    "import random\n",
    "random.seed(42)\n",
    "tf.random.set_seed(42)"
   ]
  },
  {
   "cell_type": "code",
   "execution_count": null,
   "metadata": {
    "id": "S23oRyS2XJZW"
   },
   "outputs": [],
   "source": [
    "model_2 = Sequential()\n",
    "\n",
    "model_2.add(Dense(128, activation='tanh', input_shape=(11,)))\n",
    "model_2.add(Dropout(0.1))\n",
    "model_2.add(Dense(64, activation='tanh'))\n",
    "model_2.add(Dropout(0.1))\n",
    "model_2.add(Dense(32, activation='tanh'))\n",
    "model_2.add(Dense(1, activation='sigmoid'))"
   ]
  },
  {
   "cell_type": "code",
   "execution_count": null,
   "metadata": {
    "colab": {
     "base_uri": "https://localhost:8080/"
    },
    "id": "DT1QFebrV9ZC",
    "outputId": "c5a1fc1c-d287-41fc-9d44-bc672c1d7875"
   },
   "outputs": [
    {
     "name": "stdout",
     "output_type": "stream",
     "text": [
      "Model: \"sequential\"\n",
      "_________________________________________________________________\n",
      "Layer (type)                 Output Shape              Param #   \n",
      "=================================================================\n",
      "dense (Dense)                (None, 128)               1536      \n",
      "_________________________________________________________________\n",
      "dropout (Dropout)            (None, 128)               0         \n",
      "_________________________________________________________________\n",
      "dense_1 (Dense)              (None, 64)                8256      \n",
      "_________________________________________________________________\n",
      "dropout_1 (Dropout)          (None, 64)                0         \n",
      "_________________________________________________________________\n",
      "dense_2 (Dense)              (None, 32)                2080      \n",
      "_________________________________________________________________\n",
      "dense_3 (Dense)              (None, 1)                 33        \n",
      "=================================================================\n",
      "Total params: 11,905\n",
      "Trainable params: 11,905\n",
      "Non-trainable params: 0\n",
      "_________________________________________________________________\n"
     ]
    }
   ],
   "source": [
    "model_2.compile(loss = 'binary_crossentropy', optimizer='adam', metrics=['accuracy'])\n",
    "model_2.summary()"
   ]
  },
  {
   "cell_type": "code",
   "execution_count": null,
   "metadata": {
    "colab": {
     "base_uri": "https://localhost:8080/"
    },
    "id": "d0mHas6KV9f9",
    "outputId": "0cf3722f-bbc9-4975-a751-6e9e9eb290ee"
   },
   "outputs": [
    {
     "name": "stdout",
     "output_type": "stream",
     "text": [
      "Epoch 1/100\n",
      "12/12 - 1s - loss: 0.5653 - accuracy: 0.7417 - val_loss: 0.4820 - val_accuracy: 0.9000\n",
      "Epoch 2/100\n",
      "12/12 - 0s - loss: 0.4055 - accuracy: 0.8528 - val_loss: 0.3655 - val_accuracy: 0.9000\n",
      "Epoch 3/100\n",
      "12/12 - 0s - loss: 0.3364 - accuracy: 0.8639 - val_loss: 0.3124 - val_accuracy: 0.9000\n",
      "Epoch 4/100\n",
      "12/12 - 0s - loss: 0.3235 - accuracy: 0.8639 - val_loss: 0.2959 - val_accuracy: 0.9000\n",
      "Epoch 5/100\n",
      "12/12 - 0s - loss: 0.3147 - accuracy: 0.8722 - val_loss: 0.2880 - val_accuracy: 0.9000\n",
      "Epoch 6/100\n",
      "12/12 - 0s - loss: 0.3081 - accuracy: 0.8694 - val_loss: 0.2873 - val_accuracy: 0.9000\n",
      "Epoch 7/100\n",
      "12/12 - 0s - loss: 0.2891 - accuracy: 0.8722 - val_loss: 0.2945 - val_accuracy: 0.9250\n",
      "Epoch 8/100\n",
      "12/12 - 0s - loss: 0.2691 - accuracy: 0.8694 - val_loss: 0.2701 - val_accuracy: 0.9250\n",
      "Epoch 9/100\n",
      "12/12 - 0s - loss: 0.2644 - accuracy: 0.8722 - val_loss: 0.2697 - val_accuracy: 0.9250\n",
      "Epoch 10/100\n",
      "12/12 - 0s - loss: 0.2520 - accuracy: 0.8861 - val_loss: 0.2619 - val_accuracy: 0.9250\n",
      "Epoch 11/100\n",
      "12/12 - 0s - loss: 0.2523 - accuracy: 0.8778 - val_loss: 0.3011 - val_accuracy: 0.9000\n",
      "Epoch 12/100\n",
      "12/12 - 0s - loss: 0.2437 - accuracy: 0.8944 - val_loss: 0.2310 - val_accuracy: 0.9250\n",
      "Epoch 13/100\n",
      "12/12 - 0s - loss: 0.2309 - accuracy: 0.9000 - val_loss: 0.2804 - val_accuracy: 0.9250\n",
      "Epoch 14/100\n",
      "12/12 - 0s - loss: 0.2405 - accuracy: 0.9028 - val_loss: 0.2514 - val_accuracy: 0.9250\n",
      "Epoch 15/100\n",
      "12/12 - 0s - loss: 0.2358 - accuracy: 0.9056 - val_loss: 0.2151 - val_accuracy: 0.9250\n",
      "Epoch 16/100\n",
      "12/12 - 0s - loss: 0.2329 - accuracy: 0.8861 - val_loss: 0.2297 - val_accuracy: 0.9250\n",
      "Epoch 17/100\n",
      "12/12 - 0s - loss: 0.2196 - accuracy: 0.9139 - val_loss: 0.2400 - val_accuracy: 0.9250\n",
      "Epoch 18/100\n",
      "12/12 - 0s - loss: 0.2364 - accuracy: 0.8972 - val_loss: 0.2095 - val_accuracy: 0.9250\n",
      "Epoch 19/100\n",
      "12/12 - 0s - loss: 0.2159 - accuracy: 0.8944 - val_loss: 0.2657 - val_accuracy: 0.9250\n",
      "Epoch 20/100\n",
      "12/12 - 0s - loss: 0.1975 - accuracy: 0.9056 - val_loss: 0.2224 - val_accuracy: 0.9000\n",
      "Epoch 21/100\n",
      "12/12 - 0s - loss: 0.1973 - accuracy: 0.9167 - val_loss: 0.2268 - val_accuracy: 0.9250\n",
      "Epoch 22/100\n",
      "12/12 - 0s - loss: 0.1821 - accuracy: 0.9167 - val_loss: 0.2277 - val_accuracy: 0.9250\n",
      "Epoch 23/100\n",
      "12/12 - 0s - loss: 0.1996 - accuracy: 0.9000 - val_loss: 0.2505 - val_accuracy: 0.9250\n",
      "Epoch 24/100\n",
      "12/12 - 0s - loss: 0.1848 - accuracy: 0.9139 - val_loss: 0.2501 - val_accuracy: 0.9250\n",
      "Epoch 25/100\n",
      "12/12 - 0s - loss: 0.1867 - accuracy: 0.9111 - val_loss: 0.2206 - val_accuracy: 0.9500\n",
      "Epoch 26/100\n",
      "12/12 - 0s - loss: 0.1935 - accuracy: 0.9167 - val_loss: 0.2167 - val_accuracy: 0.9500\n",
      "Epoch 27/100\n",
      "12/12 - 0s - loss: 0.1821 - accuracy: 0.9194 - val_loss: 0.2675 - val_accuracy: 0.9250\n",
      "Epoch 28/100\n",
      "12/12 - 0s - loss: 0.1864 - accuracy: 0.9250 - val_loss: 0.2166 - val_accuracy: 0.9500\n",
      "Epoch 29/100\n",
      "12/12 - 0s - loss: 0.1918 - accuracy: 0.9056 - val_loss: 0.2121 - val_accuracy: 0.9500\n",
      "Epoch 30/100\n",
      "12/12 - 0s - loss: 0.1925 - accuracy: 0.9056 - val_loss: 0.2639 - val_accuracy: 0.9250\n",
      "Epoch 31/100\n",
      "12/12 - 0s - loss: 0.1807 - accuracy: 0.9278 - val_loss: 0.2472 - val_accuracy: 0.9250\n",
      "Epoch 32/100\n",
      "12/12 - 0s - loss: 0.1825 - accuracy: 0.9222 - val_loss: 0.2228 - val_accuracy: 0.9500\n",
      "Epoch 33/100\n",
      "12/12 - 0s - loss: 0.1762 - accuracy: 0.9250 - val_loss: 0.2320 - val_accuracy: 0.9250\n",
      "Epoch 34/100\n",
      "12/12 - 0s - loss: 0.1786 - accuracy: 0.9194 - val_loss: 0.2344 - val_accuracy: 0.9000\n",
      "Epoch 35/100\n",
      "12/12 - 0s - loss: 0.1722 - accuracy: 0.9222 - val_loss: 0.2174 - val_accuracy: 0.9500\n",
      "Epoch 36/100\n",
      "12/12 - 0s - loss: 0.1807 - accuracy: 0.9167 - val_loss: 0.2338 - val_accuracy: 0.9250\n",
      "Epoch 37/100\n",
      "12/12 - 0s - loss: 0.1773 - accuracy: 0.9222 - val_loss: 0.2227 - val_accuracy: 0.9250\n",
      "Epoch 38/100\n",
      "12/12 - 0s - loss: 0.1622 - accuracy: 0.9389 - val_loss: 0.2361 - val_accuracy: 0.9000\n",
      "Epoch 39/100\n",
      "12/12 - 0s - loss: 0.1829 - accuracy: 0.9194 - val_loss: 0.2390 - val_accuracy: 0.9250\n",
      "Epoch 40/100\n",
      "12/12 - 0s - loss: 0.1731 - accuracy: 0.9167 - val_loss: 0.2767 - val_accuracy: 0.9250\n",
      "Epoch 41/100\n",
      "12/12 - 0s - loss: 0.1849 - accuracy: 0.9222 - val_loss: 0.2155 - val_accuracy: 0.9500\n",
      "Epoch 42/100\n",
      "12/12 - 0s - loss: 0.1614 - accuracy: 0.9306 - val_loss: 0.2537 - val_accuracy: 0.9250\n",
      "Epoch 43/100\n",
      "12/12 - 0s - loss: 0.1764 - accuracy: 0.9194 - val_loss: 0.2363 - val_accuracy: 0.9000\n",
      "Epoch 44/100\n",
      "12/12 - 0s - loss: 0.1834 - accuracy: 0.9194 - val_loss: 0.2276 - val_accuracy: 0.9250\n",
      "Epoch 45/100\n",
      "12/12 - 0s - loss: 0.1717 - accuracy: 0.9222 - val_loss: 0.2374 - val_accuracy: 0.9250\n",
      "Epoch 46/100\n",
      "12/12 - 0s - loss: 0.1631 - accuracy: 0.9333 - val_loss: 0.2305 - val_accuracy: 0.9500\n",
      "Epoch 47/100\n",
      "12/12 - 0s - loss: 0.1643 - accuracy: 0.9250 - val_loss: 0.2286 - val_accuracy: 0.9000\n",
      "Epoch 48/100\n",
      "12/12 - 0s - loss: 0.1665 - accuracy: 0.9222 - val_loss: 0.2311 - val_accuracy: 0.9000\n",
      "Epoch 49/100\n",
      "12/12 - 0s - loss: 0.1761 - accuracy: 0.9222 - val_loss: 0.2262 - val_accuracy: 0.9250\n",
      "Epoch 50/100\n",
      "12/12 - 0s - loss: 0.1639 - accuracy: 0.9194 - val_loss: 0.2404 - val_accuracy: 0.9250\n",
      "Epoch 51/100\n",
      "12/12 - 0s - loss: 0.1571 - accuracy: 0.9306 - val_loss: 0.2399 - val_accuracy: 0.9250\n",
      "Epoch 52/100\n",
      "12/12 - 0s - loss: 0.1687 - accuracy: 0.9194 - val_loss: 0.2342 - val_accuracy: 0.9000\n",
      "Epoch 53/100\n",
      "12/12 - 0s - loss: 0.1630 - accuracy: 0.9278 - val_loss: 0.2611 - val_accuracy: 0.9250\n",
      "Epoch 54/100\n",
      "12/12 - 0s - loss: 0.2002 - accuracy: 0.9194 - val_loss: 0.2380 - val_accuracy: 0.9500\n",
      "Epoch 55/100\n",
      "12/12 - 0s - loss: 0.1863 - accuracy: 0.9083 - val_loss: 0.2413 - val_accuracy: 0.9250\n",
      "Epoch 56/100\n",
      "12/12 - 0s - loss: 0.1897 - accuracy: 0.9139 - val_loss: 0.2237 - val_accuracy: 0.9500\n",
      "Epoch 57/100\n",
      "12/12 - 0s - loss: 0.1669 - accuracy: 0.9250 - val_loss: 0.2227 - val_accuracy: 0.9250\n",
      "Epoch 58/100\n",
      "12/12 - 0s - loss: 0.1555 - accuracy: 0.9361 - val_loss: 0.2375 - val_accuracy: 0.9000\n",
      "Epoch 59/100\n",
      "12/12 - 0s - loss: 0.1571 - accuracy: 0.9194 - val_loss: 0.2413 - val_accuracy: 0.9000\n",
      "Epoch 60/100\n",
      "12/12 - 0s - loss: 0.1652 - accuracy: 0.9250 - val_loss: 0.2424 - val_accuracy: 0.9250\n",
      "Epoch 61/100\n",
      "12/12 - 0s - loss: 0.1625 - accuracy: 0.9306 - val_loss: 0.2313 - val_accuracy: 0.9250\n",
      "Epoch 62/100\n",
      "12/12 - 0s - loss: 0.1657 - accuracy: 0.9306 - val_loss: 0.2417 - val_accuracy: 0.9250\n",
      "Epoch 63/100\n",
      "12/12 - 0s - loss: 0.1682 - accuracy: 0.9194 - val_loss: 0.2301 - val_accuracy: 0.9250\n",
      "Epoch 64/100\n",
      "12/12 - 0s - loss: 0.1613 - accuracy: 0.9222 - val_loss: 0.2441 - val_accuracy: 0.9250\n",
      "Epoch 65/100\n",
      "12/12 - 0s - loss: 0.1671 - accuracy: 0.9333 - val_loss: 0.2279 - val_accuracy: 0.9250\n",
      "Epoch 66/100\n",
      "12/12 - 0s - loss: 0.1737 - accuracy: 0.9167 - val_loss: 0.2217 - val_accuracy: 0.9500\n",
      "Epoch 67/100\n",
      "12/12 - 0s - loss: 0.2077 - accuracy: 0.8972 - val_loss: 0.2543 - val_accuracy: 0.9250\n",
      "Epoch 68/100\n",
      "12/12 - 0s - loss: 0.1861 - accuracy: 0.9111 - val_loss: 0.2464 - val_accuracy: 0.9250\n",
      "Epoch 69/100\n",
      "12/12 - 0s - loss: 0.1521 - accuracy: 0.9333 - val_loss: 0.2273 - val_accuracy: 0.9250\n",
      "Epoch 70/100\n",
      "12/12 - 0s - loss: 0.1687 - accuracy: 0.9250 - val_loss: 0.2458 - val_accuracy: 0.9250\n",
      "Epoch 71/100\n",
      "12/12 - 0s - loss: 0.1619 - accuracy: 0.9250 - val_loss: 0.2283 - val_accuracy: 0.9250\n",
      "Epoch 72/100\n",
      "12/12 - 0s - loss: 0.1736 - accuracy: 0.9278 - val_loss: 0.2630 - val_accuracy: 0.9250\n",
      "Epoch 73/100\n",
      "12/12 - 0s - loss: 0.1611 - accuracy: 0.9361 - val_loss: 0.2313 - val_accuracy: 0.9000\n",
      "Epoch 74/100\n",
      "12/12 - 0s - loss: 0.1655 - accuracy: 0.9222 - val_loss: 0.2639 - val_accuracy: 0.9250\n",
      "Epoch 75/100\n",
      "12/12 - 0s - loss: 0.1837 - accuracy: 0.9167 - val_loss: 0.2240 - val_accuracy: 0.9250\n",
      "Epoch 76/100\n",
      "12/12 - 0s - loss: 0.1577 - accuracy: 0.9250 - val_loss: 0.2363 - val_accuracy: 0.9250\n",
      "Epoch 77/100\n",
      "12/12 - 0s - loss: 0.1571 - accuracy: 0.9250 - val_loss: 0.2230 - val_accuracy: 0.9250\n",
      "Epoch 78/100\n",
      "12/12 - 0s - loss: 0.1540 - accuracy: 0.9222 - val_loss: 0.2390 - val_accuracy: 0.9000\n",
      "Epoch 79/100\n",
      "12/12 - 0s - loss: 0.1539 - accuracy: 0.9278 - val_loss: 0.2353 - val_accuracy: 0.9000\n",
      "Epoch 80/100\n",
      "12/12 - 0s - loss: 0.1768 - accuracy: 0.9111 - val_loss: 0.2455 - val_accuracy: 0.9250\n",
      "Epoch 81/100\n",
      "12/12 - 0s - loss: 0.1572 - accuracy: 0.9333 - val_loss: 0.2263 - val_accuracy: 0.9250\n",
      "Epoch 82/100\n",
      "12/12 - 0s - loss: 0.1663 - accuracy: 0.9278 - val_loss: 0.2317 - val_accuracy: 0.9250\n",
      "Epoch 83/100\n",
      "12/12 - 0s - loss: 0.1615 - accuracy: 0.9333 - val_loss: 0.2427 - val_accuracy: 0.9250\n",
      "Epoch 84/100\n",
      "12/12 - 0s - loss: 0.1585 - accuracy: 0.9167 - val_loss: 0.2374 - val_accuracy: 0.9250\n",
      "Epoch 85/100\n",
      "12/12 - 0s - loss: 0.1545 - accuracy: 0.9250 - val_loss: 0.2339 - val_accuracy: 0.9250\n",
      "Epoch 86/100\n",
      "12/12 - 0s - loss: 0.1552 - accuracy: 0.9333 - val_loss: 0.2325 - val_accuracy: 0.9250\n",
      "Epoch 87/100\n",
      "12/12 - 0s - loss: 0.1623 - accuracy: 0.9278 - val_loss: 0.2468 - val_accuracy: 0.9250\n",
      "Epoch 88/100\n",
      "12/12 - 0s - loss: 0.1866 - accuracy: 0.9111 - val_loss: 0.2232 - val_accuracy: 0.9250\n",
      "Epoch 89/100\n",
      "12/12 - 0s - loss: 0.1598 - accuracy: 0.9222 - val_loss: 0.2551 - val_accuracy: 0.9250\n",
      "Epoch 90/100\n",
      "12/12 - 0s - loss: 0.1648 - accuracy: 0.9278 - val_loss: 0.2342 - val_accuracy: 0.9000\n",
      "Epoch 91/100\n",
      "12/12 - 0s - loss: 0.1637 - accuracy: 0.9167 - val_loss: 0.2443 - val_accuracy: 0.9000\n",
      "Epoch 92/100\n",
      "12/12 - 0s - loss: 0.1611 - accuracy: 0.9250 - val_loss: 0.2397 - val_accuracy: 0.9000\n",
      "Epoch 93/100\n",
      "12/12 - 0s - loss: 0.1514 - accuracy: 0.9361 - val_loss: 0.2341 - val_accuracy: 0.9250\n",
      "Epoch 94/100\n",
      "12/12 - 0s - loss: 0.1699 - accuracy: 0.9250 - val_loss: 0.2436 - val_accuracy: 0.9250\n",
      "Epoch 95/100\n",
      "12/12 - 0s - loss: 0.1523 - accuracy: 0.9250 - val_loss: 0.2391 - val_accuracy: 0.9000\n",
      "Epoch 96/100\n",
      "12/12 - 0s - loss: 0.1736 - accuracy: 0.9111 - val_loss: 0.2364 - val_accuracy: 0.9000\n",
      "Epoch 97/100\n",
      "12/12 - 0s - loss: 0.1564 - accuracy: 0.9333 - val_loss: 0.2485 - val_accuracy: 0.9250\n",
      "Epoch 98/100\n",
      "12/12 - 0s - loss: 0.1575 - accuracy: 0.9194 - val_loss: 0.2305 - val_accuracy: 0.9250\n",
      "Epoch 99/100\n",
      "12/12 - 0s - loss: 0.1757 - accuracy: 0.9111 - val_loss: 0.2636 - val_accuracy: 0.9250\n",
      "Epoch 100/100\n",
      "12/12 - 0s - loss: 0.1570 - accuracy: 0.9361 - val_loss: 0.2360 - val_accuracy: 0.9500\n"
     ]
    }
   ],
   "source": [
    "history_2 = model_2.fit(X_train_normalized, \n",
    "                    y_train, \n",
    "                    validation_split=0.1, \n",
    "                    epochs=100, \n",
    "                    verbose=2)"
   ]
  },
  {
   "cell_type": "code",
   "execution_count": null,
   "metadata": {
    "colab": {
     "base_uri": "https://localhost:8080/",
     "height": 295
    },
    "id": "i96cw1viV9om",
    "outputId": "ae2f5543-642a-4310-cdeb-1fb9c3885d23"
   },
   "outputs": [
    {
     "data": {
      "image/png": "[encoded data removed]",
      "text/plain": [
       "<Figure size 432x288 with 1 Axes>"
      ]
     },
     "metadata": {
      "needs_background": "light",
      "tags": []
     },
     "output_type": "display_data"
    }
   ],
   "source": [
    "plt.plot(history_2.history['accuracy'])\n",
    "plt.plot(history_2.history['val_accuracy'])\n",
    "plt.title('Accuracy vs Epochs')\n",
    "plt.ylabel('Accuracy')\n",
    "plt.xlabel('Epoch')\n",
    "plt.legend(['Train', 'Validation'], loc='lower right')\n",
    "plt.show()"
   ]
  },
  {
   "cell_type": "markdown",
   "metadata": {
    "id": "Iu0UbJjKAi8z"
   },
   "source": [
    "**Observations** \n",
    "\n",
    "- We are able to improve the model performance on the training data - accuracy has increased by only ~0.3% but the validation accuracy is has increased by 2.5%.\n",
    "- The validation accuracy is higher than the training accuracy. This might due to the small size of the validation set and the model is able is to correctly classify the data points in the validation set."
   ]
  },
  {
   "cell_type": "markdown",
   "metadata": {
    "id": "TLXYwazvu0jQ"
   },
   "source": [
    "Let's try to further tune some of the hyper-parameters and check if we can improve the model performance.\n",
    "\n",
    "We will use learning_rate = 0.001 for the optimizer in the training process and increase the model complexity by further increasing the number of layers, the number of nodes in each layer, and the epochs."
   ]
  },
  {
   "cell_type": "code",
   "execution_count": null,
   "metadata": {
    "id": "N7aNw91z_wgD"
   },
   "outputs": [],
   "source": [
    "#Clearing backend\n",
    "from tensorflow.keras import backend\n",
    "backend.clear_session()"
   ]
  },
  {
   "cell_type": "code",
   "execution_count": null,
   "metadata": {
    "id": "1HMdf0uSO3uw"
   },
   "outputs": [],
   "source": [
    "#Fixing the seed for random number generators\n",
    "np.random.seed(42)\n",
    "import random\n",
    "random.seed(42)\n",
    "tf.random.set_seed(42)"
   ]
  },
  {
   "cell_type": "code",
   "execution_count": null,
   "metadata": {
    "id": "xRpBpRf_vXJO"
   },
   "outputs": [],
   "source": [
    "model_3 = Sequential()\n",
    "\n",
    "model_3.add(Dense(256, activation='tanh', input_shape=(11,)))\n",
    "model_3.add(Dropout(0.1))\n",
    "model_3.add(Dense(128, activation='tanh'))\n",
    "model_3.add(Dropout(0.1))\n",
    "model_3.add(Dense(64, activation='tanh'))\n",
    "model_3.add(Dropout(0.1))\n",
    "model_3.add(Dense(32, activation='tanh'))\n",
    "model_3.add(Dense(1, activation='sigmoid'))"
   ]
  },
  {
   "cell_type": "code",
   "execution_count": null,
   "metadata": {
    "colab": {
     "base_uri": "https://localhost:8080/"
    },
    "id": "_kUFccLDy48t",
    "outputId": "dc22cb5b-77ab-446a-b3ca-4c8d749357cc"
   },
   "outputs": [
    {
     "name": "stdout",
     "output_type": "stream",
     "text": [
      "Model: \"sequential\"\n",
      "_________________________________________________________________\n",
      "Layer (type)                 Output Shape              Param #   \n",
      "=================================================================\n",
      "dense (Dense)                (None, 256)               3072      \n",
      "_________________________________________________________________\n",
      "dropout (Dropout)            (None, 256)               0         \n",
      "_________________________________________________________________\n",
      "dense_1 (Dense)              (None, 128)               32896     \n",
      "_________________________________________________________________\n",
      "dropout_1 (Dropout)          (None, 128)               0         \n",
      "_________________________________________________________________\n",
      "dense_2 (Dense)              (None, 64)                8256      \n",
      "_________________________________________________________________\n",
      "dropout_2 (Dropout)          (None, 64)                0         \n",
      "_________________________________________________________________\n",
      "dense_3 (Dense)              (None, 32)                2080      \n",
      "_________________________________________________________________\n",
      "dense_4 (Dense)              (None, 1)                 33        \n",
      "=================================================================\n",
      "Total params: 46,337\n",
      "Trainable params: 46,337\n",
      "Non-trainable params: 0\n",
      "_________________________________________________________________\n"
     ]
    }
   ],
   "source": [
    "model_3.compile(loss = 'binary_crossentropy', optimizer=tf.keras.optimizers.Adam(learning_rate=0.001), metrics=['accuracy'])\n",
    "model_3.summary()"
   ]
  },
  {
   "cell_type": "markdown",
   "metadata": {
    "id": "8LBADqBprJ7J"
   },
   "source": [
    "- Notice that the number of trainable parameters has increased substantially as compared to previous models."
   ]
  },
  {
   "cell_type": "code",
   "execution_count": null,
   "metadata": {
    "colab": {
     "base_uri": "https://localhost:8080/"
    },
    "id": "OLN7jZWmy_fb",
    "outputId": "534390f6-8a75-4ed5-9121-897537321a63"
   },
   "outputs": [
    {
     "name": "stdout",
     "output_type": "stream",
     "text": [
      "Epoch 1/200\n",
      "12/12 - 1s - loss: 0.5065 - accuracy: 0.7833 - val_loss: 0.3520 - val_accuracy: 0.9000\n",
      "Epoch 2/200\n",
      "12/12 - 0s - loss: 0.3666 - accuracy: 0.8583 - val_loss: 0.3290 - val_accuracy: 0.9000\n",
      "Epoch 3/200\n",
      "12/12 - 0s - loss: 0.3375 - accuracy: 0.8639 - val_loss: 0.2984 - val_accuracy: 0.9000\n",
      "Epoch 4/200\n",
      "12/12 - 0s - loss: 0.3056 - accuracy: 0.8667 - val_loss: 0.2831 - val_accuracy: 0.9250\n",
      "Epoch 5/200\n",
      "12/12 - 0s - loss: 0.2924 - accuracy: 0.8667 - val_loss: 0.2501 - val_accuracy: 0.9000\n",
      "Epoch 6/200\n",
      "12/12 - 0s - loss: 0.2893 - accuracy: 0.8722 - val_loss: 0.2586 - val_accuracy: 0.9250\n",
      "Epoch 7/200\n",
      "12/12 - 0s - loss: 0.2553 - accuracy: 0.8806 - val_loss: 0.2826 - val_accuracy: 0.9250\n",
      "Epoch 8/200\n",
      "12/12 - 0s - loss: 0.2301 - accuracy: 0.9000 - val_loss: 0.2501 - val_accuracy: 0.9250\n",
      "Epoch 9/200\n",
      "12/12 - 0s - loss: 0.2256 - accuracy: 0.9111 - val_loss: 0.2470 - val_accuracy: 0.9250\n",
      "Epoch 10/200\n",
      "12/12 - 0s - loss: 0.2177 - accuracy: 0.9139 - val_loss: 0.2338 - val_accuracy: 0.9250\n",
      "Epoch 11/200\n",
      "12/12 - 0s - loss: 0.2149 - accuracy: 0.9000 - val_loss: 0.3179 - val_accuracy: 0.8750\n",
      "Epoch 12/200\n",
      "12/12 - 0s - loss: 0.2087 - accuracy: 0.8944 - val_loss: 0.2409 - val_accuracy: 0.9250\n",
      "Epoch 13/200\n",
      "12/12 - 0s - loss: 0.2144 - accuracy: 0.8972 - val_loss: 0.2549 - val_accuracy: 0.9250\n",
      "Epoch 14/200\n",
      "12/12 - 0s - loss: 0.2127 - accuracy: 0.9000 - val_loss: 0.3425 - val_accuracy: 0.9000\n",
      "Epoch 15/200\n",
      "12/12 - 0s - loss: 0.2435 - accuracy: 0.8861 - val_loss: 0.2082 - val_accuracy: 0.9250\n",
      "Epoch 16/200\n",
      "12/12 - 0s - loss: 0.1972 - accuracy: 0.9083 - val_loss: 0.2213 - val_accuracy: 0.9250\n",
      "Epoch 17/200\n",
      "12/12 - 0s - loss: 0.2136 - accuracy: 0.9111 - val_loss: 0.2619 - val_accuracy: 0.9250\n",
      "Epoch 18/200\n",
      "12/12 - 0s - loss: 0.1908 - accuracy: 0.9222 - val_loss: 0.2190 - val_accuracy: 0.9250\n",
      "Epoch 19/200\n",
      "12/12 - 0s - loss: 0.2051 - accuracy: 0.8972 - val_loss: 0.2294 - val_accuracy: 0.9000\n",
      "Epoch 20/200\n",
      "12/12 - 0s - loss: 0.1827 - accuracy: 0.9194 - val_loss: 0.2385 - val_accuracy: 0.9250\n",
      "Epoch 21/200\n",
      "12/12 - 0s - loss: 0.1880 - accuracy: 0.9222 - val_loss: 0.2202 - val_accuracy: 0.9250\n",
      "Epoch 22/200\n",
      "12/12 - 0s - loss: 0.1795 - accuracy: 0.9056 - val_loss: 0.2169 - val_accuracy: 0.9500\n",
      "Epoch 23/200\n",
      "12/12 - 0s - loss: 0.1883 - accuracy: 0.9083 - val_loss: 0.2426 - val_accuracy: 0.9250\n",
      "Epoch 24/200\n",
      "12/12 - 0s - loss: 0.1827 - accuracy: 0.9306 - val_loss: 0.2544 - val_accuracy: 0.9250\n",
      "Epoch 25/200\n",
      "12/12 - 0s - loss: 0.1919 - accuracy: 0.9028 - val_loss: 0.2107 - val_accuracy: 0.9500\n",
      "Epoch 26/200\n",
      "12/12 - 0s - loss: 0.1842 - accuracy: 0.9139 - val_loss: 0.2169 - val_accuracy: 0.9500\n",
      "Epoch 27/200\n",
      "12/12 - 0s - loss: 0.1786 - accuracy: 0.9222 - val_loss: 0.2541 - val_accuracy: 0.9250\n",
      "Epoch 28/200\n",
      "12/12 - 0s - loss: 0.1760 - accuracy: 0.9139 - val_loss: 0.2124 - val_accuracy: 0.9250\n",
      "Epoch 29/200\n",
      "12/12 - 0s - loss: 0.1976 - accuracy: 0.9056 - val_loss: 0.2150 - val_accuracy: 0.9250\n",
      "Epoch 30/200\n",
      "12/12 - 0s - loss: 0.1961 - accuracy: 0.9056 - val_loss: 0.2518 - val_accuracy: 0.9250\n",
      "Epoch 31/200\n",
      "12/12 - 0s - loss: 0.1817 - accuracy: 0.9083 - val_loss: 0.2414 - val_accuracy: 0.9000\n",
      "Epoch 32/200\n",
      "12/12 - 0s - loss: 0.1691 - accuracy: 0.9361 - val_loss: 0.2216 - val_accuracy: 0.9500\n",
      "Epoch 33/200\n",
      "12/12 - 0s - loss: 0.1688 - accuracy: 0.9250 - val_loss: 0.2350 - val_accuracy: 0.9250\n",
      "Epoch 34/200\n",
      "12/12 - 0s - loss: 0.1680 - accuracy: 0.9250 - val_loss: 0.2339 - val_accuracy: 0.9250\n",
      "Epoch 35/200\n",
      "12/12 - 0s - loss: 0.1769 - accuracy: 0.9167 - val_loss: 0.2145 - val_accuracy: 0.9250\n",
      "Epoch 36/200\n",
      "12/12 - 0s - loss: 0.1713 - accuracy: 0.9194 - val_loss: 0.2226 - val_accuracy: 0.9250\n",
      "Epoch 37/200\n",
      "12/12 - 0s - loss: 0.1649 - accuracy: 0.9306 - val_loss: 0.2193 - val_accuracy: 0.9250\n",
      "Epoch 38/200\n",
      "12/12 - 0s - loss: 0.1549 - accuracy: 0.9278 - val_loss: 0.2297 - val_accuracy: 0.9250\n",
      "Epoch 39/200\n",
      "12/12 - 0s - loss: 0.1673 - accuracy: 0.9222 - val_loss: 0.2307 - val_accuracy: 0.9500\n",
      "Epoch 40/200\n",
      "12/12 - 0s - loss: 0.1837 - accuracy: 0.9083 - val_loss: 0.2715 - val_accuracy: 0.9250\n",
      "Epoch 41/200\n",
      "12/12 - 0s - loss: 0.1792 - accuracy: 0.9139 - val_loss: 0.2112 - val_accuracy: 0.9500\n",
      "Epoch 42/200\n",
      "12/12 - 0s - loss: 0.1572 - accuracy: 0.9250 - val_loss: 0.2423 - val_accuracy: 0.9250\n",
      "Epoch 43/200\n",
      "12/12 - 0s - loss: 0.1662 - accuracy: 0.9194 - val_loss: 0.2314 - val_accuracy: 0.9250\n",
      "Epoch 44/200\n",
      "12/12 - 0s - loss: 0.1635 - accuracy: 0.9250 - val_loss: 0.2204 - val_accuracy: 0.9500\n",
      "Epoch 45/200\n",
      "12/12 - 0s - loss: 0.1730 - accuracy: 0.9222 - val_loss: 0.2248 - val_accuracy: 0.9500\n",
      "Epoch 46/200\n",
      "12/12 - 0s - loss: 0.1623 - accuracy: 0.9194 - val_loss: 0.2176 - val_accuracy: 0.9250\n",
      "Epoch 47/200\n",
      "12/12 - 0s - loss: 0.1569 - accuracy: 0.9306 - val_loss: 0.2149 - val_accuracy: 0.9250\n",
      "Epoch 48/200\n",
      "12/12 - 0s - loss: 0.1578 - accuracy: 0.9333 - val_loss: 0.2337 - val_accuracy: 0.9250\n",
      "Epoch 49/200\n",
      "12/12 - 0s - loss: 0.1667 - accuracy: 0.9222 - val_loss: 0.2208 - val_accuracy: 0.9250\n",
      "Epoch 50/200\n",
      "12/12 - 0s - loss: 0.1535 - accuracy: 0.9306 - val_loss: 0.2466 - val_accuracy: 0.9250\n",
      "Epoch 51/200\n",
      "12/12 - 0s - loss: 0.1575 - accuracy: 0.9167 - val_loss: 0.2385 - val_accuracy: 0.9250\n",
      "Epoch 52/200\n",
      "12/12 - 0s - loss: 0.1543 - accuracy: 0.9250 - val_loss: 0.2280 - val_accuracy: 0.9250\n",
      "Epoch 53/200\n",
      "12/12 - 0s - loss: 0.1436 - accuracy: 0.9306 - val_loss: 0.2462 - val_accuracy: 0.9250\n",
      "Epoch 54/200\n",
      "12/12 - 0s - loss: 0.1785 - accuracy: 0.9083 - val_loss: 0.2288 - val_accuracy: 0.9500\n",
      "Epoch 55/200\n",
      "12/12 - 0s - loss: 0.1818 - accuracy: 0.9111 - val_loss: 0.2218 - val_accuracy: 0.9500\n",
      "Epoch 56/200\n",
      "12/12 - 0s - loss: 0.1732 - accuracy: 0.9139 - val_loss: 0.2281 - val_accuracy: 0.9500\n",
      "Epoch 57/200\n",
      "12/12 - 0s - loss: 0.1491 - accuracy: 0.9250 - val_loss: 0.2351 - val_accuracy: 0.9250\n",
      "Epoch 58/200\n",
      "12/12 - 0s - loss: 0.1541 - accuracy: 0.9417 - val_loss: 0.2305 - val_accuracy: 0.9500\n",
      "Epoch 59/200\n",
      "12/12 - 0s - loss: 0.1984 - accuracy: 0.9083 - val_loss: 0.2583 - val_accuracy: 0.9250\n",
      "Epoch 60/200\n",
      "12/12 - 0s - loss: 0.1600 - accuracy: 0.9250 - val_loss: 0.2268 - val_accuracy: 0.9500\n",
      "Epoch 61/200\n",
      "12/12 - 0s - loss: 0.1573 - accuracy: 0.9278 - val_loss: 0.2404 - val_accuracy: 0.9250\n",
      "Epoch 62/200\n",
      "12/12 - 0s - loss: 0.1463 - accuracy: 0.9222 - val_loss: 0.2424 - val_accuracy: 0.9250\n",
      "Epoch 63/200\n",
      "12/12 - 0s - loss: 0.1705 - accuracy: 0.9222 - val_loss: 0.2309 - val_accuracy: 0.9500\n",
      "Epoch 64/200\n",
      "12/12 - 0s - loss: 0.1565 - accuracy: 0.9194 - val_loss: 0.2508 - val_accuracy: 0.9250\n",
      "Epoch 65/200\n",
      "12/12 - 0s - loss: 0.1642 - accuracy: 0.9194 - val_loss: 0.2322 - val_accuracy: 0.9250\n",
      "Epoch 66/200\n",
      "12/12 - 0s - loss: 0.1694 - accuracy: 0.9111 - val_loss: 0.2359 - val_accuracy: 0.9500\n",
      "Epoch 67/200\n",
      "12/12 - 0s - loss: 0.1811 - accuracy: 0.9167 - val_loss: 0.2634 - val_accuracy: 0.9250\n",
      "Epoch 68/200\n",
      "12/12 - 0s - loss: 0.1817 - accuracy: 0.9083 - val_loss: 0.2399 - val_accuracy: 0.9500\n",
      "Epoch 69/200\n",
      "12/12 - 0s - loss: 0.1477 - accuracy: 0.9417 - val_loss: 0.2277 - val_accuracy: 0.9500\n",
      "Epoch 70/200\n",
      "12/12 - 0s - loss: 0.1564 - accuracy: 0.9361 - val_loss: 0.2348 - val_accuracy: 0.9500\n",
      "Epoch 71/200\n",
      "12/12 - 0s - loss: 0.1571 - accuracy: 0.9250 - val_loss: 0.2332 - val_accuracy: 0.9250\n",
      "Epoch 72/200\n",
      "12/12 - 0s - loss: 0.1639 - accuracy: 0.9222 - val_loss: 0.2893 - val_accuracy: 0.9250\n",
      "Epoch 73/200\n",
      "12/12 - 0s - loss: 0.1535 - accuracy: 0.9194 - val_loss: 0.2333 - val_accuracy: 0.9500\n",
      "Epoch 74/200\n",
      "12/12 - 0s - loss: 0.1492 - accuracy: 0.9361 - val_loss: 0.2824 - val_accuracy: 0.9250\n",
      "Epoch 75/200\n",
      "12/12 - 0s - loss: 0.1838 - accuracy: 0.9083 - val_loss: 0.2368 - val_accuracy: 0.9250\n",
      "Epoch 76/200\n",
      "12/12 - 0s - loss: 0.1436 - accuracy: 0.9306 - val_loss: 0.2451 - val_accuracy: 0.9250\n",
      "Epoch 77/200\n",
      "12/12 - 0s - loss: 0.1455 - accuracy: 0.9333 - val_loss: 0.2349 - val_accuracy: 0.9500\n",
      "Epoch 78/200\n",
      "12/12 - 0s - loss: 0.1458 - accuracy: 0.9333 - val_loss: 0.2462 - val_accuracy: 0.9500\n",
      "Epoch 79/200\n",
      "12/12 - 0s - loss: 0.1484 - accuracy: 0.9278 - val_loss: 0.2403 - val_accuracy: 0.9250\n",
      "Epoch 80/200\n",
      "12/12 - 0s - loss: 0.1727 - accuracy: 0.9222 - val_loss: 0.2699 - val_accuracy: 0.9250\n",
      "Epoch 81/200\n",
      "12/12 - 0s - loss: 0.1620 - accuracy: 0.9167 - val_loss: 0.2426 - val_accuracy: 0.9500\n",
      "Epoch 82/200\n",
      "12/12 - 0s - loss: 0.1532 - accuracy: 0.9250 - val_loss: 0.2417 - val_accuracy: 0.9250\n",
      "Epoch 83/200\n",
      "12/12 - 0s - loss: 0.1610 - accuracy: 0.9278 - val_loss: 0.2549 - val_accuracy: 0.9250\n",
      "Epoch 84/200\n",
      "12/12 - 0s - loss: 0.1508 - accuracy: 0.9333 - val_loss: 0.2221 - val_accuracy: 0.9250\n",
      "Epoch 85/200\n",
      "12/12 - 0s - loss: 0.1447 - accuracy: 0.9278 - val_loss: 0.2316 - val_accuracy: 0.9250\n",
      "Epoch 86/200\n",
      "12/12 - 0s - loss: 0.1446 - accuracy: 0.9333 - val_loss: 0.2405 - val_accuracy: 0.9250\n",
      "Epoch 87/200\n",
      "12/12 - 0s - loss: 0.1579 - accuracy: 0.9306 - val_loss: 0.2577 - val_accuracy: 0.9250\n",
      "Epoch 88/200\n",
      "12/12 - 0s - loss: 0.1824 - accuracy: 0.9083 - val_loss: 0.2295 - val_accuracy: 0.9500\n",
      "Epoch 89/200\n",
      "12/12 - 0s - loss: 0.1462 - accuracy: 0.9389 - val_loss: 0.2475 - val_accuracy: 0.9500\n",
      "Epoch 90/200\n",
      "12/12 - 0s - loss: 0.1379 - accuracy: 0.9361 - val_loss: 0.2457 - val_accuracy: 0.9250\n",
      "Epoch 91/200\n",
      "12/12 - 0s - loss: 0.1341 - accuracy: 0.9333 - val_loss: 0.2545 - val_accuracy: 0.9250\n",
      "Epoch 92/200\n",
      "12/12 - 0s - loss: 0.1403 - accuracy: 0.9333 - val_loss: 0.2432 - val_accuracy: 0.9250\n",
      "Epoch 93/200\n",
      "12/12 - 0s - loss: 0.1415 - accuracy: 0.9250 - val_loss: 0.2421 - val_accuracy: 0.9500\n",
      "Epoch 94/200\n",
      "12/12 - 0s - loss: 0.1470 - accuracy: 0.9250 - val_loss: 0.2495 - val_accuracy: 0.9500\n",
      "Epoch 95/200\n",
      "12/12 - 0s - loss: 0.1548 - accuracy: 0.9250 - val_loss: 0.2461 - val_accuracy: 0.9250\n",
      "Epoch 96/200\n",
      "12/12 - 0s - loss: 0.1501 - accuracy: 0.9306 - val_loss: 0.2393 - val_accuracy: 0.9250\n",
      "Epoch 97/200\n",
      "12/12 - 0s - loss: 0.1470 - accuracy: 0.9306 - val_loss: 0.2502 - val_accuracy: 0.9500\n",
      "Epoch 98/200\n",
      "12/12 - 0s - loss: 0.1470 - accuracy: 0.9278 - val_loss: 0.2485 - val_accuracy: 0.9500\n",
      "Epoch 99/200\n",
      "12/12 - 0s - loss: 0.1654 - accuracy: 0.9139 - val_loss: 0.2763 - val_accuracy: 0.9250\n",
      "Epoch 100/200\n",
      "12/12 - 0s - loss: 0.1391 - accuracy: 0.9333 - val_loss: 0.2455 - val_accuracy: 0.9250\n",
      "Epoch 101/200\n",
      "12/12 - 0s - loss: 0.1367 - accuracy: 0.9361 - val_loss: 0.2461 - val_accuracy: 0.9500\n",
      "Epoch 102/200\n",
      "12/12 - 0s - loss: 0.1451 - accuracy: 0.9222 - val_loss: 0.2419 - val_accuracy: 0.9250\n",
      "Epoch 103/200\n",
      "12/12 - 0s - loss: 0.1361 - accuracy: 0.9417 - val_loss: 0.2836 - val_accuracy: 0.9250\n",
      "Epoch 104/200\n",
      "12/12 - 0s - loss: 0.1592 - accuracy: 0.9278 - val_loss: 0.2516 - val_accuracy: 0.9500\n",
      "Epoch 105/200\n",
      "12/12 - 0s - loss: 0.1421 - accuracy: 0.9306 - val_loss: 0.2541 - val_accuracy: 0.9500\n",
      "Epoch 106/200\n",
      "12/12 - 0s - loss: 0.1420 - accuracy: 0.9333 - val_loss: 0.2404 - val_accuracy: 0.9500\n",
      "Epoch 107/200\n",
      "12/12 - 0s - loss: 0.1502 - accuracy: 0.9306 - val_loss: 0.2414 - val_accuracy: 0.9500\n",
      "Epoch 108/200\n",
      "12/12 - 0s - loss: 0.1391 - accuracy: 0.9389 - val_loss: 0.2630 - val_accuracy: 0.9250\n",
      "Epoch 109/200\n",
      "12/12 - 0s - loss: 0.1438 - accuracy: 0.9444 - val_loss: 0.2411 - val_accuracy: 0.9250\n",
      "Epoch 110/200\n",
      "12/12 - 0s - loss: 0.1339 - accuracy: 0.9194 - val_loss: 0.2455 - val_accuracy: 0.9250\n",
      "Epoch 111/200\n",
      "12/12 - 0s - loss: 0.1585 - accuracy: 0.9278 - val_loss: 0.2825 - val_accuracy: 0.9250\n",
      "Epoch 112/200\n",
      "12/12 - 0s - loss: 0.1438 - accuracy: 0.9278 - val_loss: 0.2481 - val_accuracy: 0.9250\n",
      "Epoch 113/200\n",
      "12/12 - 0s - loss: 0.1494 - accuracy: 0.9306 - val_loss: 0.2510 - val_accuracy: 0.9500\n",
      "Epoch 114/200\n",
      "12/12 - 0s - loss: 0.1473 - accuracy: 0.9278 - val_loss: 0.2338 - val_accuracy: 0.9500\n",
      "Epoch 115/200\n",
      "12/12 - 0s - loss: 0.1479 - accuracy: 0.9278 - val_loss: 0.2476 - val_accuracy: 0.9250\n",
      "Epoch 116/200\n",
      "12/12 - 0s - loss: 0.1350 - accuracy: 0.9306 - val_loss: 0.2404 - val_accuracy: 0.9250\n",
      "Epoch 117/200\n",
      "12/12 - 0s - loss: 0.1453 - accuracy: 0.9306 - val_loss: 0.2534 - val_accuracy: 0.9250\n",
      "Epoch 118/200\n",
      "12/12 - 0s - loss: 0.1424 - accuracy: 0.9417 - val_loss: 0.2472 - val_accuracy: 0.9500\n",
      "Epoch 119/200\n",
      "12/12 - 0s - loss: 0.1370 - accuracy: 0.9306 - val_loss: 0.2507 - val_accuracy: 0.9500\n",
      "Epoch 120/200\n",
      "12/12 - 0s - loss: 0.1394 - accuracy: 0.9389 - val_loss: 0.2466 - val_accuracy: 0.9500\n",
      "Epoch 121/200\n",
      "12/12 - 0s - loss: 0.1390 - accuracy: 0.9333 - val_loss: 0.2456 - val_accuracy: 0.9500\n",
      "Epoch 122/200\n",
      "12/12 - 0s - loss: 0.1419 - accuracy: 0.9361 - val_loss: 0.2422 - val_accuracy: 0.9500\n",
      "Epoch 123/200\n",
      "12/12 - 0s - loss: 0.1369 - accuracy: 0.9333 - val_loss: 0.2531 - val_accuracy: 0.9500\n",
      "Epoch 124/200\n",
      "12/12 - 0s - loss: 0.1459 - accuracy: 0.9222 - val_loss: 0.2515 - val_accuracy: 0.9500\n",
      "Epoch 125/200\n",
      "12/12 - 0s - loss: 0.1309 - accuracy: 0.9333 - val_loss: 0.2490 - val_accuracy: 0.9500\n",
      "Epoch 126/200\n",
      "12/12 - 0s - loss: 0.1380 - accuracy: 0.9306 - val_loss: 0.2423 - val_accuracy: 0.9500\n",
      "Epoch 127/200\n",
      "12/12 - 0s - loss: 0.1367 - accuracy: 0.9278 - val_loss: 0.2536 - val_accuracy: 0.9500\n",
      "Epoch 128/200\n",
      "12/12 - 0s - loss: 0.1401 - accuracy: 0.9306 - val_loss: 0.2559 - val_accuracy: 0.9500\n",
      "Epoch 129/200\n",
      "12/12 - 0s - loss: 0.1416 - accuracy: 0.9361 - val_loss: 0.2583 - val_accuracy: 0.9500\n",
      "Epoch 130/200\n",
      "12/12 - 0s - loss: 0.1372 - accuracy: 0.9417 - val_loss: 0.2500 - val_accuracy: 0.9250\n",
      "Epoch 131/200\n",
      "12/12 - 0s - loss: 0.1397 - accuracy: 0.9306 - val_loss: 0.2576 - val_accuracy: 0.9250\n",
      "Epoch 132/200\n",
      "12/12 - 0s - loss: 0.1381 - accuracy: 0.9278 - val_loss: 0.2417 - val_accuracy: 0.9500\n",
      "Epoch 133/200\n",
      "12/12 - 0s - loss: 0.1390 - accuracy: 0.9306 - val_loss: 0.2455 - val_accuracy: 0.9500\n",
      "Epoch 134/200\n",
      "12/12 - 0s - loss: 0.1277 - accuracy: 0.9333 - val_loss: 0.2458 - val_accuracy: 0.9250\n",
      "Epoch 135/200\n",
      "12/12 - 0s - loss: 0.1416 - accuracy: 0.9417 - val_loss: 0.2850 - val_accuracy: 0.9250\n",
      "Epoch 136/200\n",
      "12/12 - 0s - loss: 0.1490 - accuracy: 0.9139 - val_loss: 0.2403 - val_accuracy: 0.9500\n",
      "Epoch 137/200\n",
      "12/12 - 0s - loss: 0.1388 - accuracy: 0.9361 - val_loss: 0.2554 - val_accuracy: 0.9500\n",
      "Epoch 138/200\n",
      "12/12 - 0s - loss: 0.1318 - accuracy: 0.9361 - val_loss: 0.2706 - val_accuracy: 0.9250\n",
      "Epoch 139/200\n",
      "12/12 - 0s - loss: 0.1498 - accuracy: 0.9389 - val_loss: 0.2680 - val_accuracy: 0.9250\n",
      "Epoch 140/200\n",
      "12/12 - 0s - loss: 0.1424 - accuracy: 0.9306 - val_loss: 0.2499 - val_accuracy: 0.9500\n",
      "Epoch 141/200\n",
      "12/12 - 0s - loss: 0.1286 - accuracy: 0.9528 - val_loss: 0.2577 - val_accuracy: 0.9500\n",
      "Epoch 142/200\n",
      "12/12 - 0s - loss: 0.1400 - accuracy: 0.9222 - val_loss: 0.2522 - val_accuracy: 0.9500\n",
      "Epoch 143/200\n",
      "12/12 - 0s - loss: 0.1528 - accuracy: 0.9361 - val_loss: 0.2561 - val_accuracy: 0.9500\n",
      "Epoch 144/200\n",
      "12/12 - 0s - loss: 0.1348 - accuracy: 0.9417 - val_loss: 0.2535 - val_accuracy: 0.9500\n",
      "Epoch 145/200\n",
      "12/12 - 0s - loss: 0.1270 - accuracy: 0.9444 - val_loss: 0.2535 - val_accuracy: 0.9500\n",
      "Epoch 146/200\n",
      "12/12 - 0s - loss: 0.1581 - accuracy: 0.9278 - val_loss: 0.2519 - val_accuracy: 0.9500\n",
      "Epoch 147/200\n",
      "12/12 - 0s - loss: 0.1427 - accuracy: 0.9389 - val_loss: 0.2699 - val_accuracy: 0.9250\n",
      "Epoch 148/200\n",
      "12/12 - 0s - loss: 0.1385 - accuracy: 0.9417 - val_loss: 0.2385 - val_accuracy: 0.9500\n",
      "Epoch 149/200\n",
      "12/12 - 0s - loss: 0.1472 - accuracy: 0.9194 - val_loss: 0.2486 - val_accuracy: 0.9500\n",
      "Epoch 150/200\n",
      "12/12 - 0s - loss: 0.1350 - accuracy: 0.9417 - val_loss: 0.2427 - val_accuracy: 0.9500\n",
      "Epoch 151/200\n",
      "12/12 - 0s - loss: 0.1332 - accuracy: 0.9417 - val_loss: 0.2368 - val_accuracy: 0.9500\n",
      "Epoch 152/200\n",
      "12/12 - 0s - loss: 0.1306 - accuracy: 0.9306 - val_loss: 0.2428 - val_accuracy: 0.9500\n",
      "Epoch 153/200\n",
      "12/12 - 0s - loss: 0.1312 - accuracy: 0.9444 - val_loss: 0.2422 - val_accuracy: 0.9250\n",
      "Epoch 154/200\n",
      "12/12 - 0s - loss: 0.1472 - accuracy: 0.9194 - val_loss: 0.2531 - val_accuracy: 0.9500\n",
      "Epoch 155/200\n",
      "12/12 - 0s - loss: 0.1409 - accuracy: 0.9306 - val_loss: 0.2470 - val_accuracy: 0.9500\n",
      "Epoch 156/200\n",
      "12/12 - 0s - loss: 0.1269 - accuracy: 0.9417 - val_loss: 0.2486 - val_accuracy: 0.9500\n",
      "Epoch 157/200\n",
      "12/12 - 0s - loss: 0.1311 - accuracy: 0.9389 - val_loss: 0.2595 - val_accuracy: 0.9500\n",
      "Epoch 158/200\n",
      "12/12 - 0s - loss: 0.1315 - accuracy: 0.9361 - val_loss: 0.2557 - val_accuracy: 0.9250\n",
      "Epoch 159/200\n",
      "12/12 - 0s - loss: 0.1292 - accuracy: 0.9417 - val_loss: 0.2566 - val_accuracy: 0.9500\n",
      "Epoch 160/200\n",
      "12/12 - 0s - loss: 0.1265 - accuracy: 0.9417 - val_loss: 0.2717 - val_accuracy: 0.9250\n",
      "Epoch 161/200\n",
      "12/12 - 0s - loss: 0.1431 - accuracy: 0.9389 - val_loss: 0.2639 - val_accuracy: 0.9500\n",
      "Epoch 162/200\n",
      "12/12 - 0s - loss: 0.1230 - accuracy: 0.9389 - val_loss: 0.2503 - val_accuracy: 0.9250\n",
      "Epoch 163/200\n",
      "12/12 - 0s - loss: 0.1305 - accuracy: 0.9333 - val_loss: 0.2545 - val_accuracy: 0.9500\n",
      "Epoch 164/200\n",
      "12/12 - 0s - loss: 0.1330 - accuracy: 0.9361 - val_loss: 0.2495 - val_accuracy: 0.9500\n",
      "Epoch 165/200\n",
      "12/12 - 0s - loss: 0.1410 - accuracy: 0.9444 - val_loss: 0.2453 - val_accuracy: 0.9500\n",
      "Epoch 166/200\n",
      "12/12 - 0s - loss: 0.1446 - accuracy: 0.9389 - val_loss: 0.2941 - val_accuracy: 0.9250\n",
      "Epoch 167/200\n",
      "12/12 - 0s - loss: 0.1539 - accuracy: 0.9222 - val_loss: 0.2483 - val_accuracy: 0.9500\n",
      "Epoch 168/200\n",
      "12/12 - 0s - loss: 0.1319 - accuracy: 0.9444 - val_loss: 0.2545 - val_accuracy: 0.9500\n",
      "Epoch 169/200\n",
      "12/12 - 0s - loss: 0.1167 - accuracy: 0.9361 - val_loss: 0.2521 - val_accuracy: 0.9500\n",
      "Epoch 170/200\n",
      "12/12 - 0s - loss: 0.1258 - accuracy: 0.9333 - val_loss: 0.2502 - val_accuracy: 0.9500\n",
      "Epoch 171/200\n",
      "12/12 - 0s - loss: 0.1417 - accuracy: 0.9361 - val_loss: 0.2659 - val_accuracy: 0.9500\n",
      "Epoch 172/200\n",
      "12/12 - 0s - loss: 0.1268 - accuracy: 0.9472 - val_loss: 0.2488 - val_accuracy: 0.9250\n",
      "Epoch 173/200\n",
      "12/12 - 0s - loss: 0.1295 - accuracy: 0.9333 - val_loss: 0.2594 - val_accuracy: 0.9500\n",
      "Epoch 174/200\n",
      "12/12 - 0s - loss: 0.1374 - accuracy: 0.9389 - val_loss: 0.2486 - val_accuracy: 0.9500\n",
      "Epoch 175/200\n",
      "12/12 - 0s - loss: 0.1313 - accuracy: 0.9361 - val_loss: 0.2557 - val_accuracy: 0.9500\n",
      "Epoch 176/200\n",
      "12/12 - 0s - loss: 0.1205 - accuracy: 0.9472 - val_loss: 0.2433 - val_accuracy: 0.9500\n",
      "Epoch 177/200\n",
      "12/12 - 0s - loss: 0.1330 - accuracy: 0.9333 - val_loss: 0.2502 - val_accuracy: 0.9500\n",
      "Epoch 178/200\n",
      "12/12 - 0s - loss: 0.1329 - accuracy: 0.9333 - val_loss: 0.2619 - val_accuracy: 0.9500\n",
      "Epoch 179/200\n",
      "12/12 - 0s - loss: 0.1202 - accuracy: 0.9472 - val_loss: 0.2527 - val_accuracy: 0.9500\n",
      "Epoch 180/200\n",
      "12/12 - 0s - loss: 0.1256 - accuracy: 0.9417 - val_loss: 0.2519 - val_accuracy: 0.9500\n",
      "Epoch 181/200\n",
      "12/12 - 0s - loss: 0.1220 - accuracy: 0.9417 - val_loss: 0.2536 - val_accuracy: 0.9500\n",
      "Epoch 182/200\n",
      "12/12 - 0s - loss: 0.1268 - accuracy: 0.9389 - val_loss: 0.3123 - val_accuracy: 0.9250\n",
      "Epoch 183/200\n",
      "12/12 - 0s - loss: 0.1399 - accuracy: 0.9389 - val_loss: 0.2552 - val_accuracy: 0.9500\n",
      "Epoch 184/200\n",
      "12/12 - 0s - loss: 0.1426 - accuracy: 0.9417 - val_loss: 0.2788 - val_accuracy: 0.9250\n",
      "Epoch 185/200\n",
      "12/12 - 0s - loss: 0.1212 - accuracy: 0.9417 - val_loss: 0.2522 - val_accuracy: 0.9500\n",
      "Epoch 186/200\n",
      "12/12 - 0s - loss: 0.1317 - accuracy: 0.9444 - val_loss: 0.2522 - val_accuracy: 0.9500\n",
      "Epoch 187/200\n",
      "12/12 - 0s - loss: 0.1224 - accuracy: 0.9361 - val_loss: 0.2528 - val_accuracy: 0.9500\n",
      "Epoch 188/200\n",
      "12/12 - 0s - loss: 0.1187 - accuracy: 0.9417 - val_loss: 0.2546 - val_accuracy: 0.9500\n",
      "Epoch 189/200\n",
      "12/12 - 0s - loss: 0.1217 - accuracy: 0.9500 - val_loss: 0.2567 - val_accuracy: 0.9500\n",
      "Epoch 190/200\n",
      "12/12 - 0s - loss: 0.1189 - accuracy: 0.9444 - val_loss: 0.2560 - val_accuracy: 0.9500\n",
      "Epoch 191/200\n",
      "12/12 - 0s - loss: 0.1164 - accuracy: 0.9472 - val_loss: 0.2549 - val_accuracy: 0.9500\n",
      "Epoch 192/200\n",
      "12/12 - 0s - loss: 0.1208 - accuracy: 0.9472 - val_loss: 0.2593 - val_accuracy: 0.9500\n",
      "Epoch 193/200\n",
      "12/12 - 0s - loss: 0.1211 - accuracy: 0.9389 - val_loss: 0.2511 - val_accuracy: 0.9500\n",
      "Epoch 194/200\n",
      "12/12 - 0s - loss: 0.1361 - accuracy: 0.9333 - val_loss: 0.2677 - val_accuracy: 0.9500\n",
      "Epoch 195/200\n",
      "12/12 - 0s - loss: 0.1183 - accuracy: 0.9500 - val_loss: 0.2541 - val_accuracy: 0.9500\n",
      "Epoch 196/200\n",
      "12/12 - 0s - loss: 0.1351 - accuracy: 0.9417 - val_loss: 0.2497 - val_accuracy: 0.9500\n",
      "Epoch 197/200\n",
      "12/12 - 0s - loss: 0.1307 - accuracy: 0.9417 - val_loss: 0.3062 - val_accuracy: 0.9250\n",
      "Epoch 198/200\n",
      "12/12 - 0s - loss: 0.1480 - accuracy: 0.9333 - val_loss: 0.2507 - val_accuracy: 0.9500\n",
      "Epoch 199/200\n",
      "12/12 - 0s - loss: 0.1244 - accuracy: 0.9361 - val_loss: 0.2523 - val_accuracy: 0.9500\n",
      "Epoch 200/200\n",
      "12/12 - 0s - loss: 0.1212 - accuracy: 0.9500 - val_loss: 0.2601 - val_accuracy: 0.9500\n"
     ]
    }
   ],
   "source": [
    "history_3 = model_3.fit(X_train_normalized, \n",
    "                    y_train, \n",
    "                    validation_split=0.1, \n",
    "                    epochs=200,\n",
    "                    verbose=2)"
   ]
  },
  {
   "cell_type": "code",
   "execution_count": null,
   "metadata": {
    "colab": {
     "base_uri": "https://localhost:8080/",
     "height": 295
    },
    "id": "zBvMtn6VzFDJ",
    "outputId": "13dfe174-d9b8-4152-a5bb-7db551d17e95"
   },
   "outputs": [
    {
     "data": {
      "image/png": "[encoded data removed]",
      "text/plain": [
       "<Figure size 432x288 with 1 Axes>"
      ]
     },
     "metadata": {
      "needs_background": "light",
      "tags": []
     },
     "output_type": "display_data"
    }
   ],
   "source": [
    "plt.plot(history_3.history['accuracy'])\n",
    "plt.plot(history_3.history['val_accuracy'])\n",
    "plt.title('Accuracy vs Epochs')\n",
    "plt.ylabel('Accuracy')\n",
    "plt.xlabel('Epoch')\n",
    "plt.legend(['Train', 'Validation'], loc='lower right')\n",
    "plt.show()"
   ]
  },
  {
   "cell_type": "markdown",
   "metadata": {
    "id": "-xfRck7yrbX5"
   },
   "source": [
    "- This model is giving a generalized performance with 95% accuracy on the train as well as validation data.\n",
    "- The validation accuracy is the same as the previous model but the training accuracy has increased by ~1.4%.\n",
    "- One reason for the algorithm not being able to reach higher than 95% even for training data might be due to the optimizer being stuck at some local minima.\n",
    "- One way to resolve that is to further tune the model with some other hyper-parameters.\n",
    "- Among all three models, model 3 has given the best performance. Let's check its performance on the test data."
   ]
  },
  {
   "cell_type": "markdown",
   "metadata": {
    "id": "iSpvgJ_ZPP0f"
   },
   "source": [
    "### **Model evaluation on the test data**"
   ]
  },
  {
   "cell_type": "code",
   "execution_count": null,
   "metadata": {
    "colab": {
     "base_uri": "https://localhost:8080/"
    },
    "id": "VNs-4a67SXNT",
    "outputId": "23bfff8b-a7d6-4ec6-9570-90223d9fe49b"
   },
   "outputs": [
    {
     "name": "stdout",
     "output_type": "stream",
     "text": [
      "4/4 [==============================] - 0s 4ms/step - loss: 0.1051 - accuracy: 0.9500\n"
     ]
    }
   ],
   "source": [
    "model_3.evaluate(X_test_normalized, y_test, verbose = 1)\n",
    "test_pred = np.round(model_3.predict(X_test_normalized))"
   ]
  },
  {
   "cell_type": "markdown",
   "metadata": {
    "id": "RldGhjVdxHCx"
   },
   "source": [
    "The test accuracy is also coming out to be 95% which implies that our model is able to replicate the performance from the train and validation data on the test (unseen) data."
   ]
  },
  {
   "cell_type": "code",
   "execution_count": null,
   "metadata": {
    "colab": {
     "base_uri": "https://localhost:8080/",
     "height": 487
    },
    "id": "y5fWdjHHPTZh",
    "outputId": "5c3d1f5e-06b6-4f73-ab50-adc83c2941d1"
   },
   "outputs": [
    {
     "name": "stdout",
     "output_type": "stream",
     "text": [
      "              precision    recall  f1-score   support\n",
      "\n",
      "           0       0.96      0.97      0.97        73\n",
      "           1       0.92      0.89      0.91        27\n",
      "\n",
      "    accuracy                           0.95       100\n",
      "   macro avg       0.94      0.93      0.94       100\n",
      "weighted avg       0.95      0.95      0.95       100\n",
      "\n"
     ]
    },
    {
     "data": {
      "image/png": "[encoded data removed]",
      "text/plain": [
       "<Figure size 576x360 with 2 Axes>"
      ]
     },
     "metadata": {
      "needs_background": "light",
      "tags": []
     },
     "output_type": "display_data"
    }
   ],
   "source": [
    "from sklearn.metrics import classification_report\n",
    "from sklearn.metrics import confusion_matrix\n",
    "print(classification_report(y_test, test_pred))\n",
    "cm = confusion_matrix(y_test, test_pred)\n",
    "plt.figure(figsize=(8,5))\n",
    "sns.heatmap(cm, annot=True,  fmt='.0f', xticklabels=['Admitted', 'Not Admitted'], yticklabels=['Admitted', 'Not Admitted'])\n",
    "plt.ylabel('Actual')\n",
    "plt.xlabel('Predicted')\n",
    "plt.show()"
   ]
  },
  {
   "cell_type": "markdown",
   "metadata": {
    "id": "uk_tuE7LxGC3"
   },
   "source": [
    "- The confusion matrix shows that the model can identify the majority of students who would get admission and who won't get admission into UCLA.\n",
    "- The classification report shows that all the metrics except recall for class 1 are above 90% which is good."
   ]
  },
  {
   "cell_type": "markdown",
   "metadata": {
    "id": "1bVzop-DYYmv"
   },
   "source": [
    "### **Conclusion**"
   ]
  },
  {
   "cell_type": "markdown",
   "metadata": {
    "id": "PiMgKE2xYbCW"
   },
   "source": [
    "In this case study, \n",
    "- We have learned how to build a feed-forward neural network for a classification task using Keras. \n",
    "- We have seen different hyper-parameters and how they affect the network. \n",
    "- We have also learned about the accuracy vs epoch curve and how it helps to understand the model is learning the weights. \n",
    "- We were able to get the test accuracy of 95% using the final model.\n",
    "- Interested learners can further analyze those 5 misclassified points and see if there is a pattern or if they were outliers that our model could not identify.\n",
    "- We would highly recommend you to play around with the other hyper-parameter and see for yourself how it affects your model."
   ]
  }
 ],
 "metadata": {
  "accelerator": "GPU",
  "colab": {
   "collapsed_sections": [
    "RUNw9Lh-mZHQ",
    "fhotGVGD4hgT",
    "ZZP_r2sD7B0P",
    "X7VT_t5f9bwR",
    "4N6XAn6mA_BD",
    "EFMmpLAuBC4n",
    "iSpvgJ_ZPP0f",
    "1bVzop-DYYmv"
   ],
   "name": "MLS_1_Case_Study_Predicting_Chances_of_Admission.ipynb",
   "provenance": []
  },
  "kernelspec": {
   "display_name": "Python 3 (ipykernel)",
   "language": "python",
   "name": "python3"
  },
  "language_info": {
   "codemirror_mode": {
    "name": "ipython",
    "version": 3
   },
   "file_extension": ".py",
   "mimetype": "text/x-python",
   "name": "python",
   "nbconvert_exporter": "python",
   "pygments_lexer": "ipython3",
   "version": "3.9.7"
  }
 },
 "nbformat": 4,
 "nbformat_minor": 1
}
