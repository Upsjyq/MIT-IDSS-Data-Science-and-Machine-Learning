{
  "nbformat": 4,
  "nbformat_minor": 0,
  "metadata": {
    "colab": {
      "name": "DL_Case-Study.ipynb",
      "provenance": []
    },
    "kernelspec": {
      "name": "python3",
      "display_name": "Python 3"
    },
    "language_info": {
      "name": "python"
    }
  },
  "cells": [
    {
      "cell_type": "markdown",
      "source": [
        "### **Context:**\n",
        "\n",
        "The world is developing rapidly and continuously looking for the best knowledge and experience among people. This motivates people all around the world to stand out in their jobs and look for higher degrees that can help them in improving their skills and knowledge. As a result, the number of students applying for Master's programs has increased substantially.\n",
        "\n",
        "The current admission dataset was created for the prediction of admissions into the University of California, Los Angeles (UCLA). It was built to help students in shortlisting universities based on their profiles. The predicted output gives them a fair idea about their chances of getting accepted.\n"
      ],
      "metadata": {
        "id": "pLl66AqYZps6"
      }
    },
    {
      "cell_type": "markdown",
      "source": [
        "### **Objective:**\n",
        "\n",
        "We need to build a classification model using neural networks to predict a student's chances of admission into UCLA."
      ],
      "metadata": {
        "id": "aR6AiYkWbXTz"
      }
    },
    {
      "cell_type": "markdown",
      "source": [
        "### **Data Dictionary:**\n",
        "\n",
        "The dataset contains several parameters which are considered important during the application for Masters Programs.\n",
        "The parameters included are : \n",
        "\n",
        "**GRE Scores:** (out of 340) \\\n",
        "**TOEFL Scores:** (out of 120) \\\n",
        "**University Rating:**  It indicates the Bachelor University ranking (out of 5) \\\n",
        "**Statement of Purpose Strength:** (out of 5) \\\n",
        "**Letter of Recommendation Strength:** (out of 5) \\\n",
        "**Undergraduate GPA:** (out of 10) \\\n",
        "**Research Experience:** (either 0 or 1) \\\n",
        "**Chance of Admit:** (ranging from 0 to 1) \\"
      ],
      "metadata": {
        "id": "u7vzc6rJbeDW"
      }
    },
    {
      "cell_type": "markdown",
      "source": [
        "### **Loading the libraries and the dataset**"
      ],
      "metadata": {
        "id": "EqOfWTySbrcP"
      }
    },
    {
      "cell_type": "code",
      "source": [
        "import numpy as np\n",
        "import pandas as pd\n",
        "import matplotlib.pyplot as plt\n",
        "import seaborn as sns \n",
        "from sklearn.model_selection import train_test_split\n",
        "from sklearn.preprocessing import MinMaxScaler\n",
        "import tensorflow as tf\n",
        "from tensorflow.keras.models import Sequential\n",
        "from tensorflow.keras.layers import Dense, Dropout, Activation"
      ],
      "metadata": {
        "id": "TPLuTk6lbu8S"
      },
      "execution_count": 3,
      "outputs": []
    },
    {
      "cell_type": "code",
      "source": [
        "df = pd.read_csv(\"/content/Admission_Predict.csv\")\n",
        "df.head()"
      ],
      "metadata": {
        "colab": {
          "base_uri": "https://localhost:8080/",
          "height": 204
        },
        "id": "PJp2TygkegOF",
        "outputId": "734e024b-dbd6-405d-d473-c565258d7ad3"
      },
      "execution_count": 4,
      "outputs": [
        {
          "output_type": "execute_result",
          "data": {
            "text/html": [
              "\n",
              "  <div id=\"df-55703b56-9265-41db-8fae-359e50124d86\">\n",
              "    <div class=\"colab-df-container\">\n",
              "      <div>\n",
              "<style scoped>\n",
              "    .dataframe tbody tr th:only-of-type {\n",
              "        vertical-align: middle;\n",
              "    }\n",
              "\n",
              "    .dataframe tbody tr th {\n",
              "        vertical-align: top;\n",
              "    }\n",
              "\n",
              "    .dataframe thead th {\n",
              "        text-align: right;\n",
              "    }\n",
              "</style>\n",
              "<table border=\"1\" class=\"dataframe\">\n",
              "  <thead>\n",
              "    <tr style=\"text-align: right;\">\n",
              "      <th></th>\n",
              "      <th>Serial No.</th>\n",
              "      <th>GRE Score</th>\n",
              "      <th>TOEFL Score</th>\n",
              "      <th>University Rating</th>\n",
              "      <th>SOP</th>\n",
              "      <th>LOR</th>\n",
              "      <th>CGPA</th>\n",
              "      <th>Research</th>\n",
              "      <th>Chance of Admit</th>\n",
              "    </tr>\n",
              "  </thead>\n",
              "  <tbody>\n",
              "    <tr>\n",
              "      <th>0</th>\n",
              "      <td>1</td>\n",
              "      <td>337</td>\n",
              "      <td>118</td>\n",
              "      <td>4</td>\n",
              "      <td>4.5</td>\n",
              "      <td>4.5</td>\n",
              "      <td>9.65</td>\n",
              "      <td>1</td>\n",
              "      <td>0.92</td>\n",
              "    </tr>\n",
              "    <tr>\n",
              "      <th>1</th>\n",
              "      <td>2</td>\n",
              "      <td>324</td>\n",
              "      <td>107</td>\n",
              "      <td>4</td>\n",
              "      <td>4.0</td>\n",
              "      <td>4.5</td>\n",
              "      <td>8.87</td>\n",
              "      <td>1</td>\n",
              "      <td>0.76</td>\n",
              "    </tr>\n",
              "    <tr>\n",
              "      <th>2</th>\n",
              "      <td>3</td>\n",
              "      <td>316</td>\n",
              "      <td>104</td>\n",
              "      <td>3</td>\n",
              "      <td>3.0</td>\n",
              "      <td>3.5</td>\n",
              "      <td>8.00</td>\n",
              "      <td>1</td>\n",
              "      <td>0.72</td>\n",
              "    </tr>\n",
              "    <tr>\n",
              "      <th>3</th>\n",
              "      <td>4</td>\n",
              "      <td>322</td>\n",
              "      <td>110</td>\n",
              "      <td>3</td>\n",
              "      <td>3.5</td>\n",
              "      <td>2.5</td>\n",
              "      <td>8.67</td>\n",
              "      <td>1</td>\n",
              "      <td>0.80</td>\n",
              "    </tr>\n",
              "    <tr>\n",
              "      <th>4</th>\n",
              "      <td>5</td>\n",
              "      <td>314</td>\n",
              "      <td>103</td>\n",
              "      <td>2</td>\n",
              "      <td>2.0</td>\n",
              "      <td>3.0</td>\n",
              "      <td>8.21</td>\n",
              "      <td>0</td>\n",
              "      <td>0.65</td>\n",
              "    </tr>\n",
              "  </tbody>\n",
              "</table>\n",
              "</div>\n",
              "      <button class=\"colab-df-convert\" onclick=\"convertToInteractive('df-55703b56-9265-41db-8fae-359e50124d86')\"\n",
              "              title=\"Convert this dataframe to an interactive table.\"\n",
              "              style=\"display:none;\">\n",
              "        \n",
              "  <svg xmlns=\"http://www.w3.org/2000/svg\" height=\"24px\"viewBox=\"0 0 24 24\"\n",
              "       width=\"24px\">\n",
              "    <path d=\"M0 0h24v24H0V0z\" fill=\"none\"/>\n",
              "    <path d=\"M18.56 5.44l.94 2.06.94-2.06 2.06-.94-2.06-.94-.94-2.06-.94 2.06-2.06.94zm-11 1L8.5 8.5l.94-2.06 2.06-.94-2.06-.94L8.5 2.5l-.94 2.06-2.06.94zm10 10l.94 2.06.94-2.06 2.06-.94-2.06-.94-.94-2.06-.94 2.06-2.06.94z\"/><path d=\"M17.41 7.96l-1.37-1.37c-.4-.4-.92-.59-1.43-.59-.52 0-1.04.2-1.43.59L10.3 9.45l-7.72 7.72c-.78.78-.78 2.05 0 2.83L4 21.41c.39.39.9.59 1.41.59.51 0 1.02-.2 1.41-.59l7.78-7.78 2.81-2.81c.8-.78.8-2.07 0-2.86zM5.41 20L4 18.59l7.72-7.72 1.47 1.35L5.41 20z\"/>\n",
              "  </svg>\n",
              "      </button>\n",
              "      \n",
              "  <style>\n",
              "    .colab-df-container {\n",
              "      display:flex;\n",
              "      flex-wrap:wrap;\n",
              "      gap: 12px;\n",
              "    }\n",
              "\n",
              "    .colab-df-convert {\n",
              "      background-color: #E8F0FE;\n",
              "      border: none;\n",
              "      border-radius: 50%;\n",
              "      cursor: pointer;\n",
              "      display: none;\n",
              "      fill: #1967D2;\n",
              "      height: 32px;\n",
              "      padding: 0 0 0 0;\n",
              "      width: 32px;\n",
              "    }\n",
              "\n",
              "    .colab-df-convert:hover {\n",
              "      background-color: #E2EBFA;\n",
              "      box-shadow: 0px 1px 2px rgba(60, 64, 67, 0.3), 0px 1px 3px 1px rgba(60, 64, 67, 0.15);\n",
              "      fill: #174EA6;\n",
              "    }\n",
              "\n",
              "    [theme=dark] .colab-df-convert {\n",
              "      background-color: #3B4455;\n",
              "      fill: #D2E3FC;\n",
              "    }\n",
              "\n",
              "    [theme=dark] .colab-df-convert:hover {\n",
              "      background-color: #434B5C;\n",
              "      box-shadow: 0px 1px 3px 1px rgba(0, 0, 0, 0.15);\n",
              "      filter: drop-shadow(0px 1px 2px rgba(0, 0, 0, 0.3));\n",
              "      fill: #FFFFFF;\n",
              "    }\n",
              "  </style>\n",
              "\n",
              "      <script>\n",
              "        const buttonEl =\n",
              "          document.querySelector('#df-55703b56-9265-41db-8fae-359e50124d86 button.colab-df-convert');\n",
              "        buttonEl.style.display =\n",
              "          google.colab.kernel.accessAllowed ? 'block' : 'none';\n",
              "\n",
              "        async function convertToInteractive(key) {\n",
              "          const element = document.querySelector('#df-55703b56-9265-41db-8fae-359e50124d86');\n",
              "          const dataTable =\n",
              "            await google.colab.kernel.invokeFunction('convertToInteractive',\n",
              "                                                     [key], {});\n",
              "          if (!dataTable) return;\n",
              "\n",
              "          const docLinkHtml = 'Like what you see? Visit the ' +\n",
              "            '<a target=\"_blank\" href=https://colab.research.google.com/notebooks/data_table.ipynb>data table notebook</a>'\n",
              "            + ' to learn more about interactive tables.';\n",
              "          element.innerHTML = '';\n",
              "          dataTable['output_type'] = 'display_data';\n",
              "          await google.colab.output.renderOutput(dataTable, element);\n",
              "          const docLink = document.createElement('div');\n",
              "          docLink.innerHTML = docLinkHtml;\n",
              "          element.appendChild(docLink);\n",
              "        }\n",
              "      </script>\n",
              "    </div>\n",
              "  </div>\n",
              "  "
            ],
            "text/plain": [
              "   Serial No.  GRE Score  TOEFL Score  ...  CGPA  Research  Chance of Admit \n",
              "0           1        337          118  ...  9.65         1              0.92\n",
              "1           2        324          107  ...  8.87         1              0.76\n",
              "2           3        316          104  ...  8.00         1              0.72\n",
              "3           4        322          110  ...  8.67         1              0.80\n",
              "4           5        314          103  ...  8.21         0              0.65\n",
              "\n",
              "[5 rows x 9 columns]"
            ]
          },
          "metadata": {},
          "execution_count": 4
        }
      ]
    },
    {
      "cell_type": "markdown",
      "source": [
        "- In the above dataset, the target variable is **Chance of Admit**\n",
        "- To make this a classification task, let's convert the target variable into a categorical variable by using a threshold of 80%\n",
        "- We are assuming that if **Chance of Admit** is more than 80% then **Admit** would be 1 (i.e. yes) otherwise it would be 0 (i.e. no)"
      ],
      "metadata": {
        "id": "bVkW2zFGe6nn"
      }
    },
    {
      "cell_type": "code",
      "source": [
        "df[\"Admit\"] = df[\"Chance of Admit \"].apply(lambda x: 1 if x>0.8 else 0)"
      ],
      "metadata": {
        "id": "menrPD5We9Ox"
      },
      "execution_count": 6,
      "outputs": []
    },
    {
      "cell_type": "markdown",
      "source": [
        "Now that we have created new a target variable, we can remove the column - **Chance of Admit** from the dataset. We can also remove the column - **Serial No.** as it would not add any value to our analysis."
      ],
      "metadata": {
        "id": "rxh0Bbp7fjat"
      }
    },
    {
      "cell_type": "code",
      "source": [
        "df.drop([\"Chance of Admit \", \"Serial No.\"], axis=1, inplace=True)\n",
        "df.head()"
      ],
      "metadata": {
        "colab": {
          "base_uri": "https://localhost:8080/",
          "height": 204
        },
        "id": "R5uXypn3feLV",
        "outputId": "979f6944-b66c-43b2-bbb8-9d19997d7a0f"
      },
      "execution_count": 7,
      "outputs": [
        {
          "output_type": "execute_result",
          "data": {
            "text/html": [
              "\n",
              "  <div id=\"df-fafc3c43-69d4-4b07-9012-3ca0915fbcf6\">\n",
              "    <div class=\"colab-df-container\">\n",
              "      <div>\n",
              "<style scoped>\n",
              "    .dataframe tbody tr th:only-of-type {\n",
              "        vertical-align: middle;\n",
              "    }\n",
              "\n",
              "    .dataframe tbody tr th {\n",
              "        vertical-align: top;\n",
              "    }\n",
              "\n",
              "    .dataframe thead th {\n",
              "        text-align: right;\n",
              "    }\n",
              "</style>\n",
              "<table border=\"1\" class=\"dataframe\">\n",
              "  <thead>\n",
              "    <tr style=\"text-align: right;\">\n",
              "      <th></th>\n",
              "      <th>GRE Score</th>\n",
              "      <th>TOEFL Score</th>\n",
              "      <th>University Rating</th>\n",
              "      <th>SOP</th>\n",
              "      <th>LOR</th>\n",
              "      <th>CGPA</th>\n",
              "      <th>Research</th>\n",
              "      <th>Admit</th>\n",
              "    </tr>\n",
              "  </thead>\n",
              "  <tbody>\n",
              "    <tr>\n",
              "      <th>0</th>\n",
              "      <td>337</td>\n",
              "      <td>118</td>\n",
              "      <td>4</td>\n",
              "      <td>4.5</td>\n",
              "      <td>4.5</td>\n",
              "      <td>9.65</td>\n",
              "      <td>1</td>\n",
              "      <td>1</td>\n",
              "    </tr>\n",
              "    <tr>\n",
              "      <th>1</th>\n",
              "      <td>324</td>\n",
              "      <td>107</td>\n",
              "      <td>4</td>\n",
              "      <td>4.0</td>\n",
              "      <td>4.5</td>\n",
              "      <td>8.87</td>\n",
              "      <td>1</td>\n",
              "      <td>0</td>\n",
              "    </tr>\n",
              "    <tr>\n",
              "      <th>2</th>\n",
              "      <td>316</td>\n",
              "      <td>104</td>\n",
              "      <td>3</td>\n",
              "      <td>3.0</td>\n",
              "      <td>3.5</td>\n",
              "      <td>8.00</td>\n",
              "      <td>1</td>\n",
              "      <td>0</td>\n",
              "    </tr>\n",
              "    <tr>\n",
              "      <th>3</th>\n",
              "      <td>322</td>\n",
              "      <td>110</td>\n",
              "      <td>3</td>\n",
              "      <td>3.5</td>\n",
              "      <td>2.5</td>\n",
              "      <td>8.67</td>\n",
              "      <td>1</td>\n",
              "      <td>0</td>\n",
              "    </tr>\n",
              "    <tr>\n",
              "      <th>4</th>\n",
              "      <td>314</td>\n",
              "      <td>103</td>\n",
              "      <td>2</td>\n",
              "      <td>2.0</td>\n",
              "      <td>3.0</td>\n",
              "      <td>8.21</td>\n",
              "      <td>0</td>\n",
              "      <td>0</td>\n",
              "    </tr>\n",
              "  </tbody>\n",
              "</table>\n",
              "</div>\n",
              "      <button class=\"colab-df-convert\" onclick=\"convertToInteractive('df-fafc3c43-69d4-4b07-9012-3ca0915fbcf6')\"\n",
              "              title=\"Convert this dataframe to an interactive table.\"\n",
              "              style=\"display:none;\">\n",
              "        \n",
              "  <svg xmlns=\"http://www.w3.org/2000/svg\" height=\"24px\"viewBox=\"0 0 24 24\"\n",
              "       width=\"24px\">\n",
              "    <path d=\"M0 0h24v24H0V0z\" fill=\"none\"/>\n",
              "    <path d=\"M18.56 5.44l.94 2.06.94-2.06 2.06-.94-2.06-.94-.94-2.06-.94 2.06-2.06.94zm-11 1L8.5 8.5l.94-2.06 2.06-.94-2.06-.94L8.5 2.5l-.94 2.06-2.06.94zm10 10l.94 2.06.94-2.06 2.06-.94-2.06-.94-.94-2.06-.94 2.06-2.06.94z\"/><path d=\"M17.41 7.96l-1.37-1.37c-.4-.4-.92-.59-1.43-.59-.52 0-1.04.2-1.43.59L10.3 9.45l-7.72 7.72c-.78.78-.78 2.05 0 2.83L4 21.41c.39.39.9.59 1.41.59.51 0 1.02-.2 1.41-.59l7.78-7.78 2.81-2.81c.8-.78.8-2.07 0-2.86zM5.41 20L4 18.59l7.72-7.72 1.47 1.35L5.41 20z\"/>\n",
              "  </svg>\n",
              "      </button>\n",
              "      \n",
              "  <style>\n",
              "    .colab-df-container {\n",
              "      display:flex;\n",
              "      flex-wrap:wrap;\n",
              "      gap: 12px;\n",
              "    }\n",
              "\n",
              "    .colab-df-convert {\n",
              "      background-color: #E8F0FE;\n",
              "      border: none;\n",
              "      border-radius: 50%;\n",
              "      cursor: pointer;\n",
              "      display: none;\n",
              "      fill: #1967D2;\n",
              "      height: 32px;\n",
              "      padding: 0 0 0 0;\n",
              "      width: 32px;\n",
              "    }\n",
              "\n",
              "    .colab-df-convert:hover {\n",
              "      background-color: #E2EBFA;\n",
              "      box-shadow: 0px 1px 2px rgba(60, 64, 67, 0.3), 0px 1px 3px 1px rgba(60, 64, 67, 0.15);\n",
              "      fill: #174EA6;\n",
              "    }\n",
              "\n",
              "    [theme=dark] .colab-df-convert {\n",
              "      background-color: #3B4455;\n",
              "      fill: #D2E3FC;\n",
              "    }\n",
              "\n",
              "    [theme=dark] .colab-df-convert:hover {\n",
              "      background-color: #434B5C;\n",
              "      box-shadow: 0px 1px 3px 1px rgba(0, 0, 0, 0.15);\n",
              "      filter: drop-shadow(0px 1px 2px rgba(0, 0, 0, 0.3));\n",
              "      fill: #FFFFFF;\n",
              "    }\n",
              "  </style>\n",
              "\n",
              "      <script>\n",
              "        const buttonEl =\n",
              "          document.querySelector('#df-fafc3c43-69d4-4b07-9012-3ca0915fbcf6 button.colab-df-convert');\n",
              "        buttonEl.style.display =\n",
              "          google.colab.kernel.accessAllowed ? 'block' : 'none';\n",
              "\n",
              "        async function convertToInteractive(key) {\n",
              "          const element = document.querySelector('#df-fafc3c43-69d4-4b07-9012-3ca0915fbcf6');\n",
              "          const dataTable =\n",
              "            await google.colab.kernel.invokeFunction('convertToInteractive',\n",
              "                                                     [key], {});\n",
              "          if (!dataTable) return;\n",
              "\n",
              "          const docLinkHtml = 'Like what you see? Visit the ' +\n",
              "            '<a target=\"_blank\" href=https://colab.research.google.com/notebooks/data_table.ipynb>data table notebook</a>'\n",
              "            + ' to learn more about interactive tables.';\n",
              "          element.innerHTML = '';\n",
              "          dataTable['output_type'] = 'display_data';\n",
              "          await google.colab.output.renderOutput(dataTable, element);\n",
              "          const docLink = document.createElement('div');\n",
              "          docLink.innerHTML = docLinkHtml;\n",
              "          element.appendChild(docLink);\n",
              "        }\n",
              "      </script>\n",
              "    </div>\n",
              "  </div>\n",
              "  "
            ],
            "text/plain": [
              "   GRE Score  TOEFL Score  University Rating  SOP  LOR   CGPA  Research  Admit\n",
              "0        337          118                  4  4.5   4.5  9.65         1      1\n",
              "1        324          107                  4  4.0   4.5  8.87         1      0\n",
              "2        316          104                  3  3.0   3.5  8.00         1      0\n",
              "3        322          110                  3  3.5   2.5  8.67         1      0\n",
              "4        314          103                  2  2.0   3.0  8.21         0      0"
            ]
          },
          "metadata": {},
          "execution_count": 7
        }
      ]
    },
    {
      "cell_type": "code",
      "source": [
        "df.info()"
      ],
      "metadata": {
        "colab": {
          "base_uri": "https://localhost:8080/"
        },
        "id": "_v-d3FtAf3Mm",
        "outputId": "924f54b4-41da-4021-9ea3-3325bf562424"
      },
      "execution_count": 8,
      "outputs": [
        {
          "output_type": "stream",
          "name": "stdout",
          "text": [
            "<class 'pandas.core.frame.DataFrame'>\n",
            "RangeIndex: 500 entries, 0 to 499\n",
            "Data columns (total 8 columns):\n",
            " #   Column             Non-Null Count  Dtype  \n",
            "---  ------             --------------  -----  \n",
            " 0   GRE Score          500 non-null    int64  \n",
            " 1   TOEFL Score        500 non-null    int64  \n",
            " 2   University Rating  500 non-null    int64  \n",
            " 3   SOP                500 non-null    float64\n",
            " 4   LOR                500 non-null    float64\n",
            " 5   CGPA               500 non-null    float64\n",
            " 6   Research           500 non-null    int64  \n",
            " 7   Admit              500 non-null    int64  \n",
            "dtypes: float64(3), int64(5)\n",
            "memory usage: 31.4 KB\n"
          ]
        }
      ]
    },
    {
      "cell_type": "markdown",
      "source": [
        "**Observations:**\n",
        "\n",
        "- There are **500 observations and 8 columns** in the data\n",
        "- All the columns are of **numeric data** type\n",
        "- There are **no missing values** in the data"
      ],
      "metadata": {
        "id": "7z6XQEJJf8l6"
      }
    },
    {
      "cell_type": "code",
      "source": [
        "df.describe().T"
      ],
      "metadata": {
        "colab": {
          "base_uri": "https://localhost:8080/",
          "height": 297
        },
        "id": "PlGYzXjgf7Fx",
        "outputId": "a71e228d-5cd2-47b8-91ea-17bbf13de2db"
      },
      "execution_count": 9,
      "outputs": [
        {
          "output_type": "execute_result",
          "data": {
            "text/html": [
              "\n",
              "  <div id=\"df-8b4c1257-9b8f-4a79-aa7b-db583af07819\">\n",
              "    <div class=\"colab-df-container\">\n",
              "      <div>\n",
              "<style scoped>\n",
              "    .dataframe tbody tr th:only-of-type {\n",
              "        vertical-align: middle;\n",
              "    }\n",
              "\n",
              "    .dataframe tbody tr th {\n",
              "        vertical-align: top;\n",
              "    }\n",
              "\n",
              "    .dataframe thead th {\n",
              "        text-align: right;\n",
              "    }\n",
              "</style>\n",
              "<table border=\"1\" class=\"dataframe\">\n",
              "  <thead>\n",
              "    <tr style=\"text-align: right;\">\n",
              "      <th></th>\n",
              "      <th>count</th>\n",
              "      <th>mean</th>\n",
              "      <th>std</th>\n",
              "      <th>min</th>\n",
              "      <th>25%</th>\n",
              "      <th>50%</th>\n",
              "      <th>75%</th>\n",
              "      <th>max</th>\n",
              "    </tr>\n",
              "  </thead>\n",
              "  <tbody>\n",
              "    <tr>\n",
              "      <th>GRE Score</th>\n",
              "      <td>500.0</td>\n",
              "      <td>316.47200</td>\n",
              "      <td>11.295148</td>\n",
              "      <td>290.0</td>\n",
              "      <td>308.0000</td>\n",
              "      <td>317.00</td>\n",
              "      <td>325.00</td>\n",
              "      <td>340.00</td>\n",
              "    </tr>\n",
              "    <tr>\n",
              "      <th>TOEFL Score</th>\n",
              "      <td>500.0</td>\n",
              "      <td>107.19200</td>\n",
              "      <td>6.081868</td>\n",
              "      <td>92.0</td>\n",
              "      <td>103.0000</td>\n",
              "      <td>107.00</td>\n",
              "      <td>112.00</td>\n",
              "      <td>120.00</td>\n",
              "    </tr>\n",
              "    <tr>\n",
              "      <th>University Rating</th>\n",
              "      <td>500.0</td>\n",
              "      <td>3.11400</td>\n",
              "      <td>1.143512</td>\n",
              "      <td>1.0</td>\n",
              "      <td>2.0000</td>\n",
              "      <td>3.00</td>\n",
              "      <td>4.00</td>\n",
              "      <td>5.00</td>\n",
              "    </tr>\n",
              "    <tr>\n",
              "      <th>SOP</th>\n",
              "      <td>500.0</td>\n",
              "      <td>3.37400</td>\n",
              "      <td>0.991004</td>\n",
              "      <td>1.0</td>\n",
              "      <td>2.5000</td>\n",
              "      <td>3.50</td>\n",
              "      <td>4.00</td>\n",
              "      <td>5.00</td>\n",
              "    </tr>\n",
              "    <tr>\n",
              "      <th>LOR</th>\n",
              "      <td>500.0</td>\n",
              "      <td>3.48400</td>\n",
              "      <td>0.925450</td>\n",
              "      <td>1.0</td>\n",
              "      <td>3.0000</td>\n",
              "      <td>3.50</td>\n",
              "      <td>4.00</td>\n",
              "      <td>5.00</td>\n",
              "    </tr>\n",
              "    <tr>\n",
              "      <th>CGPA</th>\n",
              "      <td>500.0</td>\n",
              "      <td>8.57644</td>\n",
              "      <td>0.604813</td>\n",
              "      <td>6.8</td>\n",
              "      <td>8.1275</td>\n",
              "      <td>8.56</td>\n",
              "      <td>9.04</td>\n",
              "      <td>9.92</td>\n",
              "    </tr>\n",
              "    <tr>\n",
              "      <th>Research</th>\n",
              "      <td>500.0</td>\n",
              "      <td>0.56000</td>\n",
              "      <td>0.496884</td>\n",
              "      <td>0.0</td>\n",
              "      <td>0.0000</td>\n",
              "      <td>1.00</td>\n",
              "      <td>1.00</td>\n",
              "      <td>1.00</td>\n",
              "    </tr>\n",
              "    <tr>\n",
              "      <th>Admit</th>\n",
              "      <td>500.0</td>\n",
              "      <td>0.28400</td>\n",
              "      <td>0.451388</td>\n",
              "      <td>0.0</td>\n",
              "      <td>0.0000</td>\n",
              "      <td>0.00</td>\n",
              "      <td>1.00</td>\n",
              "      <td>1.00</td>\n",
              "    </tr>\n",
              "  </tbody>\n",
              "</table>\n",
              "</div>\n",
              "      <button class=\"colab-df-convert\" onclick=\"convertToInteractive('df-8b4c1257-9b8f-4a79-aa7b-db583af07819')\"\n",
              "              title=\"Convert this dataframe to an interactive table.\"\n",
              "              style=\"display:none;\">\n",
              "        \n",
              "  <svg xmlns=\"http://www.w3.org/2000/svg\" height=\"24px\"viewBox=\"0 0 24 24\"\n",
              "       width=\"24px\">\n",
              "    <path d=\"M0 0h24v24H0V0z\" fill=\"none\"/>\n",
              "    <path d=\"M18.56 5.44l.94 2.06.94-2.06 2.06-.94-2.06-.94-.94-2.06-.94 2.06-2.06.94zm-11 1L8.5 8.5l.94-2.06 2.06-.94-2.06-.94L8.5 2.5l-.94 2.06-2.06.94zm10 10l.94 2.06.94-2.06 2.06-.94-2.06-.94-.94-2.06-.94 2.06-2.06.94z\"/><path d=\"M17.41 7.96l-1.37-1.37c-.4-.4-.92-.59-1.43-.59-.52 0-1.04.2-1.43.59L10.3 9.45l-7.72 7.72c-.78.78-.78 2.05 0 2.83L4 21.41c.39.39.9.59 1.41.59.51 0 1.02-.2 1.41-.59l7.78-7.78 2.81-2.81c.8-.78.8-2.07 0-2.86zM5.41 20L4 18.59l7.72-7.72 1.47 1.35L5.41 20z\"/>\n",
              "  </svg>\n",
              "      </button>\n",
              "      \n",
              "  <style>\n",
              "    .colab-df-container {\n",
              "      display:flex;\n",
              "      flex-wrap:wrap;\n",
              "      gap: 12px;\n",
              "    }\n",
              "\n",
              "    .colab-df-convert {\n",
              "      background-color: #E8F0FE;\n",
              "      border: none;\n",
              "      border-radius: 50%;\n",
              "      cursor: pointer;\n",
              "      display: none;\n",
              "      fill: #1967D2;\n",
              "      height: 32px;\n",
              "      padding: 0 0 0 0;\n",
              "      width: 32px;\n",
              "    }\n",
              "\n",
              "    .colab-df-convert:hover {\n",
              "      background-color: #E2EBFA;\n",
              "      box-shadow: 0px 1px 2px rgba(60, 64, 67, 0.3), 0px 1px 3px 1px rgba(60, 64, 67, 0.15);\n",
              "      fill: #174EA6;\n",
              "    }\n",
              "\n",
              "    [theme=dark] .colab-df-convert {\n",
              "      background-color: #3B4455;\n",
              "      fill: #D2E3FC;\n",
              "    }\n",
              "\n",
              "    [theme=dark] .colab-df-convert:hover {\n",
              "      background-color: #434B5C;\n",
              "      box-shadow: 0px 1px 3px 1px rgba(0, 0, 0, 0.15);\n",
              "      filter: drop-shadow(0px 1px 2px rgba(0, 0, 0, 0.3));\n",
              "      fill: #FFFFFF;\n",
              "    }\n",
              "  </style>\n",
              "\n",
              "      <script>\n",
              "        const buttonEl =\n",
              "          document.querySelector('#df-8b4c1257-9b8f-4a79-aa7b-db583af07819 button.colab-df-convert');\n",
              "        buttonEl.style.display =\n",
              "          google.colab.kernel.accessAllowed ? 'block' : 'none';\n",
              "\n",
              "        async function convertToInteractive(key) {\n",
              "          const element = document.querySelector('#df-8b4c1257-9b8f-4a79-aa7b-db583af07819');\n",
              "          const dataTable =\n",
              "            await google.colab.kernel.invokeFunction('convertToInteractive',\n",
              "                                                     [key], {});\n",
              "          if (!dataTable) return;\n",
              "\n",
              "          const docLinkHtml = 'Like what you see? Visit the ' +\n",
              "            '<a target=\"_blank\" href=https://colab.research.google.com/notebooks/data_table.ipynb>data table notebook</a>'\n",
              "            + ' to learn more about interactive tables.';\n",
              "          element.innerHTML = '';\n",
              "          dataTable['output_type'] = 'display_data';\n",
              "          await google.colab.output.renderOutput(dataTable, element);\n",
              "          const docLink = document.createElement('div');\n",
              "          docLink.innerHTML = docLinkHtml;\n",
              "          element.appendChild(docLink);\n",
              "        }\n",
              "      </script>\n",
              "    </div>\n",
              "  </div>\n",
              "  "
            ],
            "text/plain": [
              "                   count       mean        std  ...     50%     75%     max\n",
              "GRE Score          500.0  316.47200  11.295148  ...  317.00  325.00  340.00\n",
              "TOEFL Score        500.0  107.19200   6.081868  ...  107.00  112.00  120.00\n",
              "University Rating  500.0    3.11400   1.143512  ...    3.00    4.00    5.00\n",
              "SOP                500.0    3.37400   0.991004  ...    3.50    4.00    5.00\n",
              "LOR                500.0    3.48400   0.925450  ...    3.50    4.00    5.00\n",
              "CGPA               500.0    8.57644   0.604813  ...    8.56    9.04    9.92\n",
              "Research           500.0    0.56000   0.496884  ...    1.00    1.00    1.00\n",
              "Admit              500.0    0.28400   0.451388  ...    0.00    1.00    1.00\n",
              "\n",
              "[8 rows x 8 columns]"
            ]
          },
          "metadata": {},
          "execution_count": 9
        }
      ]
    },
    {
      "cell_type": "markdown",
      "source": [
        "**Observations:**\n",
        "\n",
        "- The average GRE score of students applying for UCLA is ~316 out of 340. Some students scored full marks on GRE. \n",
        "-  The average TOEFL score of students applying for UCLA is ~107 out of 120. Some students scored full marks on TOEFL.\n",
        "- There are students with all kinds of ratings for bachelor's University, SOP, and LOR - ratings ranging from 1 to 5.\n",
        "-  The average CGPA of students applying for UCLA is 8.57.\n",
        "- Majority of students (~56%) have research experience.\n",
        "- As per our assumption, on average 28.4% of students would get admission to UCLA."
      ],
      "metadata": {
        "id": "Cm6ZdCp2gH20"
      }
    },
    {
      "cell_type": "markdown",
      "source": [
        "## Let's visualize the dataset to see some patterns"
      ],
      "metadata": {
        "id": "djVURicegR4G"
      }
    },
    {
      "cell_type": "code",
      "source": [
        "plt.figure(figsize=(15,8))\n",
        "sns.scatterplot(x=\"GRE Score\", y=\"TOEFL Score\", hue=\"Admit\", size=\"SOP\", data=df)\n",
        "plt.show()"
      ],
      "metadata": {
        "colab": {
          "base_uri": "https://localhost:8080/",
          "height": 497
        },
        "id": "0jauhj4agG8n",
        "outputId": "1cac8dc4-6ba3-4e39-a96b-159e07ae7c25"
      },
      "execution_count": 10,
      "outputs": [
        {
          "output_type": "display_data",
          "data": {
            "image/png": "[encoded data removed]",
            "text/plain": [
              "<Figure size 1080x576 with 1 Axes>"
            ]
          },
          "metadata": {
            "needs_background": "light"
          }
        }
      ]
    },
    {
      "cell_type": "markdown",
      "source": [
        "**Observations:** \n",
        "\n",
        "- There is a linear relationship between GRE and TOEFL scores. This implies that students scoring high one of them would score high in the other as well.\n",
        "- With the increase in GRE and TOEFL scores, the strength of SOP increases. \n",
        "- We can see a distinction between students who were admitted (denoted by orange) vs those who were not admitted (denoted by blue). We can see that majority of students who were admitted have GRE score greater than 320, TOEFL score greater than 105, and SOP of 4 or higher."
      ],
      "metadata": {
        "id": "mqEg3Uz4hDhW"
      }
    },
    {
      "cell_type": "code",
      "source": [
        "plt.figure(figsize=(10,7))\n",
        "sns.boxplot(x=\"University Rating\", y=\"CGPA\", hue=\"Admit\", data=df)\n",
        "plt.title(\"Relationship between different University Rating and CGPA\")\n",
        "plt.show()"
      ],
      "metadata": {
        "colab": {
          "base_uri": "https://localhost:8080/",
          "height": 458
        },
        "id": "wK2NUrpghGRe",
        "outputId": "50dc1b79-194b-42f0-d081-95642f2fd3de"
      },
      "execution_count": 12,
      "outputs": [
        {
          "output_type": "display_data",
          "data": {
            "image/png": "[encoded data removed]",
            "text/plain": [
              "<Figure size 720x504 with 1 Axes>"
            ]
          },
          "metadata": {
            "needs_background": "light"
          }
        }
      ]
    },
    {
      "cell_type": "markdown",
      "source": [
        "**Observations:** \n",
        "\n",
        "- We can see that, with increasing university ratings, the CGPA is also increasing, and also the chances of getting admitted to UCLA increases.\n",
        "- The CGPA of students getting admission to UCLA is higher as compared to students not getting admission to UCLA which makes sense."
      ],
      "metadata": {
        "id": "i2Id34RxhsPj"
      }
    },
    {
      "cell_type": "markdown",
      "source": [
        "### **Data Preparation**\n",
        "This dataset contains both numerical and categorical variables. We need to treat them first before we pass them onto the neural network. We will perform below pre-processing steps - \n",
        "*   One hot encoding of categorical variables\n",
        "*   Scaling numerical variables\n",
        "\n",
        "An important point to remember: Before we scale numerical variables, we would first split the dataset into train and test datasets and perform scaling separately. Otherwise, we would be leaking information from the test data to the train data and the resulting model might give a false sense of good performance. This is known as **data leakage** which we would like to avoid.\n",
        "\n",
        "In this dataset, although the variable **University Rating** is encoded as a numerical variable. But it is denoting or signifying the quality of the university, so that is why this is a categorical variable and we would be creating one-hot encoding or dummy variables for this variable."
      ],
      "metadata": {
        "id": "mVTrkW68hwNd"
      }
    },
    {
      "cell_type": "code",
      "source": [
        "# Creating one hot encoding for the university rating column and dropping university rating \n",
        "one_hot_df = pd.concat([df, pd.get_dummies(df[\"University Rating\"], prefix=\"University Rating\")], axis=1)\n",
        "one_hot_df = one_hot_df.drop([\"University Rating\"], axis=1)\n",
        "one_hot_df.head()"
      ],
      "metadata": {
        "colab": {
          "base_uri": "https://localhost:8080/",
          "height": 265
        },
        "id": "47MfuHbVhtOY",
        "outputId": "e6255575-53bc-4bb7-d5e3-fb8e9897e67e"
      },
      "execution_count": 14,
      "outputs": [
        {
          "output_type": "execute_result",
          "data": {
            "text/html": [
              "\n",
              "  <div id=\"df-c885bff7-2d7a-4fb2-b4f8-35ef5ba935c0\">\n",
              "    <div class=\"colab-df-container\">\n",
              "      <div>\n",
              "<style scoped>\n",
              "    .dataframe tbody tr th:only-of-type {\n",
              "        vertical-align: middle;\n",
              "    }\n",
              "\n",
              "    .dataframe tbody tr th {\n",
              "        vertical-align: top;\n",
              "    }\n",
              "\n",
              "    .dataframe thead th {\n",
              "        text-align: right;\n",
              "    }\n",
              "</style>\n",
              "<table border=\"1\" class=\"dataframe\">\n",
              "  <thead>\n",
              "    <tr style=\"text-align: right;\">\n",
              "      <th></th>\n",
              "      <th>GRE Score</th>\n",
              "      <th>TOEFL Score</th>\n",
              "      <th>SOP</th>\n",
              "      <th>LOR</th>\n",
              "      <th>CGPA</th>\n",
              "      <th>Research</th>\n",
              "      <th>Admit</th>\n",
              "      <th>University Rating_1</th>\n",
              "      <th>University Rating_2</th>\n",
              "      <th>University Rating_3</th>\n",
              "      <th>University Rating_4</th>\n",
              "      <th>University Rating_5</th>\n",
              "    </tr>\n",
              "  </thead>\n",
              "  <tbody>\n",
              "    <tr>\n",
              "      <th>0</th>\n",
              "      <td>337</td>\n",
              "      <td>118</td>\n",
              "      <td>4.5</td>\n",
              "      <td>4.5</td>\n",
              "      <td>9.65</td>\n",
              "      <td>1</td>\n",
              "      <td>1</td>\n",
              "      <td>0</td>\n",
              "      <td>0</td>\n",
              "      <td>0</td>\n",
              "      <td>1</td>\n",
              "      <td>0</td>\n",
              "    </tr>\n",
              "    <tr>\n",
              "      <th>1</th>\n",
              "      <td>324</td>\n",
              "      <td>107</td>\n",
              "      <td>4.0</td>\n",
              "      <td>4.5</td>\n",
              "      <td>8.87</td>\n",
              "      <td>1</td>\n",
              "      <td>0</td>\n",
              "      <td>0</td>\n",
              "      <td>0</td>\n",
              "      <td>0</td>\n",
              "      <td>1</td>\n",
              "      <td>0</td>\n",
              "    </tr>\n",
              "    <tr>\n",
              "      <th>2</th>\n",
              "      <td>316</td>\n",
              "      <td>104</td>\n",
              "      <td>3.0</td>\n",
              "      <td>3.5</td>\n",
              "      <td>8.00</td>\n",
              "      <td>1</td>\n",
              "      <td>0</td>\n",
              "      <td>0</td>\n",
              "      <td>0</td>\n",
              "      <td>1</td>\n",
              "      <td>0</td>\n",
              "      <td>0</td>\n",
              "    </tr>\n",
              "    <tr>\n",
              "      <th>3</th>\n",
              "      <td>322</td>\n",
              "      <td>110</td>\n",
              "      <td>3.5</td>\n",
              "      <td>2.5</td>\n",
              "      <td>8.67</td>\n",
              "      <td>1</td>\n",
              "      <td>0</td>\n",
              "      <td>0</td>\n",
              "      <td>0</td>\n",
              "      <td>1</td>\n",
              "      <td>0</td>\n",
              "      <td>0</td>\n",
              "    </tr>\n",
              "    <tr>\n",
              "      <th>4</th>\n",
              "      <td>314</td>\n",
              "      <td>103</td>\n",
              "      <td>2.0</td>\n",
              "      <td>3.0</td>\n",
              "      <td>8.21</td>\n",
              "      <td>0</td>\n",
              "      <td>0</td>\n",
              "      <td>0</td>\n",
              "      <td>1</td>\n",
              "      <td>0</td>\n",
              "      <td>0</td>\n",
              "      <td>0</td>\n",
              "    </tr>\n",
              "  </tbody>\n",
              "</table>\n",
              "</div>\n",
              "      <button class=\"colab-df-convert\" onclick=\"convertToInteractive('df-c885bff7-2d7a-4fb2-b4f8-35ef5ba935c0')\"\n",
              "              title=\"Convert this dataframe to an interactive table.\"\n",
              "              style=\"display:none;\">\n",
              "        \n",
              "  <svg xmlns=\"http://www.w3.org/2000/svg\" height=\"24px\"viewBox=\"0 0 24 24\"\n",
              "       width=\"24px\">\n",
              "    <path d=\"M0 0h24v24H0V0z\" fill=\"none\"/>\n",
              "    <path d=\"M18.56 5.44l.94 2.06.94-2.06 2.06-.94-2.06-.94-.94-2.06-.94 2.06-2.06.94zm-11 1L8.5 8.5l.94-2.06 2.06-.94-2.06-.94L8.5 2.5l-.94 2.06-2.06.94zm10 10l.94 2.06.94-2.06 2.06-.94-2.06-.94-.94-2.06-.94 2.06-2.06.94z\"/><path d=\"M17.41 7.96l-1.37-1.37c-.4-.4-.92-.59-1.43-.59-.52 0-1.04.2-1.43.59L10.3 9.45l-7.72 7.72c-.78.78-.78 2.05 0 2.83L4 21.41c.39.39.9.59 1.41.59.51 0 1.02-.2 1.41-.59l7.78-7.78 2.81-2.81c.8-.78.8-2.07 0-2.86zM5.41 20L4 18.59l7.72-7.72 1.47 1.35L5.41 20z\"/>\n",
              "  </svg>\n",
              "      </button>\n",
              "      \n",
              "  <style>\n",
              "    .colab-df-container {\n",
              "      display:flex;\n",
              "      flex-wrap:wrap;\n",
              "      gap: 12px;\n",
              "    }\n",
              "\n",
              "    .colab-df-convert {\n",
              "      background-color: #E8F0FE;\n",
              "      border: none;\n",
              "      border-radius: 50%;\n",
              "      cursor: pointer;\n",
              "      display: none;\n",
              "      fill: #1967D2;\n",
              "      height: 32px;\n",
              "      padding: 0 0 0 0;\n",
              "      width: 32px;\n",
              "    }\n",
              "\n",
              "    .colab-df-convert:hover {\n",
              "      background-color: #E2EBFA;\n",
              "      box-shadow: 0px 1px 2px rgba(60, 64, 67, 0.3), 0px 1px 3px 1px rgba(60, 64, 67, 0.15);\n",
              "      fill: #174EA6;\n",
              "    }\n",
              "\n",
              "    [theme=dark] .colab-df-convert {\n",
              "      background-color: #3B4455;\n",
              "      fill: #D2E3FC;\n",
              "    }\n",
              "\n",
              "    [theme=dark] .colab-df-convert:hover {\n",
              "      background-color: #434B5C;\n",
              "      box-shadow: 0px 1px 3px 1px rgba(0, 0, 0, 0.15);\n",
              "      filter: drop-shadow(0px 1px 2px rgba(0, 0, 0, 0.3));\n",
              "      fill: #FFFFFF;\n",
              "    }\n",
              "  </style>\n",
              "\n",
              "      <script>\n",
              "        const buttonEl =\n",
              "          document.querySelector('#df-c885bff7-2d7a-4fb2-b4f8-35ef5ba935c0 button.colab-df-convert');\n",
              "        buttonEl.style.display =\n",
              "          google.colab.kernel.accessAllowed ? 'block' : 'none';\n",
              "\n",
              "        async function convertToInteractive(key) {\n",
              "          const element = document.querySelector('#df-c885bff7-2d7a-4fb2-b4f8-35ef5ba935c0');\n",
              "          const dataTable =\n",
              "            await google.colab.kernel.invokeFunction('convertToInteractive',\n",
              "                                                     [key], {});\n",
              "          if (!dataTable) return;\n",
              "\n",
              "          const docLinkHtml = 'Like what you see? Visit the ' +\n",
              "            '<a target=\"_blank\" href=https://colab.research.google.com/notebooks/data_table.ipynb>data table notebook</a>'\n",
              "            + ' to learn more about interactive tables.';\n",
              "          element.innerHTML = '';\n",
              "          dataTable['output_type'] = 'display_data';\n",
              "          await google.colab.output.renderOutput(dataTable, element);\n",
              "          const docLink = document.createElement('div');\n",
              "          docLink.innerHTML = docLinkHtml;\n",
              "          element.appendChild(docLink);\n",
              "        }\n",
              "      </script>\n",
              "    </div>\n",
              "  </div>\n",
              "  "
            ],
            "text/plain": [
              "   GRE Score  TOEFL Score  ...  University Rating_4  University Rating_5\n",
              "0        337          118  ...                    1                    0\n",
              "1        324          107  ...                    1                    0\n",
              "2        316          104  ...                    0                    0\n",
              "3        322          110  ...                    0                    0\n",
              "4        314          103  ...                    0                    0\n",
              "\n",
              "[5 rows x 12 columns]"
            ]
          },
          "metadata": {},
          "execution_count": 14
        }
      ]
    },
    {
      "cell_type": "markdown",
      "source": [
        "Now, let's split the dataset into train and test datasets. To do that, we would be extracting all the **independent variables** and save them into a variable **features**. And the target variable **Admit** would be saved into a variable **target**. These two variables will be used to split the parent dataset into train and test datasets."
      ],
      "metadata": {
        "id": "3fTCurpriyUp"
      }
    },
    {
      "cell_type": "code",
      "source": [
        "features = one_hot_df.drop([\"Admit\"], axis=1)\n",
        "target = one_hot_df[\"Admit\"]"
      ],
      "metadata": {
        "id": "qGAmTkdhizX2"
      },
      "execution_count": 16,
      "outputs": []
    },
    {
      "cell_type": "code",
      "source": [
        "X_train, X_test, y_train, y_test = train_test_split(features, target, test_size=0.2, random_state=1)"
      ],
      "metadata": {
        "id": "7WQOdUaIi57u"
      },
      "execution_count": 17,
      "outputs": []
    },
    {
      "cell_type": "markdown",
      "source": [
        "Now, we will perform scaling on the numerical variables separately for train and test sets. We will perform **fit** and **transform** on the train data and then we will only perform **transform** on the test data."
      ],
      "metadata": {
        "id": "HG62iuFhjSI2"
      }
    },
    {
      "cell_type": "code",
      "source": [
        "scaler = MinMaxScaler()\n",
        "X_train_normalized = scaler.fit_transform(X_train)\n",
        "X_test_normalized = scaler.transform(X_test)"
      ],
      "metadata": {
        "id": "MlURnHXZjNLX"
      },
      "execution_count": 18,
      "outputs": []
    },
    {
      "cell_type": "markdown",
      "source": [
        "## Model Architecture\n",
        "In neural networks, there are so many hyper-parameters that you can play around with and tune the network to get the best results. Some of them are - \n",
        "\n",
        "\n",
        "\n",
        "1.   Number of hidden layers\n",
        "2.   Number of neurons in each hidden layer\n",
        "3.   Activation functions in hidden layers\n",
        "4.   Optimizers\n",
        "5.   Random initialization of weights and biases\n",
        "6.   Batch size\n",
        "7.   Learning rate\n",
        "8.   Early stopping\n",
        "9.   L1 and L2 Regularization\n",
        "10.  Dropout\n",
        "11.  Momentum\n",
        "\n",
        "and so on...\n",
        "\n",
        "First, let's set the seed for random number generators in NumPy, Python, and TensorFlow to be able to reproduce the same results everytime we run the code."
      ],
      "metadata": {
        "id": "lq8AMU3OjkzK"
      }
    },
    {
      "cell_type": "code",
      "source": [
        "np.random.seed(42)\n",
        "import random\n",
        "random.seed(42)\n",
        "tf.random.set_seed(42)"
      ],
      "metadata": {
        "id": "plp4nKXgj_rT"
      },
      "execution_count": 19,
      "outputs": []
    },
    {
      "cell_type": "markdown",
      "source": [
        "Let's build a feed forward neural network with 2 hidden layers and the output layer."
      ],
      "metadata": {
        "id": "yVS9HKjRkQgo"
      }
    },
    {
      "cell_type": "code",
      "source": [
        "# we will be adding the layers sequentially\n",
        "model_1 = Sequential()\n",
        "\n",
        "# first hidden layer with 128 neurons and relu activation function, the input shape tuple denotes number of independent variables\n",
        "model_1.add(Dense(128, activation=\"relu\", input_shape=(11,)))\n",
        "\n",
        "# we will be switching 20% neurons randomly at each interaction to avoid overfitting\n",
        "model_1.add(Dropout(0.2))\n",
        "\n",
        "# second hidden layer with 64 neurons and relu activation function\n",
        "model_1.add(Dense(64, activation=\"relu\"))\n",
        "\n",
        "# we will be switching 10% of neurons randomly at each interaction to avoid overfitting \n",
        "model_1.add(Dropout(0.1))\n",
        "\n",
        "# output layer with only one neuron and sigmoid as activation function will give the probability of students getting admitted into UCLA  \n",
        "model_1.add(Dense(1, activation='sigmoid'))"
      ],
      "metadata": {
        "id": "i4sR9IwYkNDe"
      },
      "execution_count": 21,
      "outputs": []
    },
    {
      "cell_type": "markdown",
      "source": [
        "Once we are done with the model architecture, we need to compile the model, where we need to provide the loss function that we want to optimize, the optimization algorithm, and the evaluation metric that we are interested in to evaluate the model.\n",
        "\n",
        "Since this is a binary classification task, we will be minimizing the **binary_crossentropy** and we can choose one optimizer out of \n",
        "1.   SGD\n",
        "2.   RMSprop\n",
        "3.   Adam\n",
        "4.   Adadelta\n",
        "5.   Adagrad\n",
        "6.   Adamax\n",
        "7.   Nadam\n",
        "8.   Ftrl\n",
        "\n",
        "This is a hyper-parameter. You can play around with these optimizers to check which one performs better with a particular data.\n",
        "\n",
        "For now, let's try **adamax** optimizer with **accuracy** as the metric and see the model's summary."
      ],
      "metadata": {
        "id": "wRi0xYKml9GQ"
      }
    },
    {
      "cell_type": "code",
      "source": [
        " model_1.compile(loss=\"binary_crossentropy\", optimizer=\"adamax\", metrics=[\"accuracy\"])\n",
        " model_1.summary()"
      ],
      "metadata": {
        "colab": {
          "base_uri": "https://localhost:8080/"
        },
        "id": "5RROLL55lfaz",
        "outputId": "2a24119d-f7fd-4847-c4f7-993eb01348bd"
      },
      "execution_count": 22,
      "outputs": [
        {
          "output_type": "stream",
          "name": "stdout",
          "text": [
            "Model: \"sequential\"\n",
            "_________________________________________________________________\n",
            " Layer (type)                Output Shape              Param #   \n",
            "=================================================================\n",
            " dense (Dense)               (None, 128)               1536      \n",
            "                                                                 \n",
            " dropout (Dropout)           (None, 128)               0         \n",
            "                                                                 \n",
            " dense_1 (Dense)             (None, 64)                8256      \n",
            "                                                                 \n",
            " dropout_1 (Dropout)         (None, 64)                0         \n",
            "                                                                 \n",
            " dense_2 (Dense)             (None, 1)                 65        \n",
            "                                                                 \n",
            "=================================================================\n",
            "Total params: 9,857\n",
            "Trainable params: 9,857\n",
            "Non-trainable params: 0\n",
            "_________________________________________________________________\n"
          ]
        }
      ]
    },
    {
      "cell_type": "markdown",
      "source": [
        "From the above summary, we can see that this architecture will train a total of **9,857** parameters i.e. weights and biases in the network."
      ],
      "metadata": {
        "id": "5Y1Y4qGpmwKy"
      }
    },
    {
      "cell_type": "markdown",
      "source": [
        "### **Training the model**"
      ],
      "metadata": {
        "id": "OI7kEHPXm0R6"
      }
    },
    {
      "cell_type": "code",
      "source": [
        "history_1 = model_1.fit(X_train_normalized, y_train, validation_split=0.1, epochs=150, verbose=2)"
      ],
      "metadata": {
        "colab": {
          "base_uri": "https://localhost:8080/"
        },
        "id": "iEDUo8vBmxeK",
        "outputId": "c9e1724f-4090-4930-e25e-01df9969d0c4"
      },
      "execution_count": 23,
      "outputs": [
        {
          "output_type": "stream",
          "name": "stdout",
          "text": [
            "Epoch 1/150\n",
            "12/12 - 2s - loss: 0.6533 - accuracy: 0.7194 - val_loss: 0.6516 - val_accuracy: 0.6250 - 2s/epoch - 164ms/step\n",
            "Epoch 2/150\n",
            "12/12 - 0s - loss: 0.5926 - accuracy: 0.7278 - val_loss: 0.6038 - val_accuracy: 0.6250 - 66ms/epoch - 6ms/step\n",
            "Epoch 3/150\n",
            "12/12 - 0s - loss: 0.5434 - accuracy: 0.7472 - val_loss: 0.5627 - val_accuracy: 0.6250 - 65ms/epoch - 5ms/step\n",
            "Epoch 4/150\n",
            "12/12 - 0s - loss: 0.5002 - accuracy: 0.8083 - val_loss: 0.5219 - val_accuracy: 0.8500 - 63ms/epoch - 5ms/step\n",
            "Epoch 5/150\n",
            "12/12 - 0s - loss: 0.4507 - accuracy: 0.8667 - val_loss: 0.4869 - val_accuracy: 0.8500 - 54ms/epoch - 4ms/step\n",
            "Epoch 6/150\n",
            "12/12 - 0s - loss: 0.4251 - accuracy: 0.8806 - val_loss: 0.4602 - val_accuracy: 0.8500 - 64ms/epoch - 5ms/step\n",
            "Epoch 7/150\n",
            "12/12 - 0s - loss: 0.3959 - accuracy: 0.8667 - val_loss: 0.4291 - val_accuracy: 0.8500 - 56ms/epoch - 5ms/step\n",
            "Epoch 8/150\n",
            "12/12 - 0s - loss: 0.3653 - accuracy: 0.8889 - val_loss: 0.4091 - val_accuracy: 0.8250 - 79ms/epoch - 7ms/step\n",
            "Epoch 9/150\n",
            "12/12 - 0s - loss: 0.3419 - accuracy: 0.8917 - val_loss: 0.3926 - val_accuracy: 0.8250 - 63ms/epoch - 5ms/step\n",
            "Epoch 10/150\n",
            "12/12 - 0s - loss: 0.3261 - accuracy: 0.8944 - val_loss: 0.3798 - val_accuracy: 0.8250 - 58ms/epoch - 5ms/step\n",
            "Epoch 11/150\n",
            "12/12 - 0s - loss: 0.3132 - accuracy: 0.8972 - val_loss: 0.3700 - val_accuracy: 0.8250 - 52ms/epoch - 4ms/step\n",
            "Epoch 12/150\n",
            "12/12 - 0s - loss: 0.3025 - accuracy: 0.8889 - val_loss: 0.3629 - val_accuracy: 0.8250 - 58ms/epoch - 5ms/step\n",
            "Epoch 13/150\n",
            "12/12 - 0s - loss: 0.2976 - accuracy: 0.8917 - val_loss: 0.3598 - val_accuracy: 0.8250 - 86ms/epoch - 7ms/step\n",
            "Epoch 14/150\n",
            "12/12 - 0s - loss: 0.2939 - accuracy: 0.8833 - val_loss: 0.3533 - val_accuracy: 0.8250 - 81ms/epoch - 7ms/step\n",
            "Epoch 15/150\n",
            "12/12 - 0s - loss: 0.2811 - accuracy: 0.8889 - val_loss: 0.3500 - val_accuracy: 0.8250 - 70ms/epoch - 6ms/step\n",
            "Epoch 16/150\n",
            "12/12 - 0s - loss: 0.2844 - accuracy: 0.8861 - val_loss: 0.3434 - val_accuracy: 0.8250 - 66ms/epoch - 6ms/step\n",
            "Epoch 17/150\n",
            "12/12 - 0s - loss: 0.2782 - accuracy: 0.8861 - val_loss: 0.3403 - val_accuracy: 0.8250 - 82ms/epoch - 7ms/step\n",
            "Epoch 18/150\n",
            "12/12 - 0s - loss: 0.2785 - accuracy: 0.8889 - val_loss: 0.3347 - val_accuracy: 0.8250 - 95ms/epoch - 8ms/step\n",
            "Epoch 19/150\n",
            "12/12 - 0s - loss: 0.2739 - accuracy: 0.8889 - val_loss: 0.3309 - val_accuracy: 0.8250 - 70ms/epoch - 6ms/step\n",
            "Epoch 20/150\n",
            "12/12 - 0s - loss: 0.2715 - accuracy: 0.8917 - val_loss: 0.3301 - val_accuracy: 0.8250 - 68ms/epoch - 6ms/step\n",
            "Epoch 21/150\n",
            "12/12 - 0s - loss: 0.2688 - accuracy: 0.8917 - val_loss: 0.3247 - val_accuracy: 0.8250 - 94ms/epoch - 8ms/step\n",
            "Epoch 22/150\n",
            "12/12 - 0s - loss: 0.2631 - accuracy: 0.8889 - val_loss: 0.3221 - val_accuracy: 0.8250 - 69ms/epoch - 6ms/step\n",
            "Epoch 23/150\n",
            "12/12 - 0s - loss: 0.2597 - accuracy: 0.8861 - val_loss: 0.3219 - val_accuracy: 0.8250 - 70ms/epoch - 6ms/step\n",
            "Epoch 24/150\n",
            "12/12 - 0s - loss: 0.2633 - accuracy: 0.9000 - val_loss: 0.3181 - val_accuracy: 0.8250 - 76ms/epoch - 6ms/step\n",
            "Epoch 25/150\n",
            "12/12 - 0s - loss: 0.2575 - accuracy: 0.8833 - val_loss: 0.3153 - val_accuracy: 0.8250 - 73ms/epoch - 6ms/step\n",
            "Epoch 26/150\n",
            "12/12 - 0s - loss: 0.2532 - accuracy: 0.9028 - val_loss: 0.3124 - val_accuracy: 0.8250 - 81ms/epoch - 7ms/step\n",
            "Epoch 27/150\n",
            "12/12 - 0s - loss: 0.2448 - accuracy: 0.8972 - val_loss: 0.3086 - val_accuracy: 0.8250 - 61ms/epoch - 5ms/step\n",
            "Epoch 28/150\n",
            "12/12 - 0s - loss: 0.2523 - accuracy: 0.8917 - val_loss: 0.3063 - val_accuracy: 0.8250 - 61ms/epoch - 5ms/step\n",
            "Epoch 29/150\n",
            "12/12 - 0s - loss: 0.2462 - accuracy: 0.9056 - val_loss: 0.3056 - val_accuracy: 0.8250 - 62ms/epoch - 5ms/step\n",
            "Epoch 30/150\n",
            "12/12 - 0s - loss: 0.2483 - accuracy: 0.8972 - val_loss: 0.3030 - val_accuracy: 0.8250 - 81ms/epoch - 7ms/step\n",
            "Epoch 31/150\n",
            "12/12 - 0s - loss: 0.2459 - accuracy: 0.9111 - val_loss: 0.3063 - val_accuracy: 0.8250 - 75ms/epoch - 6ms/step\n",
            "Epoch 32/150\n",
            "12/12 - 0s - loss: 0.2514 - accuracy: 0.8972 - val_loss: 0.2996 - val_accuracy: 0.8250 - 68ms/epoch - 6ms/step\n",
            "Epoch 33/150\n",
            "12/12 - 0s - loss: 0.2287 - accuracy: 0.9056 - val_loss: 0.2939 - val_accuracy: 0.8250 - 65ms/epoch - 5ms/step\n",
            "Epoch 34/150\n",
            "12/12 - 0s - loss: 0.2428 - accuracy: 0.9083 - val_loss: 0.2912 - val_accuracy: 0.8250 - 64ms/epoch - 5ms/step\n",
            "Epoch 35/150\n",
            "12/12 - 0s - loss: 0.2461 - accuracy: 0.8972 - val_loss: 0.2908 - val_accuracy: 0.8250 - 76ms/epoch - 6ms/step\n",
            "Epoch 36/150\n",
            "12/12 - 0s - loss: 0.2358 - accuracy: 0.9139 - val_loss: 0.2897 - val_accuracy: 0.8250 - 88ms/epoch - 7ms/step\n",
            "Epoch 37/150\n",
            "12/12 - 0s - loss: 0.2240 - accuracy: 0.8972 - val_loss: 0.2868 - val_accuracy: 0.8250 - 73ms/epoch - 6ms/step\n",
            "Epoch 38/150\n",
            "12/12 - 0s - loss: 0.2307 - accuracy: 0.9000 - val_loss: 0.2859 - val_accuracy: 0.8250 - 68ms/epoch - 6ms/step\n",
            "Epoch 39/150\n",
            "12/12 - 0s - loss: 0.2368 - accuracy: 0.9056 - val_loss: 0.2849 - val_accuracy: 0.8250 - 60ms/epoch - 5ms/step\n",
            "Epoch 40/150\n",
            "12/12 - 0s - loss: 0.2314 - accuracy: 0.9111 - val_loss: 0.2823 - val_accuracy: 0.8250 - 62ms/epoch - 5ms/step\n",
            "Epoch 41/150\n",
            "12/12 - 0s - loss: 0.2370 - accuracy: 0.9028 - val_loss: 0.2806 - val_accuracy: 0.8250 - 48ms/epoch - 4ms/step\n",
            "Epoch 42/150\n",
            "12/12 - 0s - loss: 0.2331 - accuracy: 0.9111 - val_loss: 0.2792 - val_accuracy: 0.8250 - 74ms/epoch - 6ms/step\n",
            "Epoch 43/150\n",
            "12/12 - 0s - loss: 0.2238 - accuracy: 0.9000 - val_loss: 0.2785 - val_accuracy: 0.8250 - 66ms/epoch - 5ms/step\n",
            "Epoch 44/150\n",
            "12/12 - 0s - loss: 0.2273 - accuracy: 0.9056 - val_loss: 0.2745 - val_accuracy: 0.8250 - 70ms/epoch - 6ms/step\n",
            "Epoch 45/150\n",
            "12/12 - 0s - loss: 0.2173 - accuracy: 0.9056 - val_loss: 0.2741 - val_accuracy: 0.8250 - 63ms/epoch - 5ms/step\n",
            "Epoch 46/150\n",
            "12/12 - 0s - loss: 0.2244 - accuracy: 0.9056 - val_loss: 0.2727 - val_accuracy: 0.8250 - 69ms/epoch - 6ms/step\n",
            "Epoch 47/150\n",
            "12/12 - 0s - loss: 0.2268 - accuracy: 0.9056 - val_loss: 0.2708 - val_accuracy: 0.8250 - 65ms/epoch - 5ms/step\n",
            "Epoch 48/150\n",
            "12/12 - 0s - loss: 0.2282 - accuracy: 0.9111 - val_loss: 0.2710 - val_accuracy: 0.8250 - 76ms/epoch - 6ms/step\n",
            "Epoch 49/150\n",
            "12/12 - 0s - loss: 0.2191 - accuracy: 0.9167 - val_loss: 0.2700 - val_accuracy: 0.8250 - 67ms/epoch - 6ms/step\n",
            "Epoch 50/150\n",
            "12/12 - 0s - loss: 0.2147 - accuracy: 0.9028 - val_loss: 0.2663 - val_accuracy: 0.8250 - 67ms/epoch - 6ms/step\n",
            "Epoch 51/150\n",
            "12/12 - 0s - loss: 0.2174 - accuracy: 0.9056 - val_loss: 0.2646 - val_accuracy: 0.8250 - 75ms/epoch - 6ms/step\n",
            "Epoch 52/150\n",
            "12/12 - 0s - loss: 0.2045 - accuracy: 0.9139 - val_loss: 0.2638 - val_accuracy: 0.8250 - 68ms/epoch - 6ms/step\n",
            "Epoch 53/150\n",
            "12/12 - 0s - loss: 0.2099 - accuracy: 0.9222 - val_loss: 0.2629 - val_accuracy: 0.8500 - 66ms/epoch - 5ms/step\n",
            "Epoch 54/150\n",
            "12/12 - 0s - loss: 0.2103 - accuracy: 0.9111 - val_loss: 0.2592 - val_accuracy: 0.8250 - 62ms/epoch - 5ms/step\n",
            "Epoch 55/150\n",
            "12/12 - 0s - loss: 0.2144 - accuracy: 0.9111 - val_loss: 0.2569 - val_accuracy: 0.8250 - 70ms/epoch - 6ms/step\n",
            "Epoch 56/150\n",
            "12/12 - 0s - loss: 0.2239 - accuracy: 0.9028 - val_loss: 0.2566 - val_accuracy: 0.8250 - 67ms/epoch - 6ms/step\n",
            "Epoch 57/150\n",
            "12/12 - 0s - loss: 0.2075 - accuracy: 0.9222 - val_loss: 0.2546 - val_accuracy: 0.8250 - 65ms/epoch - 5ms/step\n",
            "Epoch 58/150\n",
            "12/12 - 0s - loss: 0.2068 - accuracy: 0.9222 - val_loss: 0.2559 - val_accuracy: 0.8500 - 73ms/epoch - 6ms/step\n",
            "Epoch 59/150\n",
            "12/12 - 0s - loss: 0.2197 - accuracy: 0.9056 - val_loss: 0.2543 - val_accuracy: 0.8500 - 69ms/epoch - 6ms/step\n",
            "Epoch 60/150\n",
            "12/12 - 0s - loss: 0.2174 - accuracy: 0.9000 - val_loss: 0.2536 - val_accuracy: 0.8250 - 62ms/epoch - 5ms/step\n",
            "Epoch 61/150\n",
            "12/12 - 0s - loss: 0.2090 - accuracy: 0.9111 - val_loss: 0.2540 - val_accuracy: 0.8500 - 66ms/epoch - 5ms/step\n",
            "Epoch 62/150\n",
            "12/12 - 0s - loss: 0.2060 - accuracy: 0.9111 - val_loss: 0.2540 - val_accuracy: 0.8500 - 73ms/epoch - 6ms/step\n",
            "Epoch 63/150\n",
            "12/12 - 0s - loss: 0.2024 - accuracy: 0.9278 - val_loss: 0.2517 - val_accuracy: 0.8250 - 83ms/epoch - 7ms/step\n",
            "Epoch 64/150\n",
            "12/12 - 0s - loss: 0.2044 - accuracy: 0.9194 - val_loss: 0.2509 - val_accuracy: 0.8500 - 60ms/epoch - 5ms/step\n",
            "Epoch 65/150\n",
            "12/12 - 0s - loss: 0.2135 - accuracy: 0.9139 - val_loss: 0.2501 - val_accuracy: 0.8500 - 62ms/epoch - 5ms/step\n",
            "Epoch 66/150\n",
            "12/12 - 0s - loss: 0.2066 - accuracy: 0.9111 - val_loss: 0.2472 - val_accuracy: 0.8500 - 88ms/epoch - 7ms/step\n",
            "Epoch 67/150\n",
            "12/12 - 0s - loss: 0.2132 - accuracy: 0.9167 - val_loss: 0.2464 - val_accuracy: 0.8500 - 68ms/epoch - 6ms/step\n",
            "Epoch 68/150\n",
            "12/12 - 0s - loss: 0.2023 - accuracy: 0.9167 - val_loss: 0.2461 - val_accuracy: 0.8500 - 84ms/epoch - 7ms/step\n",
            "Epoch 69/150\n",
            "12/12 - 0s - loss: 0.2040 - accuracy: 0.9222 - val_loss: 0.2448 - val_accuracy: 0.8500 - 94ms/epoch - 8ms/step\n",
            "Epoch 70/150\n",
            "12/12 - 0s - loss: 0.2171 - accuracy: 0.9056 - val_loss: 0.2434 - val_accuracy: 0.8250 - 75ms/epoch - 6ms/step\n",
            "Epoch 71/150\n",
            "12/12 - 0s - loss: 0.2120 - accuracy: 0.9000 - val_loss: 0.2426 - val_accuracy: 0.8500 - 84ms/epoch - 7ms/step\n",
            "Epoch 72/150\n",
            "12/12 - 0s - loss: 0.2071 - accuracy: 0.9139 - val_loss: 0.2426 - val_accuracy: 0.8500 - 76ms/epoch - 6ms/step\n",
            "Epoch 73/150\n",
            "12/12 - 0s - loss: 0.2081 - accuracy: 0.9139 - val_loss: 0.2421 - val_accuracy: 0.8750 - 75ms/epoch - 6ms/step\n",
            "Epoch 74/150\n",
            "12/12 - 0s - loss: 0.1862 - accuracy: 0.9194 - val_loss: 0.2406 - val_accuracy: 0.8500 - 103ms/epoch - 9ms/step\n",
            "Epoch 75/150\n",
            "12/12 - 0s - loss: 0.1989 - accuracy: 0.9250 - val_loss: 0.2401 - val_accuracy: 0.8500 - 90ms/epoch - 8ms/step\n",
            "Epoch 76/150\n",
            "12/12 - 0s - loss: 0.2109 - accuracy: 0.9222 - val_loss: 0.2394 - val_accuracy: 0.8500 - 70ms/epoch - 6ms/step\n",
            "Epoch 77/150\n",
            "12/12 - 0s - loss: 0.1946 - accuracy: 0.9194 - val_loss: 0.2395 - val_accuracy: 0.8500 - 75ms/epoch - 6ms/step\n",
            "Epoch 78/150\n",
            "12/12 - 0s - loss: 0.2026 - accuracy: 0.9194 - val_loss: 0.2387 - val_accuracy: 0.8500 - 65ms/epoch - 5ms/step\n",
            "Epoch 79/150\n",
            "12/12 - 0s - loss: 0.1940 - accuracy: 0.9222 - val_loss: 0.2370 - val_accuracy: 0.8750 - 59ms/epoch - 5ms/step\n",
            "Epoch 80/150\n",
            "12/12 - 0s - loss: 0.2045 - accuracy: 0.9111 - val_loss: 0.2366 - val_accuracy: 0.8750 - 60ms/epoch - 5ms/step\n",
            "Epoch 81/150\n",
            "12/12 - 0s - loss: 0.1987 - accuracy: 0.9222 - val_loss: 0.2362 - val_accuracy: 0.8750 - 65ms/epoch - 5ms/step\n",
            "Epoch 82/150\n",
            "12/12 - 0s - loss: 0.1937 - accuracy: 0.9250 - val_loss: 0.2342 - val_accuracy: 0.9000 - 64ms/epoch - 5ms/step\n",
            "Epoch 83/150\n",
            "12/12 - 0s - loss: 0.1936 - accuracy: 0.9167 - val_loss: 0.2337 - val_accuracy: 0.8500 - 60ms/epoch - 5ms/step\n",
            "Epoch 84/150\n",
            "12/12 - 0s - loss: 0.1914 - accuracy: 0.9194 - val_loss: 0.2320 - val_accuracy: 0.8750 - 64ms/epoch - 5ms/step\n",
            "Epoch 85/150\n",
            "12/12 - 0s - loss: 0.1859 - accuracy: 0.9306 - val_loss: 0.2313 - val_accuracy: 0.8750 - 60ms/epoch - 5ms/step\n",
            "Epoch 86/150\n",
            "12/12 - 0s - loss: 0.1920 - accuracy: 0.9250 - val_loss: 0.2310 - val_accuracy: 0.8750 - 73ms/epoch - 6ms/step\n",
            "Epoch 87/150\n",
            "12/12 - 0s - loss: 0.1928 - accuracy: 0.9139 - val_loss: 0.2312 - val_accuracy: 0.8750 - 55ms/epoch - 5ms/step\n",
            "Epoch 88/150\n",
            "12/12 - 0s - loss: 0.1893 - accuracy: 0.9250 - val_loss: 0.2304 - val_accuracy: 0.9000 - 60ms/epoch - 5ms/step\n",
            "Epoch 89/150\n",
            "12/12 - 0s - loss: 0.1923 - accuracy: 0.9222 - val_loss: 0.2300 - val_accuracy: 0.9000 - 55ms/epoch - 5ms/step\n",
            "Epoch 90/150\n",
            "12/12 - 0s - loss: 0.1882 - accuracy: 0.9250 - val_loss: 0.2300 - val_accuracy: 0.9000 - 61ms/epoch - 5ms/step\n",
            "Epoch 91/150\n",
            "12/12 - 0s - loss: 0.1949 - accuracy: 0.9250 - val_loss: 0.2291 - val_accuracy: 0.9000 - 72ms/epoch - 6ms/step\n",
            "Epoch 92/150\n",
            "12/12 - 0s - loss: 0.1888 - accuracy: 0.9222 - val_loss: 0.2293 - val_accuracy: 0.9000 - 62ms/epoch - 5ms/step\n",
            "Epoch 93/150\n",
            "12/12 - 0s - loss: 0.1876 - accuracy: 0.9167 - val_loss: 0.2288 - val_accuracy: 0.9000 - 61ms/epoch - 5ms/step\n",
            "Epoch 94/150\n",
            "12/12 - 0s - loss: 0.1751 - accuracy: 0.9250 - val_loss: 0.2274 - val_accuracy: 0.9000 - 55ms/epoch - 5ms/step\n",
            "Epoch 95/150\n",
            "12/12 - 0s - loss: 0.1831 - accuracy: 0.9250 - val_loss: 0.2277 - val_accuracy: 0.9000 - 57ms/epoch - 5ms/step\n",
            "Epoch 96/150\n",
            "12/12 - 0s - loss: 0.1986 - accuracy: 0.9167 - val_loss: 0.2270 - val_accuracy: 0.9000 - 58ms/epoch - 5ms/step\n",
            "Epoch 97/150\n",
            "12/12 - 0s - loss: 0.1879 - accuracy: 0.9111 - val_loss: 0.2266 - val_accuracy: 0.9000 - 61ms/epoch - 5ms/step\n",
            "Epoch 98/150\n",
            "12/12 - 0s - loss: 0.1820 - accuracy: 0.9278 - val_loss: 0.2268 - val_accuracy: 0.9000 - 59ms/epoch - 5ms/step\n",
            "Epoch 99/150\n",
            "12/12 - 0s - loss: 0.1881 - accuracy: 0.9194 - val_loss: 0.2277 - val_accuracy: 0.9000 - 58ms/epoch - 5ms/step\n",
            "Epoch 100/150\n",
            "12/12 - 0s - loss: 0.1852 - accuracy: 0.9306 - val_loss: 0.2251 - val_accuracy: 0.9000 - 58ms/epoch - 5ms/step\n",
            "Epoch 101/150\n",
            "12/12 - 0s - loss: 0.1775 - accuracy: 0.9306 - val_loss: 0.2246 - val_accuracy: 0.9000 - 53ms/epoch - 4ms/step\n",
            "Epoch 102/150\n",
            "12/12 - 0s - loss: 0.1963 - accuracy: 0.9222 - val_loss: 0.2238 - val_accuracy: 0.9000 - 61ms/epoch - 5ms/step\n",
            "Epoch 103/150\n",
            "12/12 - 0s - loss: 0.1852 - accuracy: 0.9306 - val_loss: 0.2244 - val_accuracy: 0.9000 - 71ms/epoch - 6ms/step\n",
            "Epoch 104/150\n",
            "12/12 - 0s - loss: 0.1854 - accuracy: 0.9250 - val_loss: 0.2230 - val_accuracy: 0.9000 - 81ms/epoch - 7ms/step\n",
            "Epoch 105/150\n",
            "12/12 - 0s - loss: 0.1719 - accuracy: 0.9333 - val_loss: 0.2218 - val_accuracy: 0.9000 - 52ms/epoch - 4ms/step\n",
            "Epoch 106/150\n",
            "12/12 - 0s - loss: 0.1850 - accuracy: 0.9306 - val_loss: 0.2215 - val_accuracy: 0.9000 - 59ms/epoch - 5ms/step\n",
            "Epoch 107/150\n",
            "12/12 - 0s - loss: 0.1846 - accuracy: 0.9222 - val_loss: 0.2207 - val_accuracy: 0.9000 - 54ms/epoch - 5ms/step\n",
            "Epoch 108/150\n",
            "12/12 - 0s - loss: 0.1753 - accuracy: 0.9250 - val_loss: 0.2204 - val_accuracy: 0.9000 - 59ms/epoch - 5ms/step\n",
            "Epoch 109/150\n",
            "12/12 - 0s - loss: 0.2010 - accuracy: 0.9222 - val_loss: 0.2197 - val_accuracy: 0.9000 - 58ms/epoch - 5ms/step\n",
            "Epoch 110/150\n",
            "12/12 - 0s - loss: 0.1684 - accuracy: 0.9306 - val_loss: 0.2192 - val_accuracy: 0.9000 - 60ms/epoch - 5ms/step\n",
            "Epoch 111/150\n",
            "12/12 - 0s - loss: 0.1784 - accuracy: 0.9250 - val_loss: 0.2198 - val_accuracy: 0.9000 - 72ms/epoch - 6ms/step\n",
            "Epoch 112/150\n",
            "12/12 - 0s - loss: 0.1812 - accuracy: 0.9222 - val_loss: 0.2194 - val_accuracy: 0.9000 - 61ms/epoch - 5ms/step\n",
            "Epoch 113/150\n",
            "12/12 - 0s - loss: 0.1754 - accuracy: 0.9333 - val_loss: 0.2203 - val_accuracy: 0.9000 - 71ms/epoch - 6ms/step\n",
            "Epoch 114/150\n",
            "12/12 - 0s - loss: 0.1839 - accuracy: 0.9111 - val_loss: 0.2188 - val_accuracy: 0.9000 - 55ms/epoch - 5ms/step\n",
            "Epoch 115/150\n",
            "12/12 - 0s - loss: 0.1811 - accuracy: 0.9361 - val_loss: 0.2192 - val_accuracy: 0.9000 - 63ms/epoch - 5ms/step\n",
            "Epoch 116/150\n",
            "12/12 - 0s - loss: 0.1758 - accuracy: 0.9333 - val_loss: 0.2184 - val_accuracy: 0.9000 - 60ms/epoch - 5ms/step\n",
            "Epoch 117/150\n",
            "12/12 - 0s - loss: 0.1819 - accuracy: 0.9194 - val_loss: 0.2172 - val_accuracy: 0.9000 - 66ms/epoch - 5ms/step\n",
            "Epoch 118/150\n",
            "12/12 - 0s - loss: 0.1586 - accuracy: 0.9444 - val_loss: 0.2169 - val_accuracy: 0.9000 - 64ms/epoch - 5ms/step\n",
            "Epoch 119/150\n",
            "12/12 - 0s - loss: 0.1820 - accuracy: 0.9250 - val_loss: 0.2164 - val_accuracy: 0.9000 - 69ms/epoch - 6ms/step\n",
            "Epoch 120/150\n",
            "12/12 - 0s - loss: 0.1668 - accuracy: 0.9361 - val_loss: 0.2145 - val_accuracy: 0.9000 - 59ms/epoch - 5ms/step\n",
            "Epoch 121/150\n",
            "12/12 - 0s - loss: 0.1872 - accuracy: 0.9194 - val_loss: 0.2147 - val_accuracy: 0.9000 - 54ms/epoch - 5ms/step\n",
            "Epoch 122/150\n",
            "12/12 - 0s - loss: 0.1919 - accuracy: 0.9056 - val_loss: 0.2160 - val_accuracy: 0.9000 - 57ms/epoch - 5ms/step\n",
            "Epoch 123/150\n",
            "12/12 - 0s - loss: 0.1629 - accuracy: 0.9333 - val_loss: 0.2130 - val_accuracy: 0.9000 - 60ms/epoch - 5ms/step\n",
            "Epoch 124/150\n",
            "12/12 - 0s - loss: 0.1922 - accuracy: 0.9167 - val_loss: 0.2132 - val_accuracy: 0.9000 - 67ms/epoch - 6ms/step\n",
            "Epoch 125/150\n",
            "12/12 - 0s - loss: 0.1589 - accuracy: 0.9389 - val_loss: 0.2126 - val_accuracy: 0.9000 - 59ms/epoch - 5ms/step\n",
            "Epoch 126/150\n",
            "12/12 - 0s - loss: 0.1692 - accuracy: 0.9194 - val_loss: 0.2121 - val_accuracy: 0.9000 - 60ms/epoch - 5ms/step\n",
            "Epoch 127/150\n",
            "12/12 - 0s - loss: 0.1652 - accuracy: 0.9278 - val_loss: 0.2115 - val_accuracy: 0.9000 - 57ms/epoch - 5ms/step\n",
            "Epoch 128/150\n",
            "12/12 - 0s - loss: 0.1698 - accuracy: 0.9444 - val_loss: 0.2097 - val_accuracy: 0.9000 - 62ms/epoch - 5ms/step\n",
            "Epoch 129/150\n",
            "12/12 - 0s - loss: 0.1652 - accuracy: 0.9389 - val_loss: 0.2112 - val_accuracy: 0.9000 - 53ms/epoch - 4ms/step\n",
            "Epoch 130/150\n",
            "12/12 - 0s - loss: 0.1860 - accuracy: 0.9222 - val_loss: 0.2098 - val_accuracy: 0.9000 - 93ms/epoch - 8ms/step\n",
            "Epoch 131/150\n",
            "12/12 - 0s - loss: 0.1837 - accuracy: 0.9139 - val_loss: 0.2094 - val_accuracy: 0.9000 - 60ms/epoch - 5ms/step\n",
            "Epoch 132/150\n",
            "12/12 - 0s - loss: 0.1715 - accuracy: 0.9333 - val_loss: 0.2082 - val_accuracy: 0.9000 - 54ms/epoch - 4ms/step\n",
            "Epoch 133/150\n",
            "12/12 - 0s - loss: 0.1792 - accuracy: 0.9139 - val_loss: 0.2085 - val_accuracy: 0.9000 - 50ms/epoch - 4ms/step\n",
            "Epoch 134/150\n",
            "12/12 - 0s - loss: 0.1759 - accuracy: 0.9389 - val_loss: 0.2070 - val_accuracy: 0.9000 - 68ms/epoch - 6ms/step\n",
            "Epoch 135/150\n",
            "12/12 - 0s - loss: 0.1745 - accuracy: 0.9167 - val_loss: 0.2062 - val_accuracy: 0.8750 - 75ms/epoch - 6ms/step\n",
            "Epoch 136/150\n",
            "12/12 - 0s - loss: 0.1717 - accuracy: 0.9194 - val_loss: 0.2049 - val_accuracy: 0.9000 - 66ms/epoch - 6ms/step\n",
            "Epoch 137/150\n",
            "12/12 - 0s - loss: 0.1703 - accuracy: 0.9444 - val_loss: 0.2049 - val_accuracy: 0.9000 - 69ms/epoch - 6ms/step\n",
            "Epoch 138/150\n",
            "12/12 - 0s - loss: 0.1780 - accuracy: 0.9222 - val_loss: 0.2053 - val_accuracy: 0.9000 - 67ms/epoch - 6ms/step\n",
            "Epoch 139/150\n",
            "12/12 - 0s - loss: 0.1600 - accuracy: 0.9417 - val_loss: 0.2060 - val_accuracy: 0.9000 - 65ms/epoch - 5ms/step\n",
            "Epoch 140/150\n",
            "12/12 - 0s - loss: 0.1715 - accuracy: 0.9250 - val_loss: 0.2058 - val_accuracy: 0.9000 - 64ms/epoch - 5ms/step\n",
            "Epoch 141/150\n",
            "12/12 - 0s - loss: 0.1610 - accuracy: 0.9333 - val_loss: 0.2059 - val_accuracy: 0.9250 - 78ms/epoch - 6ms/step\n",
            "Epoch 142/150\n",
            "12/12 - 0s - loss: 0.1680 - accuracy: 0.9278 - val_loss: 0.2054 - val_accuracy: 0.9250 - 51ms/epoch - 4ms/step\n",
            "Epoch 143/150\n",
            "12/12 - 0s - loss: 0.1631 - accuracy: 0.9417 - val_loss: 0.2051 - val_accuracy: 0.9250 - 71ms/epoch - 6ms/step\n",
            "Epoch 144/150\n",
            "12/12 - 0s - loss: 0.1653 - accuracy: 0.9333 - val_loss: 0.2044 - val_accuracy: 0.9000 - 52ms/epoch - 4ms/step\n",
            "Epoch 145/150\n",
            "12/12 - 0s - loss: 0.1721 - accuracy: 0.9278 - val_loss: 0.2043 - val_accuracy: 0.9250 - 67ms/epoch - 6ms/step\n",
            "Epoch 146/150\n",
            "12/12 - 0s - loss: 0.1706 - accuracy: 0.9333 - val_loss: 0.2041 - val_accuracy: 0.9250 - 56ms/epoch - 5ms/step\n",
            "Epoch 147/150\n",
            "12/12 - 0s - loss: 0.1694 - accuracy: 0.9306 - val_loss: 0.2041 - val_accuracy: 0.9000 - 66ms/epoch - 6ms/step\n",
            "Epoch 148/150\n",
            "12/12 - 0s - loss: 0.1750 - accuracy: 0.9361 - val_loss: 0.2036 - val_accuracy: 0.9000 - 84ms/epoch - 7ms/step\n",
            "Epoch 149/150\n",
            "12/12 - 0s - loss: 0.1788 - accuracy: 0.9222 - val_loss: 0.2053 - val_accuracy: 0.9250 - 56ms/epoch - 5ms/step\n",
            "Epoch 150/150\n",
            "12/12 - 0s - loss: 0.1621 - accuracy: 0.9250 - val_loss: 0.2037 - val_accuracy: 0.9250 - 58ms/epoch - 5ms/step\n"
          ]
        }
      ]
    },
    {
      "cell_type": "markdown",
      "source": [
        "### Accuracy vs Epoch curve"
      ],
      "metadata": {
        "id": "Evpet4lGneQB"
      }
    },
    {
      "cell_type": "code",
      "source": [
        "plt.plot(history_1.history[\"accuracy\"])\n",
        "plt.plot(history_1.history[\"val_accuracy\"])\n",
        "plt.title(\"Accuracy vs Epoch\")\n",
        "plt.ylabel(\"Accuracy\")\n",
        "plt.xlabel(\"Epoch\")\n",
        "plt.legend([\"Train\", \"Validation\"], loc=\"lower right\")\n",
        "plt.show()"
      ],
      "metadata": {
        "colab": {
          "base_uri": "https://localhost:8080/",
          "height": 295
        },
        "id": "aP5Dz_-Rnb-O",
        "outputId": "583f7195-3a03-48b9-d3a3-04c43107b4e5"
      },
      "execution_count": 24,
      "outputs": [
        {
          "output_type": "display_data",
          "data": {
            "image/png": "[encoded data removed]",
            "text/plain": [
              "<Figure size 432x288 with 1 Axes>"
            ]
          },
          "metadata": {
            "needs_background": "light"
          }
        }
      ]
    },
    {
      "cell_type": "markdown",
      "source": [
        "**Observations:**\n",
        "\n",
        "- The training accuracy is fluctuating but overall it is increasing with the increase in epochs.\n",
        "- The validation accuracy is constant between ~20 to 100 epochs and it is fluctuating a bit post 100 epochs.\n",
        "- The model is giving good accuracy. After 150 epochs, the accuracy of the model on the training data is about 93.3% and the validation accuracy is 92.5%.\n",
        "- The validation accuracy is closer to the training accuracy. This indicates that the model is giving a generalized performance."
      ],
      "metadata": {
        "id": "l9lucJspoZfz"
      }
    },
    {
      "cell_type": "markdown",
      "source": [
        "Let's try to increase the model complexity by tuning some of the hyper-parameters mentioned earlier and check if we can improve the model performance. Out of all the options we have, let's try to change the number of hidden layers, the number of neurons in each hidden layer, the activation function in the hidden layer, the optimizer from **adamax** to **adam**. Also, we have observed that validation accuracy became constant after some epochs, let's try less number of epochs which would also reduce the computation time. "
      ],
      "metadata": {
        "id": "NYf3X9NkocYD"
      }
    },
    {
      "cell_type": "markdown",
      "source": [
        "First, we need to clear the previous model's history from the session. In Keras, we need special command to clear the model's history otherwise the previous model history remains in the backend.\n",
        "Also, let's fix the seed again after clearing the backend."
      ],
      "metadata": {
        "id": "GeoXTBfGofaT"
      }
    },
    {
      "cell_type": "code",
      "source": [
        "# clearing backend\n",
        "from tensorflow.keras import backend\n",
        "backend.clear_session()"
      ],
      "metadata": {
        "id": "FY_h2fNjoiQD"
      },
      "execution_count": 26,
      "outputs": []
    },
    {
      "cell_type": "code",
      "source": [
        "#Fixing the seed for random number generators\n",
        "np.random.seed(42)\n",
        "import random\n",
        "random.seed(42)\n",
        "tf.random.set_seed(42)"
      ],
      "metadata": {
        "id": "VVlEXbX3o67s"
      },
      "execution_count": 27,
      "outputs": []
    },
    {
      "cell_type": "code",
      "source": [
        "model_2 = Sequential()\n",
        "\n",
        "model_2.add(Dense(128, activation=\"tanh\", input_shape=(11,)))\n",
        "model_2.add(Dropout(0.1))\n",
        "model_2.add(Dense(64, activation=\"tanh\"))\n",
        "model_2.add(Dropout(0.1))\n",
        "model_2.add(Dense(32, activation=\"tanh\"))\n",
        "model_2.add(Dense(1, activation=\"sigmoid\"))\n"
      ],
      "metadata": {
        "id": "-TbEptWFo95d"
      },
      "execution_count": 29,
      "outputs": []
    },
    {
      "cell_type": "code",
      "source": [
        "model_2.compile(loss=\"binary_crossentropy\", optimizer=\"adam\", metrics=[\"accuracy\"])\n",
        "model_2.summary()"
      ],
      "metadata": {
        "colab": {
          "base_uri": "https://localhost:8080/"
        },
        "id": "KmTL4hyFpGag",
        "outputId": "c133bec0-e6da-48e3-f330-5924cfa43ed9"
      },
      "execution_count": 31,
      "outputs": [
        {
          "output_type": "stream",
          "name": "stdout",
          "text": [
            "Model: \"sequential\"\n",
            "_________________________________________________________________\n",
            " Layer (type)                Output Shape              Param #   \n",
            "=================================================================\n",
            " dense (Dense)               (None, 128)               1536      \n",
            "                                                                 \n",
            " dropout (Dropout)           (None, 128)               0         \n",
            "                                                                 \n",
            " dense_1 (Dense)             (None, 64)                8256      \n",
            "                                                                 \n",
            " dropout_1 (Dropout)         (None, 64)                0         \n",
            "                                                                 \n",
            " dense_2 (Dense)             (None, 32)                2080      \n",
            "                                                                 \n",
            " dense_3 (Dense)             (None, 1)                 33        \n",
            "                                                                 \n",
            "=================================================================\n",
            "Total params: 11,905\n",
            "Trainable params: 11,905\n",
            "Non-trainable params: 0\n",
            "_________________________________________________________________\n"
          ]
        }
      ]
    },
    {
      "cell_type": "code",
      "source": [
        "history_2 = model_2.fit(X_train_normalized, y_train, validation_split=0.1, epochs=100, verbose=2)"
      ],
      "metadata": {
        "colab": {
          "base_uri": "https://localhost:8080/"
        },
        "id": "lWD7TZbWp7vJ",
        "outputId": "8d55c438-4364-4d1f-9a51-0b6b7b399c46"
      },
      "execution_count": 32,
      "outputs": [
        {
          "output_type": "stream",
          "name": "stdout",
          "text": [
            "Epoch 1/100\n",
            "12/12 - 1s - loss: 0.5916 - accuracy: 0.7250 - val_loss: 0.5040 - val_accuracy: 0.8250 - 1s/epoch - 119ms/step\n",
            "Epoch 2/100\n",
            "12/12 - 0s - loss: 0.4264 - accuracy: 0.8722 - val_loss: 0.4089 - val_accuracy: 0.8250 - 90ms/epoch - 7ms/step\n",
            "Epoch 3/100\n",
            "12/12 - 0s - loss: 0.3343 - accuracy: 0.8722 - val_loss: 0.3762 - val_accuracy: 0.8250 - 91ms/epoch - 8ms/step\n",
            "Epoch 4/100\n",
            "12/12 - 0s - loss: 0.3048 - accuracy: 0.8722 - val_loss: 0.3629 - val_accuracy: 0.8250 - 73ms/epoch - 6ms/step\n",
            "Epoch 5/100\n",
            "12/12 - 0s - loss: 0.2985 - accuracy: 0.8833 - val_loss: 0.3474 - val_accuracy: 0.8250 - 104ms/epoch - 9ms/step\n",
            "Epoch 6/100\n",
            "12/12 - 0s - loss: 0.2980 - accuracy: 0.8778 - val_loss: 0.3412 - val_accuracy: 0.8250 - 103ms/epoch - 9ms/step\n",
            "Epoch 7/100\n",
            "12/12 - 0s - loss: 0.2856 - accuracy: 0.8806 - val_loss: 0.3342 - val_accuracy: 0.8250 - 83ms/epoch - 7ms/step\n",
            "Epoch 8/100\n",
            "12/12 - 0s - loss: 0.2641 - accuracy: 0.8917 - val_loss: 0.3219 - val_accuracy: 0.8250 - 70ms/epoch - 6ms/step\n",
            "Epoch 9/100\n",
            "12/12 - 0s - loss: 0.2584 - accuracy: 0.8889 - val_loss: 0.3181 - val_accuracy: 0.8250 - 64ms/epoch - 5ms/step\n",
            "Epoch 10/100\n",
            "12/12 - 0s - loss: 0.2487 - accuracy: 0.8889 - val_loss: 0.3061 - val_accuracy: 0.8250 - 65ms/epoch - 5ms/step\n",
            "Epoch 11/100\n",
            "12/12 - 0s - loss: 0.2369 - accuracy: 0.8972 - val_loss: 0.2930 - val_accuracy: 0.8250 - 66ms/epoch - 5ms/step\n",
            "Epoch 12/100\n",
            "12/12 - 0s - loss: 0.2402 - accuracy: 0.8944 - val_loss: 0.2917 - val_accuracy: 0.8500 - 79ms/epoch - 7ms/step\n",
            "Epoch 13/100\n",
            "12/12 - 0s - loss: 0.2246 - accuracy: 0.9056 - val_loss: 0.2691 - val_accuracy: 0.8250 - 61ms/epoch - 5ms/step\n",
            "Epoch 14/100\n",
            "12/12 - 0s - loss: 0.2222 - accuracy: 0.9111 - val_loss: 0.2670 - val_accuracy: 0.8500 - 76ms/epoch - 6ms/step\n",
            "Epoch 15/100\n",
            "12/12 - 0s - loss: 0.2189 - accuracy: 0.9083 - val_loss: 0.2535 - val_accuracy: 0.8750 - 70ms/epoch - 6ms/step\n",
            "Epoch 16/100\n",
            "12/12 - 0s - loss: 0.2097 - accuracy: 0.9139 - val_loss: 0.2537 - val_accuracy: 0.8500 - 76ms/epoch - 6ms/step\n",
            "Epoch 17/100\n",
            "12/12 - 0s - loss: 0.2114 - accuracy: 0.9139 - val_loss: 0.2472 - val_accuracy: 0.9000 - 69ms/epoch - 6ms/step\n",
            "Epoch 18/100\n",
            "12/12 - 0s - loss: 0.2059 - accuracy: 0.9111 - val_loss: 0.2411 - val_accuracy: 0.8750 - 83ms/epoch - 7ms/step\n",
            "Epoch 19/100\n",
            "12/12 - 0s - loss: 0.1958 - accuracy: 0.9194 - val_loss: 0.2331 - val_accuracy: 0.9000 - 78ms/epoch - 7ms/step\n",
            "Epoch 20/100\n",
            "12/12 - 0s - loss: 0.2049 - accuracy: 0.9250 - val_loss: 0.2343 - val_accuracy: 0.9000 - 96ms/epoch - 8ms/step\n",
            "Epoch 21/100\n",
            "12/12 - 0s - loss: 0.1960 - accuracy: 0.9056 - val_loss: 0.2352 - val_accuracy: 0.8750 - 88ms/epoch - 7ms/step\n",
            "Epoch 22/100\n",
            "12/12 - 0s - loss: 0.1899 - accuracy: 0.9361 - val_loss: 0.2166 - val_accuracy: 0.9000 - 118ms/epoch - 10ms/step\n",
            "Epoch 23/100\n",
            "12/12 - 0s - loss: 0.1846 - accuracy: 0.9361 - val_loss: 0.2178 - val_accuracy: 0.9000 - 117ms/epoch - 10ms/step\n",
            "Epoch 24/100\n",
            "12/12 - 0s - loss: 0.1787 - accuracy: 0.9250 - val_loss: 0.2213 - val_accuracy: 0.8750 - 123ms/epoch - 10ms/step\n",
            "Epoch 25/100\n",
            "12/12 - 0s - loss: 0.1794 - accuracy: 0.9278 - val_loss: 0.2072 - val_accuracy: 0.9000 - 100ms/epoch - 8ms/step\n",
            "Epoch 26/100\n",
            "12/12 - 0s - loss: 0.1810 - accuracy: 0.9278 - val_loss: 0.2023 - val_accuracy: 0.9000 - 79ms/epoch - 7ms/step\n",
            "Epoch 27/100\n",
            "12/12 - 0s - loss: 0.1796 - accuracy: 0.9222 - val_loss: 0.2025 - val_accuracy: 0.9250 - 94ms/epoch - 8ms/step\n",
            "Epoch 28/100\n",
            "12/12 - 0s - loss: 0.1918 - accuracy: 0.9111 - val_loss: 0.2040 - val_accuracy: 0.9000 - 99ms/epoch - 8ms/step\n",
            "Epoch 29/100\n",
            "12/12 - 0s - loss: 0.1713 - accuracy: 0.9389 - val_loss: 0.2327 - val_accuracy: 0.8250 - 70ms/epoch - 6ms/step\n",
            "Epoch 30/100\n",
            "12/12 - 0s - loss: 0.1813 - accuracy: 0.9139 - val_loss: 0.2725 - val_accuracy: 0.8750 - 78ms/epoch - 6ms/step\n",
            "Epoch 31/100\n",
            "12/12 - 0s - loss: 0.2084 - accuracy: 0.9222 - val_loss: 0.3488 - val_accuracy: 0.8500 - 63ms/epoch - 5ms/step\n",
            "Epoch 32/100\n",
            "12/12 - 0s - loss: 0.2699 - accuracy: 0.8750 - val_loss: 0.2264 - val_accuracy: 0.9250 - 65ms/epoch - 5ms/step\n",
            "Epoch 33/100\n",
            "12/12 - 0s - loss: 0.1748 - accuracy: 0.9278 - val_loss: 0.2260 - val_accuracy: 0.8500 - 69ms/epoch - 6ms/step\n",
            "Epoch 34/100\n",
            "12/12 - 0s - loss: 0.1696 - accuracy: 0.9333 - val_loss: 0.2058 - val_accuracy: 0.9000 - 76ms/epoch - 6ms/step\n",
            "Epoch 35/100\n",
            "12/12 - 0s - loss: 0.1734 - accuracy: 0.9278 - val_loss: 0.2116 - val_accuracy: 0.8500 - 65ms/epoch - 5ms/step\n",
            "Epoch 36/100\n",
            "12/12 - 0s - loss: 0.1764 - accuracy: 0.9306 - val_loss: 0.1961 - val_accuracy: 0.9250 - 102ms/epoch - 8ms/step\n",
            "Epoch 37/100\n",
            "12/12 - 0s - loss: 0.1636 - accuracy: 0.9389 - val_loss: 0.2026 - val_accuracy: 0.9000 - 76ms/epoch - 6ms/step\n",
            "Epoch 38/100\n",
            "12/12 - 0s - loss: 0.1726 - accuracy: 0.9306 - val_loss: 0.1996 - val_accuracy: 0.8500 - 71ms/epoch - 6ms/step\n",
            "Epoch 39/100\n",
            "12/12 - 0s - loss: 0.1835 - accuracy: 0.9306 - val_loss: 0.1907 - val_accuracy: 0.9000 - 81ms/epoch - 7ms/step\n",
            "Epoch 40/100\n",
            "12/12 - 0s - loss: 0.1620 - accuracy: 0.9278 - val_loss: 0.1942 - val_accuracy: 0.8500 - 69ms/epoch - 6ms/step\n",
            "Epoch 41/100\n",
            "12/12 - 0s - loss: 0.1723 - accuracy: 0.9278 - val_loss: 0.1932 - val_accuracy: 0.9000 - 74ms/epoch - 6ms/step\n",
            "Epoch 42/100\n",
            "12/12 - 0s - loss: 0.1593 - accuracy: 0.9444 - val_loss: 0.1938 - val_accuracy: 0.9000 - 71ms/epoch - 6ms/step\n",
            "Epoch 43/100\n",
            "12/12 - 0s - loss: 0.1680 - accuracy: 0.9306 - val_loss: 0.2174 - val_accuracy: 0.8750 - 64ms/epoch - 5ms/step\n",
            "Epoch 44/100\n",
            "12/12 - 0s - loss: 0.1879 - accuracy: 0.9111 - val_loss: 0.2218 - val_accuracy: 0.9000 - 63ms/epoch - 5ms/step\n",
            "Epoch 45/100\n",
            "12/12 - 0s - loss: 0.1727 - accuracy: 0.9278 - val_loss: 0.2415 - val_accuracy: 0.8500 - 59ms/epoch - 5ms/step\n",
            "Epoch 46/100\n",
            "12/12 - 0s - loss: 0.1656 - accuracy: 0.9389 - val_loss: 0.2073 - val_accuracy: 0.9250 - 66ms/epoch - 5ms/step\n",
            "Epoch 47/100\n",
            "12/12 - 0s - loss: 0.1843 - accuracy: 0.9250 - val_loss: 0.1940 - val_accuracy: 0.9250 - 89ms/epoch - 7ms/step\n",
            "Epoch 48/100\n",
            "12/12 - 0s - loss: 0.1608 - accuracy: 0.9333 - val_loss: 0.2000 - val_accuracy: 0.8750 - 73ms/epoch - 6ms/step\n",
            "Epoch 49/100\n",
            "12/12 - 0s - loss: 0.1707 - accuracy: 0.9278 - val_loss: 0.2128 - val_accuracy: 0.8500 - 75ms/epoch - 6ms/step\n",
            "Epoch 50/100\n",
            "12/12 - 0s - loss: 0.1737 - accuracy: 0.9306 - val_loss: 0.1947 - val_accuracy: 0.9250 - 81ms/epoch - 7ms/step\n",
            "Epoch 51/100\n",
            "12/12 - 0s - loss: 0.1637 - accuracy: 0.9278 - val_loss: 0.2078 - val_accuracy: 0.8500 - 69ms/epoch - 6ms/step\n",
            "Epoch 52/100\n",
            "12/12 - 0s - loss: 0.1657 - accuracy: 0.9194 - val_loss: 0.1997 - val_accuracy: 0.9250 - 74ms/epoch - 6ms/step\n",
            "Epoch 53/100\n",
            "12/12 - 0s - loss: 0.1773 - accuracy: 0.9250 - val_loss: 0.2278 - val_accuracy: 0.8500 - 68ms/epoch - 6ms/step\n",
            "Epoch 54/100\n",
            "12/12 - 0s - loss: 0.1853 - accuracy: 0.9194 - val_loss: 0.2156 - val_accuracy: 0.9000 - 74ms/epoch - 6ms/step\n",
            "Epoch 55/100\n",
            "12/12 - 0s - loss: 0.1589 - accuracy: 0.9417 - val_loss: 0.2252 - val_accuracy: 0.8500 - 84ms/epoch - 7ms/step\n",
            "Epoch 56/100\n",
            "12/12 - 0s - loss: 0.1717 - accuracy: 0.9278 - val_loss: 0.2040 - val_accuracy: 0.9000 - 77ms/epoch - 6ms/step\n",
            "Epoch 57/100\n",
            "12/12 - 0s - loss: 0.1611 - accuracy: 0.9278 - val_loss: 0.1966 - val_accuracy: 0.8750 - 80ms/epoch - 7ms/step\n",
            "Epoch 58/100\n",
            "12/12 - 0s - loss: 0.1612 - accuracy: 0.9389 - val_loss: 0.1940 - val_accuracy: 0.8500 - 79ms/epoch - 7ms/step\n",
            "Epoch 59/100\n",
            "12/12 - 0s - loss: 0.1623 - accuracy: 0.9389 - val_loss: 0.1794 - val_accuracy: 0.8750 - 75ms/epoch - 6ms/step\n",
            "Epoch 60/100\n",
            "12/12 - 0s - loss: 0.1531 - accuracy: 0.9472 - val_loss: 0.1814 - val_accuracy: 0.8750 - 87ms/epoch - 7ms/step\n",
            "Epoch 61/100\n",
            "12/12 - 0s - loss: 0.1496 - accuracy: 0.9417 - val_loss: 0.1886 - val_accuracy: 0.8750 - 85ms/epoch - 7ms/step\n",
            "Epoch 62/100\n",
            "12/12 - 0s - loss: 0.1623 - accuracy: 0.9306 - val_loss: 0.1921 - val_accuracy: 0.8750 - 75ms/epoch - 6ms/step\n",
            "Epoch 63/100\n",
            "12/12 - 0s - loss: 0.1577 - accuracy: 0.9444 - val_loss: 0.1883 - val_accuracy: 0.8750 - 71ms/epoch - 6ms/step\n",
            "Epoch 64/100\n",
            "12/12 - 0s - loss: 0.1572 - accuracy: 0.9472 - val_loss: 0.1907 - val_accuracy: 0.8750 - 90ms/epoch - 8ms/step\n",
            "Epoch 65/100\n",
            "12/12 - 0s - loss: 0.1618 - accuracy: 0.9306 - val_loss: 0.2119 - val_accuracy: 0.8750 - 79ms/epoch - 7ms/step\n",
            "Epoch 66/100\n",
            "12/12 - 0s - loss: 0.1586 - accuracy: 0.9306 - val_loss: 0.1926 - val_accuracy: 0.8750 - 73ms/epoch - 6ms/step\n",
            "Epoch 67/100\n",
            "12/12 - 0s - loss: 0.1576 - accuracy: 0.9361 - val_loss: 0.1881 - val_accuracy: 0.8750 - 89ms/epoch - 7ms/step\n",
            "Epoch 68/100\n",
            "12/12 - 0s - loss: 0.1613 - accuracy: 0.9361 - val_loss: 0.1840 - val_accuracy: 0.9000 - 95ms/epoch - 8ms/step\n",
            "Epoch 69/100\n",
            "12/12 - 0s - loss: 0.1617 - accuracy: 0.9250 - val_loss: 0.1869 - val_accuracy: 0.9250 - 69ms/epoch - 6ms/step\n",
            "Epoch 70/100\n",
            "12/12 - 0s - loss: 0.1755 - accuracy: 0.9306 - val_loss: 0.1884 - val_accuracy: 0.8750 - 75ms/epoch - 6ms/step\n",
            "Epoch 71/100\n",
            "12/12 - 0s - loss: 0.1554 - accuracy: 0.9389 - val_loss: 0.1967 - val_accuracy: 0.9000 - 77ms/epoch - 6ms/step\n",
            "Epoch 72/100\n",
            "12/12 - 0s - loss: 0.1656 - accuracy: 0.9417 - val_loss: 0.1935 - val_accuracy: 0.8750 - 90ms/epoch - 8ms/step\n",
            "Epoch 73/100\n",
            "12/12 - 0s - loss: 0.1785 - accuracy: 0.9194 - val_loss: 0.1920 - val_accuracy: 0.9250 - 87ms/epoch - 7ms/step\n",
            "Epoch 74/100\n",
            "12/12 - 0s - loss: 0.1645 - accuracy: 0.9278 - val_loss: 0.2048 - val_accuracy: 0.8750 - 90ms/epoch - 8ms/step\n",
            "Epoch 75/100\n",
            "12/12 - 0s - loss: 0.1586 - accuracy: 0.9389 - val_loss: 0.1853 - val_accuracy: 0.9000 - 79ms/epoch - 7ms/step\n",
            "Epoch 76/100\n",
            "12/12 - 0s - loss: 0.1511 - accuracy: 0.9417 - val_loss: 0.1856 - val_accuracy: 0.8750 - 107ms/epoch - 9ms/step\n",
            "Epoch 77/100\n",
            "12/12 - 0s - loss: 0.1564 - accuracy: 0.9333 - val_loss: 0.2094 - val_accuracy: 0.8750 - 74ms/epoch - 6ms/step\n",
            "Epoch 78/100\n",
            "12/12 - 0s - loss: 0.1608 - accuracy: 0.9417 - val_loss: 0.1980 - val_accuracy: 0.8750 - 85ms/epoch - 7ms/step\n",
            "Epoch 79/100\n",
            "12/12 - 0s - loss: 0.1647 - accuracy: 0.9278 - val_loss: 0.1956 - val_accuracy: 0.8500 - 83ms/epoch - 7ms/step\n",
            "Epoch 80/100\n",
            "12/12 - 0s - loss: 0.1579 - accuracy: 0.9333 - val_loss: 0.2075 - val_accuracy: 0.8750 - 87ms/epoch - 7ms/step\n",
            "Epoch 81/100\n",
            "12/12 - 0s - loss: 0.1545 - accuracy: 0.9361 - val_loss: 0.1861 - val_accuracy: 0.9000 - 84ms/epoch - 7ms/step\n",
            "Epoch 82/100\n",
            "12/12 - 0s - loss: 0.1525 - accuracy: 0.9250 - val_loss: 0.1875 - val_accuracy: 0.9000 - 73ms/epoch - 6ms/step\n",
            "Epoch 83/100\n",
            "12/12 - 0s - loss: 0.1570 - accuracy: 0.9333 - val_loss: 0.1901 - val_accuracy: 0.8750 - 84ms/epoch - 7ms/step\n",
            "Epoch 84/100\n",
            "12/12 - 0s - loss: 0.1475 - accuracy: 0.9444 - val_loss: 0.1893 - val_accuracy: 0.8750 - 114ms/epoch - 9ms/step\n",
            "Epoch 85/100\n",
            "12/12 - 0s - loss: 0.1492 - accuracy: 0.9417 - val_loss: 0.1927 - val_accuracy: 0.8750 - 89ms/epoch - 7ms/step\n",
            "Epoch 86/100\n",
            "12/12 - 0s - loss: 0.1492 - accuracy: 0.9250 - val_loss: 0.1965 - val_accuracy: 0.8750 - 70ms/epoch - 6ms/step\n",
            "Epoch 87/100\n",
            "12/12 - 0s - loss: 0.1594 - accuracy: 0.9361 - val_loss: 0.1885 - val_accuracy: 0.8750 - 109ms/epoch - 9ms/step\n",
            "Epoch 88/100\n",
            "12/12 - 0s - loss: 0.1496 - accuracy: 0.9472 - val_loss: 0.2016 - val_accuracy: 0.9000 - 75ms/epoch - 6ms/step\n",
            "Epoch 89/100\n",
            "12/12 - 0s - loss: 0.1552 - accuracy: 0.9389 - val_loss: 0.1834 - val_accuracy: 0.9000 - 72ms/epoch - 6ms/step\n",
            "Epoch 90/100\n",
            "12/12 - 0s - loss: 0.1447 - accuracy: 0.9472 - val_loss: 0.1794 - val_accuracy: 0.9000 - 76ms/epoch - 6ms/step\n",
            "Epoch 91/100\n",
            "12/12 - 0s - loss: 0.1508 - accuracy: 0.9333 - val_loss: 0.1798 - val_accuracy: 0.8750 - 76ms/epoch - 6ms/step\n",
            "Epoch 92/100\n",
            "12/12 - 0s - loss: 0.1604 - accuracy: 0.9222 - val_loss: 0.2329 - val_accuracy: 0.8750 - 88ms/epoch - 7ms/step\n",
            "Epoch 93/100\n",
            "12/12 - 0s - loss: 0.1671 - accuracy: 0.9278 - val_loss: 0.1937 - val_accuracy: 0.9000 - 70ms/epoch - 6ms/step\n",
            "Epoch 94/100\n",
            "12/12 - 0s - loss: 0.1463 - accuracy: 0.9389 - val_loss: 0.2015 - val_accuracy: 0.9250 - 79ms/epoch - 7ms/step\n",
            "Epoch 95/100\n",
            "12/12 - 0s - loss: 0.1546 - accuracy: 0.9389 - val_loss: 0.1838 - val_accuracy: 0.9000 - 101ms/epoch - 8ms/step\n",
            "Epoch 96/100\n",
            "12/12 - 0s - loss: 0.1573 - accuracy: 0.9444 - val_loss: 0.1868 - val_accuracy: 0.8750 - 88ms/epoch - 7ms/step\n",
            "Epoch 97/100\n",
            "12/12 - 0s - loss: 0.1543 - accuracy: 0.9306 - val_loss: 0.1923 - val_accuracy: 0.8500 - 90ms/epoch - 8ms/step\n",
            "Epoch 98/100\n",
            "12/12 - 0s - loss: 0.1451 - accuracy: 0.9472 - val_loss: 0.2042 - val_accuracy: 0.9000 - 106ms/epoch - 9ms/step\n",
            "Epoch 99/100\n",
            "12/12 - 0s - loss: 0.1533 - accuracy: 0.9389 - val_loss: 0.1979 - val_accuracy: 0.9000 - 102ms/epoch - 9ms/step\n",
            "Epoch 100/100\n",
            "12/12 - 0s - loss: 0.1554 - accuracy: 0.9472 - val_loss: 0.2006 - val_accuracy: 0.9250 - 77ms/epoch - 6ms/step\n"
          ]
        }
      ]
    },
    {
      "cell_type": "code",
      "source": [
        "plt.plot(history_2.history['accuracy'])\n",
        "plt.plot(history_2.history['val_accuracy'])\n",
        "plt.title('Accuracy vs Epochs')\n",
        "plt.ylabel('Accuracy')\n",
        "plt.xlabel('Epoch')\n",
        "plt.legend(['Train', 'Validation'], loc='lower right')\n",
        "plt.show()"
      ],
      "metadata": {
        "colab": {
          "base_uri": "https://localhost:8080/",
          "height": 295
        },
        "id": "S4V7pYZvqV4c",
        "outputId": "e6cad8b5-989e-4ba6-a0de-595cbc54b694"
      },
      "execution_count": 33,
      "outputs": [
        {
          "output_type": "display_data",
          "data": {
            "image/png": "[encoded data removed]",
            "text/plain": [
              "<Figure size 432x288 with 1 Axes>"
            ]
          },
          "metadata": {
            "needs_background": "light"
          }
        }
      ]
    },
    {
      "cell_type": "markdown",
      "source": [
        "**Observations** \n",
        "\n",
        "- We are able to improve the model performance on the training data - accuracy has increased by only ~0.3% but the validation accuracy is has increased by 2.5%.\n",
        "- The validation accuracy is higher than the training accuracy. This might due to the small size of the validation set and the model is able is to correctly classify the data points in the validation set."
      ],
      "metadata": {
        "id": "QO6ofU0-qjOz"
      }
    },
    {
      "cell_type": "markdown",
      "source": [
        "Let's try to further tune some of the hyper-parameters and check if we can improve the model performance.\n",
        "\n",
        "We will use learning_rate = 0.001 for the optimizer in the training process and increase the model complexity by further increasing the number of layers, the number of nodes in each layer, and the epochs."
      ],
      "metadata": {
        "id": "24_ZOUbFqrSq"
      }
    },
    {
      "cell_type": "code",
      "source": [
        "backend.clear_session()"
      ],
      "metadata": {
        "id": "XIyFWJjmqmTd"
      },
      "execution_count": 34,
      "outputs": []
    },
    {
      "cell_type": "code",
      "source": [
        "#Fixing the seed for random number generators\n",
        "np.random.seed(42)\n",
        "import random\n",
        "random.seed(42)\n",
        "tf.random.set_seed(42)"
      ],
      "metadata": {
        "id": "zd-HzG6VqwQP"
      },
      "execution_count": 35,
      "outputs": []
    },
    {
      "cell_type": "code",
      "source": [
        "model_3 = Sequential()\n",
        "model_3.add(Dense(256, activation='tanh', input_shape=(11,)))\n",
        "model_3.add(Dropout(0.1))\n",
        "model_3.add(Dense(128, activation='tanh'))\n",
        "model_3.add(Dropout(0.1))\n",
        "model_3.add(Dense(64, activation='tanh'))\n",
        "model_3.add(Dropout(0.1))\n",
        "model_3.add(Dense(32, activation='tanh'))\n",
        "model_3.add(Dense(1, activation='sigmoid'))"
      ],
      "metadata": {
        "id": "ztGmfjl0qy41"
      },
      "execution_count": 36,
      "outputs": []
    },
    {
      "cell_type": "code",
      "source": [
        "model_3.compile(loss = 'binary_crossentropy', optimizer=tf.keras.optimizers.Adam(learning_rate=0.001), metrics=['accuracy'])\n",
        "model_3.summary()"
      ],
      "metadata": {
        "colab": {
          "base_uri": "https://localhost:8080/"
        },
        "id": "msuhvqELq31u",
        "outputId": "f4ebb024-595a-49ea-bbe4-b10db0cf1e18"
      },
      "execution_count": 37,
      "outputs": [
        {
          "output_type": "stream",
          "name": "stdout",
          "text": [
            "Model: \"sequential\"\n",
            "_________________________________________________________________\n",
            " Layer (type)                Output Shape              Param #   \n",
            "=================================================================\n",
            " dense (Dense)               (None, 256)               3072      \n",
            "                                                                 \n",
            " dropout (Dropout)           (None, 256)               0         \n",
            "                                                                 \n",
            " dense_1 (Dense)             (None, 128)               32896     \n",
            "                                                                 \n",
            " dropout_1 (Dropout)         (None, 128)               0         \n",
            "                                                                 \n",
            " dense_2 (Dense)             (None, 64)                8256      \n",
            "                                                                 \n",
            " dropout_2 (Dropout)         (None, 64)                0         \n",
            "                                                                 \n",
            " dense_3 (Dense)             (None, 32)                2080      \n",
            "                                                                 \n",
            " dense_4 (Dense)             (None, 1)                 33        \n",
            "                                                                 \n",
            "=================================================================\n",
            "Total params: 46,337\n",
            "Trainable params: 46,337\n",
            "Non-trainable params: 0\n",
            "_________________________________________________________________\n"
          ]
        }
      ]
    },
    {
      "cell_type": "code",
      "source": [
        "history_3 = model_3.fit(X_train_normalized, y_train, validation_split=0.1, epochs=200, verbose=2)"
      ],
      "metadata": {
        "colab": {
          "base_uri": "https://localhost:8080/"
        },
        "id": "K6-cM3jKrAL8",
        "outputId": "7ff20d2b-f99f-4679-a0e4-267b9e30c118"
      },
      "execution_count": 38,
      "outputs": [
        {
          "output_type": "stream",
          "name": "stdout",
          "text": [
            "Epoch 1/200\n",
            "12/12 - 3s - loss: 0.5336 - accuracy: 0.7722 - val_loss: 0.4339 - val_accuracy: 0.8250 - 3s/epoch - 232ms/step\n",
            "Epoch 2/200\n",
            "12/12 - 0s - loss: 0.3691 - accuracy: 0.8417 - val_loss: 0.4582 - val_accuracy: 0.7750 - 54ms/epoch - 5ms/step\n",
            "Epoch 3/200\n",
            "12/12 - 0s - loss: 0.3130 - accuracy: 0.8778 - val_loss: 0.3858 - val_accuracy: 0.8250 - 57ms/epoch - 5ms/step\n",
            "Epoch 4/200\n",
            "12/12 - 0s - loss: 0.3041 - accuracy: 0.8722 - val_loss: 0.3446 - val_accuracy: 0.8250 - 54ms/epoch - 4ms/step\n",
            "Epoch 5/200\n",
            "12/12 - 0s - loss: 0.2836 - accuracy: 0.8889 - val_loss: 0.3212 - val_accuracy: 0.8250 - 63ms/epoch - 5ms/step\n",
            "Epoch 6/200\n",
            "12/12 - 0s - loss: 0.2808 - accuracy: 0.8861 - val_loss: 0.3266 - val_accuracy: 0.8500 - 73ms/epoch - 6ms/step\n",
            "Epoch 7/200\n",
            "12/12 - 0s - loss: 0.2783 - accuracy: 0.8861 - val_loss: 0.3221 - val_accuracy: 0.8500 - 61ms/epoch - 5ms/step\n",
            "Epoch 8/200\n",
            "12/12 - 0s - loss: 0.2461 - accuracy: 0.8889 - val_loss: 0.2918 - val_accuracy: 0.8500 - 51ms/epoch - 4ms/step\n",
            "Epoch 9/200\n",
            "12/12 - 0s - loss: 0.2289 - accuracy: 0.9028 - val_loss: 0.2771 - val_accuracy: 0.8500 - 65ms/epoch - 5ms/step\n",
            "Epoch 10/200\n",
            "12/12 - 0s - loss: 0.2259 - accuracy: 0.9028 - val_loss: 0.2693 - val_accuracy: 0.8500 - 56ms/epoch - 5ms/step\n",
            "Epoch 11/200\n",
            "12/12 - 0s - loss: 0.2121 - accuracy: 0.9194 - val_loss: 0.2366 - val_accuracy: 0.9000 - 67ms/epoch - 6ms/step\n",
            "Epoch 12/200\n",
            "12/12 - 0s - loss: 0.1871 - accuracy: 0.9222 - val_loss: 0.2183 - val_accuracy: 0.9000 - 54ms/epoch - 5ms/step\n",
            "Epoch 13/200\n",
            "12/12 - 0s - loss: 0.1880 - accuracy: 0.9222 - val_loss: 0.2132 - val_accuracy: 0.9000 - 68ms/epoch - 6ms/step\n",
            "Epoch 14/200\n",
            "12/12 - 0s - loss: 0.1792 - accuracy: 0.9194 - val_loss: 0.2186 - val_accuracy: 0.9250 - 57ms/epoch - 5ms/step\n",
            "Epoch 15/200\n",
            "12/12 - 0s - loss: 0.1936 - accuracy: 0.9111 - val_loss: 0.2111 - val_accuracy: 0.9250 - 65ms/epoch - 5ms/step\n",
            "Epoch 16/200\n",
            "12/12 - 0s - loss: 0.1982 - accuracy: 0.9278 - val_loss: 0.2659 - val_accuracy: 0.8750 - 58ms/epoch - 5ms/step\n",
            "Epoch 17/200\n",
            "12/12 - 0s - loss: 0.2028 - accuracy: 0.9278 - val_loss: 0.2055 - val_accuracy: 0.9000 - 60ms/epoch - 5ms/step\n",
            "Epoch 18/200\n",
            "12/12 - 0s - loss: 0.1860 - accuracy: 0.9361 - val_loss: 0.2362 - val_accuracy: 0.8750 - 62ms/epoch - 5ms/step\n",
            "Epoch 19/200\n",
            "12/12 - 0s - loss: 0.1738 - accuracy: 0.9389 - val_loss: 0.2072 - val_accuracy: 0.9250 - 65ms/epoch - 5ms/step\n",
            "Epoch 20/200\n",
            "12/12 - 0s - loss: 0.1727 - accuracy: 0.9278 - val_loss: 0.2428 - val_accuracy: 0.8500 - 53ms/epoch - 4ms/step\n",
            "Epoch 21/200\n",
            "12/12 - 0s - loss: 0.2058 - accuracy: 0.9139 - val_loss: 0.2212 - val_accuracy: 0.9000 - 57ms/epoch - 5ms/step\n",
            "Epoch 22/200\n",
            "12/12 - 0s - loss: 0.2031 - accuracy: 0.9083 - val_loss: 0.2157 - val_accuracy: 0.9250 - 64ms/epoch - 5ms/step\n",
            "Epoch 23/200\n",
            "12/12 - 0s - loss: 0.1738 - accuracy: 0.9278 - val_loss: 0.2004 - val_accuracy: 0.9250 - 62ms/epoch - 5ms/step\n",
            "Epoch 24/200\n",
            "12/12 - 0s - loss: 0.1604 - accuracy: 0.9361 - val_loss: 0.1986 - val_accuracy: 0.8500 - 63ms/epoch - 5ms/step\n",
            "Epoch 25/200\n",
            "12/12 - 0s - loss: 0.1712 - accuracy: 0.9361 - val_loss: 0.1872 - val_accuracy: 0.9500 - 51ms/epoch - 4ms/step\n",
            "Epoch 26/200\n",
            "12/12 - 0s - loss: 0.1837 - accuracy: 0.9222 - val_loss: 0.1978 - val_accuracy: 0.9500 - 68ms/epoch - 6ms/step\n",
            "Epoch 27/200\n",
            "12/12 - 0s - loss: 0.1848 - accuracy: 0.9278 - val_loss: 0.1984 - val_accuracy: 0.8750 - 68ms/epoch - 6ms/step\n",
            "Epoch 28/200\n",
            "12/12 - 0s - loss: 0.1678 - accuracy: 0.9250 - val_loss: 0.1956 - val_accuracy: 0.9250 - 63ms/epoch - 5ms/step\n",
            "Epoch 29/200\n",
            "12/12 - 0s - loss: 0.1614 - accuracy: 0.9500 - val_loss: 0.2201 - val_accuracy: 0.8750 - 51ms/epoch - 4ms/step\n",
            "Epoch 30/200\n",
            "12/12 - 0s - loss: 0.1564 - accuracy: 0.9333 - val_loss: 0.3229 - val_accuracy: 0.8750 - 68ms/epoch - 6ms/step\n",
            "Epoch 31/200\n",
            "12/12 - 0s - loss: 0.2036 - accuracy: 0.9306 - val_loss: 0.3317 - val_accuracy: 0.8250 - 63ms/epoch - 5ms/step\n",
            "Epoch 32/200\n",
            "12/12 - 0s - loss: 0.2140 - accuracy: 0.8972 - val_loss: 0.2141 - val_accuracy: 0.9500 - 58ms/epoch - 5ms/step\n",
            "Epoch 33/200\n",
            "12/12 - 0s - loss: 0.1666 - accuracy: 0.9361 - val_loss: 0.2030 - val_accuracy: 0.8750 - 59ms/epoch - 5ms/step\n",
            "Epoch 34/200\n",
            "12/12 - 0s - loss: 0.1517 - accuracy: 0.9278 - val_loss: 0.1958 - val_accuracy: 0.9250 - 59ms/epoch - 5ms/step\n",
            "Epoch 35/200\n",
            "12/12 - 0s - loss: 0.1652 - accuracy: 0.9333 - val_loss: 0.1973 - val_accuracy: 0.8500 - 60ms/epoch - 5ms/step\n",
            "Epoch 36/200\n",
            "12/12 - 0s - loss: 0.1564 - accuracy: 0.9417 - val_loss: 0.1956 - val_accuracy: 0.8750 - 60ms/epoch - 5ms/step\n",
            "Epoch 37/200\n",
            "12/12 - 0s - loss: 0.1542 - accuracy: 0.9333 - val_loss: 0.1989 - val_accuracy: 0.9250 - 60ms/epoch - 5ms/step\n",
            "Epoch 38/200\n",
            "12/12 - 0s - loss: 0.1587 - accuracy: 0.9361 - val_loss: 0.2142 - val_accuracy: 0.9000 - 68ms/epoch - 6ms/step\n",
            "Epoch 39/200\n",
            "12/12 - 0s - loss: 0.1716 - accuracy: 0.9389 - val_loss: 0.2072 - val_accuracy: 0.8500 - 54ms/epoch - 5ms/step\n",
            "Epoch 40/200\n",
            "12/12 - 0s - loss: 0.1647 - accuracy: 0.9361 - val_loss: 0.2055 - val_accuracy: 0.9000 - 57ms/epoch - 5ms/step\n",
            "Epoch 41/200\n",
            "12/12 - 0s - loss: 0.1587 - accuracy: 0.9306 - val_loss: 0.2083 - val_accuracy: 0.8750 - 57ms/epoch - 5ms/step\n",
            "Epoch 42/200\n",
            "12/12 - 0s - loss: 0.1540 - accuracy: 0.9417 - val_loss: 0.1945 - val_accuracy: 0.9000 - 58ms/epoch - 5ms/step\n",
            "Epoch 43/200\n",
            "12/12 - 0s - loss: 0.1448 - accuracy: 0.9417 - val_loss: 0.2449 - val_accuracy: 0.8750 - 71ms/epoch - 6ms/step\n",
            "Epoch 44/200\n",
            "12/12 - 0s - loss: 0.1744 - accuracy: 0.9222 - val_loss: 0.2378 - val_accuracy: 0.9000 - 64ms/epoch - 5ms/step\n",
            "Epoch 45/200\n",
            "12/12 - 0s - loss: 0.1595 - accuracy: 0.9333 - val_loss: 0.2212 - val_accuracy: 0.8750 - 60ms/epoch - 5ms/step\n",
            "Epoch 46/200\n",
            "12/12 - 0s - loss: 0.1402 - accuracy: 0.9472 - val_loss: 0.2068 - val_accuracy: 0.9250 - 59ms/epoch - 5ms/step\n",
            "Epoch 47/200\n",
            "12/12 - 0s - loss: 0.1458 - accuracy: 0.9472 - val_loss: 0.2234 - val_accuracy: 0.9250 - 59ms/epoch - 5ms/step\n",
            "Epoch 48/200\n",
            "12/12 - 0s - loss: 0.1589 - accuracy: 0.9389 - val_loss: 0.2242 - val_accuracy: 0.8750 - 62ms/epoch - 5ms/step\n",
            "Epoch 49/200\n",
            "12/12 - 0s - loss: 0.1678 - accuracy: 0.9194 - val_loss: 0.2101 - val_accuracy: 0.8500 - 56ms/epoch - 5ms/step\n",
            "Epoch 50/200\n",
            "12/12 - 0s - loss: 0.1452 - accuracy: 0.9333 - val_loss: 0.2038 - val_accuracy: 0.9000 - 64ms/epoch - 5ms/step\n",
            "Epoch 51/200\n",
            "12/12 - 0s - loss: 0.1536 - accuracy: 0.9306 - val_loss: 0.2161 - val_accuracy: 0.9250 - 68ms/epoch - 6ms/step\n",
            "Epoch 52/200\n",
            "12/12 - 0s - loss: 0.1487 - accuracy: 0.9417 - val_loss: 0.2208 - val_accuracy: 0.9250 - 73ms/epoch - 6ms/step\n",
            "Epoch 53/200\n",
            "12/12 - 0s - loss: 0.1465 - accuracy: 0.9417 - val_loss: 0.2205 - val_accuracy: 0.9000 - 57ms/epoch - 5ms/step\n",
            "Epoch 54/200\n",
            "12/12 - 0s - loss: 0.1321 - accuracy: 0.9389 - val_loss: 0.2180 - val_accuracy: 0.8500 - 51ms/epoch - 4ms/step\n",
            "Epoch 55/200\n",
            "12/12 - 0s - loss: 0.1509 - accuracy: 0.9361 - val_loss: 0.1999 - val_accuracy: 0.9000 - 54ms/epoch - 5ms/step\n",
            "Epoch 56/200\n",
            "12/12 - 0s - loss: 0.1502 - accuracy: 0.9417 - val_loss: 0.2295 - val_accuracy: 0.9250 - 70ms/epoch - 6ms/step\n",
            "Epoch 57/200\n",
            "12/12 - 0s - loss: 0.1504 - accuracy: 0.9417 - val_loss: 0.2042 - val_accuracy: 0.8750 - 57ms/epoch - 5ms/step\n",
            "Epoch 58/200\n",
            "12/12 - 0s - loss: 0.1515 - accuracy: 0.9472 - val_loss: 0.2269 - val_accuracy: 0.8750 - 65ms/epoch - 5ms/step\n",
            "Epoch 59/200\n",
            "12/12 - 0s - loss: 0.1418 - accuracy: 0.9361 - val_loss: 0.2158 - val_accuracy: 0.8750 - 57ms/epoch - 5ms/step\n",
            "Epoch 60/200\n",
            "12/12 - 0s - loss: 0.1394 - accuracy: 0.9500 - val_loss: 0.2205 - val_accuracy: 0.8750 - 60ms/epoch - 5ms/step\n",
            "Epoch 61/200\n",
            "12/12 - 0s - loss: 0.1487 - accuracy: 0.9500 - val_loss: 0.2214 - val_accuracy: 0.8750 - 58ms/epoch - 5ms/step\n",
            "Epoch 62/200\n",
            "12/12 - 0s - loss: 0.1326 - accuracy: 0.9500 - val_loss: 0.2190 - val_accuracy: 0.8500 - 73ms/epoch - 6ms/step\n",
            "Epoch 63/200\n",
            "12/12 - 0s - loss: 0.1271 - accuracy: 0.9500 - val_loss: 0.2117 - val_accuracy: 0.8500 - 61ms/epoch - 5ms/step\n",
            "Epoch 64/200\n",
            "12/12 - 0s - loss: 0.1245 - accuracy: 0.9472 - val_loss: 0.2084 - val_accuracy: 0.9000 - 64ms/epoch - 5ms/step\n",
            "Epoch 65/200\n",
            "12/12 - 0s - loss: 0.1350 - accuracy: 0.9333 - val_loss: 0.2344 - val_accuracy: 0.9000 - 57ms/epoch - 5ms/step\n",
            "Epoch 66/200\n",
            "12/12 - 0s - loss: 0.1553 - accuracy: 0.9417 - val_loss: 0.1952 - val_accuracy: 0.8750 - 63ms/epoch - 5ms/step\n",
            "Epoch 67/200\n",
            "12/12 - 0s - loss: 0.1373 - accuracy: 0.9389 - val_loss: 0.2066 - val_accuracy: 0.8750 - 68ms/epoch - 6ms/step\n",
            "Epoch 68/200\n",
            "12/12 - 0s - loss: 0.1259 - accuracy: 0.9472 - val_loss: 0.1976 - val_accuracy: 0.8500 - 57ms/epoch - 5ms/step\n",
            "Epoch 69/200\n",
            "12/12 - 0s - loss: 0.1242 - accuracy: 0.9528 - val_loss: 0.1973 - val_accuracy: 0.8750 - 59ms/epoch - 5ms/step\n",
            "Epoch 70/200\n",
            "12/12 - 0s - loss: 0.1557 - accuracy: 0.9250 - val_loss: 0.2267 - val_accuracy: 0.8500 - 58ms/epoch - 5ms/step\n",
            "Epoch 71/200\n",
            "12/12 - 0s - loss: 0.1310 - accuracy: 0.9472 - val_loss: 0.2167 - val_accuracy: 0.8500 - 59ms/epoch - 5ms/step\n",
            "Epoch 72/200\n",
            "12/12 - 0s - loss: 0.1311 - accuracy: 0.9417 - val_loss: 0.2455 - val_accuracy: 0.9250 - 61ms/epoch - 5ms/step\n",
            "Epoch 73/200\n",
            "12/12 - 0s - loss: 0.1567 - accuracy: 0.9333 - val_loss: 0.2556 - val_accuracy: 0.9250 - 75ms/epoch - 6ms/step\n",
            "Epoch 74/200\n",
            "12/12 - 0s - loss: 0.1435 - accuracy: 0.9167 - val_loss: 0.2460 - val_accuracy: 0.9250 - 60ms/epoch - 5ms/step\n",
            "Epoch 75/200\n",
            "12/12 - 0s - loss: 0.1377 - accuracy: 0.9278 - val_loss: 0.2216 - val_accuracy: 0.8500 - 62ms/epoch - 5ms/step\n",
            "Epoch 76/200\n",
            "12/12 - 0s - loss: 0.1269 - accuracy: 0.9528 - val_loss: 0.1964 - val_accuracy: 0.8750 - 58ms/epoch - 5ms/step\n",
            "Epoch 77/200\n",
            "12/12 - 0s - loss: 0.1177 - accuracy: 0.9444 - val_loss: 0.2138 - val_accuracy: 0.8500 - 60ms/epoch - 5ms/step\n",
            "Epoch 78/200\n",
            "12/12 - 0s - loss: 0.1294 - accuracy: 0.9528 - val_loss: 0.2062 - val_accuracy: 0.8750 - 66ms/epoch - 5ms/step\n",
            "Epoch 79/200\n",
            "12/12 - 0s - loss: 0.1494 - accuracy: 0.9306 - val_loss: 0.2622 - val_accuracy: 0.8000 - 64ms/epoch - 5ms/step\n",
            "Epoch 80/200\n",
            "12/12 - 0s - loss: 0.1435 - accuracy: 0.9333 - val_loss: 0.2496 - val_accuracy: 0.9000 - 59ms/epoch - 5ms/step\n",
            "Epoch 81/200\n",
            "12/12 - 0s - loss: 0.1301 - accuracy: 0.9444 - val_loss: 0.2183 - val_accuracy: 0.8500 - 62ms/epoch - 5ms/step\n",
            "Epoch 82/200\n",
            "12/12 - 0s - loss: 0.1277 - accuracy: 0.9306 - val_loss: 0.2018 - val_accuracy: 0.8750 - 63ms/epoch - 5ms/step\n",
            "Epoch 83/200\n",
            "12/12 - 0s - loss: 0.1259 - accuracy: 0.9500 - val_loss: 0.2042 - val_accuracy: 0.8750 - 59ms/epoch - 5ms/step\n",
            "Epoch 84/200\n",
            "12/12 - 0s - loss: 0.1229 - accuracy: 0.9417 - val_loss: 0.2066 - val_accuracy: 0.8750 - 64ms/epoch - 5ms/step\n",
            "Epoch 85/200\n",
            "12/12 - 0s - loss: 0.1201 - accuracy: 0.9472 - val_loss: 0.2249 - val_accuracy: 0.8750 - 60ms/epoch - 5ms/step\n",
            "Epoch 86/200\n",
            "12/12 - 0s - loss: 0.1165 - accuracy: 0.9528 - val_loss: 0.2041 - val_accuracy: 0.8750 - 63ms/epoch - 5ms/step\n",
            "Epoch 87/200\n",
            "12/12 - 0s - loss: 0.1150 - accuracy: 0.9528 - val_loss: 0.2086 - val_accuracy: 0.8750 - 62ms/epoch - 5ms/step\n",
            "Epoch 88/200\n",
            "12/12 - 0s - loss: 0.1178 - accuracy: 0.9500 - val_loss: 0.2045 - val_accuracy: 0.8750 - 61ms/epoch - 5ms/step\n",
            "Epoch 89/200\n",
            "12/12 - 0s - loss: 0.1183 - accuracy: 0.9417 - val_loss: 0.2237 - val_accuracy: 0.8500 - 67ms/epoch - 6ms/step\n",
            "Epoch 90/200\n",
            "12/12 - 0s - loss: 0.1355 - accuracy: 0.9444 - val_loss: 0.2682 - val_accuracy: 0.8500 - 61ms/epoch - 5ms/step\n",
            "Epoch 91/200\n",
            "12/12 - 0s - loss: 0.1316 - accuracy: 0.9444 - val_loss: 0.2169 - val_accuracy: 0.8750 - 64ms/epoch - 5ms/step\n",
            "Epoch 92/200\n",
            "12/12 - 0s - loss: 0.1193 - accuracy: 0.9389 - val_loss: 0.2287 - val_accuracy: 0.8750 - 78ms/epoch - 6ms/step\n",
            "Epoch 93/200\n",
            "12/12 - 0s - loss: 0.1342 - accuracy: 0.9417 - val_loss: 0.2333 - val_accuracy: 0.8750 - 62ms/epoch - 5ms/step\n",
            "Epoch 94/200\n",
            "12/12 - 0s - loss: 0.1224 - accuracy: 0.9472 - val_loss: 0.2001 - val_accuracy: 0.8500 - 60ms/epoch - 5ms/step\n",
            "Epoch 95/200\n",
            "12/12 - 0s - loss: 0.1317 - accuracy: 0.9333 - val_loss: 0.2557 - val_accuracy: 0.8250 - 53ms/epoch - 4ms/step\n",
            "Epoch 96/200\n",
            "12/12 - 0s - loss: 0.1274 - accuracy: 0.9444 - val_loss: 0.2209 - val_accuracy: 0.9000 - 68ms/epoch - 6ms/step\n",
            "Epoch 97/200\n",
            "12/12 - 0s - loss: 0.1217 - accuracy: 0.9500 - val_loss: 0.2251 - val_accuracy: 0.8500 - 60ms/epoch - 5ms/step\n",
            "Epoch 98/200\n",
            "12/12 - 0s - loss: 0.1220 - accuracy: 0.9472 - val_loss: 0.2119 - val_accuracy: 0.8500 - 59ms/epoch - 5ms/step\n",
            "Epoch 99/200\n",
            "12/12 - 0s - loss: 0.1231 - accuracy: 0.9417 - val_loss: 0.2210 - val_accuracy: 0.8750 - 56ms/epoch - 5ms/step\n",
            "Epoch 100/200\n",
            "12/12 - 0s - loss: 0.1204 - accuracy: 0.9278 - val_loss: 0.2618 - val_accuracy: 0.9000 - 60ms/epoch - 5ms/step\n",
            "Epoch 101/200\n",
            "12/12 - 0s - loss: 0.1223 - accuracy: 0.9333 - val_loss: 0.2340 - val_accuracy: 0.8500 - 65ms/epoch - 5ms/step\n",
            "Epoch 102/200\n",
            "12/12 - 0s - loss: 0.1204 - accuracy: 0.9472 - val_loss: 0.2450 - val_accuracy: 0.8500 - 61ms/epoch - 5ms/step\n",
            "Epoch 103/200\n",
            "12/12 - 0s - loss: 0.1405 - accuracy: 0.9417 - val_loss: 0.1998 - val_accuracy: 0.9250 - 64ms/epoch - 5ms/step\n",
            "Epoch 104/200\n",
            "12/12 - 0s - loss: 0.1222 - accuracy: 0.9556 - val_loss: 0.2329 - val_accuracy: 0.8500 - 75ms/epoch - 6ms/step\n",
            "Epoch 105/200\n",
            "12/12 - 0s - loss: 0.1221 - accuracy: 0.9583 - val_loss: 0.2387 - val_accuracy: 0.8500 - 62ms/epoch - 5ms/step\n",
            "Epoch 106/200\n",
            "12/12 - 0s - loss: 0.1249 - accuracy: 0.9361 - val_loss: 0.2124 - val_accuracy: 0.8750 - 56ms/epoch - 5ms/step\n",
            "Epoch 107/200\n",
            "12/12 - 0s - loss: 0.1182 - accuracy: 0.9472 - val_loss: 0.2125 - val_accuracy: 0.8750 - 58ms/epoch - 5ms/step\n",
            "Epoch 108/200\n",
            "12/12 - 0s - loss: 0.1068 - accuracy: 0.9583 - val_loss: 0.2110 - val_accuracy: 0.8750 - 64ms/epoch - 5ms/step\n",
            "Epoch 109/200\n",
            "12/12 - 0s - loss: 0.1031 - accuracy: 0.9528 - val_loss: 0.2179 - val_accuracy: 0.8750 - 64ms/epoch - 5ms/step\n",
            "Epoch 110/200\n",
            "12/12 - 0s - loss: 0.1178 - accuracy: 0.9528 - val_loss: 0.2239 - val_accuracy: 0.8500 - 61ms/epoch - 5ms/step\n",
            "Epoch 111/200\n",
            "12/12 - 0s - loss: 0.1120 - accuracy: 0.9472 - val_loss: 0.2189 - val_accuracy: 0.8250 - 51ms/epoch - 4ms/step\n",
            "Epoch 112/200\n",
            "12/12 - 0s - loss: 0.1056 - accuracy: 0.9583 - val_loss: 0.1926 - val_accuracy: 0.9000 - 58ms/epoch - 5ms/step\n",
            "Epoch 113/200\n",
            "12/12 - 0s - loss: 0.1125 - accuracy: 0.9500 - val_loss: 0.2233 - val_accuracy: 0.8750 - 59ms/epoch - 5ms/step\n",
            "Epoch 114/200\n",
            "12/12 - 0s - loss: 0.1157 - accuracy: 0.9472 - val_loss: 0.2134 - val_accuracy: 0.9000 - 59ms/epoch - 5ms/step\n",
            "Epoch 115/200\n",
            "12/12 - 0s - loss: 0.1333 - accuracy: 0.9417 - val_loss: 0.2276 - val_accuracy: 0.8750 - 67ms/epoch - 6ms/step\n",
            "Epoch 116/200\n",
            "12/12 - 0s - loss: 0.1089 - accuracy: 0.9556 - val_loss: 0.2401 - val_accuracy: 0.8500 - 57ms/epoch - 5ms/step\n",
            "Epoch 117/200\n",
            "12/12 - 0s - loss: 0.1111 - accuracy: 0.9583 - val_loss: 0.2374 - val_accuracy: 0.8250 - 59ms/epoch - 5ms/step\n",
            "Epoch 118/200\n",
            "12/12 - 0s - loss: 0.1070 - accuracy: 0.9500 - val_loss: 0.2394 - val_accuracy: 0.8500 - 66ms/epoch - 5ms/step\n",
            "Epoch 119/200\n",
            "12/12 - 0s - loss: 0.1048 - accuracy: 0.9528 - val_loss: 0.2397 - val_accuracy: 0.9000 - 69ms/epoch - 6ms/step\n",
            "Epoch 120/200\n",
            "12/12 - 0s - loss: 0.1029 - accuracy: 0.9611 - val_loss: 0.2391 - val_accuracy: 0.8250 - 51ms/epoch - 4ms/step\n",
            "Epoch 121/200\n",
            "12/12 - 0s - loss: 0.0953 - accuracy: 0.9667 - val_loss: 0.2690 - val_accuracy: 0.8500 - 72ms/epoch - 6ms/step\n",
            "Epoch 122/200\n",
            "12/12 - 0s - loss: 0.1233 - accuracy: 0.9500 - val_loss: 0.2575 - val_accuracy: 0.9000 - 57ms/epoch - 5ms/step\n",
            "Epoch 123/200\n",
            "12/12 - 0s - loss: 0.1077 - accuracy: 0.9500 - val_loss: 0.2457 - val_accuracy: 0.9250 - 57ms/epoch - 5ms/step\n",
            "Epoch 124/200\n",
            "12/12 - 0s - loss: 0.1285 - accuracy: 0.9389 - val_loss: 0.2252 - val_accuracy: 0.8500 - 61ms/epoch - 5ms/step\n",
            "Epoch 125/200\n",
            "12/12 - 0s - loss: 0.1054 - accuracy: 0.9583 - val_loss: 0.2126 - val_accuracy: 0.8500 - 60ms/epoch - 5ms/step\n",
            "Epoch 126/200\n",
            "12/12 - 0s - loss: 0.1083 - accuracy: 0.9528 - val_loss: 0.2385 - val_accuracy: 0.8750 - 56ms/epoch - 5ms/step\n",
            "Epoch 127/200\n",
            "12/12 - 0s - loss: 0.0960 - accuracy: 0.9611 - val_loss: 0.2283 - val_accuracy: 0.8500 - 62ms/epoch - 5ms/step\n",
            "Epoch 128/200\n",
            "12/12 - 0s - loss: 0.1106 - accuracy: 0.9444 - val_loss: 0.2374 - val_accuracy: 0.8500 - 64ms/epoch - 5ms/step\n",
            "Epoch 129/200\n",
            "12/12 - 0s - loss: 0.0976 - accuracy: 0.9694 - val_loss: 0.2629 - val_accuracy: 0.8750 - 67ms/epoch - 6ms/step\n",
            "Epoch 130/200\n",
            "12/12 - 0s - loss: 0.1091 - accuracy: 0.9583 - val_loss: 0.2788 - val_accuracy: 0.8750 - 51ms/epoch - 4ms/step\n",
            "Epoch 131/200\n",
            "12/12 - 0s - loss: 0.1174 - accuracy: 0.9417 - val_loss: 0.2525 - val_accuracy: 0.9000 - 60ms/epoch - 5ms/step\n",
            "Epoch 132/200\n",
            "12/12 - 0s - loss: 0.1142 - accuracy: 0.9556 - val_loss: 0.2523 - val_accuracy: 0.8750 - 67ms/epoch - 6ms/step\n",
            "Epoch 133/200\n",
            "12/12 - 0s - loss: 0.1002 - accuracy: 0.9611 - val_loss: 0.2623 - val_accuracy: 0.9000 - 55ms/epoch - 5ms/step\n",
            "Epoch 134/200\n",
            "12/12 - 0s - loss: 0.1084 - accuracy: 0.9528 - val_loss: 0.2104 - val_accuracy: 0.8500 - 67ms/epoch - 6ms/step\n",
            "Epoch 135/200\n",
            "12/12 - 0s - loss: 0.1135 - accuracy: 0.9500 - val_loss: 0.2423 - val_accuracy: 0.8500 - 78ms/epoch - 7ms/step\n",
            "Epoch 136/200\n",
            "12/12 - 0s - loss: 0.1155 - accuracy: 0.9556 - val_loss: 0.2840 - val_accuracy: 0.8500 - 74ms/epoch - 6ms/step\n",
            "Epoch 137/200\n",
            "12/12 - 0s - loss: 0.1047 - accuracy: 0.9556 - val_loss: 0.2504 - val_accuracy: 0.8500 - 58ms/epoch - 5ms/step\n",
            "Epoch 138/200\n",
            "12/12 - 0s - loss: 0.0944 - accuracy: 0.9583 - val_loss: 0.2484 - val_accuracy: 0.8750 - 57ms/epoch - 5ms/step\n",
            "Epoch 139/200\n",
            "12/12 - 0s - loss: 0.1065 - accuracy: 0.9639 - val_loss: 0.2440 - val_accuracy: 0.8750 - 58ms/epoch - 5ms/step\n",
            "Epoch 140/200\n",
            "12/12 - 0s - loss: 0.0908 - accuracy: 0.9667 - val_loss: 0.2590 - val_accuracy: 0.8750 - 82ms/epoch - 7ms/step\n",
            "Epoch 141/200\n",
            "12/12 - 0s - loss: 0.1039 - accuracy: 0.9556 - val_loss: 0.2646 - val_accuracy: 0.8500 - 59ms/epoch - 5ms/step\n",
            "Epoch 142/200\n",
            "12/12 - 0s - loss: 0.0961 - accuracy: 0.9528 - val_loss: 0.2394 - val_accuracy: 0.8500 - 64ms/epoch - 5ms/step\n",
            "Epoch 143/200\n",
            "12/12 - 0s - loss: 0.0995 - accuracy: 0.9472 - val_loss: 0.2362 - val_accuracy: 0.8750 - 52ms/epoch - 4ms/step\n",
            "Epoch 144/200\n",
            "12/12 - 0s - loss: 0.1131 - accuracy: 0.9417 - val_loss: 0.2715 - val_accuracy: 0.8500 - 56ms/epoch - 5ms/step\n",
            "Epoch 145/200\n",
            "12/12 - 0s - loss: 0.0974 - accuracy: 0.9611 - val_loss: 0.2335 - val_accuracy: 0.8500 - 59ms/epoch - 5ms/step\n",
            "Epoch 146/200\n",
            "12/12 - 0s - loss: 0.1014 - accuracy: 0.9528 - val_loss: 0.2442 - val_accuracy: 0.8500 - 59ms/epoch - 5ms/step\n",
            "Epoch 147/200\n",
            "12/12 - 0s - loss: 0.1176 - accuracy: 0.9500 - val_loss: 0.2793 - val_accuracy: 0.8750 - 66ms/epoch - 6ms/step\n",
            "Epoch 148/200\n",
            "12/12 - 0s - loss: 0.1029 - accuracy: 0.9556 - val_loss: 0.2512 - val_accuracy: 0.8500 - 57ms/epoch - 5ms/step\n",
            "Epoch 149/200\n",
            "12/12 - 0s - loss: 0.1056 - accuracy: 0.9528 - val_loss: 0.2655 - val_accuracy: 0.8750 - 68ms/epoch - 6ms/step\n",
            "Epoch 150/200\n",
            "12/12 - 0s - loss: 0.0978 - accuracy: 0.9639 - val_loss: 0.2645 - val_accuracy: 0.8500 - 65ms/epoch - 5ms/step\n",
            "Epoch 151/200\n",
            "12/12 - 0s - loss: 0.1053 - accuracy: 0.9528 - val_loss: 0.2554 - val_accuracy: 0.8500 - 68ms/epoch - 6ms/step\n",
            "Epoch 152/200\n",
            "12/12 - 0s - loss: 0.0918 - accuracy: 0.9667 - val_loss: 0.2249 - val_accuracy: 0.8750 - 54ms/epoch - 5ms/step\n",
            "Epoch 153/200\n",
            "12/12 - 0s - loss: 0.1000 - accuracy: 0.9500 - val_loss: 0.2753 - val_accuracy: 0.8750 - 57ms/epoch - 5ms/step\n",
            "Epoch 154/200\n",
            "12/12 - 0s - loss: 0.0929 - accuracy: 0.9556 - val_loss: 0.2559 - val_accuracy: 0.8500 - 61ms/epoch - 5ms/step\n",
            "Epoch 155/200\n",
            "12/12 - 0s - loss: 0.0911 - accuracy: 0.9583 - val_loss: 0.2564 - val_accuracy: 0.8250 - 69ms/epoch - 6ms/step\n",
            "Epoch 156/200\n",
            "12/12 - 0s - loss: 0.0944 - accuracy: 0.9583 - val_loss: 0.2313 - val_accuracy: 0.8750 - 65ms/epoch - 5ms/step\n",
            "Epoch 157/200\n",
            "12/12 - 0s - loss: 0.0915 - accuracy: 0.9667 - val_loss: 0.2011 - val_accuracy: 0.8750 - 52ms/epoch - 4ms/step\n",
            "Epoch 158/200\n",
            "12/12 - 0s - loss: 0.0981 - accuracy: 0.9583 - val_loss: 0.2742 - val_accuracy: 0.8500 - 56ms/epoch - 5ms/step\n",
            "Epoch 159/200\n",
            "12/12 - 0s - loss: 0.0966 - accuracy: 0.9639 - val_loss: 0.2451 - val_accuracy: 0.8500 - 57ms/epoch - 5ms/step\n",
            "Epoch 160/200\n",
            "12/12 - 0s - loss: 0.0896 - accuracy: 0.9639 - val_loss: 0.2534 - val_accuracy: 0.8500 - 62ms/epoch - 5ms/step\n",
            "Epoch 161/200\n",
            "12/12 - 0s - loss: 0.0771 - accuracy: 0.9694 - val_loss: 0.2712 - val_accuracy: 0.8750 - 65ms/epoch - 5ms/step\n",
            "Epoch 162/200\n",
            "12/12 - 0s - loss: 0.1054 - accuracy: 0.9556 - val_loss: 0.3277 - val_accuracy: 0.8500 - 63ms/epoch - 5ms/step\n",
            "Epoch 163/200\n",
            "12/12 - 0s - loss: 0.0977 - accuracy: 0.9583 - val_loss: 0.2376 - val_accuracy: 0.8500 - 56ms/epoch - 5ms/step\n",
            "Epoch 164/200\n",
            "12/12 - 0s - loss: 0.0913 - accuracy: 0.9556 - val_loss: 0.2618 - val_accuracy: 0.8500 - 69ms/epoch - 6ms/step\n",
            "Epoch 165/200\n",
            "12/12 - 0s - loss: 0.0950 - accuracy: 0.9667 - val_loss: 0.2647 - val_accuracy: 0.8750 - 62ms/epoch - 5ms/step\n",
            "Epoch 166/200\n",
            "12/12 - 0s - loss: 0.1020 - accuracy: 0.9556 - val_loss: 0.3377 - val_accuracy: 0.9250 - 68ms/epoch - 6ms/step\n",
            "Epoch 167/200\n",
            "12/12 - 0s - loss: 0.0902 - accuracy: 0.9722 - val_loss: 0.2950 - val_accuracy: 0.9000 - 53ms/epoch - 4ms/step\n",
            "Epoch 168/200\n",
            "12/12 - 0s - loss: 0.1047 - accuracy: 0.9528 - val_loss: 0.3191 - val_accuracy: 0.9000 - 56ms/epoch - 5ms/step\n",
            "Epoch 169/200\n",
            "12/12 - 0s - loss: 0.0970 - accuracy: 0.9611 - val_loss: 0.2775 - val_accuracy: 0.8500 - 61ms/epoch - 5ms/step\n",
            "Epoch 170/200\n",
            "12/12 - 0s - loss: 0.0814 - accuracy: 0.9611 - val_loss: 0.2857 - val_accuracy: 0.8250 - 62ms/epoch - 5ms/step\n",
            "Epoch 171/200\n",
            "12/12 - 0s - loss: 0.0791 - accuracy: 0.9694 - val_loss: 0.2422 - val_accuracy: 0.8750 - 66ms/epoch - 6ms/step\n",
            "Epoch 172/200\n",
            "12/12 - 0s - loss: 0.0924 - accuracy: 0.9639 - val_loss: 0.2824 - val_accuracy: 0.8250 - 63ms/epoch - 5ms/step\n",
            "Epoch 173/200\n",
            "12/12 - 0s - loss: 0.0917 - accuracy: 0.9667 - val_loss: 0.2155 - val_accuracy: 0.8750 - 58ms/epoch - 5ms/step\n",
            "Epoch 174/200\n",
            "12/12 - 0s - loss: 0.1044 - accuracy: 0.9500 - val_loss: 0.3163 - val_accuracy: 0.8750 - 64ms/epoch - 5ms/step\n",
            "Epoch 175/200\n",
            "12/12 - 0s - loss: 0.1112 - accuracy: 0.9583 - val_loss: 0.3418 - val_accuracy: 0.8500 - 55ms/epoch - 5ms/step\n",
            "Epoch 176/200\n",
            "12/12 - 0s - loss: 0.1263 - accuracy: 0.9556 - val_loss: 0.2485 - val_accuracy: 0.8500 - 56ms/epoch - 5ms/step\n",
            "Epoch 177/200\n",
            "12/12 - 0s - loss: 0.0926 - accuracy: 0.9667 - val_loss: 0.2594 - val_accuracy: 0.8500 - 56ms/epoch - 5ms/step\n",
            "Epoch 178/200\n",
            "12/12 - 0s - loss: 0.0880 - accuracy: 0.9556 - val_loss: 0.2721 - val_accuracy: 0.8750 - 70ms/epoch - 6ms/step\n",
            "Epoch 179/200\n",
            "12/12 - 0s - loss: 0.0847 - accuracy: 0.9639 - val_loss: 0.2677 - val_accuracy: 0.8500 - 63ms/epoch - 5ms/step\n",
            "Epoch 180/200\n",
            "12/12 - 0s - loss: 0.0920 - accuracy: 0.9611 - val_loss: 0.2753 - val_accuracy: 0.8500 - 63ms/epoch - 5ms/step\n",
            "Epoch 181/200\n",
            "12/12 - 0s - loss: 0.0898 - accuracy: 0.9667 - val_loss: 0.2732 - val_accuracy: 0.8250 - 88ms/epoch - 7ms/step\n",
            "Epoch 182/200\n",
            "12/12 - 0s - loss: 0.0882 - accuracy: 0.9667 - val_loss: 0.2634 - val_accuracy: 0.8750 - 59ms/epoch - 5ms/step\n",
            "Epoch 183/200\n",
            "12/12 - 0s - loss: 0.0905 - accuracy: 0.9667 - val_loss: 0.2777 - val_accuracy: 0.8500 - 59ms/epoch - 5ms/step\n",
            "Epoch 184/200\n",
            "12/12 - 0s - loss: 0.1303 - accuracy: 0.9444 - val_loss: 0.2463 - val_accuracy: 0.8750 - 54ms/epoch - 5ms/step\n",
            "Epoch 185/200\n",
            "12/12 - 0s - loss: 0.1032 - accuracy: 0.9556 - val_loss: 0.2739 - val_accuracy: 0.8750 - 55ms/epoch - 5ms/step\n",
            "Epoch 186/200\n",
            "12/12 - 0s - loss: 0.0833 - accuracy: 0.9694 - val_loss: 0.2898 - val_accuracy: 0.8250 - 62ms/epoch - 5ms/step\n",
            "Epoch 187/200\n",
            "12/12 - 0s - loss: 0.0829 - accuracy: 0.9750 - val_loss: 0.2968 - val_accuracy: 0.8750 - 62ms/epoch - 5ms/step\n",
            "Epoch 188/200\n",
            "12/12 - 0s - loss: 0.0901 - accuracy: 0.9667 - val_loss: 0.2822 - val_accuracy: 0.8750 - 59ms/epoch - 5ms/step\n",
            "Epoch 189/200\n",
            "12/12 - 0s - loss: 0.0996 - accuracy: 0.9556 - val_loss: 0.2581 - val_accuracy: 0.8500 - 61ms/epoch - 5ms/step\n",
            "Epoch 190/200\n",
            "12/12 - 0s - loss: 0.0919 - accuracy: 0.9583 - val_loss: 0.3317 - val_accuracy: 0.8500 - 66ms/epoch - 6ms/step\n",
            "Epoch 191/200\n",
            "12/12 - 0s - loss: 0.0830 - accuracy: 0.9667 - val_loss: 0.3220 - val_accuracy: 0.8250 - 53ms/epoch - 4ms/step\n",
            "Epoch 192/200\n",
            "12/12 - 0s - loss: 0.0907 - accuracy: 0.9583 - val_loss: 0.2821 - val_accuracy: 0.8500 - 59ms/epoch - 5ms/step\n",
            "Epoch 193/200\n",
            "12/12 - 0s - loss: 0.0919 - accuracy: 0.9583 - val_loss: 0.2898 - val_accuracy: 0.8250 - 53ms/epoch - 4ms/step\n",
            "Epoch 194/200\n",
            "12/12 - 0s - loss: 0.0844 - accuracy: 0.9694 - val_loss: 0.2584 - val_accuracy: 0.8500 - 63ms/epoch - 5ms/step\n",
            "Epoch 195/200\n",
            "12/12 - 0s - loss: 0.0799 - accuracy: 0.9750 - val_loss: 0.2907 - val_accuracy: 0.8250 - 58ms/epoch - 5ms/step\n",
            "Epoch 196/200\n",
            "12/12 - 0s - loss: 0.0931 - accuracy: 0.9667 - val_loss: 0.3279 - val_accuracy: 0.8750 - 60ms/epoch - 5ms/step\n",
            "Epoch 197/200\n",
            "12/12 - 0s - loss: 0.0903 - accuracy: 0.9528 - val_loss: 0.2853 - val_accuracy: 0.8500 - 66ms/epoch - 6ms/step\n",
            "Epoch 198/200\n",
            "12/12 - 0s - loss: 0.0750 - accuracy: 0.9722 - val_loss: 0.3277 - val_accuracy: 0.8500 - 59ms/epoch - 5ms/step\n",
            "Epoch 199/200\n",
            "12/12 - 0s - loss: 0.0760 - accuracy: 0.9750 - val_loss: 0.3165 - val_accuracy: 0.8500 - 59ms/epoch - 5ms/step\n",
            "Epoch 200/200\n",
            "12/12 - 0s - loss: 0.0854 - accuracy: 0.9667 - val_loss: 0.3526 - val_accuracy: 0.8500 - 62ms/epoch - 5ms/step\n"
          ]
        }
      ]
    },
    {
      "cell_type": "code",
      "source": [
        "plt.plot(history_3.history['accuracy'])\n",
        "plt.plot(history_3.history['val_accuracy'])\n",
        "plt.title('Accuracy vs Epochs')\n",
        "plt.ylabel('Accuracy')\n",
        "plt.xlabel('Epoch')\n",
        "plt.legend(['Train', 'Validation'], loc='lower right')\n",
        "plt.show()"
      ],
      "metadata": {
        "colab": {
          "base_uri": "https://localhost:8080/",
          "height": 295
        },
        "id": "PThJzR3QrrZr",
        "outputId": "46e908d1-7562-4b7b-d050-823e30eee0d1"
      },
      "execution_count": 39,
      "outputs": [
        {
          "output_type": "display_data",
          "data": {
            "image/png": "[encoded data removed]",
            "text/plain": [
              "<Figure size 432x288 with 1 Axes>"
            ]
          },
          "metadata": {
            "needs_background": "light"
          }
        }
      ]
    },
    {
      "cell_type": "markdown",
      "source": [
        "### Model evaluation on test data"
      ],
      "metadata": {
        "id": "ojid0k6vr2e5"
      }
    },
    {
      "cell_type": "code",
      "source": [
        "model_3.evaluate(X_test_normalized, y_test, verbose = 1)\n",
        "test_pred = np.round(model_3.predict(X_test_normalized))"
      ],
      "metadata": {
        "colab": {
          "base_uri": "https://localhost:8080/"
        },
        "id": "YPeB-0Yor5Ha",
        "outputId": "e8a99c07-e1be-4296-878c-e4a439d6455a"
      },
      "execution_count": 40,
      "outputs": [
        {
          "output_type": "stream",
          "name": "stdout",
          "text": [
            "4/4 [==============================] - 0s 4ms/step - loss: 0.1969 - accuracy: 0.9200\n"
          ]
        }
      ]
    },
    {
      "cell_type": "code",
      "source": [
        "model_2.evaluate(X_test_normalized, y_test, verbose=1)\n",
        "test_pred = np.round(model_2.predict(X_test_normalized))"
      ],
      "metadata": {
        "colab": {
          "base_uri": "https://localhost:8080/"
        },
        "id": "gOB-uglHr6j0",
        "outputId": "52d98948-cb02-477f-cd61-0d92a0b2d09b"
      },
      "execution_count": 42,
      "outputs": [
        {
          "output_type": "stream",
          "name": "stdout",
          "text": [
            "4/4 [==============================] - 0s 5ms/step - loss: 0.1592 - accuracy: 0.9200\n"
          ]
        }
      ]
    },
    {
      "cell_type": "code",
      "source": [
        "model_1.evaluate(X_test_normalized, y_test, verbose=1)\n",
        "test_pred = np.round(model_1.predict(X_test_normalized))"
      ],
      "metadata": {
        "colab": {
          "base_uri": "https://localhost:8080/"
        },
        "id": "I9OkA8ipsKVM",
        "outputId": "f9b53d07-b50f-403e-c99b-5d0578bce9aa"
      },
      "execution_count": 43,
      "outputs": [
        {
          "output_type": "stream",
          "name": "stdout",
          "text": [
            "4/4 [==============================] - 0s 5ms/step - loss: 0.1844 - accuracy: 0.9300\n"
          ]
        }
      ]
    },
    {
      "cell_type": "markdown",
      "source": [
        "we can see that the first model outperformed models 2 and 3"
      ],
      "metadata": {
        "id": "NmpECihfsT7G"
      }
    },
    {
      "cell_type": "code",
      "source": [
        "from sklearn.metrics import classification_report\n",
        "from sklearn.metrics import confusion_matrix\n",
        "print(classification_report(y_test, test_pred))\n",
        "cm = confusion_matrix(y_test, test_pred)\n",
        "plt.figure(figsize=(8,5))\n",
        "sns.heatmap(cm, annot=True,  fmt='.0f', xticklabels=['Admitted', 'Not Admitted'], yticklabels=['Admitted', 'Not Admitted'])\n",
        "plt.ylabel('Actual')\n",
        "plt.xlabel('Predicted')\n",
        "plt.show()"
      ],
      "metadata": {
        "colab": {
          "base_uri": "https://localhost:8080/",
          "height": 487
        },
        "id": "wsXDgD18sOy2",
        "outputId": "0b19440d-6d7a-493e-81da-da5092ef4e5f"
      },
      "execution_count": 44,
      "outputs": [
        {
          "output_type": "stream",
          "name": "stdout",
          "text": [
            "              precision    recall  f1-score   support\n",
            "\n",
            "           0       0.96      0.94      0.95        72\n",
            "           1       0.86      0.89      0.88        28\n",
            "\n",
            "    accuracy                           0.93       100\n",
            "   macro avg       0.91      0.92      0.91       100\n",
            "weighted avg       0.93      0.93      0.93       100\n",
            "\n"
          ]
        },
        {
          "output_type": "display_data",
          "data": {
            "image/png": "[encoded data removed]",
            "text/plain": [
              "<Figure size 576x360 with 2 Axes>"
            ]
          },
          "metadata": {
            "needs_background": "light"
          }
        }
      ]
    },
    {
      "cell_type": "markdown",
      "source": [
        "- The confusion matrix shows that the model can identify the majority of students who would get admission and who won't get admission into UCLA.\n",
        "- The classification report shows that all the metrics except recall for class 1 are above 90% which is good."
      ],
      "metadata": {
        "id": "Vf1NmjAXsiFs"
      }
    },
    {
      "cell_type": "markdown",
      "source": [
        "## Conclusion\n",
        "In this case study, \n",
        "- We have learned how to build a feed-forward neural network for a classification task using Keras. \n",
        "- We have seen different hyper-parameters and how they affect the network. \n",
        "- We have also learned about the accuracy vs epoch curve and how it helps to understand the model is learning the weights. \n",
        "- We were able to get the test accuracy of 95% using the final model.\n",
        "- Interested learners can further analyze those 5 misclassified points and see if there is a pattern or if they were outliers that our model could not identify.\n",
        "- We would highly recommend you to play around with the other hyper-parameter and see for yourself how it affects your model."
      ],
      "metadata": {
        "id": "gWv2S3tMsmgg"
      }
    }
  ]
}