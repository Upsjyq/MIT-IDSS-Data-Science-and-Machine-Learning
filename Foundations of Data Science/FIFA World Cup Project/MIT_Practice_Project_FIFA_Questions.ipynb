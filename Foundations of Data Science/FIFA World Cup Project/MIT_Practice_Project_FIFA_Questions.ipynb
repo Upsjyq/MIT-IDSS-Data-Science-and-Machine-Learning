{
  "nbformat": 4,
  "nbformat_minor": 0,
  "metadata": {
    "kernelspec": {
      "display_name": "Python 3",
      "language": "python",
      "name": "python3"
    },
    "language_info": {
      "codemirror_mode": {
        "name": "ipython",
        "version": 3
      },
      "file_extension": ".py",
      "mimetype": "text/x-python",
      "name": "python",
      "nbconvert_exporter": "python",
      "pygments_lexer": "ipython3",
      "version": "3.8.3"
    },
    "toc": {
      "base_numbering": 1,
      "nav_menu": {},
      "number_sections": true,
      "sideBar": true,
      "skip_h1_title": false,
      "title_cell": "Table of Contents",
      "title_sidebar": "Contents",
      "toc_cell": false,
      "toc_position": {},
      "toc_section_display": true,
      "toc_window_display": false
    },
    "varInspector": {
      "cols": {
        "lenName": 16,
        "lenType": 16,
        "lenVar": 40
      },
      "kernels_config": {
        "python": {
          "delete_cmd_postfix": "",
          "delete_cmd_prefix": "del ",
          "library": "var_list.py",
          "varRefreshCmd": "print(var_dic_list())"
        },
        "r": {
          "delete_cmd_postfix": ") ",
          "delete_cmd_prefix": "rm(",
          "library": "var_list.r",
          "varRefreshCmd": "cat(var_dic_list()) "
        }
      },
      "types_to_exclude": [
        "module",
        "function",
        "builtin_function_or_method",
        "instance",
        "_Feature"
      ],
      "window_display": false
    },
    "colab": {
      "name": "MIT_Practice Project_FIFA_Questions.ipynb",
      "provenance": [],
      "collapsed_sections": [
        "UkTWFJrra843",
        "MqIbNbRUa844",
        "RJrf8hica846",
        "OUtbS2Tra848",
        "5wtVpNIXa849",
        "0iFOoCp2a84-",
        "h3jSHa6La84_",
        "enFtjSJna85A",
        "jol5TaVOa85B",
        "4h3OzGZ2a85C",
        "_zyO9hQra85D",
        "bgYP4sGra85G",
        "MYIDYxo7a85I",
        "8TBq53vxa85J"
      ]
    }
  },
  "cells": [
    {
      "cell_type": "markdown",
      "metadata": {
        "id": "lUDEOCM7a84o"
      },
      "source": [
        "# Practice Project - FIFA World Cup Analysis\n",
        "\n",
        "---------------\n",
        "## Context\n",
        "---------------\n",
        "\n",
        "The FIFA World Cup, often simply called the World Cup, is an international association football competition contested by the senior men's national teams of the members of the Fédération Internationale de Football Association (FIFA), the sport's global governing body. The championship is contested every four years since the inaugural tournament in 1930, except in 1942 and 1946 when it was not held because of the Second World War. It is one of the most prestigious and important trophies in the sport of football.\n",
        "\n",
        "-----------------\n",
        "## Objective\n",
        "-----------------\n",
        "\n",
        "A new football club named 'Brussels United FC' has just been inaugurated. As a member of this club, you have been assigned a task to carry analysis on the world cup data.\n",
        "\n",
        "-------------------------\n",
        "## Data Dictionary\n",
        "-------------------------\n",
        "\n",
        "The World Cups dataset has the following information about all the World Cups in history till 2014.\n",
        "\n",
        "**Year**: Year in which the world cup was held\n",
        "    \n",
        "**Country**: Country where the world cup was held\n",
        "    \n",
        "**Winner**: Team that won the world cup\n",
        "    \n",
        "**Runners-Up**: Team that came second\n",
        "    \n",
        "**Third**: Team that came third\n",
        "    \n",
        "**Fourth**: Team that came fourth\n",
        "    \n",
        "**GoalsScored**: Total goals scored in the world cup\n",
        "    \n",
        "**QualifiedTeams**: Number of teams that qualified for the world cup\n",
        "    \n",
        "**MatchesPlayed**: Total matches played in the world cup\n",
        "    \n",
        "**Attendance**: Total attendance in the world cup"
      ]
    },
    {
      "cell_type": "markdown",
      "metadata": {
        "id": "lOcqo43Sa84u"
      },
      "source": [
        "## Q 1: Import the necessary libraries and briefly explain the use of each library"
      ]
    },
    {
      "cell_type": "code",
      "metadata": {
        "id": "aHF8GqMHa84v"
      },
      "source": [
        "#remove _____ & write the appropriate library name\n",
        "\n",
        "import numpy as np\n",
        "import _____ as pd\n",
        "\n",
        "import seaborn as sns\n",
        "import _________ as plt\n",
        "%matplotlib inline"
      ],
      "execution_count": null,
      "outputs": []
    },
    {
      "cell_type": "markdown",
      "metadata": {
        "id": "gIHphZnSa84x"
      },
      "source": [
        "#### Write your Answer here: "
      ]
    },
    {
      "cell_type": "raw",
      "metadata": {
        "id": "QN_iGoBfa84x"
      },
      "source": [
        "Ans 1:"
      ]
    },
    {
      "cell_type": "markdown",
      "metadata": {
        "id": "FBcORmAMa84y"
      },
      "source": [
        "## Q 2: Which library can be used to read the WorldCups dataset? Read the dataset."
      ]
    },
    {
      "cell_type": "code",
      "metadata": {
        "id": "N7eubtOJa84y"
      },
      "source": [
        "#remove _____ & write the appropriate function name\n",
        "\n",
        "fifa=pd.__________(\"WorldCups.csv\")"
      ],
      "execution_count": null,
      "outputs": []
    },
    {
      "cell_type": "markdown",
      "metadata": {
        "id": "uuRjQGLqa84z"
      },
      "source": [
        "#### Write your Answer here: \n"
      ]
    },
    {
      "cell_type": "raw",
      "metadata": {
        "id": "cZe2siSia840"
      },
      "source": [
        "Ans 2:"
      ]
    },
    {
      "cell_type": "markdown",
      "metadata": {
        "id": "hkg0ON_ha840"
      },
      "source": [
        "## Q3. Show the last 10 records of the dataset. How many columns are there?"
      ]
    },
    {
      "cell_type": "code",
      "metadata": {
        "id": "6chWiU6ca841"
      },
      "source": [
        "#remove ______ and write the appropriate number in the function\n",
        "\n",
        "fifa.tail(___)"
      ],
      "execution_count": null,
      "outputs": []
    },
    {
      "cell_type": "markdown",
      "metadata": {
        "id": "sbuECXLea841"
      },
      "source": [
        "#### Write your Answer here: \n"
      ]
    },
    {
      "cell_type": "raw",
      "metadata": {
        "id": "bAH0mo7-a841"
      },
      "source": [
        "Ans 3:"
      ]
    },
    {
      "cell_type": "markdown",
      "metadata": {
        "id": "_XuES0E4a842"
      },
      "source": [
        "## Q4. Show the first 10 records of the dataset."
      ]
    },
    {
      "cell_type": "code",
      "metadata": {
        "id": "HIKjSxxqa842"
      },
      "source": [
        "#remove _____ & write the appropriate function name and the number of rows to get in the output\n",
        "\n",
        "fifa.____()"
      ],
      "execution_count": null,
      "outputs": []
    },
    {
      "cell_type": "markdown",
      "metadata": {
        "id": "fBftma6Xa843"
      },
      "source": [
        "## Q5. What do you understand by the dimension of the dataset? Find the dimension of the `fifa` dataframe."
      ]
    },
    {
      "cell_type": "code",
      "metadata": {
        "id": "L3YwD_dwa843"
      },
      "source": [
        "#remove _____ & write the appropriate function name\n",
        "\n",
        "fifa.___"
      ],
      "execution_count": null,
      "outputs": []
    },
    {
      "cell_type": "markdown",
      "metadata": {
        "id": "UkTWFJrra843"
      },
      "source": [
        "#### Write your Answer here: \n"
      ]
    },
    {
      "cell_type": "raw",
      "metadata": {
        "id": "mU3gN-2Ba844"
      },
      "source": [
        "Ans 5:"
      ]
    },
    {
      "cell_type": "markdown",
      "metadata": {
        "id": "PYfzdrdIa844"
      },
      "source": [
        "## Q6. What do you understand by the size of the dataset? Find the size of the `fifa` dataframe."
      ]
    },
    {
      "cell_type": "code",
      "metadata": {
        "id": "nl5Dpm_ba844"
      },
      "source": [
        "#remove _____ & write the appropriate function name\n",
        "\n",
        "fifa.______"
      ],
      "execution_count": null,
      "outputs": []
    },
    {
      "cell_type": "markdown",
      "metadata": {
        "id": "MqIbNbRUa844"
      },
      "source": [
        "#### Write your Answer here: \n"
      ]
    },
    {
      "cell_type": "raw",
      "metadata": {
        "id": "q_Uu6KUWa845"
      },
      "source": [
        "Ans 6:"
      ]
    },
    {
      "cell_type": "markdown",
      "metadata": {
        "id": "7O00AheAa845"
      },
      "source": [
        "## Q7. What are the data types of all the variables in the data set? \n",
        "**Hint: Use info() function to get all the information about the dataset.**"
      ]
    },
    {
      "cell_type": "code",
      "metadata": {
        "id": "t64NXCyGa846"
      },
      "source": [
        "#remove _____ & write the appropriate function name\n",
        "\n",
        "fifa.____"
      ],
      "execution_count": null,
      "outputs": []
    },
    {
      "cell_type": "markdown",
      "metadata": {
        "id": "RJrf8hica846"
      },
      "source": [
        "#### Write your Answer here: \n"
      ]
    },
    {
      "cell_type": "raw",
      "metadata": {
        "id": "Tk_bsCvpa847"
      },
      "source": [
        "Ans 7:"
      ]
    },
    {
      "cell_type": "markdown",
      "metadata": {
        "id": "S2ueDLl7a847"
      },
      "source": [
        "## Q8. What do you mean by missing values? Are there any missing values in the `fifa` dataframe?"
      ]
    },
    {
      "cell_type": "code",
      "metadata": {
        "id": "ennOi-2ja847"
      },
      "source": [
        "#remove _____ & write the appropriate function name\n",
        "\n",
        "fifa.______().values.any()"
      ],
      "execution_count": null,
      "outputs": []
    },
    {
      "cell_type": "markdown",
      "metadata": {
        "id": "OUtbS2Tra848"
      },
      "source": [
        "#### Write your Answer here: \n"
      ]
    },
    {
      "cell_type": "raw",
      "metadata": {
        "id": "R_Ia6-Mca848"
      },
      "source": [
        "Ans 8:"
      ]
    },
    {
      "cell_type": "markdown",
      "metadata": {
        "id": "vY-IWVQya848"
      },
      "source": [
        "## Q9. What does summary statistics of data represents? Find the summary statistics for the numerical variables (Dtype is int64) in the `fifa` data?"
      ]
    },
    {
      "cell_type": "code",
      "metadata": {
        "id": "y33wBsc-a849"
      },
      "source": [
        "#remove _____ & write the appropriate function name\n",
        "\n",
        "fifa._______()"
      ],
      "execution_count": null,
      "outputs": []
    },
    {
      "cell_type": "markdown",
      "metadata": {
        "id": "5wtVpNIXa849"
      },
      "source": [
        "#### Write your Answer here: \n"
      ]
    },
    {
      "cell_type": "raw",
      "metadata": {
        "id": "LLvhCU2Ba849"
      },
      "source": [
        "Ans 9:"
      ]
    },
    {
      "cell_type": "markdown",
      "metadata": {
        "id": "RIT9TDEna849"
      },
      "source": [
        "## Q 10. Plot the distribution plot for the variable 'MatchesPlayed'. Write detailed observations from the plot."
      ]
    },
    {
      "cell_type": "code",
      "metadata": {
        "id": "XInFJc4Sa84-"
      },
      "source": [
        "#remove _____ & write the appropriate library name\n",
        "\n",
        "___.distplot(fifa['MatchesPlayed'])\n",
        "plt.show()"
      ],
      "execution_count": null,
      "outputs": []
    },
    {
      "cell_type": "markdown",
      "metadata": {
        "id": "0iFOoCp2a84-"
      },
      "source": [
        "#### Write your Answer here: \n"
      ]
    },
    {
      "cell_type": "raw",
      "metadata": {
        "id": "VoN0pRPla84-"
      },
      "source": [
        "Ans 10:"
      ]
    },
    {
      "cell_type": "markdown",
      "metadata": {
        "id": "O6BtQRZLa84_"
      },
      "source": [
        "## Q 11. Which country has won the world cup maximum times?\n",
        "**Hint: Use value_counts() function**\n",
        "\n",
        "`value_counts()` function returns object containing counts of unique values. The resulting object will be in descending order so that the first element is the most frequently occurring element."
      ]
    },
    {
      "cell_type": "code",
      "metadata": {
        "id": "WW2nu2DLa84_"
      },
      "source": [
        "#remove _____ & write the appropriate function name\n",
        "\n",
        "fifa['Winner']._____()"
      ],
      "execution_count": null,
      "outputs": []
    },
    {
      "cell_type": "markdown",
      "metadata": {
        "id": "h3jSHa6La84_"
      },
      "source": [
        "#### Write your Answer here: \n"
      ]
    },
    {
      "cell_type": "raw",
      "metadata": {
        "id": "WJnZJWFHa84_"
      },
      "source": [
        "Ans 11:"
      ]
    },
    {
      "cell_type": "markdown",
      "metadata": {
        "id": "bdQknezSa85A"
      },
      "source": [
        "## Q12. \n",
        "### 12.1 What is the mean of the variable 'Qualified teams'? \n",
        "### 12.2 What is the median of the variable 'Qualified teams'? \n",
        "### 12.3 What is the mode of the variable 'Qualified teams'?\n",
        "### Explain your answer"
      ]
    },
    {
      "cell_type": "code",
      "metadata": {
        "id": "X42jHvaUa85A"
      },
      "source": [
        "#remove _____ & write the appropriate function name\n",
        "\n",
        "m1 = fifa['QualifiedTeams'].____()  #Mean\n",
        "print(m1)\n",
        "m2 = fifa['QualifiedTeams'].____()  #Median\n",
        "print(m2)\n",
        "m3 = fifa['QualifiedTeams'].____()[0]  #Mode\n",
        "print(m3)"
      ],
      "execution_count": null,
      "outputs": []
    },
    {
      "cell_type": "markdown",
      "metadata": {
        "id": "enFtjSJna85A"
      },
      "source": [
        "#### Write your Answer here: \n"
      ]
    },
    {
      "cell_type": "raw",
      "metadata": {
        "id": "S25VN0ASa85A"
      },
      "source": [
        "Ans 12:"
      ]
    },
    {
      "cell_type": "markdown",
      "metadata": {
        "id": "pIGlJi_2a85B"
      },
      "source": [
        "## Q13. How many countries are above the mean level of 'Qualified Teams'?"
      ]
    },
    {
      "cell_type": "code",
      "metadata": {
        "id": "03RLQ2u3a85B"
      },
      "source": [
        "#remove _____ & write the appropriate column name\n",
        "\n",
        "fifa[fifa[_______]>m1]['Country']"
      ],
      "execution_count": null,
      "outputs": []
    },
    {
      "cell_type": "markdown",
      "metadata": {
        "id": "jol5TaVOa85B"
      },
      "source": [
        "#### Write your Answer here: \n"
      ]
    },
    {
      "cell_type": "raw",
      "metadata": {
        "id": "mHOx3ycsa85B"
      },
      "source": [
        "Ans 13:"
      ]
    },
    {
      "cell_type": "markdown",
      "metadata": {
        "id": "VFZtw9zCa85C"
      },
      "source": [
        "## Q14. What is the median of variables 'GoalsScored' & 'MatchesPlayed'? "
      ]
    },
    {
      "cell_type": "code",
      "metadata": {
        "id": "qzTHfurwa85C"
      },
      "source": [
        "#remove _____ & write the appropriate library name\n",
        "\n",
        "GS_median = __.median(fifa['GoalsScored'])\n",
        "print(GS_median)\n",
        "QT_median = __.median(fifa['MatchesPlayed'])\n",
        "print(QT_median)"
      ],
      "execution_count": null,
      "outputs": []
    },
    {
      "cell_type": "markdown",
      "metadata": {
        "id": "4h3OzGZ2a85C"
      },
      "source": [
        "#### Write your Answer here: \n"
      ]
    },
    {
      "cell_type": "raw",
      "metadata": {
        "id": "qW0-dEsya85C"
      },
      "source": [
        "Ans 14:"
      ]
    },
    {
      "cell_type": "markdown",
      "metadata": {
        "id": "jiB1rL2Fa85D"
      },
      "source": [
        "## Q15. Which country scored the minimum number of goals?"
      ]
    },
    {
      "cell_type": "code",
      "metadata": {
        "id": "6IZmYJKxa85D"
      },
      "source": [
        "#remove _____ & write the appropriate function name\n",
        "\n",
        "fifa[fifa['GoalsScored']==fifa['GoalsScored'].___()]['Country']"
      ],
      "execution_count": null,
      "outputs": []
    },
    {
      "cell_type": "markdown",
      "metadata": {
        "id": "_zyO9hQra85D"
      },
      "source": [
        "#### Write your Answer here: \n"
      ]
    },
    {
      "cell_type": "raw",
      "metadata": {
        "id": "7UYkgARTa85D"
      },
      "source": [
        "Ans 15:"
      ]
    },
    {
      "cell_type": "markdown",
      "metadata": {
        "id": "Qd2wRApWa85D"
      },
      "source": [
        "## Q16. Plot the pairplots of 'GoalsScored', 'QualifiedTeams', 'MatchesPlayed'."
      ]
    },
    {
      "cell_type": "code",
      "metadata": {
        "scrolled": false,
        "id": "0oUE9xtra85E"
      },
      "source": [
        "#remove _____ & write the appropriate function name\n",
        "\n",
        "sns.________(fifa[['GoalsScored', 'QualifiedTeams', 'MatchesPlayed']])\n",
        "plt.show()"
      ],
      "execution_count": null,
      "outputs": []
    },
    {
      "cell_type": "markdown",
      "metadata": {
        "id": "65fgynxxa85E"
      },
      "source": [
        "## Q17. Plot the scatterplot for variables 'Country' & 'year'."
      ]
    },
    {
      "cell_type": "code",
      "metadata": {
        "id": "Ea7n4LJva85F"
      },
      "source": [
        "#remove _____ & write the appropriate function name\n",
        "\n",
        "sns.__________(x= fifa['Year'], y= fifa['Country'])\n",
        "plt.show()"
      ],
      "execution_count": null,
      "outputs": []
    },
    {
      "cell_type": "markdown",
      "metadata": {
        "id": "bCitALhYa85G"
      },
      "source": [
        "## Q18. Plot a histogram for the variable 'Winner' to understand the number of times a country won the world cup between 1930 to 2014."
      ]
    },
    {
      "cell_type": "code",
      "metadata": {
        "id": "0uoSMt2Ya85G"
      },
      "source": [
        "#remove _____ & write the appropriate column name \n",
        "\n",
        "plt.figure(figsize=(8,6))\n",
        "\n",
        "sns.countplot(x=fifa[_______])\n",
        "\n",
        "plt.title('How many times Country played matches between 1930 to 2014')\n",
        "\n",
        "plt.xlabel('Country')\n",
        "\n",
        "plt.ylabel('Frequency')\n",
        "\n",
        "plt.show()"
      ],
      "execution_count": null,
      "outputs": []
    },
    {
      "cell_type": "markdown",
      "metadata": {
        "id": "bgYP4sGra85G"
      },
      "source": [
        "#### Write your Answer here: \n"
      ]
    },
    {
      "cell_type": "raw",
      "metadata": {
        "id": "lxqPwTxPa85H"
      },
      "source": [
        "Ans 18:"
      ]
    },
    {
      "cell_type": "markdown",
      "metadata": {
        "id": "40FbePwba85H"
      },
      "source": [
        "## Q 19. Show boxplot and calculate the interquartile range for the variable 'GoalsScored'"
      ]
    },
    {
      "cell_type": "code",
      "metadata": {
        "id": "7LCXncNqa85H"
      },
      "source": [
        "#remove _____ & write the appropriate function/number\n",
        "\n",
        "plt.boxplot(fifa['GoalsScored'])\n",
        "\n",
        "plt.text(x=1.1,y=fifa['GoalsScored'].min(), s='min')\n",
        "plt.text(x=1.1,y=fifa.GoalsScored.________(0.25), s='Q1')\n",
        "plt.text(x=1.1,y=fifa['GoalsScored'].median(), s='median(Q2)')\n",
        "plt.text(x=1.1,y=fifa.GoalsScored.quantile(____), s='Q3')\n",
        "plt.text(x=1.1,y=fifa['GoalsScored'].max(), s='max')\n",
        "\n",
        "plt.title('Boxplot of GoalsScored')\n",
        "plt.ylabel('Goals')\n",
        "plt.show()"
      ],
      "execution_count": null,
      "outputs": []
    },
    {
      "cell_type": "code",
      "metadata": {
        "id": "c1whrtaPa85H"
      },
      "source": [
        "#remove _____ & write the appropriate variable name\n",
        "\n",
        "Q1 = fifa.quantile(0.25)\n",
        "Q3 = fifa.quantile(0.75)\n",
        "IQR = __ - __\n",
        "print(IQR)"
      ],
      "execution_count": null,
      "outputs": []
    },
    {
      "cell_type": "markdown",
      "metadata": {
        "id": "MYIDYxo7a85I"
      },
      "source": [
        "#### Write your Answer here: \n"
      ]
    },
    {
      "cell_type": "raw",
      "metadata": {
        "id": "PCwKhprZa85I"
      },
      "source": [
        "Ans 19:"
      ]
    },
    {
      "cell_type": "markdown",
      "metadata": {
        "id": "_2IVn-pTa85I"
      },
      "source": [
        "## Q 20. Find and visualize the correlation relation among numeric variables"
      ]
    },
    {
      "cell_type": "code",
      "metadata": {
        "id": "jMRmfteLa85I"
      },
      "source": [
        "##remove _____ & write the appropriate function name in the blank space and run the code\n",
        "corr_matrix = fifa.______\n",
        "\n",
        "corr_matrix"
      ],
      "execution_count": null,
      "outputs": []
    },
    {
      "cell_type": "code",
      "metadata": {
        "id": "aBVgPjY3a85J"
      },
      "source": [
        "#remove _____ & write the appropriate plot name in the blank space\n",
        "sns._______(corr_matrix, annot = True)\n",
        "\n",
        "# display the plot\n",
        "plt.show()"
      ],
      "execution_count": null,
      "outputs": []
    },
    {
      "cell_type": "markdown",
      "metadata": {
        "id": "8TBq53vxa85J"
      },
      "source": [
        "#### Write your Answer here: \n"
      ]
    },
    {
      "cell_type": "raw",
      "metadata": {
        "id": "zCfh5_cxa85J"
      },
      "source": [
        "Ans 20:"
      ]
    }
  ]
}