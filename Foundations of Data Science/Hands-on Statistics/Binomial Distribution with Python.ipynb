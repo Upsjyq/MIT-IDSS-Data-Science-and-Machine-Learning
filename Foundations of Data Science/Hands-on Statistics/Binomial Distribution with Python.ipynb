{
 "cells": [
  {
   "cell_type": "markdown",
   "metadata": {},
   "source": [
    "# Distributions Examples with Python"
   ]
  },
  {
   "cell_type": "code",
   "execution_count": 1,
   "metadata": {},
   "outputs": [],
   "source": [
    "import numpy as np\n",
    "import pandas as pd\n",
    "import matplotlib.pyplot as plt\n",
    "import seaborn as sns\n",
    "import scipy.stats as stats\n",
    "\n",
    "%matplotlib inline"
   ]
  },
  {
   "cell_type": "markdown",
   "metadata": {},
   "source": [
    "# Binomial Distribution"
   ]
  },
  {
   "cell_type": "markdown",
   "metadata": {},
   "source": [
    "## Problem statement \n",
    "80% of all the visitors to Lavista Museum end up buying souvenirs from the souvenir shop at the Museum. On the coming Sunday, if a random sample of 10 visitors is picked:\n",
    "\n",
    " 1. Find the probability that every visitor will end up buying from the souvenir shop\n",
    " 2. Find the probability that a maximum of 7 visitors will buy souvenirs from the souvenir shop\n",
    "\n",
    "Let's check first whether we satisfy the assumptions of the binomial distribution.\n",
    "*  There are only two possible outcomes (success or failure) for each trial – A visitor will buy souvenirs from the souvenir shop or not (yes or no).\n",
    "* Number of trials (n) is fixed - There are 10 visitors in the sample.\n",
    "* Each trial is independent of the other trials - It is reasonable to assume that the buying activity of visitors is independent.\n",
    "* The probability of success (p) is the same for each trial - The probability of success for each visitor is 0.8."
   ]
  },
  {
   "cell_type": "code",
   "execution_count": 2,
   "metadata": {},
   "outputs": [
    {
     "data": {
      "text/plain": [
       "array([ 0,  1,  2,  3,  4,  5,  6,  7,  8,  9, 10])"
      ]
     },
     "execution_count": 2,
     "metadata": {},
     "output_type": "execute_result"
    }
   ],
   "source": [
    "n = 10   # sample size\n",
    "p = 0.80 # probability of success \n",
    "k = np.arange(0,11) # all possible number of visitors that buy a souvenir\n",
    "k"
   ]
  },
  {
   "cell_type": "markdown",
   "metadata": {},
   "source": [
    "The probability function of Binomial Distribution provides the probability for  x  number of successes from n trials where  p is the probability of success   \n",
    "\n",
    ">$P(X=x)= {n\\choose x}p^x(1-p)^{n-x}$\n",
    "\n",
    "\n",
    "Here, we know that:\n",
    "\n",
    "* n ( number of visitors selected randomly ) = 10\n",
    "* p ( probability of success i.e., the probability that a visitor will end up buying a souvenir) = 0.80\n",
    "* q ( probability of failure i.e., the probability that a visitor will not end up buying a souvenir) = 1 - 0.80 = 0.20\n",
    "* x ( number of successes ) = 10\n",
    "\n",
    "\n",
    "We will use binom.pmf() to calculate this probability function which provides the probability for the number of visitors (out of n=10) that will end up buying souvenirs from the souvenir shop."
   ]
  },
  {
   "cell_type": "code",
   "execution_count": 3,
   "metadata": {},
   "outputs": [
    {
     "data": {
      "text/plain": [
       "array([1.02400000e-07, 4.09600000e-06, 7.37280000e-05, 7.86432000e-04,\n",
       "       5.50502400e-03, 2.64241152e-02, 8.80803840e-02, 2.01326592e-01,\n",
       "       3.01989888e-01, 2.68435456e-01, 1.07374182e-01])"
      ]
     },
     "execution_count": 3,
     "metadata": {},
     "output_type": "execute_result"
    }
   ],
   "source": [
    "from scipy.stats import binom\n",
    "\n",
    "binomial = binom.pmf(k=k, n=n, p=p) #pmf = probability mass function\n",
    "binomial"
   ]
  },
  {
   "cell_type": "markdown",
   "metadata": {},
   "source": [
    "Each index in the array is the probability of the number of people in that same index to buy souvenir. \n",
    "- 0: 1.02400000e-07\n",
    "- 1: 4.09600000e-06\n",
    "- 2: 7.37280000e-05\n",
    "- etc... "
   ]
  },
  {
   "cell_type": "code",
   "execution_count": 4,
   "metadata": {
    "scrolled": true
   },
   "outputs": [
    {
     "data": {
      "image/png": "[encoded data removed]",
      "text/plain": [
       "<Figure size 432x288 with 1 Axes>"
      ]
     },
     "metadata": {
      "needs_background": "light"
     },
     "output_type": "display_data"
    }
   ],
   "source": [
    "sns.barplot(x=k, y=binomial)\n",
    "plt.title(\"Binomial: n=%i, p=%.2f\" % (n, p), fontsize=15)\n",
    "plt.xlabel(\"Number of successes\")\n",
    "plt.ylabel(\"Probability of successes\")\n",
    "plt.show()"
   ]
  },
  {
   "cell_type": "code",
   "execution_count": 5,
   "metadata": {},
   "outputs": [
    {
     "data": {
      "text/plain": [
       "0.10737418240000005"
      ]
     },
     "execution_count": 5,
     "metadata": {},
     "output_type": "execute_result"
    }
   ],
   "source": [
    "binomial[10] # probability of everyone buying "
   ]
  },
  {
   "cell_type": "markdown",
   "metadata": {},
   "source": [
    "The above probability shows that the probability of exactly 10 successes is  ~ 0.11.\n",
    "\n",
    "Now, we are interested in knowing the probability of at most 7 successes which means what is the probability that out of 10 randomly selected visitors, a maximum of 7 visitors will buy souvenirs from the souvenir shop.\n",
    "\n",
    "Here, we need to calculate the probability for P(X<=7). CDF is used to calculate the cumulative probability.\n",
    "\n",
    "\n",
    "\n",
    "**CDF:** of a Random variable (X) is the probability that X  will take the value less than or equal to x. It can be represented mathematically as below.\n",
    "\n",
    ">$F_X(x) = P(X\\leq x)$\n",
    "\n",
    "In our case, Random Variable (X) is the number of visitors who will buy souvenirs from the souvenir shop.\n",
    "\n",
    "$P(X\\leq 7)$\n"
   ]
  },
  {
   "cell_type": "code",
   "execution_count": 6,
   "metadata": {},
   "outputs": [
    {
     "data": {
      "image/png": "[encoded data removed]",
      "text/plain": [
       "<Figure size 432x288 with 1 Axes>"
      ]
     },
     "metadata": {
      "needs_background": "light"
     },
     "output_type": "display_data"
    }
   ],
   "source": [
    "bar1 = plt.bar(k, binomial)\n",
    "plt.title(\"Binomial: n=%i, p=%.2f\" % (n, p), fontsize=15)\n",
    "plt.xlabel(\"Number of successes\")\n",
    "plt.ylabel(\"Probability of successes\")\n",
    "\n",
    "for i in range(8):\n",
    "    bar1[i].set_color(\"r\")\n",
    "\n",
    "plt.show()"
   ]
  },
  {
   "cell_type": "markdown",
   "metadata": {},
   "source": [
    "In the above graph, the red region represents P(X<=7).\n",
    "Let's calculate the probability that out of 10 randomly selected visitors, a maximum of 7 will buy souvenirs from the souvenir shop. We will use binom.cdf() for this."
   ]
  },
  {
   "cell_type": "code",
   "execution_count": 7,
   "metadata": {},
   "outputs": [
    {
     "data": {
      "text/plain": [
       "0.3222004736"
      ]
     },
     "execution_count": 7,
     "metadata": {},
     "output_type": "execute_result"
    }
   ],
   "source": [
    "# calculate cdf\n",
    "binom.cdf(k=7, n=n, p=p)"
   ]
  },
  {
   "cell_type": "markdown",
   "metadata": {},
   "source": [
    "### Conclusion: \n",
    "\n",
    "There is a 10.74% chance that every visitor will end up buying souvenirs from the souvenir shop.\n",
    "\n",
    "There is q 32.22% chance that a maximum of 7 visitors out of 10 will buy souvenirs from the souvenir shop."
   ]
  },
  {
   "cell_type": "markdown",
   "metadata": {},
   "source": [
    "Let's try to change the probability of success (probability that each visitor will buy souvenirs from the souvenir shop) to different values like 60%,70%,90%,95% and visualize how the shape of the distribution changes."
   ]
  },
  {
   "cell_type": "code",
   "execution_count": 8,
   "metadata": {},
   "outputs": [
    {
     "data": {
      "image/png": "[encoded data removed]",
      "text/plain": [
       "<Figure size 1080x288 with 3 Axes>"
      ]
     },
     "metadata": {
      "needs_background": "light"
     },
     "output_type": "display_data"
    }
   ],
   "source": [
    "plt.figure(figsize=(15, 4))\n",
    "\n",
    "plt.subplot(131)\n",
    "binomial_70 = binom.pmf(k, n, p=0.7)\n",
    "\n",
    "# plot the distribution of the same\n",
    "plt.bar(k, binomial_70)\n",
    "plt.title(\"p=%.2f\" % (0.7), fontsize=15)\n",
    "plt.xlabel(\"Number of Successes\")\n",
    "plt.ylabel(\"Probability of Successes\")\n",
    "\n",
    "plt.subplot(132)\n",
    "binomial_80 = binom.pmf(k, n, p=0.8)\n",
    "\n",
    "# plot the distribution of the same\n",
    "plt.bar(k, binomial_80)\n",
    "plt.title(\"p=%.2f\" % (0.8), fontsize=15)\n",
    "plt.xlabel(\"Number of Successes\")\n",
    "plt.ylabel(\"Probability of Successes\")\n",
    "\n",
    "plt.subplot(133)\n",
    "binomial_90 = binom.pmf(k, n, p=0.9)\n",
    "\n",
    "# plot the distribution of the same\n",
    "plt.bar(k, binomial_90)\n",
    "plt.title(\"p=%.2f\" % (0.9), fontsize=15)\n",
    "plt.xlabel(\"Number of Successes\")\n",
    "plt.ylabel(\"Probability of Successes\")\n",
    "\n",
    "plt.tight_layout(w_pad=5)"
   ]
  },
  {
   "cell_type": "markdown",
   "metadata": {},
   "source": [
    "### Conclusion:\n",
    "\n",
    "It is clear from the above plot that the shape of the distribution changes as the value of p (probability of success) changes."
   ]
  }
 ],
 "metadata": {
  "kernelspec": {
   "display_name": "Python 3",
   "language": "python",
   "name": "python3"
  },
  "language_info": {
   "codemirror_mode": {
    "name": "ipython",
    "version": 3
   },
   "file_extension": ".py",
   "mimetype": "text/x-python",
   "name": "python",
   "nbconvert_exporter": "python",
   "pygments_lexer": "ipython3",
   "version": "3.8.5"
  }
 },
 "nbformat": 4,
 "nbformat_minor": 4
}
